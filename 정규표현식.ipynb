{
 "cells": [
  {
   "cell_type": "markdown",
   "metadata": {},
   "source": [
    "# 헤드라인1\n",
    "## 헤드라인2\n",
    "### 헤드라인3\n",
    "\n",
    "- 내용 1\n",
    "- 내용 2\n"
   ]
  },
  {
   "cell_type": "code",
   "execution_count": 1,
   "metadata": {},
   "outputs": [],
   "source": [
    "# 파이썬 정규 표현식\n",
    "\n",
    "import re\n"
   ]
  },
  {
   "cell_type": "code",
   "execution_count": 4,
   "metadata": {},
   "outputs": [
    {
     "name": "stdout",
     "output_type": "stream",
     "text": [
      "None\n",
      "<re.Match object; span=(0, 4), match='Life'>\n"
     ]
    }
   ],
   "source": [
    "source = 'Life is too short, you need Python'\n",
    "\n",
    "#방법 1. 패턴 컴파일 후에 저장\n",
    "p = re.compile(r'P[a-z]+') # P로 시작하며 소문자가 1개 이상인 것 매치\n",
    "print(p.match(source))\n",
    "\n",
    "p = re.compile(r'L[a-z]+') # P로 시작하며 소문자가 1개 이상인 것 매치\n",
    "print(p.match(source))\n"
   ]
  },
  {
   "cell_type": "code",
   "execution_count": 5,
   "metadata": {},
   "outputs": [
    {
     "name": "stdout",
     "output_type": "stream",
     "text": [
      "<re.Match object; span=(0, 4), match='Life'>\n"
     ]
    }
   ],
   "source": [
    "# 방법 2 . 축약형: 컴파일 없이 즉시 1회성 매칭\n",
    "\n",
    "print(re.match(r'[A-Za-z]+',source))"
   ]
  },
  {
   "cell_type": "code",
   "execution_count": 6,
   "metadata": {},
   "outputs": [
    {
     "name": "stdout",
     "output_type": "stream",
     "text": [
      "Life\n"
     ]
    }
   ],
   "source": [
    "# 매칭된 내용 추출\n",
    "print(re.match(r'[A-Za-z]+',source).group())"
   ]
  },
  {
   "cell_type": "code",
   "execution_count": 12,
   "metadata": {},
   "outputs": [
    {
     "name": "stdout",
     "output_type": "stream",
     "text": [
      "<re.Match object; span=(0, 5), match='Hello'>\n",
      "None\n",
      "<re.Match object; span=(6, 12), match='Python'>\n",
      "Python\n",
      "Python\n"
     ]
    }
   ],
   "source": [
    "# 특정 문자열이 포함되어 있는지 판별\n",
    "source = 'Hello Python'\n",
    "print(re.match('Hello',source))\n",
    "print(re.match('Python',source))\n",
    "print(re.search('Python',source))\n",
    "print(re.search('Python',source).group())\n",
    "\n",
    "print(re.search('Python',source,re.IGNORECASE).group()) # 대소문자 구분하지 않음"
   ]
  },
  {
   "cell_type": "code",
   "execution_count": 18,
   "metadata": {},
   "outputs": [
    {
     "name": "stdout",
     "output_type": "stream",
     "text": [
      "['Paint', 'Per', 'Python', 'P123']\n"
     ]
    }
   ],
   "source": [
    "# findall finditer\n",
    "source = 'Paint C JavaScript 123 456 Per I Java Python P123 Ruby '\n",
    "\n",
    "# findall : 매칭된 모든 문자열을 리스트로 반환\n",
    "item = re.findall(r'\\bp\\w+',source,re.IGNORECASE)\n",
    "print(item)\n",
    "\n",
    "# finditer : 매칭 영역을 iterator로 반환\n",
    "iter = re.finditer(r'\\bp\\w+',source,re.IGNORECASE)"
   ]
  },
  {
   "cell_type": "code",
   "execution_count": null,
   "metadata": {},
   "outputs": [],
   "source": []
  }
 ],
 "metadata": {
  "kernelspec": {
   "display_name": "Python 3",
   "language": "python",
   "name": "python3"
  },
  "language_info": {
   "codemirror_mode": {
    "name": "ipython",
    "version": 3
   },
   "file_extension": ".py",
   "mimetype": "text/x-python",
   "name": "python",
   "nbconvert_exporter": "python",
   "pygments_lexer": "ipython3",
   "version": "3.8.5"
  }
 },
 "nbformat": 4,
 "nbformat_minor": 4
}
