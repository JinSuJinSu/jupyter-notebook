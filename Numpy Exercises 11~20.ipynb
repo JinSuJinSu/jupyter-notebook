{
 "cells": [
  {
   "cell_type": "code",
   "execution_count": 1,
   "id": "ff9b1f3e",
   "metadata": {},
   "outputs": [
    {
     "name": "stdout",
     "output_type": "stream",
     "text": [
      "[2 4]\n"
     ]
    }
   ],
   "source": [
    "import numpy as np\n",
    "\n",
    "# 11. How to get the common items between two python numpy arrays?\n",
    "# Difficulty Level: L2\n",
    "\n",
    "# Q. Get the common items between a and b\n",
    "\n",
    "# Input:\n",
    "\n",
    "a = np.array([1,2,3,2,3,4,3,4,5,6])\n",
    "b = np.array([7,2,10,2,7,4,9,4,9,8])\n",
    "\n",
    "result = a[np.isin(a, b)]\n",
    "print(np.unique(result))\n",
    "\n",
    "# np.intersect1d(a,b)"
   ]
  },
  {
   "cell_type": "code",
   "execution_count": 3,
   "id": "5abb1eec",
   "metadata": {},
   "outputs": [
    {
     "name": "stdout",
     "output_type": "stream",
     "text": [
      "[1 2 3 4]\n"
     ]
    }
   ],
   "source": [
    "# 12. How to remove from one array those items that exist in another?\n",
    "# Difficulty Level: L2\n",
    "\n",
    "# Q. From array a remove all items present in array b\n",
    "\n",
    "# Input:\n",
    "\n",
    "a = np.array([1,2,3,4,5])\n",
    "b = np.array([5,6,7,8,9])\n",
    "result = np.setdiff1d(a, b)\n",
    "print(result)"
   ]
  },
  {
   "cell_type": "code",
   "execution_count": 2,
   "id": "1fd7d13d",
   "metadata": {},
   "outputs": [
    {
     "name": "stdout",
     "output_type": "stream",
     "text": [
      "[(array([1, 3, 5, 7], dtype=int64),)]\n"
     ]
    }
   ],
   "source": [
    "# 13. How to get the positions where elements of two arrays match?\n",
    "# Difficulty Level: L2\n",
    "\n",
    "# Q. Get the positions where elements of a and b match\n",
    "\n",
    "# Input:\n",
    "\n",
    "a = np.array([1,2,3,2,3,4,3,4,5,6])\n",
    "b = np.array([7,2,10,2,7,4,9,4,9,8])\n",
    "\n",
    "result = [np.where(a==b)]\n",
    "print(result)"
   ]
  },
  {
   "cell_type": "code",
   "execution_count": 3,
   "id": "2fb51913",
   "metadata": {},
   "outputs": [
    {
     "name": "stdout",
     "output_type": "stream",
     "text": [
      "[ 6  9 10]\n"
     ]
    }
   ],
   "source": [
    "# 14. How to extract all numbers between a given range from a numpy array?\n",
    "# Difficulty Level: L2\n",
    "\n",
    "# Q. Get all items between 5 and 10 from a.\n",
    "\n",
    "# Input:\n",
    "\n",
    "a = np.array([2, 6, 1, 9, 10, 3, 27])\n",
    "a=a[np.where((a>=5) & (a<=10))]\n",
    "print(a)\n",
    "\n",
    "# index = np.where(np.logical_and(a>=5, a<=10))"
   ]
  },
  {
   "cell_type": "code",
   "execution_count": 6,
   "id": "6a4046e2",
   "metadata": {},
   "outputs": [
    {
     "name": "stdout",
     "output_type": "stream",
     "text": [
      "[array([6, 7, 9, 8, 9, 7, 5])]\n"
     ]
    }
   ],
   "source": [
    "# 15. How to make a python function that handles scalars to work on numpy arrays?\n",
    "# Difficulty Level: L2\n",
    "\n",
    "# Q. Convert the function maxx that works on two scalars, to work on two arrays.\n",
    "\n",
    "# Input:\n",
    "a = np.array([5, 7, 9, 8, 6, 4, 5])\n",
    "b = np.array([6, 3, 4, 8, 9, 7, 1])\n",
    "\n",
    "def pair_maxx(a, b):\n",
    "    result = [np.where(a>b,a,b)]\n",
    "    return result\n",
    "\n",
    "print(pair_maxx(a, b))\n",
    "\n"
   ]
  },
  {
   "cell_type": "code",
   "execution_count": 11,
   "id": "3c47e2e9",
   "metadata": {},
   "outputs": [
    {
     "data": {
      "text/plain": [
       "array([[1, 0, 2],\n",
       "       [4, 3, 5],\n",
       "       [7, 6, 8]])"
      ]
     },
     "execution_count": 11,
     "metadata": {},
     "output_type": "execute_result"
    }
   ],
   "source": [
    "# 16. How to swap two columns in a 2d numpy array?\n",
    "# Difficulty Level: L2\n",
    "\n",
    "# Q. Swap columns 1 and 2 in the array arr.\n",
    "#  나중에 다시 풀어보기\n",
    "\n",
    "arr = np.arange(9).reshape(3,3)\n",
    "arr[:,[1,0,2]]"
   ]
  },
  {
   "cell_type": "code",
   "execution_count": 12,
   "id": "3b023072",
   "metadata": {},
   "outputs": [
    {
     "data": {
      "text/plain": [
       "array([[3, 4, 5],\n",
       "       [0, 1, 2],\n",
       "       [6, 7, 8]])"
      ]
     },
     "execution_count": 12,
     "metadata": {},
     "output_type": "execute_result"
    }
   ],
   "source": [
    "# 17. How to swap two rows in a 2d numpy array?\n",
    "# Difficulty Level: L2\n",
    "\n",
    "# Q. Swap rows 1 and 2 in the array arr:\n",
    "\n",
    "arr = np.arange(9).reshape(3,3)\n",
    "arr[[1,0,2],:]"
   ]
  },
  {
   "cell_type": "code",
   "execution_count": 19,
   "id": "3f106f5f",
   "metadata": {},
   "outputs": [
    {
     "data": {
      "text/plain": [
       "array([[6, 7, 8],\n",
       "       [3, 4, 5],\n",
       "       [0, 1, 2]])"
      ]
     },
     "execution_count": 19,
     "metadata": {},
     "output_type": "execute_result"
    }
   ],
   "source": [
    "# 18. How to reverse the rows of a 2D array?\n",
    "# Difficulty Level: L2\n",
    "\n",
    "# Q. Reverse the rows of a 2D array arr.\n",
    "\n",
    "# Input\n",
    "arr = np.arange(9).reshape(3,3)\n",
    "arr[::-1,:]"
   ]
  },
  {
   "cell_type": "code",
   "execution_count": 20,
   "id": "98502ab0",
   "metadata": {},
   "outputs": [
    {
     "data": {
      "text/plain": [
       "array([[2, 1, 0],\n",
       "       [5, 4, 3],\n",
       "       [8, 7, 6]])"
      ]
     },
     "execution_count": 20,
     "metadata": {},
     "output_type": "execute_result"
    }
   ],
   "source": [
    "# 19. How to reverse the columns of a 2D array?\n",
    "# Difficulty Level: L2\n",
    "\n",
    "# Q. Reverse the columns of a 2D array arr.\n",
    "\n",
    "# Input\n",
    "arr = np.arange(9).reshape(3,3)\n",
    "arr[:,::-1]"
   ]
  },
  {
   "cell_type": "code",
   "execution_count": 22,
   "id": "b85220e6",
   "metadata": {},
   "outputs": [
    {
     "data": {
      "text/plain": [
       "array([[8.14391977, 7.26706039, 7.09278705],\n",
       "       [6.08050377, 7.88083052, 9.5759798 ],\n",
       "       [5.13021146, 7.7314752 , 7.39128062],\n",
       "       [6.62008897, 9.81613933, 9.02795339],\n",
       "       [7.30437215, 6.82772991, 7.63726408]])"
      ]
     },
     "execution_count": 22,
     "metadata": {},
     "output_type": "execute_result"
    }
   ],
   "source": [
    "# 20. How to create a 2D array containing random floats between 5 and 10?\n",
    "# Difficulty Level: L2\n",
    "\n",
    "# Q. Create a 2D array of shape 5x3 to contain random decimal numbers between 5 and 10.\n",
    "\n",
    "arr=np.random.uniform(5, 10, size=(5, 3))\n",
    "\n",
    "arr"
   ]
  }
 ],
 "metadata": {
  "kernelspec": {
   "display_name": "Python 3",
   "language": "python",
   "name": "python3"
  },
  "language_info": {
   "codemirror_mode": {
    "name": "ipython",
    "version": 3
   },
   "file_extension": ".py",
   "mimetype": "text/x-python",
   "name": "python",
   "nbconvert_exporter": "python",
   "pygments_lexer": "ipython3",
   "version": "3.7.10"
  }
 },
 "nbformat": 4,
 "nbformat_minor": 5
}
