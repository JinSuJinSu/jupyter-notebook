{
 "cells": [
  {
   "cell_type": "code",
   "execution_count": 5,
   "id": "9f20ca1b",
   "metadata": {},
   "outputs": [],
   "source": [
    "# 힙 정렬을 위해 heapq를 import\n",
    "import heapq\n",
    "from collections import deque\n",
    "\n",
    "def solution(scoville, K):\n",
    "    answer = 0\n",
    "    # 힙정렬을 위한 함수를 만들어줌\n",
    "    def heapsort(unsorted):\n",
    "        h = []\n",
    "        result = []\n",
    "        # 모든 원소를 차례대로 힙에 삽입\n",
    "        for value in unsorted:\n",
    "            heapq.heappush(h, value)\n",
    "        # 힙에 삽입된 모든 원소를 차례대로 꺼내어 담기\n",
    "        for i in range(len(h)):\n",
    "            result.append(heapq.heappop(h))\n",
    "        return result\n",
    "    \n",
    "    array = heapsort(scoville)\n",
    "    # 효율성을 위해 array대신 deque을 사용\n",
    "    deq = deque(array)\n",
    "    cnt=0\n",
    "    while deq[0]<K:\n",
    "        value = deq.popleft()+(deq.popleft()*2)\n",
    "        cnt+=1\n",
    "        deq.appendleft(value)\n",
    "        # 스코빌 지수가 무조건 순서대로 있다는 보장은 없다.\n",
    "        # 새로 만든 스코빌 지수 정렬\n",
    "        running = True\n",
    "        start_num=0\n",
    "        while running:\n",
    "            if start_num==len(deq)-1:\n",
    "                running = False\n",
    "            else:\n",
    "                if deq[start_num]<=deq[start_num+1]:\n",
    "                    running = False\n",
    "                else:\n",
    "                # 배열에 있는 값들을 서로 바꿔준다.\n",
    "                    temp=deq[start_num+1]\n",
    "                    deq[start_num+1]=deq[start_num]\n",
    "                    deq[start_num]=temp\n",
    "                    start_num+=1\n",
    "\n",
    "\n",
    "    answer=cnt\n",
    "        \n",
    "    return answer"
   ]
  },
  {
   "cell_type": "code",
   "execution_count": 6,
   "id": "32b5ee5f",
   "metadata": {},
   "outputs": [
    {
     "name": "stdout",
     "output_type": "stream",
     "text": [
      "2\n"
     ]
    }
   ],
   "source": [
    "print(solution([1, 2, 3, 9, 10, 12],7))"
   ]
  },
  {
   "cell_type": "code",
   "execution_count": 52,
   "id": "c8e53bce",
   "metadata": {},
   "outputs": [],
   "source": [
    "def solution(p):\n",
    "    answer = ''\n",
    "    \n",
    "     # 스택을 쓰기 위해선 리스트 형태로 바꿔준다.\n",
    "    p_list = list(p)\n",
    "    \n",
    "    # 올바른 괄호 판별 함수를 만들어줌\n",
    "    def check_p(values):      \n",
    "        stack = []\n",
    "        for ch in values:\n",
    "            if ch == \"(\":\n",
    "                stack.append(ch)\n",
    "            elif ch == \")\":\n",
    "                if stack:\n",
    "                    stack.pop()\n",
    "        if stack:\n",
    "            return False\n",
    "        else:\n",
    "            return True\n",
    "\n",
    "    # 올바른 괄호 문자열이면 계산할 필요 없음 \n",
    "    if check_p(p_list):\n",
    "        answer=p\n",
    "    else:\n",
    "        # 조건이 만족할 때까지 무한루프\n",
    "        # 괄호 형성에 필요한 개수\n",
    "        cnt1,cnt2=0,0\n",
    "        # 괄호를 담을 배열 생성\n",
    "        u=[]\n",
    "        running = True\n",
    "        while running:          \n",
    "            value = p_list.pop(0)\n",
    "            if value=='(':\n",
    "                cnt1+=1\n",
    "                u.append(value)\n",
    "            else:                \n",
    "                cnt2+=1\n",
    "                u.append(value)\n",
    " \n",
    "            # 각 쌍이 1개 이상이고 개수가 같으면 탈출\n",
    "            if cnt1>=1 and cnt2>=1 and cnt1==cnt2:\n",
    "                v=p_list.copy()\n",
    "                \n",
    "                # 조건이 한번에 맞으면 괄호수정 할필요 없음\n",
    "                if check_p(u):\n",
    "                    answer+=''.join(u)\n",
    "                    \n",
    "                    if check_p(v):\n",
    "                        answer+=''.join(v)\n",
    "                        running = False\n",
    "                    # v가 조건에 안맞으면 재귀호출\n",
    "                    else:\n",
    "                        u=[]\n",
    "                        cnt1,cnt2=0,0\n",
    "                # 조건에 안맞으면 문제에서 말한대로 수정 필요\n",
    "                else:\n",
    "                    print(u)\n",
    "                    answer+='('\n",
    "                    u.pop(0)\n",
    "                    u.pop()\n",
    "                    u.reverse()# 배열 뒤집기\n",
    "                    answer+=''.join(u)\n",
    "                    answer+=')'\n",
    "                    \n",
    "                    if check_p(v):\n",
    "                        answer+=''.join(v)\n",
    "                        running = False\n",
    "                    else:\n",
    "                        u=[]\n",
    "                        cnt1,cnt2=0,0\n",
    "            else:\n",
    "                pass\n",
    "            \n",
    "    return answer              \n"
   ]
  },
  {
   "cell_type": "code",
   "execution_count": 53,
   "id": "c14a379a",
   "metadata": {},
   "outputs": [
    {
     "name": "stdout",
     "output_type": "stream",
     "text": [
      "[')', ')', '(', '(']\n",
      "()(())()\n"
     ]
    }
   ],
   "source": [
    "print(solution(\"()))((()\"))"
   ]
  },
  {
   "cell_type": "code",
   "execution_count": 55,
   "id": "e316d57f",
   "metadata": {},
   "outputs": [
    {
     "name": "stdout",
     "output_type": "stream",
     "text": [
      "484\n"
     ]
    }
   ],
   "source": [
    "\n",
    "new_works = [10,9,8,8,8,8,8,6,5,2,1]\n",
    "number=5\n",
    "my_works = [7,7,8,8,8,8,8,6,5,2,1]\n",
    "print(sum(list(map(lambda x: x**2,my_works))))"
   ]
  }
 ],
 "metadata": {
  "kernelspec": {
   "display_name": "Python 3",
   "language": "python",
   "name": "python3"
  },
  "language_info": {
   "codemirror_mode": {
    "name": "ipython",
    "version": 3
   },
   "file_extension": ".py",
   "mimetype": "text/x-python",
   "name": "python",
   "nbconvert_exporter": "python",
   "pygments_lexer": "ipython3",
   "version": "3.7.10"
  }
 },
 "nbformat": 4,
 "nbformat_minor": 5
}
