{
 "cells": [
  {
   "cell_type": "markdown",
   "metadata": {},
   "source": [
    "# 헤드라인1\n",
    "## 헤드라인2\n",
    "### 헤드라인3\n",
    "\n",
    "- 내용 1\n",
    "- 내용 2\n"
   ]
  },
  {
   "cell_type": "code",
   "execution_count": 1,
   "metadata": {},
   "outputs": [],
   "source": [
    "# 파이썬 정규 표현식\n",
    "\n",
    "import re\n"
   ]
  },
  {
   "cell_type": "code",
   "execution_count": 4,
   "metadata": {},
   "outputs": [
    {
     "name": "stdout",
     "output_type": "stream",
     "text": [
      "None\n",
      "<re.Match object; span=(0, 4), match='Life'>\n"
     ]
    }
   ],
   "source": [
    "source = 'Life is too short, you need Python'\n",
    "\n",
    "#방법 1. 패턴 컴파일 후에 저장\n",
    "p = re.compile(r'P[a-z]+') # P로 시작하며 소문자가 1개 이상인 것 매치\n",
    "print(p.match(source))\n",
    "\n",
    "p = re.compile(r'L[a-z]+') # L로 시작하며 소문자가 1개 이상인 것 매치\n",
    "print(p.match(source))\n"
   ]
  },
  {
   "cell_type": "code",
   "execution_count": 5,
   "metadata": {},
   "outputs": [
    {
     "name": "stdout",
     "output_type": "stream",
     "text": [
      "<re.Match object; span=(0, 4), match='Life'>\n"
     ]
    }
   ],
   "source": [
    "# 방법 2 . 축약형: 컴파일 없이 즉시 1회성 매칭\n",
    "\n",
    "print(re.match(r'[A-Za-z]+',source))"
   ]
  },
  {
   "cell_type": "code",
   "execution_count": 6,
   "metadata": {},
   "outputs": [
    {
     "name": "stdout",
     "output_type": "stream",
     "text": [
      "Life\n"
     ]
    }
   ],
   "source": [
    "# 매칭된 내용 추출\n",
    "print(re.match(r'[A-Za-z]+',source).group())"
   ]
  },
  {
   "cell_type": "code",
   "execution_count": 12,
   "metadata": {},
   "outputs": [
    {
     "name": "stdout",
     "output_type": "stream",
     "text": [
      "<re.Match object; span=(0, 5), match='Hello'>\n",
      "None\n",
      "<re.Match object; span=(6, 12), match='Python'>\n",
      "Python\n",
      "Python\n"
     ]
    }
   ],
   "source": [
    "# 특정 문자열이 포함되어 있는지 판별\n",
    "source = 'Hello Python'\n",
    "print(re.match('Hello',source))\n",
    "print(re.match('Python',source))\n",
    "print(re.search('Python',source))\n",
    "print(re.search('Python',source).group())\n",
    "\n",
    "print(re.search('python',source,re.IGNORECASE).group()) # 대소문자 구분하지 않음"
   ]
  },
  {
   "cell_type": "code",
   "execution_count": 21,
   "metadata": {},
   "outputs": [
    {
     "name": "stdout",
     "output_type": "stream",
     "text": [
      "['Paint', 'Per', 'Python', 'P123']\n",
      "<re.Match object; span=(0, 5), match='Paint'> Paint\n",
      "<re.Match object; span=(27, 30), match='Per'> Per\n",
      "<re.Match object; span=(38, 44), match='Python'> Python\n",
      "<re.Match object; span=(45, 49), match='P123'> P123\n"
     ]
    }
   ],
   "source": [
    "# findall finditer\n",
    "source = 'Paint C JavaScript 123 456 Per I Java Python P123 Ruby '\n",
    "\n",
    "# findall : 매칭된 모든 문자열을 리스트로 반환\n",
    "item = re.findall(r'\\bp\\w+',source,re.IGNORECASE)\n",
    "print(item)\n",
    "\n",
    "# finditer : 매칭 영역을 iterator로 반환\n",
    "iter = re.finditer(r'\\bp\\w+',source,re.IGNORECASE)\n",
    "\n",
    "for item in iter:\n",
    "    print(item,item.group())"
   ]
  },
  {
   "cell_type": "code",
   "execution_count": 26,
   "metadata": {
    "scrolled": true
   },
   "outputs": [
    {
     "name": "stdout",
     "output_type": "stream",
     "text": [
      "<re.Match object; span=(5, 18), match='010-1234-5678'> 010-1234-5678\n",
      "<re.Match object; span=(27, 40), match='032-9876-5432'> 032-9876-5432\n",
      "<re.Match object; span=(49, 61), match='02-4567-8901'> 02-4567-8901\n",
      "<re.Match object; span=(5, 18), match='010-1234-5678'> 010-1234-5678 ('010', '1234', '5678') {'area': '010', 'exchange': '1234', 'number': '5678'}\n",
      "<re.Match object; span=(27, 40), match='032-9876-5432'> 032-9876-5432 ('032', '9876', '5432') {'area': '032', 'exchange': '9876', 'number': '5432'}\n",
      "<re.Match object; span=(49, 61), match='02-4567-8901'> 02-4567-8901 ('02', '4567', '8901') {'area': '02', 'exchange': '4567', 'number': '8901'}\n"
     ]
    }
   ],
   "source": [
    "# 전화번호 정규표현식\n",
    "source = '''\n",
    "    010-1234-5678 홍길동\n",
    "    032-9876-5432 고길동\n",
    "    02-4567-8901 장길산\n",
    "'''\n",
    "\n",
    "pattern = re.compile(r'\\d{2,3}-\\d{3,4}-\\d{4}')\n",
    "\n",
    "iter = pattern.finditer(source)\n",
    "\n",
    "for tel in iter:\n",
    "    print(tel,tel.group())\n",
    "\n",
    "# 패턴 작성시 (?<이름>) 형식을 이용하면 매칭 결과에 이름 부여 가능\n",
    "# 이름이 부여된 매칭 결과는 groupdict() 메서드로 확인 가능\n",
    "\n",
    "pattern = re.compile(r'(?P<area>\\d{2,3})-(?P<exchange>\\d{3,4})-(?P<number>\\d{4})')\n",
    "\n",
    "iter = pattern.finditer(source)\n",
    "for tel in iter:\n",
    "    print(tel,tel.group(),tel.groups(),tel.groupdict())\n",
    "\n"
   ]
  },
  {
   "cell_type": "code",
   "execution_count": 31,
   "metadata": {},
   "outputs": [
    {
     "name": "stdout",
     "output_type": "stream",
     "text": [
      "hong@hwalbin.org\n",
      "jang@thieves.net\n",
      "gildong@dooly.net\n",
      "skyun.nam@gmail.com\n"
     ]
    }
   ],
   "source": [
    "# 이메일 정규표현식\n",
    "source = \"\"\"\n",
    "홍길동 hong@hwalbin.org\n",
    "장길산 jang@thieves.net\n",
    "고길동 gildong@dooly.net\n",
    "남승균 skyun.nam@gmail.com\n",
    "\"\"\"\n",
    "\n",
    "pattern = re.compile(r\"\\w+[\\w\\.]*@\\w+\\.[a-z]+\")\n",
    "iter = pattern.finditer(source)\n",
    "\n",
    "for email in iter:\n",
    "    print(email.group())"
   ]
  },
  {
   "cell_type": "code",
   "execution_count": 28,
   "metadata": {},
   "outputs": [
    {
     "name": "stdout",
     "output_type": "stream",
     "text": [
      "['대한민국', '홍길동', '장비']\n"
     ]
    }
   ],
   "source": [
    "# 한국어 패턴\n",
    "source = 'English 대한민국 Japan 홍길동 chinal 장비'\n",
    "pattern = re.compile(r'[ㄱ-힣]+') #Unicode의 범위\n",
    "\n",
    "print(pattern.findall(source))\n",
    "\n"
   ]
  },
  {
   "cell_type": "code",
   "execution_count": 30,
   "metadata": {},
   "outputs": [
    {
     "name": "stdout",
     "output_type": "stream",
     "text": [
      "['사과', '오렌지', '바나나', '토마토', '수박']\n",
      "사과-오렌지-바나나-토마토-수박\n"
     ]
    }
   ],
   "source": [
    "#split : 단순 문자열이 아닌 패턴을 이용해서 문자열 분할\n",
    "source = '사과 오렌지:바나나,토마토,수박'\n",
    "pattern = re.compile(r'[ :,|]')\n",
    "print(re.split(pattern,source))\n",
    "print(re.sub(pattern,'-',source)) # 패턴 매칭 후에 변경"
   ]
  }
 ],
 "metadata": {
  "kernelspec": {
   "display_name": "Python 3",
   "language": "python",
   "name": "python3"
  },
  "language_info": {
   "codemirror_mode": {
    "name": "ipython",
    "version": 3
   },
   "file_extension": ".py",
   "mimetype": "text/x-python",
   "name": "python",
   "nbconvert_exporter": "python",
   "pygments_lexer": "ipython3",
   "version": "3.8.5"
  }
 },
 "nbformat": 4,
 "nbformat_minor": 4
}
