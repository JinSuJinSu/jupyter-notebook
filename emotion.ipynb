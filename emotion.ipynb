{
 "cells": [
  {
   "cell_type": "code",
   "execution_count": 1,
   "id": "5369093d",
   "metadata": {},
   "outputs": [
    {
     "name": "stderr",
     "output_type": "stream",
     "text": [
      "[nltk_data] Downloading package stopwords to\n",
      "[nltk_data]     C:\\Users\\BIT\\AppData\\Roaming\\nltk_data...\n",
      "[nltk_data]   Unzipping corpora\\stopwords.zip.\n",
      "[nltk_data] Downloading package punkt to\n",
      "[nltk_data]     C:\\Users\\BIT\\AppData\\Roaming\\nltk_data...\n",
      "[nltk_data]   Unzipping tokenizers\\punkt.zip.\n",
      "[nltk_data] Downloading package wordnet to\n",
      "[nltk_data]     C:\\Users\\BIT\\AppData\\Roaming\\nltk_data...\n",
      "[nltk_data]   Unzipping corpora\\wordnet.zip.\n"
     ]
    }
   ],
   "source": [
    "import text2emotion as te"
   ]
  },
  {
   "cell_type": "code",
   "execution_count": 2,
   "id": "71ec36a3",
   "metadata": {},
   "outputs": [],
   "source": [
    "text = '''I was asked to sign a third party contract a week out from stay.\n",
    "If it wasn't an 8 person group that took a lot of wrangling I would have cancelled the booking straight away.\n",
    "Bathrooms - there are no stand alone bathrooms.\n",
    "Please consider this - you have to clear out the main bedroom to use that bathroom.\n",
    "Other option is you walk through a different bedroom to get to its en-suite. Signs all over the apartment\n",
    "there are signs everywhere - some helpful\n",
    "some telling you rules. Perhaps some people like this but It negatively affected our enjoyment \n",
    "of the accommodation. Stairs - lots of them - some had slightly bending wood which caused a minor injury.'''\n"
   ]
  },
  {
   "cell_type": "code",
   "execution_count": 3,
   "id": "05c8ef71",
   "metadata": {},
   "outputs": [
    {
     "data": {
      "text/plain": [
       "{'Happy': 0.04, 'Angry': 0.12, 'Surprise': 0.08, 'Sad': 0.33, 'Fear': 0.42}"
      ]
     },
     "execution_count": 3,
     "metadata": {},
     "output_type": "execute_result"
    }
   ],
   "source": [
    "te.get_emotion(text)"
   ]
  },
  {
   "cell_type": "code",
   "execution_count": 4,
   "id": "1371fe95",
   "metadata": {},
   "outputs": [],
   "source": [
    "new_text = '''Sometimes I want to have a conversation with my girfriend, but I don't understand\n",
    "why she is trying to staw away from me whenenver I try to do that.\n",
    "Even though threre are a few problems I truly love her'''"
   ]
  },
  {
   "cell_type": "code",
   "execution_count": 5,
   "id": "329da97f",
   "metadata": {},
   "outputs": [
    {
     "data": {
      "text/plain": [
       "{'Happy': 0.2, 'Angry': 0.2, 'Surprise': 0.0, 'Sad': 0.4, 'Fear': 0.2}"
      ]
     },
     "execution_count": 5,
     "metadata": {},
     "output_type": "execute_result"
    }
   ],
   "source": [
    "te.get_emotion(new_text)"
   ]
  },
  {
   "cell_type": "code",
   "execution_count": null,
   "id": "6a307d00",
   "metadata": {},
   "outputs": [],
   "source": []
  }
 ],
 "metadata": {
  "kernelspec": {
   "display_name": "Python 3",
   "language": "python",
   "name": "python3"
  },
  "language_info": {
   "codemirror_mode": {
    "name": "ipython",
    "version": 3
   },
   "file_extension": ".py",
   "mimetype": "text/x-python",
   "name": "python",
   "nbconvert_exporter": "python",
   "pygments_lexer": "ipython3",
   "version": "3.7.10"
  }
 },
 "nbformat": 4,
 "nbformat_minor": 5
}
