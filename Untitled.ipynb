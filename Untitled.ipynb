{
 "cells": [
  {
   "cell_type": "code",
   "execution_count": 2,
   "metadata": {},
   "outputs": [
    {
     "name": "stdout",
     "output_type": "stream",
     "text": [
      "0\n"
     ]
    }
   ],
   "source": [
    "import numpy as np\n",
    "array = [[1]]\n",
    "\n",
    "array = np.ravel(array)\n",
    "final_list = array.tolist()\n",
    "\n",
    "print(final_list.count(0))"
   ]
  },
  {
   "cell_type": "code",
   "execution_count": 11,
   "metadata": {},
   "outputs": [
    {
     "name": "stdout",
     "output_type": "stream",
     "text": [
      "[0, 4]\n"
     ]
    }
   ],
   "source": [
    "new_array=[[1,1],[1,1]]\n",
    "\n",
    "number0_count=0\n",
    "number1_count=0\n",
    "answer = []\n",
    "new_array = np.array(new_array)\n",
    "new_array = np.ravel(new_array)\n",
    "final_list = new_array.tolist()\n",
    "number0_count+=final_list.count(0)\n",
    "number1_count+=final_list.count(1)\n",
    "\n",
    "# 최종 결과\n",
    "answer.append(number0_count)\n",
    "answer.append(number1_count)\n",
    "\n",
    "print(answer)"
   ]
  },
  {
   "cell_type": "code",
   "execution_count": null,
   "metadata": {},
   "outputs": [],
   "source": [
    "def solution(phone_book):\n",
    "    answer = True\n",
    "    \n",
    "    # 길이 별로 오름차순 정렬\n",
    "    phone_book_list = sorted(phone_book, key=len)\n",
    "    \n",
    "    \n",
    "    # 순차적으로 탐색하면서 무한 루프\n",
    "    max_value = phone_book_list[len(phone_book_list)-1]\n",
    "    value = phone_book_list.pop(0)\n",
    "    \n",
    "    # phone_book_list 길이가 전부 같으면 중복 값이 더이상 없으므로 while 탈출\n",
    "    while len(value)!=len(max_value):\n",
    "        # 접두어가 있는지 확인\n",
    "        value_list = list(filter(lambda x: x.startswith(value),phone_book_list))\n",
    "        \n",
    "        # 접두어가 하나라도 있으면 무조건 false이므로 while 탈출\n",
    "        if len(value_list)>0:\n",
    "            answer = False\n",
    "            break\n",
    "        \n",
    "        # 접두어가 없으면 맨 앞에 있는 값을 받아온 후에\n",
    "        # 계속 filter로 정리하면서 확인\n",
    "        else:\n",
    "            value=phone_book_list.pop(0)\n",
    "    \n",
    "    return answer"
   ]
  },
  {
   "cell_type": "code",
   "execution_count": 12,
   "metadata": {},
   "outputs": [
    {
     "name": "stdout",
     "output_type": "stream",
     "text": [
      "11\n"
     ]
    }
   ],
   "source": [
    "string = '011'\n",
    "print(int(string))"
   ]
  },
  {
   "cell_type": "code",
   "execution_count": 4,
   "metadata": {},
   "outputs": [
    {
     "name": "stdout",
     "output_type": "stream",
     "text": [
      "4\n",
      "0\n"
     ]
    }
   ],
   "source": [
    "a,b =4,0\n",
    "print(a)\n",
    "print(b)"
   ]
  },
  {
   "cell_type": "code",
   "execution_count": 2,
   "metadata": {},
   "outputs": [
    {
     "name": "stdout",
     "output_type": "stream",
     "text": [
      "3\n"
     ]
    }
   ],
   "source": [
    "string = 'abcabcabcabcdededededede'\n",
    "print(string.count('dede'))"
   ]
  }
 ],
 "metadata": {
  "kernelspec": {
   "display_name": "Python 3",
   "language": "python",
   "name": "python3"
  },
  "language_info": {
   "codemirror_mode": {
    "name": "ipython",
    "version": 3
   },
   "file_extension": ".py",
   "mimetype": "text/x-python",
   "name": "python",
   "nbconvert_exporter": "python",
   "pygments_lexer": "ipython3",
   "version": "3.8.5"
  }
 },
 "nbformat": 4,
 "nbformat_minor": 4
}
