{
 "cells": [
  {
   "cell_type": "code",
<<<<<<< HEAD
   "execution_count": 2,
=======
   "execution_count": 6,
   "id": "00f926b9",
>>>>>>> b5350fabf639a6d6409adb331ad716e86bf1803a
   "metadata": {},
   "outputs": [],
   "source": [
    "#Importing required packages.\n",
    "import pandas as pd\n",
    "import seaborn as sns\n",
    "import matplotlib.pyplot as plt\n",
    "from sklearn.ensemble import RandomForestClassifier\n",
    "from sklearn.svm import SVC\n",
    "from sklearn.linear_model import SGDClassifier\n",
    "from sklearn.metrics import confusion_matrix, classification_report\n",
    "from sklearn.preprocessing import StandardScaler, LabelEncoder\n",
    "from sklearn.model_selection import train_test_split, GridSearchCV, cross_val_score\n",
<<<<<<< HEAD
    "import numpy as np\n",
    "%matplotlib inline"
=======
    "%matplotlib inline\n",
    "import numpy as np"
>>>>>>> b5350fabf639a6d6409adb331ad716e86bf1803a
   ]
  },
  {
   "cell_type": "code",
<<<<<<< HEAD
   "execution_count": 3,
=======
   "execution_count": 7,
   "id": "7502a799",
>>>>>>> b5350fabf639a6d6409adb331ad716e86bf1803a
   "metadata": {},
   "outputs": [],
   "source": [
    "wine = pd.read_csv('data/winequality-red.csv', encoding = 'utf-8', sep=';')"
   ]
  },
  {
   "cell_type": "code",
<<<<<<< HEAD
   "execution_count": 4,
=======
   "execution_count": 8,
   "id": "75575bee",
>>>>>>> b5350fabf639a6d6409adb331ad716e86bf1803a
   "metadata": {},
   "outputs": [
    {
     "data": {
      "text/html": [
       "<div>\n",
       "<style scoped>\n",
       "    .dataframe tbody tr th:only-of-type {\n",
       "        vertical-align: middle;\n",
       "    }\n",
       "\n",
       "    .dataframe tbody tr th {\n",
       "        vertical-align: top;\n",
       "    }\n",
       "\n",
       "    .dataframe thead th {\n",
       "        text-align: right;\n",
       "    }\n",
       "</style>\n",
       "<table border=\"1\" class=\"dataframe\">\n",
       "  <thead>\n",
       "    <tr style=\"text-align: right;\">\n",
       "      <th></th>\n",
       "      <th>fixed acidity</th>\n",
       "      <th>volatile acidity</th>\n",
       "      <th>citric acid</th>\n",
       "      <th>residual sugar</th>\n",
       "      <th>chlorides</th>\n",
       "      <th>free sulfur dioxide</th>\n",
       "      <th>total sulfur dioxide</th>\n",
       "      <th>density</th>\n",
       "      <th>pH</th>\n",
       "      <th>sulphates</th>\n",
       "      <th>alcohol</th>\n",
       "      <th>quality</th>\n",
       "    </tr>\n",
       "  </thead>\n",
       "  <tbody>\n",
       "    <tr>\n",
       "      <th>0</th>\n",
       "      <td>7.4</td>\n",
       "      <td>0.700</td>\n",
       "      <td>0.00</td>\n",
       "      <td>1.9</td>\n",
       "      <td>0.076</td>\n",
       "      <td>11.0</td>\n",
       "      <td>34.0</td>\n",
       "      <td>0.99780</td>\n",
       "      <td>3.51</td>\n",
       "      <td>0.56</td>\n",
       "      <td>9.4</td>\n",
       "      <td>5</td>\n",
       "    </tr>\n",
       "    <tr>\n",
       "      <th>1</th>\n",
       "      <td>7.8</td>\n",
       "      <td>0.880</td>\n",
       "      <td>0.00</td>\n",
       "      <td>2.6</td>\n",
       "      <td>0.098</td>\n",
       "      <td>25.0</td>\n",
       "      <td>67.0</td>\n",
       "      <td>0.99680</td>\n",
       "      <td>3.20</td>\n",
       "      <td>0.68</td>\n",
       "      <td>9.8</td>\n",
       "      <td>5</td>\n",
       "    </tr>\n",
       "    <tr>\n",
       "      <th>2</th>\n",
       "      <td>7.8</td>\n",
       "      <td>0.760</td>\n",
       "      <td>0.04</td>\n",
       "      <td>2.3</td>\n",
       "      <td>0.092</td>\n",
       "      <td>15.0</td>\n",
       "      <td>54.0</td>\n",
       "      <td>0.99700</td>\n",
       "      <td>3.26</td>\n",
       "      <td>0.65</td>\n",
       "      <td>9.8</td>\n",
       "      <td>5</td>\n",
       "    </tr>\n",
       "    <tr>\n",
       "      <th>3</th>\n",
       "      <td>11.2</td>\n",
       "      <td>0.280</td>\n",
       "      <td>0.56</td>\n",
       "      <td>1.9</td>\n",
       "      <td>0.075</td>\n",
       "      <td>17.0</td>\n",
       "      <td>60.0</td>\n",
       "      <td>0.99800</td>\n",
       "      <td>3.16</td>\n",
       "      <td>0.58</td>\n",
       "      <td>9.8</td>\n",
       "      <td>6</td>\n",
       "    </tr>\n",
       "    <tr>\n",
       "      <th>4</th>\n",
       "      <td>7.4</td>\n",
       "      <td>0.700</td>\n",
       "      <td>0.00</td>\n",
       "      <td>1.9</td>\n",
       "      <td>0.076</td>\n",
       "      <td>11.0</td>\n",
       "      <td>34.0</td>\n",
       "      <td>0.99780</td>\n",
       "      <td>3.51</td>\n",
       "      <td>0.56</td>\n",
       "      <td>9.4</td>\n",
       "      <td>5</td>\n",
       "    </tr>\n",
       "    <tr>\n",
       "      <th>...</th>\n",
       "      <td>...</td>\n",
       "      <td>...</td>\n",
       "      <td>...</td>\n",
       "      <td>...</td>\n",
       "      <td>...</td>\n",
       "      <td>...</td>\n",
       "      <td>...</td>\n",
       "      <td>...</td>\n",
       "      <td>...</td>\n",
       "      <td>...</td>\n",
       "      <td>...</td>\n",
       "      <td>...</td>\n",
       "    </tr>\n",
       "    <tr>\n",
       "      <th>1594</th>\n",
       "      <td>6.2</td>\n",
       "      <td>0.600</td>\n",
       "      <td>0.08</td>\n",
       "      <td>2.0</td>\n",
       "      <td>0.090</td>\n",
       "      <td>32.0</td>\n",
       "      <td>44.0</td>\n",
       "      <td>0.99490</td>\n",
       "      <td>3.45</td>\n",
       "      <td>0.58</td>\n",
       "      <td>10.5</td>\n",
       "      <td>5</td>\n",
       "    </tr>\n",
       "    <tr>\n",
       "      <th>1595</th>\n",
       "      <td>5.9</td>\n",
       "      <td>0.550</td>\n",
       "      <td>0.10</td>\n",
       "      <td>2.2</td>\n",
       "      <td>0.062</td>\n",
       "      <td>39.0</td>\n",
       "      <td>51.0</td>\n",
       "      <td>0.99512</td>\n",
       "      <td>3.52</td>\n",
       "      <td>0.76</td>\n",
       "      <td>11.2</td>\n",
       "      <td>6</td>\n",
       "    </tr>\n",
       "    <tr>\n",
       "      <th>1596</th>\n",
       "      <td>6.3</td>\n",
       "      <td>0.510</td>\n",
       "      <td>0.13</td>\n",
       "      <td>2.3</td>\n",
       "      <td>0.076</td>\n",
       "      <td>29.0</td>\n",
       "      <td>40.0</td>\n",
       "      <td>0.99574</td>\n",
       "      <td>3.42</td>\n",
       "      <td>0.75</td>\n",
       "      <td>11.0</td>\n",
       "      <td>6</td>\n",
       "    </tr>\n",
       "    <tr>\n",
       "      <th>1597</th>\n",
       "      <td>5.9</td>\n",
       "      <td>0.645</td>\n",
       "      <td>0.12</td>\n",
       "      <td>2.0</td>\n",
       "      <td>0.075</td>\n",
       "      <td>32.0</td>\n",
       "      <td>44.0</td>\n",
       "      <td>0.99547</td>\n",
       "      <td>3.57</td>\n",
       "      <td>0.71</td>\n",
       "      <td>10.2</td>\n",
       "      <td>5</td>\n",
       "    </tr>\n",
       "    <tr>\n",
       "      <th>1598</th>\n",
       "      <td>6.0</td>\n",
       "      <td>0.310</td>\n",
       "      <td>0.47</td>\n",
       "      <td>3.6</td>\n",
       "      <td>0.067</td>\n",
       "      <td>18.0</td>\n",
       "      <td>42.0</td>\n",
       "      <td>0.99549</td>\n",
       "      <td>3.39</td>\n",
       "      <td>0.66</td>\n",
       "      <td>11.0</td>\n",
       "      <td>6</td>\n",
       "    </tr>\n",
       "  </tbody>\n",
       "</table>\n",
       "<p>1599 rows × 12 columns</p>\n",
       "</div>"
      ],
      "text/plain": [
       "      fixed acidity  volatile acidity  citric acid  residual sugar  chlorides  \\\n",
       "0               7.4             0.700         0.00             1.9      0.076   \n",
       "1               7.8             0.880         0.00             2.6      0.098   \n",
       "2               7.8             0.760         0.04             2.3      0.092   \n",
       "3              11.2             0.280         0.56             1.9      0.075   \n",
       "4               7.4             0.700         0.00             1.9      0.076   \n",
       "...             ...               ...          ...             ...        ...   \n",
       "1594            6.2             0.600         0.08             2.0      0.090   \n",
       "1595            5.9             0.550         0.10             2.2      0.062   \n",
       "1596            6.3             0.510         0.13             2.3      0.076   \n",
       "1597            5.9             0.645         0.12             2.0      0.075   \n",
       "1598            6.0             0.310         0.47             3.6      0.067   \n",
       "\n",
       "      free sulfur dioxide  total sulfur dioxide  density    pH  sulphates  \\\n",
       "0                    11.0                  34.0  0.99780  3.51       0.56   \n",
       "1                    25.0                  67.0  0.99680  3.20       0.68   \n",
       "2                    15.0                  54.0  0.99700  3.26       0.65   \n",
       "3                    17.0                  60.0  0.99800  3.16       0.58   \n",
       "4                    11.0                  34.0  0.99780  3.51       0.56   \n",
       "...                   ...                   ...      ...   ...        ...   \n",
       "1594                 32.0                  44.0  0.99490  3.45       0.58   \n",
       "1595                 39.0                  51.0  0.99512  3.52       0.76   \n",
       "1596                 29.0                  40.0  0.99574  3.42       0.75   \n",
       "1597                 32.0                  44.0  0.99547  3.57       0.71   \n",
       "1598                 18.0                  42.0  0.99549  3.39       0.66   \n",
       "\n",
       "      alcohol  quality  \n",
       "0         9.4        5  \n",
       "1         9.8        5  \n",
       "2         9.8        5  \n",
       "3         9.8        6  \n",
       "4         9.4        5  \n",
       "...       ...      ...  \n",
       "1594     10.5        5  \n",
       "1595     11.2        6  \n",
       "1596     11.0        6  \n",
       "1597     10.2        5  \n",
       "1598     11.0        6  \n",
       "\n",
       "[1599 rows x 12 columns]"
      ]
     },
<<<<<<< HEAD
     "execution_count": 4,
=======
     "execution_count": 8,
>>>>>>> b5350fabf639a6d6409adb331ad716e86bf1803a
     "metadata": {},
     "output_type": "execute_result"
    }
   ],
   "source": [
    "wine"
   ]
  },
  {
   "cell_type": "code",
<<<<<<< HEAD
   "execution_count": 5,
=======
   "execution_count": 9,
   "id": "b945c8f7",
>>>>>>> b5350fabf639a6d6409adb331ad716e86bf1803a
   "metadata": {},
   "outputs": [
    {
     "name": "stdout",
     "output_type": "stream",
     "text": [
      "<class 'pandas.core.frame.DataFrame'>\n",
      "RangeIndex: 1599 entries, 0 to 1598\n",
      "Data columns (total 12 columns):\n",
      " #   Column                Non-Null Count  Dtype  \n",
      "---  ------                --------------  -----  \n",
      " 0   fixed acidity         1599 non-null   float64\n",
      " 1   volatile acidity      1599 non-null   float64\n",
      " 2   citric acid           1599 non-null   float64\n",
      " 3   residual sugar        1599 non-null   float64\n",
      " 4   chlorides             1599 non-null   float64\n",
      " 5   free sulfur dioxide   1599 non-null   float64\n",
      " 6   total sulfur dioxide  1599 non-null   float64\n",
      " 7   density               1599 non-null   float64\n",
      " 8   pH                    1599 non-null   float64\n",
      " 9   sulphates             1599 non-null   float64\n",
      " 10  alcohol               1599 non-null   float64\n",
      " 11  quality               1599 non-null   int64  \n",
      "dtypes: float64(11), int64(1)\n",
      "memory usage: 150.0 KB\n"
     ]
    }
   ],
   "source": [
    "wine.info()"
   ]
  },
  {
   "cell_type": "code",
<<<<<<< HEAD
   "execution_count": 6,
=======
   "execution_count": 10,
   "id": "0728e604",
>>>>>>> b5350fabf639a6d6409adb331ad716e86bf1803a
   "metadata": {},
   "outputs": [
    {
     "data": {
      "text/plain": [
       "4.6"
      ]
     },
<<<<<<< HEAD
     "execution_count": 6,
=======
     "execution_count": 10,
>>>>>>> b5350fabf639a6d6409adb331ad716e86bf1803a
     "metadata": {},
     "output_type": "execute_result"
    }
   ],
   "source": [
    "np.min(wine['fixed acidity'])"
   ]
  },
  {
   "cell_type": "code",
<<<<<<< HEAD
   "execution_count": 7,
=======
   "execution_count": 11,
   "id": "e28848f2",
>>>>>>> b5350fabf639a6d6409adb331ad716e86bf1803a
   "metadata": {},
   "outputs": [
    {
     "data": {
<<<<<<< HEAD
      "image/png": "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\n",
=======
      "image/png": "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\n",
>>>>>>> b5350fabf639a6d6409adb331ad716e86bf1803a
      "text/plain": [
       "<Figure size 720x432 with 1 Axes>"
      ]
     },
     "metadata": {
      "needs_background": "dark"
     },
     "output_type": "display_data"
    }
   ],
   "source": [
    "#Here we see that fixed acidity does not give any specification to classify the quality.\n",
    "fig = plt.figure(figsize = (10,6))\n",
    "sns.barplot(x = 'quality', y = 'fixed acidity', data = wine)\n",
    "plt.xticks(fontsize=16, color='white')\n",
    "plt.yticks(fontsize=16, color='white')\n",
    "plt.xlabel('quality', fontsize=16, color='white')\n",
    "plt.ylabel('fixed acidity', fontsize=16, color='white')\n",
    "plt.show()"
   ]
  },
  {
   "cell_type": "code",
<<<<<<< HEAD
   "execution_count": 8,
=======
   "execution_count": 12,
   "id": "e1a39a30",
>>>>>>> b5350fabf639a6d6409adb331ad716e86bf1803a
   "metadata": {},
   "outputs": [
    {
     "data": {
      "text/plain": [
       "array([ 7.4,  7.8, 11.2,  7.9,  7.3,  7.5,  6.7,  5.6,  8.9,  8.5,  8.1,\n",
       "        7.6,  6.9,  6.3,  7.1,  8.3,  5.2,  5.7,  8.8,  6.8,  4.6,  7.7,\n",
       "        8.7,  6.4,  6.6,  8.6, 10.2,  7. ,  7.2,  9.3,  8. ,  9.7,  6.2,\n",
       "        5. ,  4.7,  8.4, 10.1,  9.4,  9. ,  8.2,  6.1,  5.8,  9.2, 11.5,\n",
       "        5.4,  9.6, 12.8, 11. , 11.6, 12. , 15. , 10.8, 11.1, 10. , 12.5,\n",
       "       11.8, 10.9, 10.3, 11.4,  9.9, 10.4, 13.3, 10.6,  9.8, 13.4, 10.7,\n",
       "       11.9, 12.4, 12.2, 13.8,  9.1, 13.5, 10.5, 12.6, 14. , 13.7,  9.5,\n",
       "       12.7, 12.3, 15.6,  5.3, 11.3, 13. ,  6.5, 12.9, 14.3, 15.5, 11.7,\n",
       "       13.2, 15.9, 12.1,  5.1,  4.9,  5.9,  6. ,  5.5])"
      ]
     },
<<<<<<< HEAD
     "execution_count": 8,
=======
     "execution_count": 12,
>>>>>>> b5350fabf639a6d6409adb331ad716e86bf1803a
     "metadata": {},
     "output_type": "execute_result"
    }
   ],
   "source": [
    "wine['fixed acidity'].unique()"
   ]
  },
  {
   "cell_type": "code",
<<<<<<< HEAD
   "execution_count": 9,
=======
   "execution_count": 13,
   "id": "6801de2e",
>>>>>>> b5350fabf639a6d6409adb331ad716e86bf1803a
   "metadata": {},
   "outputs": [
    {
     "data": {
      "text/plain": [
       "Text(0, 0.5, 'volatile acidity')"
      ]
     },
<<<<<<< HEAD
     "execution_count": 9,
=======
     "execution_count": 13,
>>>>>>> b5350fabf639a6d6409adb331ad716e86bf1803a
     "metadata": {},
     "output_type": "execute_result"
    },
    {
     "data": {
<<<<<<< HEAD
      "image/png": "iVBORw0KGgoAAAANSUhEUgAAAm8AAAF9CAYAAABSwI+FAAAAOXRFWHRTb2Z0d2FyZQBNYXRwbG90bGliIHZlcnNpb24zLjMuMiwgaHR0cHM6Ly9tYXRwbG90bGliLm9yZy8vihELAAAACXBIWXMAAAsTAAALEwEAmpwYAAAhPUlEQVR4nO3deZhcZZn38W+REAIZfUlMIKIkDYJA4m5UNIqBUUFlgguLoxCQVxLckJnRVlzC6hZkURxHgiCoIL4wMDKuyJKgCGJAYQjIZsISaAgkISwxJqTmj/v0m+pKdfXpTlWdeqq/n+uqq6qfU+fUTV0h+fVznqVULpeRJElSGrYougBJkiTlZ3iTJElKiOFNkiQpIYY3SZKkhBjeJEmSEmJ4kyRJSsjIogtopfHjx5e7urqKLkOSJGlAN9988+PlcnlCdfuwCm9dXV0sWrSo6DIkSZIGVCqV7q/V7m1TSZKkhBjeJEmSEmJ4kyRJSojhTZIkKSGGN0mSpIQY3iRJkhJieJMkSUqI4U2SJCkhhjdJkqSEGN4kSZISYniTJElKiOFNkiQpIcNqY/oUdXd309PTw8SJE5k3b17R5UiSpIIZ3tpcT08Py5YtK7oMSZLUJrxtKkmSlBDDmyRJUkIMb5IkSQkxvEmSJCXE8CZJkpQQw5skSVJCDG+SJEkJMbxJkiQlxPAmSZKUEMObJElSQgxvkiRJCTG8SZIkJcTwJkmSlBDDmyRJUkIMb5IkSQkxvEmSJCXE8CZJkpSQIsLbi4GzgBuAZ4Ey0JXz3NHAqcAjwJrsGns1vkRJkqT2VER42wU4GFgJ/HaQ554LHAXMBfYnQtyvgVc1sD5JkqS2NbKAz7wO2D57/RHgHTnPeyXwQeBI4PtZ20JgMXASMLOBNUqSJLWlInreNgzxvJnAOuAnFW3rgYuBfYGtNrMuSZKktpfShIWpwBJinFylxcAo4nasJElSR0spvI0jxslVW1FxfBOlUml2qVRaVCqVFi1fvrxpxUmSJLVCSuGtRMxMrdXer3K5PL9cLk8rl8vTJkyY0JzKJEmSWiSl8LaC2r1rYyuOS5IkdbSUwttiYCdgm6r2KcDfgXtbXpEkSVKLpRTergC2BA6qaBsJHAJcCawtoihJkqRWKmKdN4ADs+fXZs/vBJZnj4XAZOA+Yv22k7L3/JlYJuRMIsQtAT5K9MZ9qAU1S5IkFa6o8HZJ1c/fyZ4XAjOISQgj2LRn8MPAl4FTgG2BW4H9gFuaVKckSVJbKSq81Z0hCizt5z1rgH/NHpIkScNOSmPeJEmShj3DmyRJUkIMb5IkSQkxvEmSJCXE8CZJkpQQw5skSVJCDG+SJEkJMbxJkiQlxPAmSZKUEMObJElSQgxvkiRJCTG8SZIkJcTwJkmSlBDDmyRJUkIMb5IkSQkxvEmSJCXE8CZJkpQQw5skSVJCDG+SJEkJMbxJkiQlxPAmSZKUEMObJElSQgxvkiRJCTG8SZIkJcTwJkmSlBDDmyRJUkJGFl1Au3ntZ35QdAl9PO/xpxgBPPD4U21V282nziq6BEmShiV73iRJkhJieJMkSUqI4U2SJCkhhjdJkqSEGN4kSZISYniTJElKiOFNkiQpIYY3SZKkhBjeJEmSEmJ4kyRJSojhTZIkKSGGN0mSpIQY3iRJkhJieJMkSUqI4U2SJCkhhjdJkqSEGN4kSZISUkR42xG4FHgSWA1cBkzKee4k4ALgAeBZ4G7gFGBM48uUJElqPyNb/HnbANcAa4HDgTIRvq4FXgE8U+fcMcBVwJbAl4gA9zrgRGBX4JCmVS1JktQmWh3ejgJ2BnYD7s3abgPuAeYAp9c5dzoR0vYFrszargXGAZ8mguGzjS9ZkiSpfbT6tulM4EY2BjeAJcD1wAEDnDsqe15d1b6K+O8oNaA+SZKkttbq8DYVuL1G+2JgygDnXkX00H09e+8/APsAnwK+S/1brpIkSR2h1eFtHLCyRvsKYOwA5/4NeDNR82LgKeBq4GfAJxpYoyRJUttq9Zg3iEkK1fLc8hwN/ATYDjiMmLDwemAusB74aK2TSqXSbGA2wKRJeSe1SpIktadWh7eVRO9btbHU7pGr9H+BGcAuwH1Z23XEkiPziVunt1afVC6X52fHmTZtWq3gKEmSlIxW3zZdTIx7qzYFuGOAc19OBLz7qtpvyp732LzSJEmS2l+rw9sVwJ7EciG9uohlQK4Y4Nweoodul6r2N2TPyxpQnyRJUltrdXg7B1gK/JRYGmRm9vpB4OyK900mxrHNrWg7n5ik8Atigd+9gc8A3wBuJpYbkSRJ6mitDm/PEMt73A38ELiQWOdtH+DpiveVgBFV9S0leu3+TOzK8Ati0d/5wNuBDU2tXJIkqQ0UMdv0AeD9A7xnKbVnoN4BHNzogiRJklJRxMb0kiRJGiLDmyRJUkIMb5IkSQnJG96uJ3Y12KqJtUiSJGkAecPbOuAC4GHgdGD3plUkSZKkfuUNbzOIHQwuAGYROyUsAA4BtmxGYVJRuru7mTVrFt3d3UWXIknSJgYz5u0u4F+BFwFHEOuwXQQ8BHyNvrsmSMnq6elh2bJl9PT0FF2KJEmbGMqEhbXEArufAn4LTAC6iYV3LwEmNqw6SZIk9THY8LY1cCSxGfwfieD2KWAH4KPAm4hdEyRJktQEeXdYeDkwB/gQMIbYj/SzwLUV7zmH2Dz+kkYWKEmSpI3yhrdbiZmmZxJ7iT7Sz/vuBW7Y/LIkSZJUS97wdhDwX8BzA7zvTmDvzSlIkiRJ/cs75u3dwKR+jk0GzmtMOZIkSaonb3g7nJicUMv47LgkSZKaLG94KwHlfo5NBNY0phxJkiTVU2/M23uzR68Tgcer3rM18Bbg5gbXJUmSpBrqhbdJRDCD6HV7FbFAb6W1wO+B4xpemSRJkjZRL7x9M3sALAHeQywZIkmSpILkXSpkp6ZWIUmSpFzqhbe9gFuAp7PXA7muIRVJkiSpX/XC2wJgT2If0wX0P9u0dybqiEYWprBh1Jg+z5IkaXirF972Bu6oeK0CPLPrO4ouQZIktZF64W1hP68lSZJUkLwTFqSmeeCklxddQh/rV4wDRrJ+xf1tVdukuf9TdAmSpDZQL7xdM4jrlIF/3MxaJEmSNIB64W0L+k5S2I3YCmsp8CiwPdAFPALc1ZzyJEmSVKleeJtR8fo9xIK9vbNPe70B+AkbF/OVJElSE+XdmP5k4Ev0DW4AfwBOAE5pYE2SJEnqR97wtiuwvJ9jjwG7NKYcSZIk1ZM3vC0B5vRzbA4xDk6SJElNlnepkBOBC4HbgUvZOGHhQGB34ENNqU6SJEl95A1vFwOPEyHuOGBLYB3wR2Bf4OqmVCdJkqQ+BrNI71XZYwtgPBHmNjSjKEmSJNU2lB0WNhCTFCRJktRi9cLbXOB7wMPZ63rKxHIikiRJaqJ64e0E4FdEeDthgOsY3iRJklpgoO2xar2WJElSQQxlkiRJCckb3vYHPtHPsY8D72pMOZIkSaonb3j7EjCmn2NbZ8clSZLUZHnD2+7ALf0c+zOwR0OqkdrA+NEb2H7r9Ywf7TKGkqT2k3edty2Af+jn2POIHRekjvDpV6wqugRJkvqVt+ftVvrfv/RDwG2NKUeSJEn15O15Ow34T+AS4BzgIeBFwGzgvcBBTalOkiRJfeQNb5cDnwK+DLwvaysBTwPHAJc1vjRJkiRVG8w6b2cRvW3vAg4D9gN2AP59kJ+5I3Ap8CSwmgh+kwZx/h5ED+DjwBrgLiJYSpIkdbzBbkz/FPDrzfi8bYBrgLXA4cS2WqcA1wKvAJ4Z4Pxp2fkLgI8QAXBX+p9MIUmS1FEGG97GEmFpdI1j1+U4/yhgZ2A34N6s7TbgHmAOcHqdc7cALgCuJsbZ9bo2x+dKkiR1hLzhbTRwHnAwMdatlhE5rjMTuJGNwQ1gCXA9cAD1w9sMYApwdI7PkSRJ6kiD2WFhBnGrs0RslfUR4HfAfcT2WXlMBW6v0b6YCGb1vDl7Hk0EwHXAY8C3iF0eJEmSOl7e8PZ+4CTg4uznPwDfB95KrAG3X87rjANW1mhfQdySrWeH7PknwJXA24F5RIi8qL+TSqXS7FKptKhUKi1avnx5zjIlSZLaU97wNonoHXuO6PGq3Of0POCQQXxmuUZbf7diK/XW+iNgLjFp4RvAicB76Kfnrlwuzy+Xy9PK5fK0CRMmDKJMSZKk9pM3vD3BxhmdDwKvrDg2nvy3LVcSvW/VxlK7R666BoDfVLVfmT2/KmcNktpMd3c3s2bNoru7u+hSJKnt5Z2wcCPwauCXxE4LJxN7mq4H/o0Y+5bHYmLcW7UpwB05zoVNe+56e+3cRVxKVE9PD8uWLSu6DElKQt6et68Df8len0KstXZS1v5X4KM5r3MFsCexXEivLmB6dqyeXxLrw1WPr9s3e16UswZJkqRk5e15W8TGcPQUMYFhq+yxehCfdw4xU/WnwBeJXrSTiVuxZ1e8bzIxi/Wk7AFx2/SrxMzX1USAnEaMf7uAvsuPSJIkdaTBLtJbaW32GIxngH2AM4AfErc8rwaOJfZJ7VUi1o2r7hk8iQiPHwM+DTwCnEoEQEmSpI63OeFtqB4geu7qWUrtGahlYiHfeov5ShrA9LOmF11CH6NWjWILtuDBVQ+2VW3Xf/L6okuQpE0MZmN6SZIkFczwJkmSlBDDmyRJUkKKGPMmSX2UtymzgQ2Ut6m1AYskqdJgwtuLiAV59yJ2SZhJbDJ/LHADsd+pJA3auunrii5BkpKR97bpVOB/gMOAh4l12EZlxyYDn2p8aZIkSaqWN7ydBtwJ7AS8j77LePye2DVBkiRJTZb3tumbgX8mFtIdUXXsUWBiI4uSJElSbXl73upt+j4eWNOAWiRJkjSAvOHtJuDD/Rw7GHAZckmSpBbIe9v0ZOAq4ErgImKbqrcRExXeS8xAlSRJUpPl7XlbCLyHmLBwHjFh4WvAW7J2lwmRJElqgcGs8/bz7LELsB3wBHBXM4qSJElSbUPZYeHe7CFJkqQWqxfeZg3yWj/YnEIkSZI0sHrh7fxBXKeM4U2SJKnp6oW3nVpWhSRJknKpF97ub1kVkqSW6u7upqenh4kTJzJv3ryiy5E0CEOZsCBJSlxPTw/Lli0rugxJQ1AvvP2VWID3VmAJMa6tP2XgJQ2sS5IkSTXUC28LgdUVr+uFN0mSJLVAvfBWuZfpEU2uQ5IkqaE6dWxn3jFvc4HvAQ/XOPZC4CjgpEYVJUmdZuFeby26hD7WjBwBpRJrHnqorWp763ULiy5BHaRTx3bm3dv0eODF/RzbITsuSZKkJssb3kp1jo0F1jagFkmSJA2g3m3TGcA+FT/PAfaves/WwLuBxY0tS5IkSbXUC29vBb6YvS7TdwJDr78DdwDHNLguSVITbVsu93mWlI564e3E7AGwAdgTuKnpFUmSmu7Q5zYUXYKkIco72zTv2DhJkiQ10VC2x9oOGF2j/YHNrEWSJEkDGEzP2ynEpIVt+3nPiEYUJEmSpP7lvR16LPBx4DRi2ZCvEGFuCXAfsUivJEmSmixvePswsYPC17OfLycW5t0DWAZManxpkiRJqpY3vO0MLAKeA9YT67sBrAPOBI5seGWSJEnaRN7w9iQbJyk8DOxWcWwkMK6RRUmSJKm2vBMW/gRMAX6dPU4E1hC9cF8GbmlKdZIkSeojb3g7k7h1CjHW7TXAhdnP9wOfaGxZkiRJqiVvePtNxese4PXAS4BtgDuJsW+SJElqsqEs0gux1+m9jSxEkiRJA6sX3vYa5LWu25xCJEmSNLB64W0B0cM2kFL2PndYkCRJarJ64W3vllUhSZKkXOqFt4Utq0KSpA7X3d1NT08PEydOZN68eUWXo4QNdsLCOOCN2fMTwI3AikYXJUlSp+np6WHZsmVFl9FUXz70wKJL6GPFY0/Gc88jbVXbF3506Wadn3eHBYiN6JcBVwAXAD/Lfj55kJ+5I3ApsWvDauAyhrY36nHEWLvfDeFcSZKkJOUNb8cCnwd+BOxDbEi/d/bz54Fjcl5nG+AaYHfgcOAwYFfgWmBM3qKJBYO/ADw2iHMkSZKSl/e26dHAN4F/qWi7ixgX9zTwMeBbOa5zFBG8dmPjOnG3AfcAc4DTc9bzH8QOD7sx9LXqJEmSkpO3560L+Hk/x36eHc9jJjFOrnKB3yXA9cABOa/xQWJ7ruNyvl+SJKlj5A1vTwAv6+fY1Ox4HlOB22u0LyY2vh/IWOAMoBsnSkiSpGEo7y3Hy4mJCU8AFxN7mY4EDgJOIiYw5DEOWFmjfQURzAZyKnA3cH7Oz5MkDVPf/rf/LrqEPlY9/sz/f26n2j5x2j8VXYIGKW94Ow54JRHSziPC1jhiV4XfEZMW8qq1a0Mpx3lvAWYRt0zz7PwQFy6VZgOzASZNGsqkVkmSpPaRN7w9Rex1+m4iRI0jAtxC4JfkD1Mrs3OrjaV2j1yls4FzgYeAbbO2kUSA3BZYA6ytPqlcLs8H5gNMmzYtd+iTJElqR4OZqVkm1nb72WZ83mJi3Fu1KcAdA5y7R/Y4usaxlcRM2DM3ozZJkqS2lze83QL8APgx8OhmfN4VwDeI5UL+mrV1AdOBzw1wbq29Vs8ket4+Sd8ZrJIkSR0p72zTR4F5wIPAL4APAKOH8HnnAEuBnxJLg8zMXj9I3BbtNRlYD8ytaFtQ47GK2KlhAXE7VZIkqaPlDW/vBF5MLNGxHXAREejOpXaPWH+eIXZouBv4IbHQ7pKs7emK95WIHrXBbN8lSVLbGjPq+YzZalvGjHp+0aUocYMZ8/YYcZvyTGLs2WHEgrlHEL1ek3Ne5wHg/QO8Zyn5ZqDOyPmZkiQVavpL3ld0CeoQQ+3ZupNY3+0LwMNEr5wkSZKabCjhbR/g+8Rt0x8QvW6fbGRRkiRJqi3vbdOXAYcSt0lfBNxPbFT/Q2JTeUmSJLVA3vB2GzGr8xIisP22aRVJkiSpX3nD2yHEGm2b7GAgSZLUjkaP2KLPc6fIG94uaWoVkiRJDfbqFzyv6BKaorOiqCRJUoczvEmSJCXE8CZJkpQQw5skSVJCDG+SJEkJMbxJkiQlxPAmSZKUEMObJElSQgxvkiRJCTG8SZIkJcTwJkmSlBDDmyRJUkIMb5IkSQkxvEmSJCXE8CZJkpQQw5skSVJCDG+SJEkJMbxJkiQlxPAmSZKUEMObJElSQgxvkiRJCTG8SZIkJcTwJkmSlBDDmyRJUkIMb5IkSQkxvEmSJCXE8CZJkpQQw5skSVJCDG+SJEkJMbxJkiQlxPAmSZKUEMObJElSQgxvkiRJCTG8SZIkJcTwJkmSlBDDmyRJUkIMb5IkSQkxvEmSJCXE8CZJkpSQIsLbjsClwJPAauAyYFKO86YB84G/AM8CDwAXAjs1p0xJkqT20+rwtg1wDbA7cDhwGLArcC0wZoBzPwBMBb4FvBP4HPAaYBERCCVJkjreyBZ/3lHAzsBuwL1Z223APcAc4PQ6534dWF7Vdj2wJLvu3IZWKkmS1IZa3fM2E7iRjcENInxdDxwwwLnVwQ3g/qz9RQ2pTpIkqc21OrxNBW6v0b4YmDKE6+0BbAfcuTlFSZIkpaLV4W0csLJG+wpg7CCvNRL4LtHzdm5/byqVSrNLpdKiUqm0aPnyWp13kiRJ6Shitmm5RltpCNf5NvAm4FBqB8L4sHJ5frlcnlYul6dNmDBhCB8jSZLUPlo9YWEl0ftWbSx1AlgNXwVmEzNWr2xAXZIkSUlodXhbTIx7qzYFuCPnNb5ALBNyDPDDBtUlSZKUhFbfNr0C2JNYLqRXFzA9OzaQY4BTiAB3VqOLkyRJanetDm/nAEuBnxJLg8zMXj8InF3xvsnAevqu3fYB4EzgV8RCv3tWPIYyU1WSJCk5rb5t+gywD3AGccuzBFwNHAs8XfG+EjCCvuFyv6x9v+xRaSEwoxkFS5IktZNWhzeIPUnfP8B7lrLpDNQjsockSdKwVcRSIZIkSRoiw5skSVJCDG+SJEkJMbxJkiQlxPAmSZKUEMObJElSQgxvkiRJCTG8SZIkJcTwJkmSlBDDmyRJUkIMb5IkSQkxvEmSJCXE8CZJkpQQw5skSVJCDG+SJEkJMbxJkiQlxPAmSZKUEMObJElSQgxvkiRJCTG8SZIkJcTwJkmSlBDDmyRJUkIMb5IkSQkxvEmSJCXE8CZJkpQQw5skSVJCDG+SJEkJMbxJkiQlxPAmSZKUEMObJElSQgxvkiRJCTG8SZIkJcTwJkmSlBDDmyRJUkIMb5IkSQkxvEmSJCXE8CZJkpQQw5skSVJCDG+SJEkJMbxJkiQlxPAmSZKUEMObJElSQgxvkiRJCTG8SZIkJaSI8LYjcCnwJLAauAyYlPPc0cCpwCPAGuAGYK8m1ChJktSWWh3etgGuAXYHDgcOA3YFrgXG5Dj/XOAoYC6wPxHifg28qgm1SpIktZ2RLf68o4Cdgd2Ae7O224B7gDnA6XXOfSXwQeBI4PtZ20JgMXASMLMJ9UqSJLWVVve8zQRuZGNwA1gCXA8ckOPcdcBPKtrWAxcD+wJbNa5MSZKk9tTq8DYVuL1G+2JgSo5zlwDP1jh3FLDLZlcnSZLU5lod3sYBK2u0rwDGbsa5vcclSZI6WqvHvAGUa7SVcpxXGsq5pVJpNjA7+/HpUql0V47PajfjgceLLqJS6RuHF11Cs7Xdd87xef43SVrbfeelY/zOW67kd95qn6w32rwztN13/sULc/85n1yrsdXhbSW1e8jGUrtXrdIKai8pMrbi+CbK5fJ8YH7eAttRqVRaVC6XpxVdx3Did956fuet53feen7nrdeJ33mrb5suJsauVZsC3JHj3J2I5Uaqz/07fSdBSJIkdaRWh7crgD2J5UJ6dQHTs2MDnbslcFBF20jgEOBKYG3DqpQkSWpTrQ5v5wBLgZ8SS4PMzF4/CJxd8b7JxDIgcyva/kwsE3Im8BHgH4llQnYCjm9q1cVL+rZvovzOW8/vvPX8zlvP77z1Ou47L5XLteYANNUk4Azg7cRkg6uBY4lQ16uLWBbkROCEivatgS8Ti/VuC9wKfBZY0MR6JUmS2kYR4U2SJElDVMTG9BrYvsQesD3EWL6HgP/HwAsZq7F+RSxPc0rRhXSoGcT3W/1YVVxJw8a7gOuAp4HVwCJgn0Ir6lwLqP3nvEz8HaPmmE6Mh3+M+DN+C7G9ZkcoYp03DWwccDPwHWA5cav5c8TWYi8H7i+utGHjn4n9dNV8xwB/rPh5fVGFDBNzgG9nj5OJX+JfxaYz+dUYHwOeX9X2RmIv74Em6mloXgFcRfybeRSxM9OBwLnEVpr/UVxpjeFt03TsBvwF+DRwWsG1dLptie/6X4CLiHGWXyyyoA41A7iWGP96VbGlDBtdwJ3AccTkLxXjXOBQ4IX0s0apNstXiH8rxxG9y71uJHo831hEUY3kbdN0PJE9ryu0iuFhHrGu4I+LLkRqsCOBDcB3iy5kGNuaWPLqvzG4Ncso4t/KNVXtq+iQ3NMR/xEdbATxh3BXYimVHmJ5FDXPm4FZxK0OtcaFwHPELygXUXsnFTXGm4le5Q8A9xG3qO8FPl5kUcPM+4DnARcUXUgHOz97/hawA3E35ShiibEziimpsRzz1t7+ALw2e30vMaD4seLK6XhbEiH5G0CKe+Cm5kliCMBCYkDxq4HPAzdkr/2z3ng7ZI9Tie/6PqIX6NvEvwffLK60YWMW8Wf7l0UX0sFuJ4ZlXM7GX8TXAUfTIR0ghrf2dhgx0HVn4v79b4jfnJcWWFMn+ywb1xJU8/0pe/RaSMyAvImYxOA4w8bbguj1OQK4LGu7hhgLdxzRU+FA6ObZAXgbEZKdmNM8uwL/SQx/OZq4fXoAMVzgb0Rvf9IMb+3tzuz5D8RvaUuJWadHF1VQB5sEfIHYvWOr7NFrK6Lb/Sni9p6a5xbgbuB1RRfSoZ4g/mH7TVX7lcB+xAD6h1td1DByKBGgvWXaXF8hetr2Z+M48auBFxDB+cfE2M9kOeYtHauIW6e7FFxHp9oZGA38CFhZ8YDo9VxJLNOi5ith70+zLO6nvZQ9J/0PWgJmETsD3Vp0IR3u5cR3XD3B7yYiwG3X8ooazPCWju2B3YkxKmq8PwN713hABLq9ifCs5poGvJTobVbjXZ4971vVvi+xGHhPa8sZVqYBU7HXrRV6iLULR1W1v4G4bZr8LF9vm7any4nbR7cRA7lfSqw5th7XeGuWVfS/R+79dY5p6C4k9jC+hfj+X02Mu1oGnFVcWR3tF8TaemcD44G/EouXvgP4cIF1DQeziL/DLyq6kGHg28AlxHIs3yHGvM0kFl8/A/h7caU1hov0tqfPAgcDLyF+c3iQCA9fxckKrVbGRXqb5TjiL9PJxOr+PcTYzuOBRwqsq9M9n/i75EBgLLF0yNcwVDTTlsRYwhuBfyq4luHincS/pVOJITH3AfOJX1ySH7tseJMkSUqIY94kSZISYniTJElKiOFNkiQpIYY3SZKkhBjeJEmSEmJ4kyRJSojhTZIaq4tYH/CIirbz6btGYxdwArEtmyQNiuFNkprvZOC9FT93EYsRG94kDZrbY0lS87knsaSGsedNUqf7ALEF1FpgMdEDtoCN+9UeQdzm7Ko674SsvdIngBuIja1XEdsdvTtHDeez8bbpDGJ/UYDfZJ9Rztp/Ruz1Wm0nYAMwJ8dnSepwhjdJnextxJ6d9wDvA04FvgnsNsTrdQHfAw4CDgEWEYHrnYO4xi3Ax7PXxwBvzB63EJtovxp4fdU5s4FncP9RSXjbVFJnO5HodTuA6LkCuJPoMbtrCNf7dMXrLYCrgZcCRwO/zHmN1cAdVbX0+hXwV6KH7aasbUvgw8CFwFNDqFlSh7HnTVKnGgG8DriUjcEN4A/0nfk5GK8letoeBdYD64C3M/SevGobgLOJW73/J2t7D7B91i5JhjdJHWs80Wv1aI1jtdoGsiPR0zYO+CTwJiIc/goYPcQaazmX+Lv5sOzno4leuD818DMkJczbppI61eNEz9j2NY5tD9yfvf5b9jyq6j0vqPp5P6I37GDgoYr2bTavzE08AVxC3Dr9NbA38JEGf4akhNnzJqlTPQf8ETiQvn/XvYG+M0t7Q9zLKtpGAu+oul5vSFtX0fZSYPoQalubPW/dz/HvZPV8jxgjd/EQPkNSh7LnTVInOx64EvgvYszYBGISQ0/Fe/5IrMN2KhHy1gIfA7aqutZVxDi3HwCnAS/MrvUAg/9F+O7sWkcSy46sJSZQ9E5IuJGYfboXcBbw7CCvL6mD2fMmqZNdBXyImFBwGfAZ4Fj6zjRdT8xGfZBYj+3fifXXzq+61uLsWpOBK4Bu4HPAdUOo6wlizbhXAguJAPnaqvdcmj07UUFSH6VyuXoNSknqeAuy5xkF1jCQ64nZp28puhBJ7cXbppLUPrYCXkMsLvwmokdQkvowvElS+3gh8Hti662vELdnJakPb5tKkiQlxAkLkiRJCTG8SZIkJcTwJkmSlBDDmyRJUkIMb5IkSQkxvEmSJCXkfwGGaHrtOD8hgAAAAABJRU5ErkJggg==\n",
=======
      "image/png": "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\n",
>>>>>>> b5350fabf639a6d6409adb331ad716e86bf1803a
      "text/plain": [
       "<Figure size 720x432 with 1 Axes>"
      ]
     },
     "metadata": {
      "needs_background": "dark"
     },
     "output_type": "display_data"
    }
   ],
   "source": [
    "#Here we see that its quite a downing trend in the volatile acidity as we go higher the quality \n",
    "fig = plt.figure(figsize = (10,6))\n",
    "sns.barplot(x = 'quality', y = 'volatile acidity', data = wine)\n",
    "plt.xticks(fontsize=16, color='white')\n",
    "plt.yticks(fontsize=16, color='white')\n",
    "plt.xlabel('quality', fontsize=16, color='white')\n",
    "plt.ylabel('volatile acidity', fontsize=16, color='white')"
   ]
  },
  {
   "cell_type": "code",
<<<<<<< HEAD
   "execution_count": 10,
=======
   "execution_count": 14,
   "id": "162fd8be",
>>>>>>> b5350fabf639a6d6409adb331ad716e86bf1803a
   "metadata": {},
   "outputs": [
    {
     "data": {
      "text/plain": [
       "Text(0, 0.5, 'citric acid')"
      ]
     },
<<<<<<< HEAD
     "execution_count": 10,
=======
     "execution_count": 14,
>>>>>>> b5350fabf639a6d6409adb331ad716e86bf1803a
     "metadata": {},
     "output_type": "execute_result"
    },
    {
     "data": {
<<<<<<< HEAD
      "image/png": "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\n",
=======
      "image/png": "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\n",
>>>>>>> b5350fabf639a6d6409adb331ad716e86bf1803a
      "text/plain": [
       "<Figure size 720x432 with 1 Axes>"
      ]
     },
     "metadata": {
      "needs_background": "dark"
     },
     "output_type": "display_data"
    }
   ],
   "source": [
    "#Composition of citric acid go higher as we go higher in the quality of the wine\n",
    "fig = plt.figure(figsize = (10,6))\n",
    "sns.barplot(x = 'quality', y = 'citric acid', data = wine)\n",
    "plt.xticks(fontsize=16, color='white')\n",
    "plt.yticks(fontsize=16, color='white')\n",
    "plt.xlabel('quality', fontsize=16, color='white')\n",
    "plt.ylabel('citric acid', fontsize=16, color='white')"
   ]
  },
  {
   "cell_type": "code",
<<<<<<< HEAD
   "execution_count": 11,
=======
   "execution_count": 15,
   "id": "ff58513e",
>>>>>>> b5350fabf639a6d6409adb331ad716e86bf1803a
   "metadata": {},
   "outputs": [
    {
     "data": {
      "text/plain": [
       "Text(0, 0.5, 'residual sugar')"
      ]
     },
<<<<<<< HEAD
     "execution_count": 11,
=======
     "execution_count": 15,
>>>>>>> b5350fabf639a6d6409adb331ad716e86bf1803a
     "metadata": {},
     "output_type": "execute_result"
    },
    {
     "data": {
<<<<<<< HEAD
      "image/png": "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\n",
=======
      "image/png": "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\n",
>>>>>>> b5350fabf639a6d6409adb331ad716e86bf1803a
      "text/plain": [
       "<Figure size 720x432 with 1 Axes>"
      ]
     },
     "metadata": {
      "needs_background": "dark"
     },
     "output_type": "display_data"
    }
   ],
   "source": [
    "fig = plt.figure(figsize = (10,6))\n",
    "sns.barplot(x = 'quality', y = 'residual sugar', data = wine)\n",
    "plt.xticks(fontsize=16, color='white')\n",
    "plt.yticks(fontsize=16, color='white')\n",
    "plt.xlabel('quality', fontsize=16, color='white')\n",
    "plt.ylabel('residual sugar', fontsize=16, color='white')"
   ]
  },
  {
   "cell_type": "code",
<<<<<<< HEAD
   "execution_count": 12,
=======
   "execution_count": 16,
   "id": "1701a4d7",
>>>>>>> b5350fabf639a6d6409adb331ad716e86bf1803a
   "metadata": {},
   "outputs": [
    {
     "data": {
      "text/plain": [
       "Text(0, 0.5, 'chlorides')"
      ]
     },
<<<<<<< HEAD
     "execution_count": 12,
=======
     "execution_count": 16,
>>>>>>> b5350fabf639a6d6409adb331ad716e86bf1803a
     "metadata": {},
     "output_type": "execute_result"
    },
    {
     "data": {
<<<<<<< HEAD
      "image/png": "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\n",
=======
      "image/png": "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\n",
>>>>>>> b5350fabf639a6d6409adb331ad716e86bf1803a
      "text/plain": [
       "<Figure size 720x432 with 1 Axes>"
      ]
     },
     "metadata": {
      "needs_background": "dark"
     },
     "output_type": "display_data"
    }
   ],
   "source": [
    "fig = plt.figure(figsize = (10,6))\n",
    "sns.barplot(x = 'quality', y = 'chlorides', data = wine)\n",
    "plt.xticks(fontsize=16, color='white')\n",
    "plt.yticks(fontsize=16, color='white')\n",
    "plt.xlabel('quality', fontsize=16, color='white')\n",
    "plt.ylabel('chlorides', fontsize=16, color='white')"
   ]
  },
  {
   "cell_type": "code",
<<<<<<< HEAD
   "execution_count": 13,
=======
   "execution_count": 17,
   "id": "3d00eba1",
>>>>>>> b5350fabf639a6d6409adb331ad716e86bf1803a
   "metadata": {},
   "outputs": [
    {
     "data": {
      "text/plain": [
       "Text(0, 0.5, 'free sulfur dioxide')"
      ]
     },
<<<<<<< HEAD
     "execution_count": 13,
=======
     "execution_count": 17,
>>>>>>> b5350fabf639a6d6409adb331ad716e86bf1803a
     "metadata": {},
     "output_type": "execute_result"
    },
    {
     "data": {
<<<<<<< HEAD
      "image/png": "iVBORw0KGgoAAAANSUhEUgAAAnkAAAF9CAYAAAB4cH4qAAAAOXRFWHRTb2Z0d2FyZQBNYXRwbG90bGliIHZlcnNpb24zLjMuMiwgaHR0cHM6Ly9tYXRwbG90bGliLm9yZy8vihELAAAACXBIWXMAAAsTAAALEwEAmpwYAAAlbElEQVR4nO3deZgcZbn38W8TCIiCEIgExRAExRdERYKKbEGRRWUV8HBYZDOiiPoqhoOorAIGcYPDkRzR4Am4oKAgOwKBgwQIUZSIIBAWAwMJIeyEhPT7x13zpqfT01M9XT1VXfP9XFdd1V1L9525IPnNU89SqVarSJIkqVxWyLsASZIkZc+QJ0mSVEKGPEmSpBIy5EmSJJWQIU+SJKmEDHmSJEkltGLeBRTR2muvXR03blzeZUiSJA3orrvuml+tVkfXHzfkNTBu3DhmzpyZdxmSJEkDqlQqjzQ67uNaSZKkEjLkSZIklZAhT5IkqYQMeZIkSSVkyJMkSSohQ54kSVIJGfIkSZJKyJAnSZJUQoY8SZKkEjLkSZIklZAhT5IkqYQMeZIkSSW0Yt4FSJIk5WnSpEn09PQwZswYJk+enHc5mTHkSZKkYa2np4e5c+fmXUbmDHklUdbfQiRJ0uAY8kqirL+FSJKkwXHghSRJUgkZ8iRJkkrIx7WSuoZ9TyUpPUOepK5h31NJSi+Px7XrAWcDtwEvAVVgXN01U5PjjbZ/pPiOh/u5d8/2SpckSeoOebTkbQTsB9wF3ALs1OCaU4Af1x0bB/wCuCzl91wDnFh37L60RUqSJHWzPELezcA6yesjaBzyHky2Wh9N9hek/J75wIyWq5MkSSqBPB7XLh3kfQcTrX+zM6xFkiSplLplCpWtice8aVvxAHYj+vwtIlr09sy+LEmSpGLqlpB3MLCY6JOXxuXA0cDOwAHAK8ClwIEdqU6SJKlgumEKlZWJgRp/IPrZpXF03ftLida804FpjW6oVCoTgYkAY8eOHVShkiRJRdENLXl7AGvQ2qPaeq8BFxPTt6zb6IJqtTqlWq2Or1ar40ePHt3GV0mSJOWvG0Lep4kWvCvb/JxKsq+2+TmSJEmFV/SQtw4xxcpFRJ+8wVoR2Bd4FOjJoC5JkqRCy6tP3j7JfotkvyswL9mm11x3AFFjs0e1S5Lzhyfv9yce8V4JPEYExaOS79o/g9olSZIKL6+Qd3Hd+3OT/XRgQs3xTwP3ALOafNaIZOs1B3gTcCYwiphG5U5gF2IVDEmSpNLLK+RVBr4EgPcM4rNmAB9urRxJkqRyKXqfPEmSJA1CN8yTJyknW5+9dd4l9DFy4UhWYAUeW/hYoWq79ehb8y5BkpZjS54kSVIJGfIkSZJKyJAnSZJUQoY8SZKkEjLkSZIklZAhT5IkqYScQkWS1K9JkybR09PDmDFjmDx5ct7lSGqBIU+S1K+enh7mzp2bdxmSBsHHtZIkSSVkyJMkSSohQ54kSVIJGfIkSZJKyJAnSZJUQo6uldQ1qqtWWcpSqqtW8y5FkgrPkCepayzeenHeJUhS1/BxrSRJUgkZ8iRJkkrIkCdJklRChjxJkqQSMuRJkiSVkCFPkiSphJxCRZIKZPp22+ddQh8vrzgCKhVe/te/ClXb9jdPz7sEqfBsyZMkSSohQ54kSVIJ+bhWkqQCmTRpEj09PYwZM4bJkyfnXY66mCFPkqQC6enpYe7cuXmXoRLwca0kSVIJGfIkSZJKKI+Qtx5wNnAb8BJQBcbVXTMuOd5oWyPFd6wAHAc8DLwC3A18ss26JUmSukYeIW8jYD/gGeCWAa49Hdiqbns+xXecApwInAPsCswALgY+NqiKJUmSukweAy9uBtZJXh8B7NTk2oeIgNaKNwHHAGcA302O3UiEyzOAK1v8PEmSpK6TR0ve0g5//s7ASGBa3fFpwGbABh3+fkmSpNwVfeDF6cAS4FngMiKkDWRTYBHwQN3x2cl+k8yqkyRJKqiizpO3CDgPuBaYB7wT+DrwJ+D9wL1N7h0FLCQGadRaUHN+OZVKZSIwEWDs2LGDLFuSJKkYitqS9wRwJHAJMTjjv4HtiOB2/AD3Vlg+4PUe71e1Wp1SrVbHV6vV8aNHj269YkkqoTWqVUZVq6xRbfTXqqQiK2pLXiOPAf8LbDnAdQuANVk+7K1Zc16SlMKBr3W6G7WkTilqS15/+mulqzUbWBnYsO54b1+8v2ddlCRJUtF0U8gbC2wN3D7AdVcDrwIH1B0/ELgHmJN9aZIkScWS1+PafZL9Fsl+V2KAxTxgOnAWEUBvS45tTKxgsRQ4re6zlgAXAIcn758Cvp9c/zwwC/gU8GFgj+z/KJIkScWTV8i7uO79ucl+OjCBeOT6OeAQYDVgPnADcBJwX929I5Kt1vHAC8CXgDHJPfsBl2dRvCRJUtHlFfKajnQFfppsg/2s14BTk03qiEmTJtHT08OYMWOYPHly3uVIktRHN42ulQqlp6eHuXPn5l2GJEkNddPAC0mSJKVkyJMkSSohQ54kSVIJGfIkSZJKyJAnSZJUQoY8SZKkEjLkSZIklZDz5EmShrVzvlqsxZAWzn/x/++LVNsXztot7xLUIlvyJEmSSsiQJ0mSVEKGPEmSpBIy5EmSJJWQIU+SJKmEWgl5bwG+B8wEHgLelRz/MvCBbMuSJElSO9KGvE2BvwEHAY8D6wMjk3PrA1/KvjRJkiQNVtqQdxZwL7ABsDdQqTn3J+CDGdclSZKkNqSdDHkbYH/gBWBE3bkngTFZFiVJkqT2pG3JW9rk3NrAyxnUIkmSpIykDXl3AIf2c24/4NZsypEkSVIW0j6uPQW4HrgWuAioAjsSAy72ArbrSHWSJEkalLQtedOBPYmBFz8lBl6cAWybHL+9A7VJkiRpkNK25AFckWwbAW8Cngbu60RRkiSpvL594D55l9DHgqeejX3PE4Wq7fhpv2nr/lZCXq8Hkk2SJEkF1SzkHdziZ/28nUIkSZKUnWYhb2rd+2qyrzQ4BoY8SZKkwmgW8jaoeb0eMar2CuCXxATI6xATJO+a7CVJklQQzULeIzWvf0iEu2Nrjt0H3Ax8B5hETKUiSZKkAkg7hcpHgOv6OXddcl6SJEkFkTbkLQLG93NuS+DVFr5zPeBs4DbgJaJf37i6az4CTAMeJJZMexD4L2LqljQeTj63ftuzhTolSZK6VtopVH4NnAi8BlzMsj55+wEnAOe38J0bJffdBdwC7NTgmiOBNwCnAg8BbwdOAnYG3g28kOJ7rklqruW8fpIkaVhIG/K+CqwGnE6sdNGrSgzI+GoL33kzERABjqBxyPs8MK/m/XTg/mS/H7HqxkDmAzNaqEuSJKk00oa8l4GDiDVsPwCsCzxBLGd2f4vfuTTFNfMaHLsz2b+lxe+TJEkadlpd8eJ+Wg91Wdk+2d+b8vrdiD5/I4A/Ey2Qv8u+LEmSpOJpFvLGEq11i5PXA3k0k4oaWw34ARHwfpfi+suJlr85xKPhLwCXEq2R0zpSoSRJUoE0C3lzgK2AO1g2WrWZERnVVG9F4BfEY9qtgSUp7jm67v2lRP+80+kn5FUqlYnARICxY9NkWkmSsvf6kav32UuD1SzkHUZMXdL7eqCQ1wkrABcAOwIfB/46yM/pHRX8HZb1J+yjWq1OAaYAjB8/Po8/qyRJbL3h3nmXoJJoFvIuqHk9tcN19OfHwKeAfYA/tvlZvWvuGuAkSVLppZ0MeaARrVu1W0gDZxFTrBxK+wMmVgT2JfoN9rT5WZIkSYWXdnTt3UTg+l3d8QrwTeAbwMgWvnefZL9Fst+VmDZlHjEX3rHAV4j58P4JfLDm3nkse4wM0UfvAuDw5P3+wB7AlcBjxMCLo5Lv2r+FGlUwj568Wd4l9LFkwShgRZYseKRQtY391t/yLkGSVABpQ941wG+B84jw9QrwVmIQw1bEahStuLju/bnJfjowgQh9EH0BD6u79gLgkJr3I+g76GMOsfzZmcAoYhqVO4Fdkj+HJElS6aUNeQcA1wE/ArYjBiicCCxM3re6skRlgPMT2visGcCHW6pGkiSpZNL2yYMYfLEtsCHwfeABYh1Zlw6TJEkqmFZC3ruJdWoXE61644HTaK0vniRJkoZA2pB3NLFO7YvA5kT/tt6Rr3cC/6cj1UmSJGlQ0oa8HxD98T7EspGtPyVGrC4GZmZemSRJkgYt7cCLnYHrGxy/nxhde1pmFUmSJKltaUNeb8CrAJsQU5M8DdxLtOR9LfvSJEmSNFitDLw4gljz9a/ATcDfgMdZNgmxJEmSCqKVefKmEOvHTiOWBhtTc/wl4BedKFCSJEmtSxvyJgEXAgfVHb8A+B9iGTJDniRJUkGkfVy7MdGC18i05LwkSZIKIm3Iex5Yr59z6yXnJUmSVBBpQ95VxDQp29Yd3wo4NTkvSZKkgmilT94HiVG1c4lRtmOIVrwHkvOSJEkqiLQhrwd4L3AY0Zo3CngYmA5MJUbXSpIkqSDShjyIIHdOskmSJKnAWpkMWZIkSV2iWUveQ8BewN3AHKDa5NoqsGGGdUmSJKkNzULedOC5mtfNQp4kSZIKpFnIO7Tm9SEdrqPrbPG1n+ddQh+rzX+eEcCj858vVG13nXlw3iVIkjQs2SdPkiSphJq15LXaBFOc5iNJkqRhrlnIm1r3vrdPXqXBMTDkSZIkFUazkLdBzev1gIuAK4BfAk8C6wD7A7sme0mSJBVEs5D3SM3rHxLh7tiaY/cBNwPfIZY12yvz6iRJkjQoaQdefAS4rp9z1yXnJUmSVBBpQ94iYHw/57YEXs2mHEmSJGUh7dq1vwZOBF4DLmZZn7z9gBOA8ztRnCRJkgYnbcj7KrAacDpwRs3xKjEg46sZ1yVJkqQ2pA15LwMHAacAHwDWBZ4Abgfu70xpkiRJGqy0Ia/X/RjqJEmSCi+PZc3WA84GbgNeIh75jmtw3ZrAT4D5wIvA9cBmKb9jBeA44GHgFeBu4JNt1CxJktRV8gh5GxEDNp4BbunnmgpwGbALcDQR0FYCbiRC4kBOIQaKnENM1jyDGDDysTbqliRJ6hqtPq7Nws3EyFyAI4CdGlyzO7AN8GEi2EG0/M0hJl7+YpPPfxNwDDFA5LvJsRuJcHkGcGUbtUuSJHWFPFrylqa4ZnfgcZYFPIBngcuBPQa4d2dgJDCt7vg04nHvBsvdIUmSVDJpQt5I4EvAuzpcS61NgXsaHJ8NjAXeMMC9i4AHGtwLsEnb1UmSJBVcmpD3KvGYc1SHa6k1iuizV29Bsl9zgHsXEgM6Gt3b8M9RqVQmViqVmZVKZea8efNaKFWSJKl40j6uvRd4WycLqVNh+ZDWe7wj91ar1SnVanV8tVodP3r06BRfI0mSVFxpQ963gG+SfgqTdi2gcYtbbwteo1a+2nvXZPlQt2bNealta6+ylHVet4S1V0nTzVSSpKGVdnTtsUQ/uD8Tc889Qd/WsiqwfYZ1zabxqNtNgEeBFwa4d2VgQ/r2y+vti/f3LAqUjnn3wrxLkCSpX2lb8l4jwtEtwGPAkuRY75Z1U8ZlwFvoGxxXB3ZLzjVzNdGP8IC64wcSgznmZFSjJElSYaVtyZuQ8ffuk+y3SPa7AvOSbToR5G4jpj35GvF49jjiEezkus9aAlwAHJ68fwr4fnL988As4FPEnHsDTb8iSZJUCnlMhgyx+kStc5P9dCJQLgU+QUxmfC6wChH6diBaEmuNSLZaxxOPdL8EjAHuI1bZuDyT6iVJkgoubcjbLsU1N7fwvWlGyS4ADku2Vj/rNeDUZJMkSRp20oa8m2g8LUmt+tY0SZIk5SRtyNuhwbG1iEeq2wNfyKwiSZIktS1tyJvez/FLiEEOuwFXZVKRJEmS2pZ2CpVmriAGNUiSJKkgsgh5G5P9PHmSJElqQ9rHtQc3ODYSeBcxP90lmVUkSZKktqUNeVP7Ob4I+BUxH50kSZIKIm3I26DBsVeAJzOsRZIkSRlp1idvFrBp8vrTwGLgkZrNgCdJklRQzULeZsAbktcnAOt1vhxJkiRlodnj2seBPYkWuwqxBuzYJtc/ml1ZkiRJakezkHcesfbrJGJJs0sH+CyXNZMkSSqIZiHvNOA6YBPgZ8DpwENDUZQkSZLaM9Do2juT7RDgf4B/dLogSZKkobTKiBX67Msi7RQqO3S0CkmSpJxsvtZqeZfQEc1CXqNVLpr5eTuFSJIkKTvNQt7UFj6niiFPkiSpMJqFvEarXEiSJKkLNAt5jwxZFZIkScpUuYaRSJIkCUg/unYO0e+umbe1WYskSZIykjbkTWf5kLcW8CHgBeCGLIuSJElSe9KGvEP6Ob4GcDVwfRbFSJIkKRvt9slbCJwJfKv9UiRJkpSVLAZevAKsl8HnSJIkKSNpH9f2d++7gBOB2ZlUI0mSpEykDXlL6X907XPAx7MpR5IkSVlIG/JOZvmQ9woxYfJVwLNZFiVJkqT2pA15J3ayCEmSJGWrnYEXmwCfBN6cUS2SJEnKSNqQdw7w45r3ewN3AxcDfwe2zLgugJuIR8SNtqsHuLe/+97bgTolSZIKJ23I2xX4U837k4A/AO8B7gBOyLgugM8DW9VtX0nOXZbi/qkN7r8/8yolSZIKKG2fvDHAw8nr9YBNgcOBvwE/As7PvLJoIaz3GeBV4Jcp7p8LzMi0IkmSpC6RtiXvZeANyevtiWlTZibvXwBWy7iuRl4H7AtcDiwYgu+TJEnqWmlD3izgKGLy46OA64i58wA2AJ7IvrTl7E2EyQtSXv85YBHwEnADsG2H6pIkSSqctCHveOCDxGCLjYFTas7tSfTL67SDgaeIefkGMo3o07cjMBFYiwh6E/q7oVKpTKxUKjMrlcrMefPmtV+tJElSjtL2ybsTGAu8E/gn8bi215TkWCe9mQhsPwSWpLj+oJrXtwC/B+4BTgW2aXRDtVqdQvxZGD9+fH+re0iSJHWFVtaufRG4q8HxKzKqpZkDiVbHtI9q6z1P1Hl4ZhVJkiQVWDuTIQ+lg4lHxXe38RkV+l9/V5IkqVS6IeSNJ6ZsGWwrHsDqwMeB2zOpSJIkqeBaeVybl4OJfngXNTi3PvAgcHKyARxDDA65EXg8ueYYYq6/AzpdrCRJUhEUPeStBOxPLGP2ZIPzFWAEfVsk7wP2SrY3EoNEbiX64w3FKGBJkqTcFT3kLQZGNzn/MBH0al2ebJIkScNWK33y3gJ8j1jp4iFiYmSALwMfyLYsSZIktSNtyNuUWKf2IJb1cxuZnFsf+FL2pUmSJGmw0oa8s4B7iSXM9qbvI9I/EathSJIkqSDS9snbhhgA8QIx0KHWk8TIVUmSJBVE2pa8pU3OrQ28nEEtkiRJykjakHcHcGg/5/YjpiiRJElSQaR9XHsKcD1wLTEpcRXYkRhwsRewXUeqkyRJ0qCkbcmbDuxJDLz4KTHw4gxg2+S4y4VJkiQVSCuTIV+RbBsBbwKeJlaXkCRJUsEMZsWLB5JNkiRJBdXKihebA5cA84ElwPuS46cBu2RclyRJktqQNuRtA9wGvJMYeFF731LgyIzrkiRJUhvShrwzgGuI5c2+UnduFsta9SRJklQAafvkvY9YzqyabLXmA6OzLEqSJEntSduS9wqwaj/n1gWezaYcSZIkZSFtyPtf4Mv0Xbe2t0XvcOCGDGuSJElSm9I+rv0msXTZ3cBviID3aeB7wBbAlh2pTpIkSYOStiXvbmJ1iyeB44kVL76QnNseJ0WWJEkqlDQteSsBHwP+CnwEWAUYBSwEXupYZZIkSRq0NC15i4FfA+OS968Aj2PAK5SlI1/PayuvztKRr8+7FEmSVABp++Q9RKxXq4J68e075V2CJEkqkLR98iYTffGcD0+SJKkLpG3J+zDRD28OMAN4gr6TIveOtpUkSVIBpA152xJ98+YBGyZbrfpVMCRJkpSjtCFvXCeLkCRJUraa9clbQKxZC/BTYIPOlyNJkqQsNAt5rwdWTl4fgoMuJEmSukazx7WPAJ9hWdDbnJgIuT83Z1WUJEmS2tMs5J0BnEeMmq0C5/ZzXSU5PyLb0iRJkjRYzULeT4GrgHcANwJfBO4diqISE5LvrfcssMYA964CnAIcmFz7F+BYbG2UJEnDxECja59ItguAK4h58obaF4E7a94vSXHP+cDHga8Rq3UcBVwDbEUEPkmSpFJLO4XKoR2torl7iQmY03oP8O/AYcDPkmPTgdnAycDumVYnSZJUQGmXNesmuxMTN/+q5tgS4JfAziwbSCJJklRa3RDyLgReA54GLgLGDnD9psRj5Zfqjs8GRgIbZV2gJElS0aR9XJuHZ4GziEetzxFTuHwduC15/VQ/940CnmlwfEHNeUmSpFIrcsj7c7L1mk6Mjr2DGIzxjX7u653SpdHxflUqlYnARICxYwdqLJQkSSq2bnhcW2sWcD+wZZNrFtC4tW7NmvPLqVarU6rV6vhqtTp+9GgX95AkSd2t20Ie9N9S12s2sc7uqnXHNwFeBR7oUF2SJEmF0W0hbzwxOfPtTa65DFgJ2Lfm2IrAp4BrgUUdq06SJKkgitwn70JilOwsYCEx2OI4YC5wdnLN+sCDxPx3JyfH/kJMn/IDIuzNAT5HtO4dMBSFS5Ik5a3IIe8eYH/gaOLRaw9wCXACMD+5pkKsmVvfInko8G3gVGJZs7uBXYjAKEmSVHpFDnmnJ1szD9N41OzLwFeSTZIkadjptj55kiRJSsGQJ0mSVEKGPEmSpBIy5EmSJJWQIU+SJKmEDHmSJEklZMiTJEkqIUOeJElSCRnyJEmSSsiQJ0mSVEKGPEmSpBIy5EmSJJWQIU+SJKmEDHmSJEklZMiTJEkqIUOeJElSCRnyJEmSSsiQJ0mSVEKGPEmSpBIy5EmSJJWQIU+SJKmEDHmSJEklZMiTJEkqIUOeJElSCRnyJEmSSsiQJ0mSVEKGPEmSpBIy5EmSJJWQIU+SJKmEDHmSJEklVNSQtw/wW+AR4GXgPuB0YLUU91b72d7biUIlSZKKaMW8C+jHMcCjwNeBfwGbAycCOwAfApYOcP9U4Ly6Y/dnWqEkSVKBFTXk7QbMq3k/HVgAXABMAG4Y4P65wIyOVCZJktQFivq4dl6DY3cm+7cMZSGSJEndqKghr5Htk/29Ka79HLAIeIlo9du2U0VJkiQVUbeEvLcAJwPXAzMHuHYa8HlgR2AisBYR9CY0u6lSqUysVCozK5XKzHnzGjUkSpIkdY9uCHlvAH4PLAEOTXH9QcCvgFuIwLcN8DhwarObqtXqlGq1Or5arY4fPXp0exVLkiTlrOghbxXgMuBtwM7ESNtWPQ9cAWyZYV2SJEmFVtTRtQArEXPlvZ949Pq3Nj6rQsyVJ0mSNCwUNeStAFwIfAT4OO1Nh7J68hm3Z1CXJElSVyhqyPtPYF/g28CLwAdrzv0r2dYHHiQGZJycnDsG2Bi4keiHt35ybAxwwFAULkmSVARFDXm7Jvvjk63WScTqFxVgBH37Fd4H7JVsbwSeA24FDgfu6Fy5kiRJxVLUkDcuxTUPE0Gv1uXJJkmSNKwVfXStJEmSBsGQJ0mSVEKGPEmSpBIy5EmSJJWQIU+SJKmEDHmSJEklZMiTJEkqIUOeJElSCRnyJEmSSsiQJ0mSVEKGPEmSpBIy5EmSJJWQIU+SJKmEDHmSJEklZMiTJEkqIUOeJElSCRnyJEmSSsiQJ0mSVEKGPEmSpBIy5EmSJJWQIU+SJKmEDHmSJEklZMiTJEkqIUOeJElSCRnyJEmSSsiQJ0mSVEKGPEmSpBIy5EmSJJWQIU+SJKmEihzy3gr8BngWeA64BBib8t5VgDOBJ4CXgduA7TpQoyRJUiEVNeStCtwAvBP4NHAQ8HbgRuD1Ke4/H/gM8C3gE0TYuwZ4bwdqlSRJKpwV8y6gH58B3gZsDDyQHPsr8E/gs8D3mtz7HuDfgcOAnyXHpgOzgZOB3TtQryRJUqEUtSVvd2AGywIewBzgVmCPFPcuBn5Vc2wJ8EtgZ2Dl7MqUJEkqpqKGvE2Bexocnw1skuLeOcBLDe4dCWzUdnWSJEkFV9SQNwp4psHxBcCabdzbe16SJKnUitonD6Da4FglxX2VwdxbqVQmAhOTty9UKpX7UnxX0awNzM+7iFqV73467xI6rXA/c05I879JVyvcz7zyRX/mQ67iz3yoHd2sN3w5FO5n/o0LU/93vn6jg0UNec/QuMVtTRq30tVaQOOpVtasOb+carU6BZiStsAiqlQqM6vV6vi86xhO/JkPPX/mQ8+f+dDzZz70yvgzL+rj2tlE37p6mwB/T3HvBsQ0LPX3vkrfwRySJEmlVNSQdxnwQWIalV7jgK2TcwPduxKwb82xFYFPAdcCizKrUpIkqaCKGvL+G3gY+D0xZcruyevHgPNqrlufmB7lWzXH/kJMn/ID4AjgI8T0KRsAJ3S06vx19ePmLuXPfOj5Mx96/syHnj/zoVe6n3mlWm00RqEQxgLfBz5KDJr4I/BlIvz1GkdMl3IScGLN8dcB3yYmRV4DuBs4Fripg/VKkiQVRpFDniRJkgapqI9rlc7OxBq/PURfw38Bv2bgCaOVrauJaXtOzbuQkppA/Hzrt4X5lTRsfAy4GXgBeA6YCXw414rK6yYa/3deJf6OUWdsTfTXf4r4b3wWsSxqKRR1ChWlMwq4CzgXmEc84v4PYkm4zYBH8itt2NifWC9ZnfdF4M6a90vyKmSY+CxwTrKdQjQKvJflZy5QNj4PrF53bCtirfaBBhxqcN4NXE/8m/kZYqWsfYDziSVQ/yu/0rLh49ry2Rj4B3AMcFbOtZTdGsTP+v8CFxH9QL+RZ0ElNQG4keife32+pQwb44B7geOIQWzKx/nAgcC69DPHq9pyGvFv5SiitbrXDKIFdas8isqSj2vL5+lkvzjXKoaHycS8jL/IuxApY4cBS4Ef513IMPY6YiqwyzHgdcpI4t/Kl+uOL6Qk+agUfwgxgviP9e3EFDM9xLQx6pxtgIOJRywaGhcCrxG/yFxE45VtlI1tiFbqfwMeJB6NPwAclWdRw8zewGrABXkXUmJTk/2PgDcTT2c+Q0y99v18SsqWffLK4XZgi+T1A0TH6KfyK6f0ViLC9HeBblzjuNs8S3Q9mE50jN4c+DpwW/La/9az9+ZkO5P4WT9ItCqdQ/y78cP8Shs2Dib+274q70JK7B6iO8ilLPuFfTFwJCVpKDHklcNBRIfdtxH9C64jfhN/OMeayuxYls3FqM77c7L1mk6M+LyDGIxhP8jsrUC0Ih0CXJIcu4Hoq3cc0fJhh+7OeTOwIxGmHWDUOW8Hfkt0uzmSeGy7B9FN4RXi6UFXM+SVw73J/nbit76HiVG2R+ZVUImNBY4nVlNZOdl6rUw09z9PPFZU58wC7ge2zLuQknqa+Afwurrj1wK7EAMBHh/qooaRA4mg7aPazjqNaLn7BMv6sf8RWIsI2L8g+qZ2Lfvklc9C4pHtRjnXUVZvA1YBpgHP1GwQrajPENPXqPMq2JrUKbP7OV5J9l39D18XOJhYqenuvAspuc2In3H9QMU7iKD3piGvKGOGvPJZB3gn0YdG2fsLsEODDSL47UCEbHXWeOAdROu1sndpst+57vjOxKTrPUNbzrAyHtgUW/GGQg8x9+PIuuMfIB7Xdv2oZh/XdrdLicdWfyU6pL+DmLNtCc6R1ykL6X8N5EeanNPgXUisUT2L+PlvTvQLmwucnV9ZpXYlMTfhecDawEPEJLE7AYfmWNdwcDDxd/hFeRcyDJwDXExMU3Mu0Sdvd2KS++8Dr+ZXWjacDLm7HQvsB2xI/CbyGBEyTsdBF0OtipMhd8pxxF+66xOrLfQQfU9PAJ7Isa6yW534u2QfYE1iSpUzMHx00kpEX8cZwG451zJc7Er8W7op0RXnQWAK8QtO1/etNuRJkiSVkH3yJEmSSsiQJ0mSVEKGPEmSpBIy5EmSJJWQIU+SJKmEDHmSJEklZMiTpHyMI+ZXPKTm2FT6znE5DjiRWE5PklpiyJOk4jgF2Kvm/Thi0mdDnqSWuayZJBWHa05LyowteZIU/o1YumsRMJtoUbuJZesRH0I8Xh1Xd9+JyfFaXwBuIxY4X0gsU/XxFDVMZdnj2gnE+rEA1yXfUU2O/4FYy7feBsBS4LMpvktSyRnyJAl2JNZk/SewN3Am8ENg40F+3jjgJ8C+wKeAmUQw27WFz5gFHJW8/iKwVbLNIhZT3xx4f909E4EXcX1ZSfi4VpIATiJa8fYgWsIA7iVa4O4bxOcdU/N6BeCPwDuAI4GrUn7Gc8Df62rpdTXwENFid0dybCXgUOBC4PlB1CypZGzJkzTcjQC2BH7DsoAHcDt9R7q2Ygui5e5JYAmwGPgog28ZrLcUOI94xPzG5NiewDrJcUky5Eka9tYmWsGebHCu0bGBvJVouRsFHA18iAiRVwOrDLLGRs4n/g4/KHl/JNGq9+cMv0NSF/NxraThbj7R0rZOg3PrAI8kr19J9iPrrlmr7v0uROvafsC/ao6v2l6Zy3kauJh4ZHsNsANwRMbfIamL2ZInabh7DbgT2Ie+fyd+gL4jaXvD3rtqjq0I7FT3eb1hbnHNsXcAWw+itkXJ/nX9nD83qecnRB++Xw7iOySVlC15khQTDl8L/I7o0zaaGIzRU3PNncQ8dmcSYXAR8Hlg5brPup7oh/dz4Cxg3eSzHqX1X6zvTz7rMGI6lkXEQJDegRUziNG22wFnAy+1+PmSSsyWPEmKYHYAMTDiEuBrwJfpO7J2CTH69jFiPrv/JOavm1r3WbOTz1ofuAyYBPwHcPMg6nqamHPvPcB0ImhuUXfNb5K9Ay4k9VGpVuvn8JQkJW5K9hNyrGEgtxKjbbfNuxBJxeLjWknqPisD7yMmcf4Q0cIoSX0Y8iSp+6wL/IlYMu004rGwJPXh41pJkqQScuCFJElSCRnyJEmSSsiQJ0mSVEKGPEmSpBIy5EmSJJWQIU+SJKmE/h98G5qMSV5PtAAAAABJRU5ErkJggg==\n",
=======
      "image/png": "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\n",
>>>>>>> b5350fabf639a6d6409adb331ad716e86bf1803a
      "text/plain": [
       "<Figure size 720x432 with 1 Axes>"
      ]
     },
     "metadata": {
      "needs_background": "dark"
     },
     "output_type": "display_data"
    }
   ],
   "source": [
    "fig = plt.figure(figsize = (10,6))\n",
    "sns.barplot(x = 'quality', y = 'free sulfur dioxide', data = wine)\n",
    "plt.xticks(fontsize=16, color='white')\n",
    "plt.yticks(fontsize=16, color='white')\n",
    "plt.xlabel('quality', fontsize=16, color='white')\n",
    "plt.ylabel('free sulfur dioxide', fontsize=16, color='white')"
   ]
  },
  {
   "cell_type": "code",
<<<<<<< HEAD
   "execution_count": 14,
=======
   "execution_count": 18,
   "id": "3c18a479",
>>>>>>> b5350fabf639a6d6409adb331ad716e86bf1803a
   "metadata": {},
   "outputs": [
    {
     "data": {
      "text/plain": [
       "Text(0, 0.5, 'total sulfur dioxide')"
      ]
     },
<<<<<<< HEAD
     "execution_count": 14,
=======
     "execution_count": 18,
>>>>>>> b5350fabf639a6d6409adb331ad716e86bf1803a
     "metadata": {},
     "output_type": "execute_result"
    },
    {
     "data": {
<<<<<<< HEAD
      "image/png": "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\n",
=======
      "image/png": "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\n",
>>>>>>> b5350fabf639a6d6409adb331ad716e86bf1803a
      "text/plain": [
       "<Figure size 720x432 with 1 Axes>"
      ]
     },
     "metadata": {
      "needs_background": "dark"
     },
     "output_type": "display_data"
    }
   ],
   "source": [
    "fig = plt.figure(figsize = (10,6))\n",
    "sns.barplot(x = 'quality', y = 'total sulfur dioxide', data = wine)\n",
    "plt.xticks(fontsize=16, color='white')\n",
    "plt.yticks(fontsize=16, color='white')\n",
    "plt.xlabel('quality', fontsize=16, color='white')\n",
    "plt.ylabel('total sulfur dioxide', fontsize=16, color='white')"
   ]
  },
  {
   "cell_type": "code",
<<<<<<< HEAD
   "execution_count": 15,
=======
   "execution_count": 19,
   "id": "16db45b7",
>>>>>>> b5350fabf639a6d6409adb331ad716e86bf1803a
   "metadata": {},
   "outputs": [
    {
     "data": {
      "text/plain": [
       "Text(0, 0.5, 'sulphates')"
      ]
     },
<<<<<<< HEAD
     "execution_count": 15,
=======
     "execution_count": 19,
>>>>>>> b5350fabf639a6d6409adb331ad716e86bf1803a
     "metadata": {},
     "output_type": "execute_result"
    },
    {
     "data": {
<<<<<<< HEAD
      "image/png": "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\n",
=======
      "image/png": "iVBORw0KGgoAAAANSUhEUgAAAm8AAAF9CAYAAABSwI+FAAAAOXRFWHRTb2Z0d2FyZQBNYXRwbG90bGliIHZlcnNpb24zLjMuNCwgaHR0cHM6Ly9tYXRwbG90bGliLm9yZy8QVMy6AAAACXBIWXMAAAsTAAALEwEAmpwYAAAjlElEQVR4nO3dfbhUdb338fcSQ8VHUMw6R9iSpkF6etiWhSV6Mu0J7tLSu5NgFugpM8+dkh3NpzzWQdNKexDzyjKtTt52Sx0zA9HOxYlqa0VuS8VEkNqFgqBkBLLuP35rH2YPazMzm5m15jf7/bquuWb2b9Za82Uuhc/+Pa0kTVMkSZIUhx3KLkCSJEn1M7xJkiRFxPAmSZIUEcObJElSRAxvkiRJETG8SZIkRWTHsgso0j777JN2dXWVXYYkSVJN991335Npmo6tbh9W4a2rq4uenp6yy5AkSaopSZLH89odNpUkSYqI4U2SJCkihjdJkqSIGN4kSZIiYniTJEmKiOFNkiQpIoY3SZKkiBjeJEmSImJ4kyRJiojhTZIkKSKGN0mSpIgY3iRJkiIyrG5ML0mSho/Zs2fT19fHfvvtx5w5c8oup2kMb5IkqSP19fWxcuXKsstoOodNJUmSImJ4kyRJiojhTZIkKSJlhLf9gVuBtcA64DZgXJ3njgO+DiwH/gI8DFwG7Nr8MiVJktpP0QsWRgF3AxuAGUBKCF8LgcOA9ds4d1dgPvAC4JOEAHc4cAlwEHBSy6qWJElqE0WHt5nABOBgYGnWtgR4BDgduGob504mhLTjgLuytoXAGOAcQjD8S/NLliRJah9FD5tOBRazJbgBPAYsAqbVOHdk9ryuqv1pwp8jaUJ9kiRJba3o8DYJeCCnvReYWOPc+YQeun/Pjt0NOAb4KPAVtj3kKkmS1BGKDm9jgDU57auB0TXO/StwJKHmXuAZYAHwA+DMwU5KkmRWkiQ9SZL0rFq1akhFS5IktYsyVpumOW31DHnuDHwH2Bc4BTgKOJewUOGLg35Yms5N07Q7TdPusWPHDqFcSZKk9lH0goU1hN63aqPJ75Gr9AFgCnAg8GjW9hPCliNzCUOnv25KlZIkSW2q6J63XsK8t2oTgQdrnHsoIeA9WtX+8+z5ZdtXmiRJUvsrOrzNA44gbBfSr4uwDci8Guf2EXroDqxqf2323Hl3npUkSapSdHi7HlgG3E7YGmRq9noFcF3FceOBTcCFFW03EhYp3EHY4Pdowpy3K4H7CNuNSJIkdbSiw9t6wvYeDwM3ATcT9nk7Bni24rgEGFFV3zJCr92vCHdluIOw6e9c4Fhgc0srlyRJagNFL1iAcFurE2ocs4z8FagPAu9pdkGSJEmxKGOrEEmSJA2R4U2SJCkihjdJkqSIGN4kSZIiUsaCBUmS1IH+7X0nll3CAKv/vDY89/2xrWo7/5u3btf59rxJkiRFxJ43SZIKMHv2bPr6+thvv/2YM2dO2eUoYoY3SZIK0NfXx8qV3slR289hU0mSpIgY3iRJkiJieJMkSYqI4U2SJCkihjdJkqSIGN4kSZIi4lYhkqSOdO3Hvl92CQM8/eT6/3lup9rO/Ow7yi5BDbLnTZIkKSKGN0mSpIgY3iRJkiJieJMkSYqI4U2SJCkihjdJkqSIGN4kSZIi4j5vkiQVYNeRewx4lobK8CZJUgEmv+RdZZcw7Ow8YocBz52ijD/N/sCtwFpgHXAbMK6O8y4G0kEef21FoZIkKV6v3Ht3Xrfvnrxy793LLqWpiu55GwXcDWwAZhCC12XAQuAwYP02zv0qcGdV265Z27ymVypJktSGig5vM4EJwMHA0qxtCfAIcDpw1TbOfSJ7VDqF8Gf4enPLlCRJak9FD5tOBRazJbgBPAYsAqYN4XozgD8BP9r+0iRJktpf0eFtEvBATnsvMLHBa/09cDRwM7BpO+uSJEmKQtHhbQywJqd9NTC6wWudQqjfIVNJkjRslLHaNM1pS4ZwnenALwlz5gaVJMmsJEl6kiTpWbVq1RA+RpIkqX0UHd7WEHrfqo0mv0duMK8BDqGOXrc0Teemadqdpmn32LFjG/gISZKk9lN0eOslzHurNhF4sIHrzCDMc7ulGUVJkiTFoujwNg84grBdSL8uYDL179U2EjgZuANwHFSSJA0rRYe364FlwO2ErUGmZq9XANdVHDee0LN2Yc413k4YenWhgiQN0ezZs5k+fTqzZ88uuxRJDSp6k971wDHA1cBNhIUKC4CzgWcrjkuAEeSHyxmE1ak/aGWhktTJ+vr6WLlyZdllSBqCMm5Mvxw4ocYxyxh8BepQNvOVJEnqCGVsFSJJkqQhMrxJkiRFpIxhU0kadu5941FllzDAczuOgCThuSeeaKvajvrJvWWXILU9w5tUZfbs2fT19bHffvsxZ86cssuRJGkAw5tUxVV4kqR25pw3SZKkiBjeJEmSImJ4kyRJiohz3iRpGNorTQc8S4qH4U2ShqH3Pb+57BIkDZHDppIkSRGx563NueeYJEmqZHhrc+45JkmSKjlsKkmSFBHDmyRJUkQMb5IkSRExvEmSJEXEBQuSSueqakmqn+FNUulcVS1J9XPYVJIkKSKGN0mSpIgY3iRJkiJieJMkSYqICxakYWjyNZPLLmGAkU+PZAd2YMXTK9qqtkUfWVR2CZK0FXveJEmSIlJGeNsfuBVYC6wDbgPGNXD+y4DvAk8CzwEPAR9tco2SJEltqehh01HA3cAGYAaQApcBC4HDgPU1zu/Ozr8H+CAhAB4E7NaaciVJktpL0eFtJjABOBhYmrUtAR4BTgeu2sa5OwBfBxYA76xoX9j8MiVJktpT0cOmU4HFbAluAI8Bi4BpNc6dAkxk2wFPUoTSUSmbd91MOiotuxRJantFh7dJwAM57b2EYLYtR2bPOxMC4Ebgz8AXgF2aVaCk4m2cvJG/Hfs3Nk7eWHYpktT2ig5vY4A1Oe2rgdE1zn1x9vwd4C7gWGAOYe7bLc0qUJIkqZ2Vsc9b3rhIUsd5/UHzm8CF2et7gBHAZwg9dw9udeEkmQXMAhg3rpFFrZIkSe2n6PC2htD7Vm00+T1ylZ7Knn9c1X4XIby9gpzwlqbpXGAuQHd3txNq2tDySw8tu4QBNq0eA+zIptWPt1Vt4y78TdklSJLaQNHDpr2EeW/VcnvNcs6FrXvu+nvtNm9HXZIkSVEoOrzNA44gbBfSrwuYnL23LT8k7A93fFX7cdlzTxPqkyRJamtFh7frgWXA7YStQaZmr1cA11UcNx7YxJa5bRCGTT8NnAFcDrwJOC875usM3H5EkiSpIxU95209cAxwNXATYchzAXA28GzFcQlhIUJ1uLwUeAb4EHAO8EfgCuBTrSxakiSpXZSx2nQ5cEKNY5aRvwI1JWzS60a9kiRpWCrjxvSSJEkaIsObJElSRAxvkiRJETG8SZIkRaSMBQtt7dXnfqPsEgbY/clnGAEsf/KZtqrtviuml12CJEnDkj1vkiRJETG8SZIkRcTwJkmSFBHDmyRJUkQMb5IkSRExvEmSJEXE8CZJkhQRw5skSVJEDG+SJEkRMbxJkiRFxNtjSVX22XkzsCl7liSpvRjepCrnHPZ02SVIkjQoh00lSZIiYniTJEmKiOFNkiQpIo2Et2nA+yt+Hg/8FHgGuBXYrYl1SZIkKUcj4e0CYGzFz1cBfw/MBd4IXNy8siRJkpSnkfD2EmBJ9noX4K3A/wE+Bvwr8M7mliZJkqRqjYS3nYHnstevJ2wzclf280PAi5tYlyRJknI0Et6WAUdmr6cB9wFrs5/3rXgtSZKkFmkkvF1HmNfWA3wIuKHivdcBD9Z5nf0JCxzWAuuA24BxdZ6bDvJ4RZ3nS5IkRa2ROyx8HngSOAL4AvCNivd2B26s4xqjgLuBDcAMQvC6DFgIHAasr+MaNxKCZKWH6zhPkiQpeo3eHuvm7FHt9DrPnwlMAA4GlmZtS4BHsmtcVcc1VgKL6/w8SZKkjtLoJr0JMBW4EvgaYa83gKOob8HCVELwWlrR9hiwiDCPTlU2j9yV53fag80jdy27FEmS1AYa6XkbDdwBvJYwV2134BrgcUKP2mrgrBrXmATcntPeC7y7zjr+GTgXeJ4QBC8C/qvOc6Oz/qA3l12CJElqI430vF1BWGwwGdiH0AvXbz7wj3VcYwywJqd9NSEc1vJNwmKJNwGzgL0Jc+imDHZCkiSzkiTpSZKkZ9WqVXV8hCRJUvtqpOdtGnAO4ZZYI6reW04IdvVIc9qSnLY8p1S8/i9CL94DhEUPR+adkKbpXMJdIOju7s77bEmSpGg00vO2G2GxQJ6dqS+ArSH0vlUbTX6PXC3PAP8JHD6EcyVJkqLTSHh7CBhsAtZRwG/quEYvYd5btYnUv09ctYT83jxJkqSO00h4+yJwNnA+WzbV3Qt4P3Bm9n4t8wj7xE2oaOsizKOb10At/fYA3gb8bAjnSpIkRaeROW/XE25Ofwlwadb2Y2AzMIf8/d/yrnEmYa7aBYQes08BKxi48e544NHsc/o/6xzC/nALgT9kx5wD7Af8UwN/DkmSpGg1uknvecCXgWMJ9zN9ihDgfl/n+euBY4CrgZsIQ54LCD16z1YclxAWRVT2DD4EvDN77EnYrmQR8AHg5w3+OSRJkqLUSHh7I3A/YV+3r1a9txvwKuAndVxnOXBCjWOWsfUCiO9nD0mSpGGrkTlvCwkLC/L0D2dKkiSphRoJb9vaCmQnwh0PJEmS1EK1hk27GLgytJswRFppF+A0wnCoJEmSWqhWeJtBuHdomj2uYWAPXJr9vAn4cCsKlCRJ0ha1wtuNwD2EgHY3IaBVb6a7AXiYcH9SSZIktVCt8PZ49gA4GriPgVt6SJIkqUCNbBVyb8uqkCRJUl0a3aT3OOAMwtYgO1e9lxLuwCBJkqQWaWSrkLcCdwCjgEOA3xFWmO5PuEVWPRv0SpIkaTs0Et4+Sbj5/Fuzny8ApgCTCLey+mFTK5MkSdJWGglvhxBuT7WZMETaP+T6MHAxIdxJkiSphRoJb5sJ+7mlwCpgXMV7f8D5bpIkSS3XSHh7iHDHBYAe4GzgRcBY4GOEm8lLkiSphRpZbXoz8LLs9UXAfOCJ7Ofngfc2sS5JkiTlaCS8fbHi9X3AocBbCPc2nc/Wd16QJElSkzW6z1ulJ4Drm1WIJEmSahtqeNuXrTfphbDvmyRJklqkkfC2B/B54CRgp0GOGbHdFUmSJGlQjc55OwG4AfgNsKElFUmSJGlQjYS344BzGbhwQZIkSQVqZJ+3hLDXmyRJkkrSSHj7NvCOVhUiSZKk2moNmx5T8fou4HPA7sAdwOqc4+9uTlmSJEnKUyu8zSfcyzSpeD4AOLXimMr3XW0qSZLUQrXC29GFVCFJkqS61Apv97bgM/cHrgaOJfTYzSfc5L7RDX4/AVwOLAKObGJ9kiRJbWsod1jYA3g58HfASuABYF2d544izIvbAMwgDLVeBiwEDgPW13mdCcD5wJ/rrlqSJKkDNBreLgQ+BuxG6DUDeAa4ghDCaplJCF4HA0uztiXAI8DpwFV11vFl4ObsOttzf1ZJkqSoNLJVyCXAxcB3CEOehwJvAv6j4r1apgKL2RLcAB4jDH1Oq7OO9wKvIgybSpIkDSuN9FrNBD5LuMtCv17CMOhaYBa1A9wk4Pac9l7g3XXUMJowX242+VuVSJIkdbRGet72BH40yHt3Zu/XMgZYk9O+mhDMarkCeBi4sY5jAUiSZFaSJD1JkvSsWrWq3tMkSZLaUiPh7WfA4YO8d3j2fj3SnLYkp63aG4DpwD8Pco38D0vTuWmadqdp2j127Nh6T5MkSWpLjQybngV8D9gEfBf4E/BC4D3AaYQ5a5VhcHPONdYQet+qjSa/R67SdcANwBPAXlnbjoSNgfcCniOsYpUkSepYjYS3JdnzZ7JHpQT4TcXP6SDX7iXMe6s2EXiwxue/LHuckfPeGuBfCLfvkiRJ6liNhLdLaWC4chDzgCsJ24X8PmvrAiYD59U4N+9uD58j9Lx9hIErWCVJkjpSI+Ht4iZ83vXAmYQVpxcQwuCngBWEYdF+44FHCYHx0qztnpzrPU34M+S9J0mS1HEaWbDQDOuBYwgrRm8ibLT7WNb2bMVxCaFHrej6JEmS2lqtnrcLG7hWfy9aLcuBE2ocs4z6VqBOqeMYSZKkjlErvF3cwLXqDW+SJEkaolrhzWFLSZKkNmI4kyRJiojhTZIkKSKNbBWymdr7vI3YjlokSZJUw/Zu0rs38GZgJxq4WbwkSZKGphmb9I4Avg+s3e5qJEmStE3NmPP2PPAl4OwmXEuSJEnb0KwFCzsBY5p0LUmSJA2ikWHTcTltI4GXA58BeppSkSRJkgbVSHhbRv5q04RwE/kPN6MgSZIkDa6R8HYaW4e3vwKPA78gzH2TJElSCzUS3r5BmCO3qaLtOGAyIcT9qnllSZIkKU8j4e1bwAZgevbzGYRVpgAbgbcB85tXmiRJkqo1str0COCOip/PBb4K7AncBpzfxLokSZKUo5Hwti+wMnt9IHAAcC3wDPA14NDmliZJkqRqjYS3dYTbYQFMAZ4ElmQ/Pw/s3LyyJEmSlKeROW//DZxHWLBwNgOHUA8EnmheWZIkScrTSM/bbMJdFOYRetkurnjvJOCnzStLkiRJeRrpeXsEeClh6PSpqvc+CvQ1qyhJkiTlayS89asObgC/2d5CJEmSVFuzbkwvSZKkAhjeJEmSImJ4kyRJikgZ4W1/4FZgLWHvuNuAcXWcNx64HXgceI6wz9w9wFtaUqUkSVIbKjq8jQLuBg4BZgCnAAcBC4Fda5y7GyGwXQC8FfgA8Cxhv7l3taheSZKktjKU1abbYyYwATgYWJq1LSFsQ3I6cNU2zu0lBLZK/wk8Bryf0IMnSZLU0YrueZsKLGZLcIMQvhYB04ZwvU2E4deN21+aJElS+ys6vE0CHshp7wUm1nmNHQg9hvsBnyRsHPzFplQnSZLU5ooeNh0DrMlpXw2MrvMac4CPZa+fBU4GFmx/aZIkSe2vjNWmaU5b0sD5nwMOB94B/BC4BXj7YAcnSTIrSZKeJEl6Vq1a1UidkiRJbafo8LaG0PtWbTT5PXJ5ngB6gB8A7yHMobtysIPTNJ2bpml3mqbdY8eObbBcSZKk9lJ0eOslzHurNhF4cIjX7AEOHHJFkiRJESk6vM0DjiBsF9KvC5icvdeoHYAjgUe3uzJJkqQIFB3ergeWEe6UMI2wdcjtwArguorjxhO2Abmwou1i4AvAScBR2fOdwGuAi1pbtiRJUnsoerXpeuAY4GrgJsJChQXA2YSVo/0SYAQDw+X92XEnA3sCfcCvgTcQ9omTJEnqeEWHN4DlwAk1jlnG1itQ5zG0oVVJkqSOUcZWIZIkSRoiw5skSVJEDG+SJEkRMbxJkiRFxPAmSZIUEcObJElSRAxvkiRJETG8SZIkRcTwJkmSFBHDmyRJUkQMb5IkSRExvEmSJEXE8CZJkhQRw5skSVJEDG+SJEkRMbxJkiRFxPAmSZIUEcObJElSRAxvkiRJETG8SZIkRcTwJkmSFBHDmyRJUkQMb5IkSRExvEmSJEXE8CZJkhSRMsLb/sCtwFpgHXAbMK6O87qBucDvgL8Ay4GbgQNaU6YkSVL7KTq8jQLuBg4BZgCnAAcBC4Fda5x7MjAJ+ALwFuA84FVADyEQSpIkdbwdC/68mcAE4GBgada2BHgEOB24ahvn/juwqqptEfBYdt0Lm1qpJElSGyq6520qsJgtwQ1C+FoETKtxbnVwA3g8a/+7plQnSZLU5ooOb5OAB3Lae4GJQ7jey4B9gd9uT1GSJEmxKDq8jQHW5LSvBkY3eK0dga8Qet5uGOygJElmJUnSkyRJz6pVeZ13kiRJ8ShjtWma05YM4TrXAq8H3kd+IAwflqZz0zTtTtO0e+zYsUP4GEmSpPZR9IKFNYTet2qj2UYAy/FpYBZhxepdTahLkiQpCkWHt17CvLdqE4EH67zG+YRtQs4CbmpSXZIkSVEoeth0HnAEYbuQfl3A5Oy9Ws4CLiMEuGuaXZwkSVK7Kzq8XQ8sA24nbA0yNXu9Ariu4rjxwCYG7t12MvA54E7CRr9HVDyGslJVkiQpOkUPm64HjgGuJgx5JsAC4Gzg2YrjEmAEA8Pl8Vn78dmj0r3AlFYULEmS1E6KDm8Q7kl6Qo1jlrH1CtRTs4ckSdKwVcZWIZIkSRoiw5skSVJEDG+SJEkRMbxJkiRFxPAmSZIUEcObJElSRAxvkiRJETG8SZIkRcTwJkmSFBHDmyRJUkQMb5IkSRExvEmSJEXE8CZJkhQRw5skSVJEDG+SJEkRMbxJkiRFxPAmSZIUEcObJElSRAxvkiRJETG8SZIkRcTwJkmSFBHDmyRJUkQMb5IkSRExvEmSJEXE8CZJkhSRMsLb/sCtwFpgHXAbMK7Ocy8H7gKeAlLg1BbUJ0mS1LaKDm+jgLuBQ4AZwCnAQcBCYNc6zv8IsAvwg1YVKEmS1M52LPjzZgITgIOBpVnbEuAR4HTgqhrn7wlsBg4EpreoRkmSpLZVdM/bVGAxW4IbwGPAImBaHedvbkVRkiRJsSg6vE0CHshp7wUmFlyLJElSdIoOb2OANTntq4HRrfjAJElmJUnSkyRJz6pVq1rxEZIkSYUpY7VpmtOWtOzD0nRumqbdaZp2jx07tlUfI0mSVIiiw9saQu9btdHk98hJkiSpQtHhrZcw763aRODBgmuRJEmKTtHhbR5wBGG7kH5dwOTsPUmSJG1D0eHtemAZcDtha5Cp2esVwHUVx40HNgEXVp1/FHAicHz2c3f284ktq1iSJKmNFL1J73rgGOBq4CbCQoUFwNnAsxXHJcAItg6XlxACXL8PZ4/+cyRJkjpa0eENYDlwQo1jlpEfxqY0uxhJkqSYlLFViCRJkobI8CZJkhQRw5skSVJEDG+SJEkRMbxJkiRFxPAmSZIUEcObJElSRAxvkiRJETG8SZIkRcTwJkmSFBHDmyRJUkQMb5IkSRExvEmSJEXE8CZJkhQRw5skSVJEDG+SJEkRMbxJkiRFxPAmSZIUEcObJElSRAxvkiRJETG8SZIkRcTwJkmSFBHDmyRJUkQMb5IkSREpI7ztD9wKrAXWAbcB4+o8d2fgCuCPwHPAT4E3tqBGSZKktlR0eBsF3A0cAswATgEOAhYCu9Zx/g3ATOBC4O2EEPcj4BUtqFWSJKnt7Fjw580EJgAHA0uztiXAI8DpwFXbOPcfgPcCpwFfy9ruBXqBS4GpLahXkiSprRTd8zYVWMyW4AbwGLAImFbHuRuB71S0bQK+DRwH7NS8MiVJktpT0eFtEvBATnsvMLGOcx8D/pJz7kjgwO2uTpIkqc0VHd7GAGty2lcDo7fj3P73JUmSOlrRc94A0py2pI7zkqGcmyTJLGBW9uOzSZI8VMdntZt9gCfLLqJScuWMsktotbb7zrmonv9NotZ233lylt954RK/86J9ZFuzzTtD233nF9xc93/n4/Maiw5va8jvIRtNfq9apdXkbykyuuL9raRpOheYW2+B7ShJkp40TbvLrmM48Tsvnt958fzOi+d3XrxO/M6LHjbtJcxdqzYReLCOcw8gbDdSfe7fGLgIQpIkqSMVHd7mAUcQtgvp1wVMzt6rde4LgHdXtO0InATcBWxoWpWSJEltqujwdj2wDLidsDXI1Oz1CuC6iuPGE7YBubCi7VeEbUI+B3wQ+EfCNiEHABe1tOryRT3sGym/8+L5nRfP77x4fufF67jvPEnTvDUALTUOuBo4lrDYYAFwNiHU9esibAtyCXBxRfsuwL8RNuvdC/g18HHgnhbWK0mS1DbKCG+SJEkaojJuTK/ajiPcA7aPMJfvCeA/qL2RsZrrTsL2NJeVXUiHmkL4fqsfT5dX0rDxVuAnwLPAOqAHOKbUijrXPeT/d54S/o5Ra0wmzIf/M+G/8fsJt9fsCGXs86baxgD3AV8CVhGGms8j3FrsUODx8kobNv434X66ar2zgF9U/LyprEKGidOBa7PHpwi/xL+CrVfyqzk+BOxR1fY6wr28ay3U09AcBswn/Js5k3BnphOBGwi30vxyeaU1h8Om8TgY+B1wDvDZkmvpdHsRvut/AW4hzLO8oMyCOtQUYCFh/uv8cksZNrqA3wKfICz+UjluAN4HvIhB9ijVdrmc8G/lGELvcr/FhB7P15VRVDM5bBqPp7LnjaVWMTzMIewr+K2yC5Ga7DRgM/CVsgsZxnYhbHn1fQxurTKS8G/lc1XtT9Mhuacj/hAdbAThP8KDCFup9BG2R1HrHAlMJwx1qBg3A88TfkG5hfw7qag5jiT0Kp8MPEoYol4KfLjMooaZdwG7A18vu5AOdmP2/AXgxYTRlJmELcauLqek5nLOW3v7GfDq7PVSwoTiP5dXTsd7ASEkXwnEeA/c2KwlTAG4lzCh+JXAvwI/zV7733rzvTh7XEH4rh8l9AJdS/j34PPllTZsTCf8t/3DsgvpYA8QpmV8jy2/iG8EzqBDOkAMb+3tFMJE1wmE8fsfE35zXlZiTZ3s42zZS1Ct98vs0e9ewgrInxMWMTjPsPl2IPT6nArclrXdTZgL9wlCT4UToVvnxcCbCCHZhTmtcxDwfwnTX84gDJ9OI0wX+Cuhtz9qhrf29tvs+WeE39KWEVadnlFWQR1sHHA+4e4dO2WPfjsRut2fIQzvqXXuBx4GDi+7kA71FOEfth9Xtd8FHE+YQP+HoosaRt5HCNAOmbbW5YSetrezZZ74AmBvQnD+FmHuZ7Sc8xaPpwlDpweWXEenmgDsDHwTWFPxgNDruYawTYtaL8Hen1bpHaQ9yZ6j/gctAtMJdwb6ddmFdLhDCd9x9QK/nxMC3L6FV9Rkhrd4vBA4hDBHRc33K+DonAeEQHc0ITyrtbqBlxJ6m9V838uej6tqP46wGXhfseUMK93AJOx1K0IfYe/CkVXtryUMm0a/ytdh0/b0PcLw0RLCRO6XEvYc24R7vLXK0wx+j9zHt/Gehu5mwj2M7yd8/68kzLtaCVxTXlkd7Q7C3nrXAfsAvydsXvpm4P0l1jUcTCf8HX5L2YUMA9cC3yVsx/Ilwpy3qYTN168G/lZeac3hJr3t6ePAe4CXEH5zWEEID5/GxQpFS3GT3lb5BOEv0/GE3f37CHM7LwL+WGJdnW4Pwt8lJwKjCVuHfAZDRSu9gDCXcDHwjpJrGS7eQvi3dBJhSsyjwFzCLy7Rz102vEmSJEXEOW+SJEkRMbxJkiRFxPAmSZIUEcObJElSRAxvkiRJETG8SZIkRcTwJknN1UXYH/DUirYbGbhHYxdwMeG2bJLUEMObJLXep4B3VvzcRdiM2PAmqWHeHkuSWs97EktqGnveJHW6kwm3gNoA9BJ6wO5hy/1qTyUMc3ZVnXdx1l7pTOCnhBtbP0243dHb6qjhRrYMm04h3F8U4MfZZ6RZ+w8I93qtdgCwGTi9js+S1OEMb5I62ZsI9+x8BHgXcAXweeDgIV6vC/gq8G7gJKCHELje0sA17gc+nL0+C3hd9rifcBPtVwKvqTpnFrAe7z8qCYdNJXW2Swi9btMIPVcAvyX0mD00hOudU/F6B2AB8FLgDOCHdV5jHfBgVS397gR+T+hh+3nW9gLg/cDNwDNDqFlSh7HnTVKnGgEcDtzKluAG8DMGrvxsxKsJPW1/AjYBG4FjGXpPXrXNwHWEod49s7b/Bbwwa5ckw5ukjrUPodfqTznv5bXVsj+hp20M8BHg9YRweCew8xBrzHMD4e/mU7KfzyD0wv2yiZ8hKWIOm0rqVE8SesZemPPeC4HHs9d/zZ5HVh2zd9XPxxN6w94DPFHRPmr7ytzKU8B3CUOnPwKOBj7Y5M+QFDF73iR1queBXwAnMvDvutcycGVpf4h7eUXbjsCbq67XH9I2VrS9FJg8hNo2ZM+7DPL+l7J6vkqYI/ftIXyGpA5lz5ukTnYRcBfw/whzxsYSFjH0VRzzC8I+bFcQQt4G4EPATlXXmk+Y5/YN4LPAi7JrLafxX4Qfzq51GmHbkQ2EBRT9CxIWE1afvhG4BvhLg9eX1MHseZPUyeYD/0RYUHAbcC5wNgNXmm4irEZdQdiP7YuE/ddurLpWb3at8cA8YDZwHvCTIdT1FGHPuH8A7iUEyFdXHXNr9uxCBUkDJGlavQelJHW8e7LnKSXWUMsiwurTN5RdiKT24rCpJLWPnYBXETYXfj2hR1CSBjC8SVL7eBHw34Rbb11OGJ6VpAEcNpUkSYqICxYkSZIiYniTJEmKiOFNkiQpIoY3SZKkiBjeJEmSImJ4kyRJisj/B0rhGwir7yviAAAAAElFTkSuQmCC\n",
>>>>>>> b5350fabf639a6d6409adb331ad716e86bf1803a
      "text/plain": [
       "<Figure size 720x432 with 1 Axes>"
      ]
     },
     "metadata": {
      "needs_background": "dark"
     },
     "output_type": "display_data"
    }
   ],
   "source": [
    "fig = plt.figure(figsize = (10,6))\n",
    "sns.barplot(x = 'quality', y = 'sulphates', data = wine)\n",
    "plt.xticks(fontsize=16, color='white')\n",
    "plt.yticks(fontsize=16, color='white')\n",
    "plt.xlabel('quality', fontsize=16, color='white')\n",
    "plt.ylabel('sulphates', fontsize=16, color='white')"
   ]
  },
  {
   "cell_type": "code",
<<<<<<< HEAD
   "execution_count": 16,
=======
   "execution_count": 20,
   "id": "af744a54",
>>>>>>> b5350fabf639a6d6409adb331ad716e86bf1803a
   "metadata": {},
   "outputs": [
    {
     "data": {
      "text/plain": [
       "Text(0, 0.5, 'alcohol')"
      ]
     },
<<<<<<< HEAD
     "execution_count": 16,
=======
     "execution_count": 20,
>>>>>>> b5350fabf639a6d6409adb331ad716e86bf1803a
     "metadata": {},
     "output_type": "execute_result"
    },
    {
     "data": {
<<<<<<< HEAD
      "image/png": "iVBORw0KGgoAAAANSUhEUgAAAmoAAAF9CAYAAAC06UTBAAAAOXRFWHRTb2Z0d2FyZQBNYXRwbG90bGliIHZlcnNpb24zLjMuMiwgaHR0cHM6Ly9tYXRwbG90bGliLm9yZy8vihELAAAACXBIWXMAAAsTAAALEwEAmpwYAAAanElEQVR4nO3de7Tv93zn8eeOIKiWkAra44xrV41qx1E0hih1LXoJZRXFEEp12iKKWb0pplGjSl0ydOi4dJHShmmVuETHCEJbpKqkBKlTIQlxT+Q3f3x/p87Z9unJTvb+/T5778djrd/67v35/vZvv89vnbX3a3+uK7PZLAAAxnPYsgsAAGBtghoAwKAENQCAQQlqAACDEtQAAAYlqAEADOrwZRewGa597WvPdu/evewyAAAO6f3vf//nZ7PZUWvd25ZBbffu3Z1xxhnLLgMA4JBWVlbOPtg9Q58AAIMS1AAABiWoAQAMSlADABiUoAYAMChBDQBgUIIaAMCgBDUAgEEJagAAgxLUAAAGJagBAAxKUAMAGNS2PJQdANhZTjjhhPbu3dvRRx/diSeeuOxyNoygBgBseXv37u2cc85ZdhkbztAnAMCgBDUAgEEJagAAgxLUAAAGJagBAAxKUAMAGJSgBgAwKEENAGBQywhq31c9r3p39dVqVu1e9Zw7V6+ozqq+Nr++sPrehVUJALBkywhqN67uX51f/c1BnvPo6lrV71Z3r55Z3ac6vfquBdQIALB0yzhC6p3VdeYfP6K66xrPeUx17n6fn1b90/x6/+qPN7NAAIARLKNH7ZJL8Zxz12h73/x6/Q2sBQBgWFvpUPY7zq8fWWoVAEBPf9Bxyy7hAOd97ovTde9nh6rtqa84+XJ9/VZZ9Xn16g+aQtqfL7USAIAF2Qo9aodXr24a8jymunitJ62srBxfHV+1a9euhRUHALBZRu9RO6x6eXWX6qeqDx7sibPZ7KTZbLZnNpvtOeqooxZUHgDA5hm9R+1F1c9Vx1VvXXItAAALNXJQe3bT9h2/kHlpAMAOtKygtm85xq3m13s0bclxbtNeaU+qfq1pv7SPVbfd72vPbTqpAABgW1tWUHvtqs9fML+eVh3bFNyqHj5/7O/l1UM3qzAAgFEsK6itHOL+sYsoAgBgZKOv+gQA2LEENQCAQY286hMAtqQTTjihvXv3dvTRR3fiiScuuxy2MEENADbY3r17O+ecc5ZdBtuAoU8AgEEJagAAgzL0CcCW9/zHv2HZJRzggs9/5d+uI9X2S8++97JL2DRHXOGwA67bhaAGAGx5P3Ktqy+7hE2xvWInAMA2IqgBAAzK0CcAbLCrXem7D7jCZSWoAcAGO+ZGP7PsEtgmDH0CAAxKUAMAGJSgBgAwKEENAGBQghoAwKAENQCAQQlqAACDEtQAAAYlqAEADEpQAwAYlKAGADAoQQ0AYFAOZQfY5k444YT27t3b0Ucf3YknnrjscoB1ENQAtrm9e/d2zjnnLLsM4DIw9AkAMCg9agAb7LQ73HHZJRzga4dfoVZW+tpnPjNUbXd852nLLgGGJ6ixo5m7A8DIBDV2NHN3ABiZoDYQvTvAZrjGbHbAFdg6BLWB6N0BNsODvnXJsksALiOrPgEABiWoAQAMSlADABiUoAYAMCiLCVioT/3OLZZdwgEuPu/I6vAuPu/soWrb9RsfWnYJAAxgGT1q31c9r3p39dVqVu1e43nXrF5Sfb76SnVqNc5vUgCATbaMoHbj6v7V+dXfHOQ5K9Up1d2rx1U/W12xentT0AMA2PaWEdTeWV2numf12oM85z7V7asHV6+u3jRvO6w6YQE1AgAs3TKC2qXZefE+1b809aDt88XqDdV9N6MoAIDRjLrq8+bVh9doP7PaVX3XYssBAFi8UVd9Hll9co328+bXa1Zf3v/GysrK8dXxVbt27drM2thGrn3EJdXF8yuL4ExbgEtv1KC20rQadK32Nc1ms5Oqk6r27NlzqU4evtUT/+QyFbdZrv75C7tC9anPXzhUbe9/1kOWXcKmecIPXbDsEnYcZ9oCXHqjDn2e19Srtto159fzF1gLAMBSjNqjdmZ11zXaf7D6VKuGPYGDO+Z5xyy7hANc6YIrdViH9ekLPj1Ube963LuWXQLAdxi1R+2U6vrVHfdr++7q3vN7AADb3rJ61I6bX281v96jOnf+OK0pjL27ekX1xKahzic3zVEz+xi2sNlVZ13SJc2ueqmmkgLsaMsKaqs3un3B/HpadWzTXms/Wf3+/N4RTcHtTtWnF1MisBkuOuaiZZcAsGUsK6gddPXmfs6rHj5/AADsOKPOUQMA2PEENQCAQQlqAACDEtQAAAYlqAEADEpQAwAY1KhHSO1Il1zpagdcAYCdTVAbyFdustbxpgDATmXoEwBgUIIaAMCgBDUAgEEJagAAgxLUAAAGJagBAAxKUAMAGJSgBgAwKEENAGBQghoAwKAENQCAQQlqAACDEtQAAAYlqAEADEpQAwAYlKAGADAoQQ0AYFCCGgDAoAQ1AIBBCWoAAIMS1AAABiWoAQAMSlADABiUoAYAMChBDQBgUIIaAMCgBDUAgEEJagAAgxo5qB1Tvbn6XPWl6gPVw5daEQDAAo0a1H6oOrW6YvXI6mer91UvrX5xiXUBACzM4csu4CAeUF2hunf15XnbW6pbVg+pXrikugAAFmbUHrUrVRdVX1vVfkHj1gwAsKFGDT0vm1//sLpedY2mIdA7V89ZTkkAAIs16tDnh6tjq9dXj5m3XVQ9uvrTtb5gZWXl+Or4ql27dm1+hQAAm2zUHrWbVH9Wndk0T+0u1Yvmj59f6wtms9lJs9lsz2w223PUUUctrFAAgM0yao/aM5p60H5yfq16a3Wt6rnVq6tLllMaAMBijNqjdovq7/t2SNvnvU1h7XsXXhEAwIKNGtT2Vj/ctPpzf7epvl6dt+iCAAAWbdShz+dXr63eUL2gaZuO+1QPbFr1+c3llQYAsBijBrWTq3tWT6peUh1RnVU9tnrxEusCAFiYUYNa1V/NHwAAO9Koc9QAAHY8QQ0AYFCHGvr8RDW7lK81q250+coBAGCfQwW107r0QQ0AgA10qKD20EUUAQDAdzJHDQBgUOsNardo2uPs3Ori6nPVa+btAABsoPXso3brpjlrX6tOaTrm6ejq3tW9qjtU79/oAgEAdqr1BLVnVh+u7lxduF/71atT5/fvunGlAQDsbOsZ+rxtUxi7cFX7hdXvVbfbqKIAAFhfUDvUNh228QAA2EDrCWrvqZ7SNNS5v6s1HZ5++kYVBQDA+uaoPaV6R3V29cbqs02LCe5VXaU6doNrAwDY0dYT1N7bNE/tN6q7VUdW51Vvq55WfWjDqwMA2MHWE9SqPlgdtxmFAABwICcTAAAMar09anesHljtqo5YdW/WtMcaAAAbYD1B7VHVC6svVB+rvrHq/spGFQUAwPqC2uOrV1UPr765OeUAALDPeuaoXb/6XwlpAAALsZ6g9v7qhptVCAAAB1pPUPvl6leqO2xOKQAA7O9Qc9Q+3YFneH5P9fbqq9X5q547q26wcaUBAOxshwpqb81h6wAAS3GooPbQRRQBAMB3cjIBAMCg1hvUblGdXJ1bXVx9rnrNvB0AgA20ng1vb12dVn2tOqXaWx1d3bu6V9Nq0PdvdIEAADvVeoLaM6sPN53neeF+7VevTp3fv+vGlQYAsLOtZ+jztk1h7MJV7RdWv1fdbqOKAgBgfUHtUNt02MYDAGADrSeovad6StNQ5/6uVj2pOn2jigIAYH1z1J5SvaM6u3pj9dmmxQT3qq5SHbvBtQEA7GjrCWrvbZqn9hvV3aojq/Oqt1VPqz604dUBAOxg6wlqVR+sjtuMQgAAONB65qgdVd30IPduWl378pcDAMA+6wlqL6gef5B7vzq/v9HuWb2z+nL1peqM6sc34fsAAAxnPUHt9tVfH+Tem6tjLn85B3hU9RdNpx38dHW/6rXVVTf4+wAADGk9c9SuWX3xIPe+VF3r8pfzb3ZXf1A9cX7d52BBEQBg21lPj9pnqtsc5N5tmrbr2CgPry6pXrSBrwkAsKWsJ6id3LSX2r1Wtd+r+vXqNRtVVNMw6z9WD6jOqi6uPl49dgO/BwDA0NYz9Pk71R2qU6q91TnV9Zs2vT29+u0NrOt688ezmsLhWU1z1J7fVPNzN/B7AQAMaT1B7avVHasHVz/RNCft400LCV7R1Ou1UQ5rOqrqodXr5m1va5q79uTqD1t1tujKysrx1fFVu3bt2sBSAACWY70b3l5U/fH8sZm+UN2kesuq9jdXd6+uW/3L/jdms9lJ1UlVe/bscUA8ALDlrWeO2iKdeZD2lfn1kkUVAgCwLIfqUftEq4YY/x2z6kaXr5x/8/rqvzSdKXryfu13a1p9uneDvg8AwLAOFdRO69IHtY30l9Xbqxc3HU31z01njN61etgS6gEAWLhDBbWHLqKINcyqn6qe2bSa9JpN23X8fPWqJdUEALBQ611MsEhfato3zd5pAMCOdFmC2i2rm1VHrHHvTy5fOQAA7LOeoHaN6v9Ut51/vm8F5v5z2AQ1AIANsp7tOZ7RtMntHZpC2k9XP169smmy/49ueHUAADvYeoLa3ZrC2unzzz9TvaN6SHVq9V83tDIAgB1uPUHtuk09Z9+qvt50xNM+r+s7D2sHAOByWE9Q29s0T63q7Op2+9278UYVBADAZD2LCf5vUzh7Y/W/q99sOiT94uoXqlM2ujgAgJ1sPUHtt6vrzT9+VtPCgp+rrtoU0h63saUBAOxs6wlqZ80fVRdVj58/AADYBOuZowYAwAIJagAAgxLUAAAGJagBAAxKUAMAGJSgBgAwKEENAGBQghoAwKAENQCAQQlqAACDEtQAAAYlqAEADEpQAwAYlKAGADAoQQ0AYFCCGgDAoAQ1AIBBCWoAAIMS1AAABiWoAQAMSlADABiUoAYAMChBDQBgUIIaAMCgBDUAgEEJagAAgxLUAAAGJagBAAxqKwW1N1Wz6neXXQgAwCJslaD2wOqWyy4CAGCRtkJQu0b1nOrXllwHAMBCbYWgdmJ1ZvXqZRcCALBIhy+7gEO4ffWQDHsCADvQyD1qV6xeXP1+9dFDPXllZeX4lZWVM1ZWVs4499xzN704AIDNNnJQe1J1lerpl+bJs9nspNlstmc2m+056qijNrcyAIAFGHXoc1f11OoR1ZXnj32u3LTA4MLqWwuvDABgQUbtUbthdUT1iur8/R5VT5h/fIvllAYAsBij9qj9XXWnNdrf3hTeXlp9fJEFAQAs2qhB7YLqHQe5d/a/cw8AYNsYdegTAGDHG7VH7WBWll0AAMCi6FEDABiUoAYAMChBDQBgUIIaAMCgBDUAgEEJagAAgxLUAAAGJagBAAxKUAMAGJSgBgAwKEENAGBQghoAwKAENQCAQQlqAACDEtQAAAYlqAEADEpQAwAYlKAGADAoQQ0AYFCCGgDAoAQ1AIBBCWoAAIMS1AAABiWoAQAMSlADABiUoAYAMChBDQBgUIIaAMCgBDUAgEEJagAAgxLUAAAGJagBAAxKUAMAGJSgBgAwKEENAGBQghoAwKBGDWrHVX9WnV19rfpo9czq6sssCgBgkUYNak+ovlU9pbp79cLqF6u3NG7NAAAb6vBlF3AQ967O3e/z06rzqpdXx1ZvW0JNAAALNWrv1LlrtL1vfr3+IgsBAFiWUYPaWu44v35kqVUAACzIVglq169+pzq1OmOtJ6ysrBy/srJyxsrKyhnnnrtWhxwAwNayFYLad1V/UV1cPexgT5rNZifNZrM9s9lsz1FHHbWw4gAANsuoiwn2OaI6pbph09DnZ5ZbDgDA4owc1K7YtJfaj1Z3qT603HIAABZr1KB2WPXK6s7VvarTl1sOAMDijRrU/qi6X/X06ivVbfe795kMgQIAO8CoiwnuMb8+tXr3qscjllUUAMAijdqjtnvZBQAALNuoPWoAADueoAYAMChBDQBgUIIaAMCgBDUAgEEJagAAgxLUAAAGJagBAAxKUAMAGJSgBgAwKEENAGBQghoAwKAENQCAQQlqAACDEtQAAAYlqAEADEpQAwAYlKAGADAoQQ0AYFCCGgDAoAQ1AIBBCWoAAIMS1AAABiWoAQAMSlADABiUoAYAMChBDQBgUIIaAMCgBDUAgEEJagAAgxLUAAAGJagBAAxKUAMAGJSgBgAwKEENAGBQghoAwKBGDmrfX51cfbH6UvW6atdSKwIAWKBRg9pVq7dVP1D9QvXg6ibV26urLbEuAICFOXzZBRzEI6sbVjerPj5v+2D1sepR1f9YUl0AAAszao/afarT+3ZIq/pE9a7qvkupCABgwUYNajevPrxG+5nVDy64FgCApRg1qB1Znb9G+3nVNRdcCwDAUqzMZrNl17CWb1bPrp68qv3p1ZNaY27dysrK8dXx809vVn10MwvcRNeuPr/sInYY7/niec8Xz3u+eN7zxduq7/kNZrPZUWvdGHUxwflNvWqrXbO1e9qazWYnVSdtZlGLsLKycsZsNtuz7Dp2Eu/54nnPF897vnje88Xbju/5qEOfZzbNU1vtB6t/WHAtAABLMWpQO6W6bdMWHfvsro6Z3wMA2PZGDWr/s/pk9RdN23HcZ/7xp6sXL6+shdjyw7dbkPd88bzni+c9Xzzv+eJtu/d81MUENR0X9ZzqJ6qV6q3VrzQFOACAbW/koAYAsKONOvS5k9yt6VzTvdU3qs9Ur8nGvov2pmpW/e6yC9mmjm16f1c/LlheSTvGPat3Vl+uvlSdUf34Uivavt7R2v/PZ00/Y9gcx1Rvrj7X9H/8A9XDl1rRBhp1e46d5Mjq/dULqnObhnx/vekIrVtUZy+vtB3jgdUtl13EDvHL1fv2+/ziZRWyQzyqev788bSmP85/uLrqEmvazh5Tffeqtts1nU9tIdzm+KHq1KbfmY+svlodV720unL1wuWVtjEMfY7pZtU/Vk9o2viXzXONpvf6V6tXNW2q/N+WWdA2dWz19qY5p6cut5QdY3f1kaaNw/9gqZXsbC+tHlRdt+l0HTbWM5p+Vx7Z1Gu8z+lNPZm3W0ZRG8nQ55i+ML9etNQqdoYTm/bte/WyC4EN9vDqkupFyy5kB7tKdb/qDQlpm+VKTb8rv7aq/YK2ScbZFv+IbeIKTf/hbtK0Bcne6k+XWtH2d/vqIU3DFSzGK6tvNf0x8qqmoX42x+2beosfUJ3VNMz88eqxyyxqh/mZ6urVy5ddyDb2svn1D6vrNY2SPLK6c9POEVueOWrjeE91q/nHH2+a7Pu55ZWz7V2xKRD/flv3XNit5ItNw/inNU32/ZHqKdW75x/7v77xrjd/PKvpvT6rqXfn+U0/+5+7vNJ2jIc0/d/+q2UXso19uGlqxev79h/dF1WPbpt0dghq43hw0yTUGzaNt7+l6S/iTy6xpu3sSU3DEk9fdiE7xN/OH/uc1rQS8b1NCwzMC9x4hzX15jy0et287W1Nc9ee3NQDYZLy5rledZemQGzRzOa5SfVnTVNYHt00BHrfpiH/rzf14m9pgto4PjK/vqfpr69PNq3+fPSyCtrGdlVPrR7RtCroyvvdu3JT1/mFTUN0bJ4PVP9U3XrZhWxTX2j6JfaWVe1vru7eNLn9XxZd1A7yoKawbNhzcz2jqQftJ/v2vO63VtdqCsmvbpqruWWZozamC5qGP2+85Dq2qxtWR1SvqM7f71FTb+b5TVujsPlW0quzWc48SPvK/Lqlf3ltAQ+p/n7+YPPcouk9Xr347r1NYe17F17RBhPUxnSd6gea5pSw8f6uutMaj5rC252agjKba09106ZeZDbe6+fXu61qv1vTxtp7F1vOjrKnunl60xZhb9PegFda1X6bpqHPLb/a1tDn8r2+aQjog02TrG/atKfXxdlDbbNc0LSD+FrO/nfucdm9svpE0//1C5oWEDy5Oqd63vLK2tb+smnvuhdX167+uWkj0LtWD1tiXTvBQ5p+hr9q2YXsAM+vXtu0BcoLmuao3adpI/PnVN9cXmkbw4a3y/ek6v7VjZr+Ivh0U1B4ZhYSLNosG95ulic3/eC8QdOu+Hub5mL+ZvXZJda13X1308+S46prNm3X8d8TIDbTFZvm/p1e3XvJtewU92j6XXrzpmktZ1UnNf2RsuXnGgtqAACDMkcNAGBQghoAwKAENQCAQQlqAACDEtQAAAYlqAEADEpQA7jsdjftv/fQ/dpe1oF7IO6ufqvp6DKAdRHUADbW06qf3u/z3U0b+wpqwLo5QgpgYzmjF9gwetSA7eQBTcckfaM6s6ln6x19+/zWhzYNVe5e9XW/NW/f3y9V72461PmCpiOB7nUpanhZ3x76PLbpvM2qt8y/x2ze/sams09X+w/VJdWjLsX3ArY5QQ3YLu7SdIblx6qfqZ5VPbe62WV8vd3VS6r7VT9XndEUru6xjtf4QPXY+ce/XN1u/vhA0wHSP1L96KqvOb76Ss7jBDL0CWwfv93Um3bfph6pqo809YR99DK83hP2+/iw6q3VTatHNx0of2l8qfqHVbXs86bqn5t6zt47b7ti9bDqldWFl6FmYJvRowZsB1eobl2d3LdDWtV7OnAF5nrcqqkH7V+ri6uLqp/osvfQrXZJ9eKm4drvmbf9VHWdeTuAoAZsC9du6o361zXurdV2KN/f1IN2ZPW46seaguCbqiMuY41reWnTz+EHzz9/dFPv2t9u4PcAtjBDn8B28PmmHq/rrHHvOtXZ84+/Pr9eadVzrrXq87s39XLdv/rMfu1XvXxlfocvVK9tGv786+pO1SM2+HsAW5geNWA7+Fb1vuq4Dvy5dpsOXOG5L7D9x/3aDq/uuur19gWyi/Zru2l1zGWo7Rvz61UOcv8F83pe0jSn7U8vw/cAtik9asB28ZvVm6s/b5rjdVTTAoO9+z3nfU37nD2rKdB9o3pMdeVVr3Vq07y0P6meXV13/lqfav1/4P7T/LUe3rTVxzeaFjfsWyxwetMq0DtUz6u+us7XB7YxPWrAdnFq9fNNk/1fVz2x+pUOXPF5cdOq0E837Xf2R037m71s1WudOX+tG1SnVCdUv1698zLU9YWmPdluWZ3WFBZvteo5J8+vFhEAB1iZzVbv8Qiwrbxjfj12iTUcyruaVoH+52UXAozF0CfAcly5+k9NG/X+WFNPH8ABBDWA5bhu9f+ajqd6RtMQK8ABDH0CAAzKYgIAgEEJagAAgxLUAAAGJagBAAxKUAMAGJSgBgAwqP8Pf7g7UeMo9xUAAAAASUVORK5CYII=\n",
=======
      "image/png": "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\n",
>>>>>>> b5350fabf639a6d6409adb331ad716e86bf1803a
      "text/plain": [
       "<Figure size 720x432 with 1 Axes>"
      ]
     },
     "metadata": {
      "needs_background": "dark"
     },
     "output_type": "display_data"
    }
   ],
   "source": [
    "#Alcohol level also goes higher as te quality of wine increases\n",
    "fig = plt.figure(figsize = (10,6))\n",
    "sns.barplot(x = 'quality', y = 'alcohol', data = wine)\n",
    "plt.xticks(fontsize=16, color='white')\n",
    "plt.yticks(fontsize=16, color='white')\n",
    "plt.xlabel('quality', fontsize=16, color='white')\n",
    "plt.ylabel('alcohol', fontsize=16, color='white')"
   ]
  },
  {
   "cell_type": "code",
<<<<<<< HEAD
   "execution_count": 17,
=======
   "execution_count": 21,
   "id": "a174ef70",
>>>>>>> b5350fabf639a6d6409adb331ad716e86bf1803a
   "metadata": {},
   "outputs": [
    {
     "data": {
      "text/plain": [
       "5    681\n",
       "6    638\n",
       "7    199\n",
       "4     53\n",
       "8     18\n",
       "3     10\n",
       "Name: quality, dtype: int64"
      ]
     },
<<<<<<< HEAD
     "execution_count": 17,
=======
     "execution_count": 21,
>>>>>>> b5350fabf639a6d6409adb331ad716e86bf1803a
     "metadata": {},
     "output_type": "execute_result"
    }
   ],
   "source": [
    "wine['quality'].value_counts()"
   ]
  },
  {
   "cell_type": "code",
<<<<<<< HEAD
   "execution_count": 18,
=======
   "execution_count": 22,
   "id": "532911f7",
>>>>>>> b5350fabf639a6d6409adb331ad716e86bf1803a
   "metadata": {},
   "outputs": [],
   "source": [
    "#Making binary classificaion for the response variable.\n",
    "#Dividing wine as good and bad by giving the limit for the quality\n",
    "bins = (2, 6.5, 8)\n",
    "group_names = ['bad', 'good']\n",
    "wine['quality'] = pd.cut(wine['quality'], bins = bins, labels = group_names)"
   ]
  },
  {
   "cell_type": "code",
<<<<<<< HEAD
   "execution_count": 19,
=======
   "execution_count": 23,
   "id": "f8eaecc7",
>>>>>>> b5350fabf639a6d6409adb331ad716e86bf1803a
   "metadata": {},
   "outputs": [
    {
     "data": {
      "text/plain": [
       "bad     1382\n",
       "good     217\n",
       "Name: quality, dtype: int64"
      ]
     },
<<<<<<< HEAD
     "execution_count": 19,
=======
     "execution_count": 23,
>>>>>>> b5350fabf639a6d6409adb331ad716e86bf1803a
     "metadata": {},
     "output_type": "execute_result"
    }
   ],
   "source": [
    "wine['quality'].value_counts()"
   ]
  },
  {
   "cell_type": "code",
<<<<<<< HEAD
   "execution_count": 20,
=======
   "execution_count": 24,
   "id": "f6d66e59",
>>>>>>> b5350fabf639a6d6409adb331ad716e86bf1803a
   "metadata": {},
   "outputs": [],
   "source": [
    "label_quality = LabelEncoder()"
   ]
  },
  {
   "cell_type": "code",
<<<<<<< HEAD
   "execution_count": 21,
=======
   "execution_count": 25,
   "id": "de2fad05",
>>>>>>> b5350fabf639a6d6409adb331ad716e86bf1803a
   "metadata": {},
   "outputs": [
    {
     "data": {
      "text/plain": [
       "LabelEncoder()"
      ]
     },
<<<<<<< HEAD
     "execution_count": 21,
=======
     "execution_count": 25,
>>>>>>> b5350fabf639a6d6409adb331ad716e86bf1803a
     "metadata": {},
     "output_type": "execute_result"
    }
   ],
   "source": [
    "label_quality"
   ]
  },
  {
   "cell_type": "code",
<<<<<<< HEAD
   "execution_count": 22,
=======
   "execution_count": 26,
   "id": "fae89a0e",
>>>>>>> b5350fabf639a6d6409adb331ad716e86bf1803a
   "metadata": {},
   "outputs": [],
   "source": [
    "wine['quality'] = label_quality.fit_transform(wine['quality'])"
   ]
  },
  {
   "cell_type": "code",
<<<<<<< HEAD
   "execution_count": 23,
=======
   "execution_count": 27,
   "id": "3776bf41",
>>>>>>> b5350fabf639a6d6409adb331ad716e86bf1803a
   "metadata": {},
   "outputs": [
    {
     "data": {
      "text/plain": [
       "0    1382\n",
       "1     217\n",
       "Name: quality, dtype: int64"
      ]
     },
<<<<<<< HEAD
     "execution_count": 23,
=======
     "execution_count": 27,
>>>>>>> b5350fabf639a6d6409adb331ad716e86bf1803a
     "metadata": {},
     "output_type": "execute_result"
    }
   ],
   "source": [
    "wine['quality'].value_counts()"
   ]
  },
  {
   "cell_type": "code",
<<<<<<< HEAD
   "execution_count": 24,
=======
   "execution_count": 28,
   "id": "b17b2bfd",
>>>>>>> b5350fabf639a6d6409adb331ad716e86bf1803a
   "metadata": {},
   "outputs": [
    {
     "name": "stderr",
     "output_type": "stream",
     "text": [
      "C:\\Users\\Administrator\\anaconda3\\lib\\site-packages\\seaborn\\_decorators.py:36: FutureWarning: Pass the following variable as a keyword arg: x. From version 0.12, the only valid positional argument will be `data`, and passing other arguments without an explicit keyword will result in an error or misinterpretation.\n",
      "  warnings.warn(\n"
     ]
    },
    {
     "data": {
      "text/plain": [
       "Text(0, 0.5, 'count')"
      ]
     },
<<<<<<< HEAD
     "execution_count": 24,
=======
     "execution_count": 28,
>>>>>>> b5350fabf639a6d6409adb331ad716e86bf1803a
     "metadata": {},
     "output_type": "execute_result"
    },
    {
     "data": {
      "image/png": "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\n",
      "text/plain": [
       "<Figure size 432x288 with 1 Axes>"
      ]
     },
     "metadata": {
      "needs_background": "dark"
     },
     "output_type": "display_data"
    }
   ],
   "source": [
    "sns.countplot(wine['quality'])\n",
    "plt.xticks(fontsize=16, color='white')\n",
    "plt.yticks(fontsize=16, color='white')\n",
    "plt.xlabel('quality', fontsize=16, color='white')\n",
    "plt.ylabel('count', fontsize=16, color='white')"
   ]
  },
  {
   "cell_type": "code",
<<<<<<< HEAD
   "execution_count": 25,
=======
   "execution_count": 29,
   "id": "58435e6f",
>>>>>>> b5350fabf639a6d6409adb331ad716e86bf1803a
   "metadata": {},
   "outputs": [],
   "source": [
    "#Now seperate the dataset as response variable and feature variabes\n",
    "X = wine.drop('quality', axis = 1)\n",
    "y = wine['quality']"
   ]
  },
  {
   "cell_type": "code",
<<<<<<< HEAD
   "execution_count": 26,
=======
   "execution_count": 30,
   "id": "9edd4502",
>>>>>>> b5350fabf639a6d6409adb331ad716e86bf1803a
   "metadata": {},
   "outputs": [
    {
     "data": {
      "text/html": [
       "<div>\n",
       "<style scoped>\n",
       "    .dataframe tbody tr th:only-of-type {\n",
       "        vertical-align: middle;\n",
       "    }\n",
       "\n",
       "    .dataframe tbody tr th {\n",
       "        vertical-align: top;\n",
       "    }\n",
       "\n",
       "    .dataframe thead th {\n",
       "        text-align: right;\n",
       "    }\n",
       "</style>\n",
       "<table border=\"1\" class=\"dataframe\">\n",
       "  <thead>\n",
       "    <tr style=\"text-align: right;\">\n",
       "      <th></th>\n",
       "      <th>fixed acidity</th>\n",
       "      <th>volatile acidity</th>\n",
       "      <th>citric acid</th>\n",
       "      <th>residual sugar</th>\n",
       "      <th>chlorides</th>\n",
       "      <th>free sulfur dioxide</th>\n",
       "      <th>total sulfur dioxide</th>\n",
       "      <th>density</th>\n",
       "      <th>pH</th>\n",
       "      <th>sulphates</th>\n",
       "      <th>alcohol</th>\n",
       "    </tr>\n",
       "  </thead>\n",
       "  <tbody>\n",
       "    <tr>\n",
       "      <th>0</th>\n",
       "      <td>7.4</td>\n",
       "      <td>0.700</td>\n",
       "      <td>0.00</td>\n",
       "      <td>1.9</td>\n",
       "      <td>0.076</td>\n",
       "      <td>11.0</td>\n",
       "      <td>34.0</td>\n",
       "      <td>0.99780</td>\n",
       "      <td>3.51</td>\n",
       "      <td>0.56</td>\n",
       "      <td>9.4</td>\n",
       "    </tr>\n",
       "    <tr>\n",
       "      <th>1</th>\n",
       "      <td>7.8</td>\n",
       "      <td>0.880</td>\n",
       "      <td>0.00</td>\n",
       "      <td>2.6</td>\n",
       "      <td>0.098</td>\n",
       "      <td>25.0</td>\n",
       "      <td>67.0</td>\n",
       "      <td>0.99680</td>\n",
       "      <td>3.20</td>\n",
       "      <td>0.68</td>\n",
       "      <td>9.8</td>\n",
       "    </tr>\n",
       "    <tr>\n",
       "      <th>2</th>\n",
       "      <td>7.8</td>\n",
       "      <td>0.760</td>\n",
       "      <td>0.04</td>\n",
       "      <td>2.3</td>\n",
       "      <td>0.092</td>\n",
       "      <td>15.0</td>\n",
       "      <td>54.0</td>\n",
       "      <td>0.99700</td>\n",
       "      <td>3.26</td>\n",
       "      <td>0.65</td>\n",
       "      <td>9.8</td>\n",
       "    </tr>\n",
       "    <tr>\n",
       "      <th>3</th>\n",
       "      <td>11.2</td>\n",
       "      <td>0.280</td>\n",
       "      <td>0.56</td>\n",
       "      <td>1.9</td>\n",
       "      <td>0.075</td>\n",
       "      <td>17.0</td>\n",
       "      <td>60.0</td>\n",
       "      <td>0.99800</td>\n",
       "      <td>3.16</td>\n",
       "      <td>0.58</td>\n",
       "      <td>9.8</td>\n",
       "    </tr>\n",
       "    <tr>\n",
       "      <th>4</th>\n",
       "      <td>7.4</td>\n",
       "      <td>0.700</td>\n",
       "      <td>0.00</td>\n",
       "      <td>1.9</td>\n",
       "      <td>0.076</td>\n",
       "      <td>11.0</td>\n",
       "      <td>34.0</td>\n",
       "      <td>0.99780</td>\n",
       "      <td>3.51</td>\n",
       "      <td>0.56</td>\n",
       "      <td>9.4</td>\n",
       "    </tr>\n",
       "    <tr>\n",
       "      <th>...</th>\n",
       "      <td>...</td>\n",
       "      <td>...</td>\n",
       "      <td>...</td>\n",
       "      <td>...</td>\n",
       "      <td>...</td>\n",
       "      <td>...</td>\n",
       "      <td>...</td>\n",
       "      <td>...</td>\n",
       "      <td>...</td>\n",
       "      <td>...</td>\n",
       "      <td>...</td>\n",
       "    </tr>\n",
       "    <tr>\n",
       "      <th>1594</th>\n",
       "      <td>6.2</td>\n",
       "      <td>0.600</td>\n",
       "      <td>0.08</td>\n",
       "      <td>2.0</td>\n",
       "      <td>0.090</td>\n",
       "      <td>32.0</td>\n",
       "      <td>44.0</td>\n",
       "      <td>0.99490</td>\n",
       "      <td>3.45</td>\n",
       "      <td>0.58</td>\n",
       "      <td>10.5</td>\n",
       "    </tr>\n",
       "    <tr>\n",
       "      <th>1595</th>\n",
       "      <td>5.9</td>\n",
       "      <td>0.550</td>\n",
       "      <td>0.10</td>\n",
       "      <td>2.2</td>\n",
       "      <td>0.062</td>\n",
       "      <td>39.0</td>\n",
       "      <td>51.0</td>\n",
       "      <td>0.99512</td>\n",
       "      <td>3.52</td>\n",
       "      <td>0.76</td>\n",
       "      <td>11.2</td>\n",
       "    </tr>\n",
       "    <tr>\n",
       "      <th>1596</th>\n",
       "      <td>6.3</td>\n",
       "      <td>0.510</td>\n",
       "      <td>0.13</td>\n",
       "      <td>2.3</td>\n",
       "      <td>0.076</td>\n",
       "      <td>29.0</td>\n",
       "      <td>40.0</td>\n",
       "      <td>0.99574</td>\n",
       "      <td>3.42</td>\n",
       "      <td>0.75</td>\n",
       "      <td>11.0</td>\n",
       "    </tr>\n",
       "    <tr>\n",
       "      <th>1597</th>\n",
       "      <td>5.9</td>\n",
       "      <td>0.645</td>\n",
       "      <td>0.12</td>\n",
       "      <td>2.0</td>\n",
       "      <td>0.075</td>\n",
       "      <td>32.0</td>\n",
       "      <td>44.0</td>\n",
       "      <td>0.99547</td>\n",
       "      <td>3.57</td>\n",
       "      <td>0.71</td>\n",
       "      <td>10.2</td>\n",
       "    </tr>\n",
       "    <tr>\n",
       "      <th>1598</th>\n",
       "      <td>6.0</td>\n",
       "      <td>0.310</td>\n",
       "      <td>0.47</td>\n",
       "      <td>3.6</td>\n",
       "      <td>0.067</td>\n",
       "      <td>18.0</td>\n",
       "      <td>42.0</td>\n",
       "      <td>0.99549</td>\n",
       "      <td>3.39</td>\n",
       "      <td>0.66</td>\n",
       "      <td>11.0</td>\n",
       "    </tr>\n",
       "  </tbody>\n",
       "</table>\n",
       "<p>1599 rows × 11 columns</p>\n",
       "</div>"
      ],
      "text/plain": [
       "      fixed acidity  volatile acidity  citric acid  residual sugar  chlorides  \\\n",
       "0               7.4             0.700         0.00             1.9      0.076   \n",
       "1               7.8             0.880         0.00             2.6      0.098   \n",
       "2               7.8             0.760         0.04             2.3      0.092   \n",
       "3              11.2             0.280         0.56             1.9      0.075   \n",
       "4               7.4             0.700         0.00             1.9      0.076   \n",
       "...             ...               ...          ...             ...        ...   \n",
       "1594            6.2             0.600         0.08             2.0      0.090   \n",
       "1595            5.9             0.550         0.10             2.2      0.062   \n",
       "1596            6.3             0.510         0.13             2.3      0.076   \n",
       "1597            5.9             0.645         0.12             2.0      0.075   \n",
       "1598            6.0             0.310         0.47             3.6      0.067   \n",
       "\n",
       "      free sulfur dioxide  total sulfur dioxide  density    pH  sulphates  \\\n",
       "0                    11.0                  34.0  0.99780  3.51       0.56   \n",
       "1                    25.0                  67.0  0.99680  3.20       0.68   \n",
       "2                    15.0                  54.0  0.99700  3.26       0.65   \n",
       "3                    17.0                  60.0  0.99800  3.16       0.58   \n",
       "4                    11.0                  34.0  0.99780  3.51       0.56   \n",
       "...                   ...                   ...      ...   ...        ...   \n",
       "1594                 32.0                  44.0  0.99490  3.45       0.58   \n",
       "1595                 39.0                  51.0  0.99512  3.52       0.76   \n",
       "1596                 29.0                  40.0  0.99574  3.42       0.75   \n",
       "1597                 32.0                  44.0  0.99547  3.57       0.71   \n",
       "1598                 18.0                  42.0  0.99549  3.39       0.66   \n",
       "\n",
       "      alcohol  \n",
       "0         9.4  \n",
       "1         9.8  \n",
       "2         9.8  \n",
       "3         9.8  \n",
       "4         9.4  \n",
       "...       ...  \n",
       "1594     10.5  \n",
       "1595     11.2  \n",
       "1596     11.0  \n",
       "1597     10.2  \n",
       "1598     11.0  \n",
       "\n",
       "[1599 rows x 11 columns]"
      ]
     },
<<<<<<< HEAD
     "execution_count": 26,
=======
     "execution_count": 30,
>>>>>>> b5350fabf639a6d6409adb331ad716e86bf1803a
     "metadata": {},
     "output_type": "execute_result"
    }
   ],
   "source": [
    "X"
   ]
  },
  {
   "cell_type": "code",
<<<<<<< HEAD
   "execution_count": 27,
=======
   "execution_count": 31,
   "id": "9b6c6916",
>>>>>>> b5350fabf639a6d6409adb331ad716e86bf1803a
   "metadata": {},
   "outputs": [
    {
     "data": {
      "text/plain": [
       "0       0\n",
       "1       0\n",
       "2       0\n",
       "3       0\n",
       "4       0\n",
       "       ..\n",
       "1594    0\n",
       "1595    0\n",
       "1596    0\n",
       "1597    0\n",
       "1598    0\n",
       "Name: quality, Length: 1599, dtype: int32"
      ]
     },
<<<<<<< HEAD
     "execution_count": 27,
=======
     "execution_count": 31,
>>>>>>> b5350fabf639a6d6409adb331ad716e86bf1803a
     "metadata": {},
     "output_type": "execute_result"
    }
   ],
   "source": [
    "y"
   ]
  },
  {
   "cell_type": "code",
<<<<<<< HEAD
   "execution_count": 28,
=======
   "execution_count": 32,
   "id": "54cef73e",
>>>>>>> b5350fabf639a6d6409adb331ad716e86bf1803a
   "metadata": {},
   "outputs": [],
   "source": [
    "#Train and Test splitting of data \n",
    "X_train, X_test, y_train, y_test = train_test_split(X, y, test_size = 0.2, random_state = 42)"
   ]
  },
  {
   "cell_type": "code",
<<<<<<< HEAD
   "execution_count": 29,
=======
   "execution_count": 33,
   "id": "f663ef1e",
>>>>>>> b5350fabf639a6d6409adb331ad716e86bf1803a
   "metadata": {},
   "outputs": [
    {
     "data": {
      "text/html": [
       "<div>\n",
       "<style scoped>\n",
       "    .dataframe tbody tr th:only-of-type {\n",
       "        vertical-align: middle;\n",
       "    }\n",
       "\n",
       "    .dataframe tbody tr th {\n",
       "        vertical-align: top;\n",
       "    }\n",
       "\n",
       "    .dataframe thead th {\n",
       "        text-align: right;\n",
       "    }\n",
       "</style>\n",
       "<table border=\"1\" class=\"dataframe\">\n",
       "  <thead>\n",
       "    <tr style=\"text-align: right;\">\n",
       "      <th></th>\n",
       "      <th>fixed acidity</th>\n",
       "      <th>volatile acidity</th>\n",
       "      <th>citric acid</th>\n",
       "      <th>residual sugar</th>\n",
       "      <th>chlorides</th>\n",
       "      <th>free sulfur dioxide</th>\n",
       "      <th>total sulfur dioxide</th>\n",
       "      <th>density</th>\n",
       "      <th>pH</th>\n",
       "      <th>sulphates</th>\n",
       "      <th>alcohol</th>\n",
       "    </tr>\n",
       "  </thead>\n",
       "  <tbody>\n",
       "    <tr>\n",
       "      <th>493</th>\n",
       "      <td>8.7</td>\n",
       "      <td>0.690</td>\n",
       "      <td>0.31</td>\n",
       "      <td>3.0</td>\n",
       "      <td>0.086</td>\n",
       "      <td>23.0</td>\n",
       "      <td>81.0</td>\n",
       "      <td>1.00020</td>\n",
       "      <td>3.48</td>\n",
       "      <td>0.74</td>\n",
       "      <td>11.6</td>\n",
       "    </tr>\n",
       "    <tr>\n",
       "      <th>354</th>\n",
       "      <td>6.1</td>\n",
       "      <td>0.210</td>\n",
       "      <td>0.40</td>\n",
       "      <td>1.4</td>\n",
       "      <td>0.066</td>\n",
       "      <td>40.5</td>\n",
       "      <td>165.0</td>\n",
       "      <td>0.99120</td>\n",
       "      <td>3.25</td>\n",
       "      <td>0.59</td>\n",
       "      <td>11.9</td>\n",
       "    </tr>\n",
       "    <tr>\n",
       "      <th>342</th>\n",
       "      <td>10.9</td>\n",
       "      <td>0.390</td>\n",
       "      <td>0.47</td>\n",
       "      <td>1.8</td>\n",
       "      <td>0.118</td>\n",
       "      <td>6.0</td>\n",
       "      <td>14.0</td>\n",
       "      <td>0.99820</td>\n",
       "      <td>3.30</td>\n",
       "      <td>0.75</td>\n",
       "      <td>9.8</td>\n",
       "    </tr>\n",
       "    <tr>\n",
       "      <th>834</th>\n",
       "      <td>8.8</td>\n",
       "      <td>0.685</td>\n",
       "      <td>0.26</td>\n",
       "      <td>1.6</td>\n",
       "      <td>0.088</td>\n",
       "      <td>16.0</td>\n",
       "      <td>23.0</td>\n",
       "      <td>0.99694</td>\n",
       "      <td>3.32</td>\n",
       "      <td>0.47</td>\n",
       "      <td>9.4</td>\n",
       "    </tr>\n",
       "    <tr>\n",
       "      <th>705</th>\n",
       "      <td>8.4</td>\n",
       "      <td>1.035</td>\n",
       "      <td>0.15</td>\n",
       "      <td>6.0</td>\n",
       "      <td>0.073</td>\n",
       "      <td>11.0</td>\n",
       "      <td>54.0</td>\n",
       "      <td>0.99900</td>\n",
       "      <td>3.37</td>\n",
       "      <td>0.49</td>\n",
       "      <td>9.9</td>\n",
       "    </tr>\n",
       "    <tr>\n",
       "      <th>...</th>\n",
       "      <td>...</td>\n",
       "      <td>...</td>\n",
       "      <td>...</td>\n",
       "      <td>...</td>\n",
       "      <td>...</td>\n",
       "      <td>...</td>\n",
       "      <td>...</td>\n",
       "      <td>...</td>\n",
       "      <td>...</td>\n",
       "      <td>...</td>\n",
       "      <td>...</td>\n",
       "    </tr>\n",
       "    <tr>\n",
       "      <th>1130</th>\n",
       "      <td>9.1</td>\n",
       "      <td>0.600</td>\n",
       "      <td>0.00</td>\n",
       "      <td>1.9</td>\n",
       "      <td>0.058</td>\n",
       "      <td>5.0</td>\n",
       "      <td>10.0</td>\n",
       "      <td>0.99770</td>\n",
       "      <td>3.18</td>\n",
       "      <td>0.63</td>\n",
       "      <td>10.4</td>\n",
       "    </tr>\n",
       "    <tr>\n",
       "      <th>1294</th>\n",
       "      <td>8.2</td>\n",
       "      <td>0.635</td>\n",
       "      <td>0.10</td>\n",
       "      <td>2.1</td>\n",
       "      <td>0.073</td>\n",
       "      <td>25.0</td>\n",
       "      <td>60.0</td>\n",
       "      <td>0.99638</td>\n",
       "      <td>3.29</td>\n",
       "      <td>0.75</td>\n",
       "      <td>10.9</td>\n",
       "    </tr>\n",
       "    <tr>\n",
       "      <th>860</th>\n",
       "      <td>7.2</td>\n",
       "      <td>0.620</td>\n",
       "      <td>0.06</td>\n",
       "      <td>2.7</td>\n",
       "      <td>0.077</td>\n",
       "      <td>15.0</td>\n",
       "      <td>85.0</td>\n",
       "      <td>0.99746</td>\n",
       "      <td>3.51</td>\n",
       "      <td>0.54</td>\n",
       "      <td>9.5</td>\n",
       "    </tr>\n",
       "    <tr>\n",
       "      <th>1459</th>\n",
       "      <td>7.9</td>\n",
       "      <td>0.200</td>\n",
       "      <td>0.35</td>\n",
       "      <td>1.7</td>\n",
       "      <td>0.054</td>\n",
       "      <td>7.0</td>\n",
       "      <td>15.0</td>\n",
       "      <td>0.99458</td>\n",
       "      <td>3.32</td>\n",
       "      <td>0.80</td>\n",
       "      <td>11.9</td>\n",
       "    </tr>\n",
       "    <tr>\n",
       "      <th>1126</th>\n",
       "      <td>5.8</td>\n",
       "      <td>0.290</td>\n",
       "      <td>0.26</td>\n",
       "      <td>1.7</td>\n",
       "      <td>0.063</td>\n",
       "      <td>3.0</td>\n",
       "      <td>11.0</td>\n",
       "      <td>0.99150</td>\n",
       "      <td>3.39</td>\n",
       "      <td>0.54</td>\n",
       "      <td>13.5</td>\n",
       "    </tr>\n",
       "  </tbody>\n",
       "</table>\n",
       "<p>1279 rows × 11 columns</p>\n",
       "</div>"
      ],
      "text/plain": [
       "      fixed acidity  volatile acidity  citric acid  residual sugar  chlorides  \\\n",
       "493             8.7             0.690         0.31             3.0      0.086   \n",
       "354             6.1             0.210         0.40             1.4      0.066   \n",
       "342            10.9             0.390         0.47             1.8      0.118   \n",
       "834             8.8             0.685         0.26             1.6      0.088   \n",
       "705             8.4             1.035         0.15             6.0      0.073   \n",
       "...             ...               ...          ...             ...        ...   \n",
       "1130            9.1             0.600         0.00             1.9      0.058   \n",
       "1294            8.2             0.635         0.10             2.1      0.073   \n",
       "860             7.2             0.620         0.06             2.7      0.077   \n",
       "1459            7.9             0.200         0.35             1.7      0.054   \n",
       "1126            5.8             0.290         0.26             1.7      0.063   \n",
       "\n",
       "      free sulfur dioxide  total sulfur dioxide  density    pH  sulphates  \\\n",
       "493                  23.0                  81.0  1.00020  3.48       0.74   \n",
       "354                  40.5                 165.0  0.99120  3.25       0.59   \n",
       "342                   6.0                  14.0  0.99820  3.30       0.75   \n",
       "834                  16.0                  23.0  0.99694  3.32       0.47   \n",
       "705                  11.0                  54.0  0.99900  3.37       0.49   \n",
       "...                   ...                   ...      ...   ...        ...   \n",
       "1130                  5.0                  10.0  0.99770  3.18       0.63   \n",
       "1294                 25.0                  60.0  0.99638  3.29       0.75   \n",
       "860                  15.0                  85.0  0.99746  3.51       0.54   \n",
       "1459                  7.0                  15.0  0.99458  3.32       0.80   \n",
       "1126                  3.0                  11.0  0.99150  3.39       0.54   \n",
       "\n",
       "      alcohol  \n",
       "493      11.6  \n",
       "354      11.9  \n",
       "342       9.8  \n",
       "834       9.4  \n",
       "705       9.9  \n",
       "...       ...  \n",
       "1130     10.4  \n",
       "1294     10.9  \n",
       "860       9.5  \n",
       "1459     11.9  \n",
       "1126     13.5  \n",
       "\n",
       "[1279 rows x 11 columns]"
      ]
     },
<<<<<<< HEAD
     "execution_count": 29,
=======
     "execution_count": 33,
>>>>>>> b5350fabf639a6d6409adb331ad716e86bf1803a
     "metadata": {},
     "output_type": "execute_result"
    }
   ],
   "source": [
    "X_train"
   ]
  },
  {
   "cell_type": "code",
<<<<<<< HEAD
   "execution_count": 30,
=======
   "execution_count": 34,
   "id": "7de5ef2d",
>>>>>>> b5350fabf639a6d6409adb331ad716e86bf1803a
   "metadata": {},
   "outputs": [
    {
     "data": {
      "text/html": [
       "<div>\n",
       "<style scoped>\n",
       "    .dataframe tbody tr th:only-of-type {\n",
       "        vertical-align: middle;\n",
       "    }\n",
       "\n",
       "    .dataframe tbody tr th {\n",
       "        vertical-align: top;\n",
       "    }\n",
       "\n",
       "    .dataframe thead th {\n",
       "        text-align: right;\n",
       "    }\n",
       "</style>\n",
       "<table border=\"1\" class=\"dataframe\">\n",
       "  <thead>\n",
       "    <tr style=\"text-align: right;\">\n",
       "      <th></th>\n",
       "      <th>fixed acidity</th>\n",
       "      <th>volatile acidity</th>\n",
       "      <th>citric acid</th>\n",
       "      <th>residual sugar</th>\n",
       "      <th>chlorides</th>\n",
       "      <th>free sulfur dioxide</th>\n",
       "      <th>total sulfur dioxide</th>\n",
       "      <th>density</th>\n",
       "      <th>pH</th>\n",
       "      <th>sulphates</th>\n",
       "      <th>alcohol</th>\n",
       "    </tr>\n",
       "  </thead>\n",
       "  <tbody>\n",
       "    <tr>\n",
       "      <th>803</th>\n",
       "      <td>7.7</td>\n",
       "      <td>0.560</td>\n",
       "      <td>0.08</td>\n",
       "      <td>2.50</td>\n",
       "      <td>0.114</td>\n",
       "      <td>14.0</td>\n",
       "      <td>46.0</td>\n",
       "      <td>0.99710</td>\n",
       "      <td>3.24</td>\n",
       "      <td>0.66</td>\n",
       "      <td>9.6</td>\n",
       "    </tr>\n",
       "    <tr>\n",
       "      <th>124</th>\n",
       "      <td>7.8</td>\n",
       "      <td>0.500</td>\n",
       "      <td>0.17</td>\n",
       "      <td>1.60</td>\n",
       "      <td>0.082</td>\n",
       "      <td>21.0</td>\n",
       "      <td>102.0</td>\n",
       "      <td>0.99600</td>\n",
       "      <td>3.39</td>\n",
       "      <td>0.48</td>\n",
       "      <td>9.5</td>\n",
       "    </tr>\n",
       "    <tr>\n",
       "      <th>350</th>\n",
       "      <td>10.7</td>\n",
       "      <td>0.670</td>\n",
       "      <td>0.22</td>\n",
       "      <td>2.70</td>\n",
       "      <td>0.107</td>\n",
       "      <td>17.0</td>\n",
       "      <td>34.0</td>\n",
       "      <td>1.00040</td>\n",
       "      <td>3.28</td>\n",
       "      <td>0.98</td>\n",
       "      <td>9.9</td>\n",
       "    </tr>\n",
       "    <tr>\n",
       "      <th>682</th>\n",
       "      <td>8.5</td>\n",
       "      <td>0.460</td>\n",
       "      <td>0.31</td>\n",
       "      <td>2.25</td>\n",
       "      <td>0.078</td>\n",
       "      <td>32.0</td>\n",
       "      <td>58.0</td>\n",
       "      <td>0.99800</td>\n",
       "      <td>3.33</td>\n",
       "      <td>0.54</td>\n",
       "      <td>9.8</td>\n",
       "    </tr>\n",
       "    <tr>\n",
       "      <th>1326</th>\n",
       "      <td>6.7</td>\n",
       "      <td>0.460</td>\n",
       "      <td>0.24</td>\n",
       "      <td>1.70</td>\n",
       "      <td>0.077</td>\n",
       "      <td>18.0</td>\n",
       "      <td>34.0</td>\n",
       "      <td>0.99480</td>\n",
       "      <td>3.39</td>\n",
       "      <td>0.60</td>\n",
       "      <td>10.6</td>\n",
       "    </tr>\n",
       "    <tr>\n",
       "      <th>...</th>\n",
       "      <td>...</td>\n",
       "      <td>...</td>\n",
       "      <td>...</td>\n",
       "      <td>...</td>\n",
       "      <td>...</td>\n",
       "      <td>...</td>\n",
       "      <td>...</td>\n",
       "      <td>...</td>\n",
       "      <td>...</td>\n",
       "      <td>...</td>\n",
       "      <td>...</td>\n",
       "    </tr>\n",
       "    <tr>\n",
       "      <th>1259</th>\n",
       "      <td>6.8</td>\n",
       "      <td>0.640</td>\n",
       "      <td>0.00</td>\n",
       "      <td>2.70</td>\n",
       "      <td>0.123</td>\n",
       "      <td>15.0</td>\n",
       "      <td>33.0</td>\n",
       "      <td>0.99538</td>\n",
       "      <td>3.44</td>\n",
       "      <td>0.63</td>\n",
       "      <td>11.3</td>\n",
       "    </tr>\n",
       "    <tr>\n",
       "      <th>1295</th>\n",
       "      <td>6.6</td>\n",
       "      <td>0.630</td>\n",
       "      <td>0.00</td>\n",
       "      <td>4.30</td>\n",
       "      <td>0.093</td>\n",
       "      <td>51.0</td>\n",
       "      <td>77.5</td>\n",
       "      <td>0.99558</td>\n",
       "      <td>3.20</td>\n",
       "      <td>0.45</td>\n",
       "      <td>9.5</td>\n",
       "    </tr>\n",
       "    <tr>\n",
       "      <th>1155</th>\n",
       "      <td>8.3</td>\n",
       "      <td>0.600</td>\n",
       "      <td>0.25</td>\n",
       "      <td>2.20</td>\n",
       "      <td>0.118</td>\n",
       "      <td>9.0</td>\n",
       "      <td>38.0</td>\n",
       "      <td>0.99616</td>\n",
       "      <td>3.15</td>\n",
       "      <td>0.53</td>\n",
       "      <td>9.8</td>\n",
       "    </tr>\n",
       "    <tr>\n",
       "      <th>963</th>\n",
       "      <td>8.8</td>\n",
       "      <td>0.270</td>\n",
       "      <td>0.39</td>\n",
       "      <td>2.00</td>\n",
       "      <td>0.100</td>\n",
       "      <td>20.0</td>\n",
       "      <td>27.0</td>\n",
       "      <td>0.99546</td>\n",
       "      <td>3.15</td>\n",
       "      <td>0.69</td>\n",
       "      <td>11.2</td>\n",
       "    </tr>\n",
       "    <tr>\n",
       "      <th>704</th>\n",
       "      <td>9.1</td>\n",
       "      <td>0.765</td>\n",
       "      <td>0.04</td>\n",
       "      <td>1.60</td>\n",
       "      <td>0.078</td>\n",
       "      <td>4.0</td>\n",
       "      <td>14.0</td>\n",
       "      <td>0.99800</td>\n",
       "      <td>3.29</td>\n",
       "      <td>0.54</td>\n",
       "      <td>9.7</td>\n",
       "    </tr>\n",
       "  </tbody>\n",
       "</table>\n",
       "<p>320 rows × 11 columns</p>\n",
       "</div>"
      ],
      "text/plain": [
       "      fixed acidity  volatile acidity  citric acid  residual sugar  chlorides  \\\n",
       "803             7.7             0.560         0.08            2.50      0.114   \n",
       "124             7.8             0.500         0.17            1.60      0.082   \n",
       "350            10.7             0.670         0.22            2.70      0.107   \n",
       "682             8.5             0.460         0.31            2.25      0.078   \n",
       "1326            6.7             0.460         0.24            1.70      0.077   \n",
       "...             ...               ...          ...             ...        ...   \n",
       "1259            6.8             0.640         0.00            2.70      0.123   \n",
       "1295            6.6             0.630         0.00            4.30      0.093   \n",
       "1155            8.3             0.600         0.25            2.20      0.118   \n",
       "963             8.8             0.270         0.39            2.00      0.100   \n",
       "704             9.1             0.765         0.04            1.60      0.078   \n",
       "\n",
       "      free sulfur dioxide  total sulfur dioxide  density    pH  sulphates  \\\n",
       "803                  14.0                  46.0  0.99710  3.24       0.66   \n",
       "124                  21.0                 102.0  0.99600  3.39       0.48   \n",
       "350                  17.0                  34.0  1.00040  3.28       0.98   \n",
       "682                  32.0                  58.0  0.99800  3.33       0.54   \n",
       "1326                 18.0                  34.0  0.99480  3.39       0.60   \n",
       "...                   ...                   ...      ...   ...        ...   \n",
       "1259                 15.0                  33.0  0.99538  3.44       0.63   \n",
       "1295                 51.0                  77.5  0.99558  3.20       0.45   \n",
       "1155                  9.0                  38.0  0.99616  3.15       0.53   \n",
       "963                  20.0                  27.0  0.99546  3.15       0.69   \n",
       "704                   4.0                  14.0  0.99800  3.29       0.54   \n",
       "\n",
       "      alcohol  \n",
       "803       9.6  \n",
       "124       9.5  \n",
       "350       9.9  \n",
       "682       9.8  \n",
       "1326     10.6  \n",
       "...       ...  \n",
       "1259     11.3  \n",
       "1295      9.5  \n",
       "1155      9.8  \n",
       "963      11.2  \n",
       "704       9.7  \n",
       "\n",
       "[320 rows x 11 columns]"
      ]
     },
<<<<<<< HEAD
     "execution_count": 30,
=======
     "execution_count": 34,
>>>>>>> b5350fabf639a6d6409adb331ad716e86bf1803a
     "metadata": {},
     "output_type": "execute_result"
    }
   ],
   "source": [
    "X_test"
   ]
  },
  {
   "cell_type": "code",
<<<<<<< HEAD
   "execution_count": 31,
=======
   "execution_count": 35,
   "id": "e2126bf1",
>>>>>>> b5350fabf639a6d6409adb331ad716e86bf1803a
   "metadata": {},
   "outputs": [],
   "source": [
    "#Applying Standard scaling to get optimized result\n",
    "sc = StandardScaler()"
   ]
  },
  {
   "cell_type": "code",
<<<<<<< HEAD
   "execution_count": 32,
=======
   "execution_count": 36,
   "id": "57e2afa2",
>>>>>>> b5350fabf639a6d6409adb331ad716e86bf1803a
   "metadata": {},
   "outputs": [
    {
     "data": {
      "text/plain": [
       "493     0\n",
       "354     0\n",
       "342     0\n",
       "834     0\n",
       "705     0\n",
       "       ..\n",
       "1130    0\n",
       "1294    0\n",
       "860     0\n",
       "1459    1\n",
       "1126    0\n",
       "Name: quality, Length: 1279, dtype: int32"
      ]
     },
<<<<<<< HEAD
     "execution_count": 32,
=======
     "execution_count": 36,
>>>>>>> b5350fabf639a6d6409adb331ad716e86bf1803a
     "metadata": {},
     "output_type": "execute_result"
    }
   ],
   "source": [
    "y_train"
   ]
  },
  {
   "cell_type": "code",
<<<<<<< HEAD
   "execution_count": 33,
   "metadata": {},
   "outputs": [
    {
     "data": {
      "text/plain": [
       "8.323690383111803"
      ]
     },
     "execution_count": 33,
     "metadata": {},
     "output_type": "execute_result"
    }
   ],
   "source": [
    "np.mean(X_train['fixed acidity'])"
   ]
  },
  {
   "cell_type": "code",
   "execution_count": 34,
   "metadata": {},
   "outputs": [],
   "source": [
    "#Applying Standard scaling to get optimized result\n",
    "sc = StandardScaler()"
   ]
  },
  {
   "cell_type": "code",
   "execution_count": 35,
=======
   "execution_count": 37,
   "id": "25e5d4eb",
>>>>>>> b5350fabf639a6d6409adb331ad716e86bf1803a
   "metadata": {},
   "outputs": [],
   "source": [
    "X_train = sc.fit_transform(X_train)\n",
    "X_test = sc.fit_transform(X_test)"
   ]
  },
  {
   "cell_type": "code",
<<<<<<< HEAD
   "execution_count": 36,
=======
   "execution_count": 38,
   "id": "3358840e",
>>>>>>> b5350fabf639a6d6409adb331ad716e86bf1803a
   "metadata": {},
   "outputs": [
    {
     "data": {
      "text/plain": [
       "array([[ 0.21833164,  0.88971201,  0.19209222, ...,  1.09349989,\n",
       "         0.45822284,  1.12317723],\n",
       "       [-1.29016623, -1.78878251,  0.65275338, ..., -0.40043872,\n",
       "        -0.40119696,  1.40827174],\n",
       "       [ 1.49475291, -0.78434707,  1.01104539, ..., -0.07566946,\n",
       "         0.51551749, -0.58738978],\n",
       "       ...,\n",
       "       [-0.65195559,  0.49909822, -1.08752211, ...,  1.28836145,\n",
       "        -0.68767023, -0.87248428],\n",
       "       [-0.24582155, -1.84458448,  0.39683051, ...,  0.05423824,\n",
       "         0.80199076,  1.40827174],\n",
       "       [-1.46422367, -1.34236676, -0.06383064, ...,  0.50891521,\n",
       "        -0.68767023,  2.92877575]])"
      ]
     },
<<<<<<< HEAD
     "execution_count": 36,
=======
     "execution_count": 38,
>>>>>>> b5350fabf639a6d6409adb331ad716e86bf1803a
     "metadata": {},
     "output_type": "execute_result"
    }
   ],
   "source": [
    "X_train"
   ]
  },
  {
   "cell_type": "code",
<<<<<<< HEAD
   "execution_count": 37,
   "metadata": {},
   "outputs": [],
   "source": [
    "rfc = RandomForestClassifier(n_estimators=200)"
=======
   "execution_count": 39,
   "id": "6d639cb8",
   "metadata": {},
   "outputs": [],
   "source": [
    "rfc = RandomForestClassifier(n_estimators=200)"
   ]
  },
  {
   "cell_type": "code",
   "execution_count": 40,
   "id": "14176a72",
   "metadata": {},
   "outputs": [
    {
     "data": {
      "text/plain": [
       "RandomForestClassifier(n_estimators=200)"
      ]
     },
     "execution_count": 40,
     "metadata": {},
     "output_type": "execute_result"
    }
   ],
   "source": [
    "rfc"
   ]
  },
  {
   "cell_type": "code",
   "execution_count": 41,
   "id": "07d04380",
   "metadata": {},
   "outputs": [],
   "source": [
    "rfc.fit(X_train, y_train)\n",
    "pred_rfc = rfc.predict(X_test)"
>>>>>>> b5350fabf639a6d6409adb331ad716e86bf1803a
   ]
  },
  {
   "cell_type": "code",
<<<<<<< HEAD
   "execution_count": null,
   "metadata": {},
   "outputs": [],
   "source": []
=======
   "execution_count": 42,
   "id": "14c69dc3",
   "metadata": {},
   "outputs": [
    {
     "name": "stdout",
     "output_type": "stream",
     "text": [
      "              precision    recall  f1-score   support\n",
      "\n",
      "           0       0.90      0.97      0.94       273\n",
      "           1       0.72      0.38      0.50        47\n",
      "\n",
      "    accuracy                           0.89       320\n",
      "   macro avg       0.81      0.68      0.72       320\n",
      "weighted avg       0.88      0.89      0.87       320\n",
      "\n"
     ]
    }
   ],
   "source": [
    "print(classification_report(y_test, pred_rfc))"
   ]
  },
  {
   "cell_type": "code",
   "execution_count": 43,
   "id": "67c126a9",
   "metadata": {},
   "outputs": [
    {
     "name": "stdout",
     "output_type": "stream",
     "text": [
      "[[266   7]\n",
      " [ 29  18]]\n"
     ]
    }
   ],
   "source": [
    "print(confusion_matrix(y_test, pred_rfc))"
   ]
  },
  {
   "cell_type": "code",
   "execution_count": 44,
   "id": "25b7c34d",
   "metadata": {},
   "outputs": [],
   "source": [
    "sgd = SGDClassifier(penalty=None)\n",
    "sgd.fit(X_train, y_train)\n",
    "pred_sgd = sgd.predict(X_test)"
   ]
  },
  {
   "cell_type": "code",
   "execution_count": 45,
   "id": "0cddc3e3",
   "metadata": {},
   "outputs": [
    {
     "name": "stdout",
     "output_type": "stream",
     "text": [
      "              precision    recall  f1-score   support\n",
      "\n",
      "           0       0.86      0.97      0.91       273\n",
      "           1       0.36      0.09      0.14        47\n",
      "\n",
      "    accuracy                           0.84       320\n",
      "   macro avg       0.61      0.53      0.53       320\n",
      "weighted avg       0.79      0.84      0.80       320\n",
      "\n"
     ]
    }
   ],
   "source": [
    "print(classification_report(y_test, pred_sgd))"
   ]
  },
  {
   "cell_type": "code",
   "execution_count": 46,
   "id": "916bd089",
   "metadata": {},
   "outputs": [
    {
     "name": "stdout",
     "output_type": "stream",
     "text": [
      "[[266   7]\n",
      " [ 43   4]]\n"
     ]
    }
   ],
   "source": [
    "print(confusion_matrix(y_test, pred_sgd))"
   ]
  },
  {
   "cell_type": "code",
   "execution_count": 47,
   "id": "96f035bd",
   "metadata": {},
   "outputs": [],
   "source": [
    "svc = SVC()\n",
    "svc.fit(X_train, y_train)\n",
    "pred_svc = svc.predict(X_test)"
   ]
  },
  {
   "cell_type": "code",
   "execution_count": 48,
   "id": "e0b6da17",
   "metadata": {},
   "outputs": [
    {
     "name": "stdout",
     "output_type": "stream",
     "text": [
      "              precision    recall  f1-score   support\n",
      "\n",
      "           0       0.88      0.98      0.93       273\n",
      "           1       0.71      0.26      0.37        47\n",
      "\n",
      "    accuracy                           0.88       320\n",
      "   macro avg       0.80      0.62      0.65       320\n",
      "weighted avg       0.86      0.88      0.85       320\n",
      "\n"
     ]
    }
   ],
   "source": [
    "print(classification_report(y_test, pred_svc))"
   ]
  },
  {
   "cell_type": "code",
   "execution_count": 49,
   "id": "9dce9478",
   "metadata": {},
   "outputs": [],
   "source": [
    "#Finding best parameters for our SVC model\n",
    "param = {\n",
    "    'C': [0.1,0.8,0.9,1,1.1,1.2,1.3,1.4],\n",
    "    'kernel':['linear', 'rbf'],\n",
    "    'gamma' :[0.1,0.8,0.9,1,1.1,1.2,1.3,1.4]\n",
    "}\n",
    "grid_svc = GridSearchCV(svc, param_grid=param, scoring='accuracy', cv=10)"
   ]
  },
  {
   "cell_type": "code",
   "execution_count": 50,
   "id": "382d8f9e",
   "metadata": {},
   "outputs": [
    {
     "data": {
      "text/plain": [
       "GridSearchCV(cv=10, estimator=SVC(),\n",
       "             param_grid={'C': [0.1, 0.8, 0.9, 1, 1.1, 1.2, 1.3, 1.4],\n",
       "                         'gamma': [0.1, 0.8, 0.9, 1, 1.1, 1.2, 1.3, 1.4],\n",
       "                         'kernel': ['linear', 'rbf']},\n",
       "             scoring='accuracy')"
      ]
     },
     "execution_count": 50,
     "metadata": {},
     "output_type": "execute_result"
    }
   ],
   "source": [
    "grid_svc.fit(X_train, y_train)"
   ]
  },
  {
   "cell_type": "code",
   "execution_count": 37,
   "id": "89a569cf",
   "metadata": {},
   "outputs": [],
   "source": [
    "def sort_by_target(mnist):\n",
    "    reorder_train = np.array(sorted([(target, i) for i, target in enumerate(mnist.target[:60000])]))[:, 1]\n",
    "    reorder_test = np.array(sorted([(target, i) for i, target in enumerate(mnist.target[60000:])]))[:, 1]\n",
    "    mnist.data[:60000] = mnist.data[reorder_train]\n",
    "    mnist.target[:60000] = mnist.target[reorder_train]\n",
    "    mnist.data[60000:] = mnist.data[reorder_test + 60000]\n",
    "    mnist.target[60000:] = mnist.target[reorder_test + 60000]"
   ]
  },
  {
   "cell_type": "code",
   "execution_count": 39,
   "id": "72537737",
   "metadata": {},
   "outputs": [
    {
     "data": {
      "text/plain": [
       "(array([[0., 0., 0., ..., 0., 0., 0.],\n",
       "        [0., 0., 0., ..., 0., 0., 0.],\n",
       "        [0., 0., 0., ..., 0., 0., 0.],\n",
       "        ...,\n",
       "        [0., 0., 0., ..., 0., 0., 0.],\n",
       "        [0., 0., 0., ..., 0., 0., 0.],\n",
       "        [0., 0., 0., ..., 0., 0., 0.]]),\n",
       " array([0, 0, 0, ..., 9, 9, 9], dtype=int8))"
      ]
     },
     "execution_count": 39,
     "metadata": {},
     "output_type": "execute_result"
    }
   ],
   "source": [
    "try:\n",
    "    from sklearn.datasets import fetch_openml\n",
    "    mnist = fetch_openml('mnist_784', version=1, cache=True, as_frame=False)\n",
    "    mnist.target = mnist.target.astype(np.int8) # fetch_openml() returns targets as strings\n",
    "    sort_by_target(mnist) # fetch_openml() returns an unsorted dataset\n",
    "except ImportError:\n",
    "    from sklearn.datasets import fetch_mldata\n",
    "    mnist = fetch_mldata('MNIST original')\n",
    "mnist[\"data\"], mnist[\"target\"]"
   ]
  },
  {
   "cell_type": "code",
   "execution_count": 40,
   "id": "aef48336",
   "metadata": {},
   "outputs": [
    {
     "data": {
      "text/plain": [
       "(70000, 784)"
      ]
     },
     "execution_count": 40,
     "metadata": {},
     "output_type": "execute_result"
    }
   ],
   "source": [
    "mnist.data.shape"
   ]
  },
  {
   "cell_type": "code",
   "execution_count": 41,
   "id": "473b9f6d",
   "metadata": {},
   "outputs": [
    {
     "data": {
      "text/plain": [
       "array([[0., 0., 0., ..., 0., 0., 0.],\n",
       "       [0., 0., 0., ..., 0., 0., 0.],\n",
       "       [0., 0., 0., ..., 0., 0., 0.],\n",
       "       ...,\n",
       "       [0., 0., 0., ..., 0., 0., 0.],\n",
       "       [0., 0., 0., ..., 0., 0., 0.],\n",
       "       [0., 0., 0., ..., 0., 0., 0.]])"
      ]
     },
     "execution_count": 41,
     "metadata": {},
     "output_type": "execute_result"
    }
   ],
   "source": [
    "mnist[\"data\"]"
   ]
  },
  {
   "cell_type": "code",
   "execution_count": 42,
   "id": "d647f0b8",
   "metadata": {},
   "outputs": [
    {
     "data": {
      "text/plain": [
       "array([0, 0, 0, ..., 9, 9, 9], dtype=int8)"
      ]
     },
     "execution_count": 42,
     "metadata": {},
     "output_type": "execute_result"
    }
   ],
   "source": [
    "mnist[\"target\"]"
   ]
  },
  {
   "cell_type": "code",
   "execution_count": null,
   "id": "93e4408c",
   "metadata": {},
   "outputs": [],
   "source": [
    "mnist[\"data\"]"
   ]
  },
  {
   "cell_type": "code",
   "execution_count": 43,
   "id": "2098883f",
   "metadata": {},
   "outputs": [
    {
     "data": {
      "text/plain": [
       "array([0, 1, 2, 3, 4, 5, 6, 7, 8, 9], dtype=int8)"
      ]
     },
     "execution_count": 43,
     "metadata": {},
     "output_type": "execute_result"
    }
   ],
   "source": [
    "np.unique(mnist[\"target\"])"
   ]
  },
  {
   "cell_type": "code",
   "execution_count": 44,
   "id": "a49caf6d",
   "metadata": {},
   "outputs": [
    {
     "data": {
      "text/plain": [
       "array([  0.,   1.,   2.,   3.,   4.,   5.,   6.,   7.,   8.,   9.,  10.,\n",
       "        11.,  12.,  13.,  14.,  15.,  16.,  17.,  18.,  19.,  20.,  21.,\n",
       "        22.,  23.,  24.,  25.,  26.,  27.,  28.,  29.,  30.,  31.,  32.,\n",
       "        33.,  34.,  35.,  36.,  37.,  38.,  39.,  40.,  41.,  42.,  43.,\n",
       "        44.,  45.,  46.,  47.,  48.,  49.,  50.,  51.,  52.,  53.,  54.,\n",
       "        55.,  56.,  57.,  58.,  59.,  60.,  61.,  62.,  63.,  64.,  65.,\n",
       "        66.,  67.,  68.,  69.,  70.,  71.,  72.,  73.,  74.,  75.,  76.,\n",
       "        77.,  78.,  79.,  80.,  81.,  82.,  83.,  84.,  85.,  86.,  87.,\n",
       "        88.,  89.,  90.,  91.,  92.,  93.,  94.,  95.,  96.,  97.,  98.,\n",
       "        99., 100., 101., 102., 103., 104., 105., 106., 107., 108., 109.,\n",
       "       110., 111., 112., 113., 114., 115., 116., 117., 118., 119., 120.,\n",
       "       121., 122., 123., 124., 125., 126., 127., 128., 129., 130., 131.,\n",
       "       132., 133., 134., 135., 136., 137., 138., 139., 140., 141., 142.,\n",
       "       143., 144., 145., 146., 147., 148., 149., 150., 151., 152., 153.,\n",
       "       154., 155., 156., 157., 158., 159., 160., 161., 162., 163., 164.,\n",
       "       165., 166., 167., 168., 169., 170., 171., 172., 173., 174., 175.,\n",
       "       176., 177., 178., 179., 180., 181., 182., 183., 184., 185., 186.,\n",
       "       187., 188., 189., 190., 191., 192., 193., 194., 195., 196., 197.,\n",
       "       198., 199., 200., 201., 202., 203., 204., 205., 206., 207., 208.,\n",
       "       209., 210., 211., 212., 213., 214., 215., 216., 217., 218., 219.,\n",
       "       220., 221., 222., 223., 224., 225., 226., 227., 228., 229., 230.,\n",
       "       231., 232., 233., 234., 235., 236., 237., 238., 239., 240., 241.,\n",
       "       242., 243., 244., 245., 246., 247., 248., 249., 250., 251., 252.,\n",
       "       253., 254., 255.])"
      ]
     },
     "execution_count": 44,
     "metadata": {},
     "output_type": "execute_result"
    }
   ],
   "source": [
    "np.unique(mnist[\"data\"])"
   ]
  },
  {
   "cell_type": "code",
   "execution_count": 45,
   "id": "6ae73968",
   "metadata": {},
   "outputs": [
    {
     "data": {
      "text/plain": [
       "(array([0, 1, 2, 3, 4, 5, 6, 7, 8, 9], dtype=int8),\n",
       " array([6903, 7877, 6990, 7141, 6824, 6313, 6876, 7293, 6825, 6958],\n",
       "       dtype=int64))"
      ]
     },
     "execution_count": 45,
     "metadata": {},
     "output_type": "execute_result"
    }
   ],
   "source": [
    "np.unique(mnist[\"target\"], return_counts = True)"
   ]
  },
  {
   "cell_type": "code",
   "execution_count": 46,
   "id": "86cb89da",
   "metadata": {},
   "outputs": [
    {
     "data": {
      "text/plain": [
       "(array([  0.,   1.,   2.,   3.,   4.,   5.,   6.,   7.,   8.,   9.,  10.,\n",
       "         11.,  12.,  13.,  14.,  15.,  16.,  17.,  18.,  19.,  20.,  21.,\n",
       "         22.,  23.,  24.,  25.,  26.,  27.,  28.,  29.,  30.,  31.,  32.,\n",
       "         33.,  34.,  35.,  36.,  37.,  38.,  39.,  40.,  41.,  42.,  43.,\n",
       "         44.,  45.,  46.,  47.,  48.,  49.,  50.,  51.,  52.,  53.,  54.,\n",
       "         55.,  56.,  57.,  58.,  59.,  60.,  61.,  62.,  63.,  64.,  65.,\n",
       "         66.,  67.,  68.,  69.,  70.,  71.,  72.,  73.,  74.,  75.,  76.,\n",
       "         77.,  78.,  79.,  80.,  81.,  82.,  83.,  84.,  85.,  86.,  87.,\n",
       "         88.,  89.,  90.,  91.,  92.,  93.,  94.,  95.,  96.,  97.,  98.,\n",
       "         99., 100., 101., 102., 103., 104., 105., 106., 107., 108., 109.,\n",
       "        110., 111., 112., 113., 114., 115., 116., 117., 118., 119., 120.,\n",
       "        121., 122., 123., 124., 125., 126., 127., 128., 129., 130., 131.,\n",
       "        132., 133., 134., 135., 136., 137., 138., 139., 140., 141., 142.,\n",
       "        143., 144., 145., 146., 147., 148., 149., 150., 151., 152., 153.,\n",
       "        154., 155., 156., 157., 158., 159., 160., 161., 162., 163., 164.,\n",
       "        165., 166., 167., 168., 169., 170., 171., 172., 173., 174., 175.,\n",
       "        176., 177., 178., 179., 180., 181., 182., 183., 184., 185., 186.,\n",
       "        187., 188., 189., 190., 191., 192., 193., 194., 195., 196., 197.,\n",
       "        198., 199., 200., 201., 202., 203., 204., 205., 206., 207., 208.,\n",
       "        209., 210., 211., 212., 213., 214., 215., 216., 217., 218., 219.,\n",
       "        220., 221., 222., 223., 224., 225., 226., 227., 228., 229., 230.,\n",
       "        231., 232., 233., 234., 235., 236., 237., 238., 239., 240., 241.,\n",
       "        242., 243., 244., 245., 246., 247., 248., 249., 250., 251., 252.,\n",
       "        253., 254., 255.]),\n",
       " array([44374625,    26728,    39409,    42140,    44638,    45783,\n",
       "           43928,    45443,    35830,    44646,    41337,    41852,\n",
       "           35095,    46908,    31375,    33576,    33904,    32028,\n",
       "           31433,    40342,    35068,    41593,    31524,    26595,\n",
       "           30189,    34988,    28311,    27909,    29532,    42988,\n",
       "           26731,    30486,    33695,    18190,    23120,    24957,\n",
       "           25783,    28869,    30402,    21235,    23944,    31578,\n",
       "           25972,    24773,    22132,    24563,    20209,    28249,\n",
       "           23413,    20753,    28071,    29019,    16907,    22506,\n",
       "           21192,    21101,    27306,    36863,    16663,    21085,\n",
       "           21018,    21058,    23003,    27765,    54942,    18578,\n",
       "           20424,    18579,    19026,    19594,    22623,    21464,\n",
       "           20186,    22420,    16124,    18480,    20787,    15861,\n",
       "           20659,    21058,    18293,    19456,    24776,    17953,\n",
       "           31355,    29613,    29792,    14806,    18530,    20523,\n",
       "           14727,    20800,    21614,    20116,    19394,    19053,\n",
       "           20715,    16560,    19543,    20641,    17765,    16558,\n",
       "           25597,    17305,    19133,    17282,    21345,    19072,\n",
       "           20935,    21236,    18392,    18677,    21287,    23416,\n",
       "           28536,    17565,    22521,    17184,    19722,    18056,\n",
       "           19091,    20238,    19164,    20830,    16083,    19171,\n",
       "           19622,    19034,    88212,    19205,    20929,    22480,\n",
       "           21919,    17538,    18046,    19409,    18808,    20463,\n",
       "           20127,    22752,    20439,    31360,    21099,    18644,\n",
       "           21942,    21271,    18595,    19498,    19852,    19138,\n",
       "           19788,    25328,    20884,    18168,    20918,    21910,\n",
       "           21801,    17171,    19359,    18526,    21126,    20055,\n",
       "           21017,    21475,    17944,    17943,    17294,    16741,\n",
       "           29240,    29807,    34442,    19596,    21628,    22736,\n",
       "           19670,    19245,    20121,    19620,    19718,    21100,\n",
       "           20002,    19994,    18590,    23499,    20988,    20313,\n",
       "           19909,    19432,    20071,    21768,    23669,    61004,\n",
       "           23244,    21971,    21860,    23267,    26425,    26885,\n",
       "           30216,    21939,    20984,    20583,    22845,    33993,\n",
       "           21360,    22556,    25576,    24434,    21073,    22860,\n",
       "           25532,    26363,    26948,    29633,    30041,    28148,\n",
       "           25447,    29002,    25542,    22824,    23980,    28755,\n",
       "           30039,    30623,    28083,    31781,    40967,    29575,\n",
       "           34247,    27480,    31609,    34501,    35334,    43190,\n",
       "           38885,    33936,    36793,    34582,    31369,    31951,\n",
       "           38903,    41426,    36493,    43237,    43373,    41168,\n",
       "           39400,    44170,    41085,    45893,    66245,   131401,\n",
       "          772500,  1775038,   937774,   371117], dtype=int64))"
      ]
     },
     "execution_count": 46,
     "metadata": {},
     "output_type": "execute_result"
    }
   ],
   "source": [
    "np.unique(mnist[\"data\"], return_counts = True)"
   ]
  },
  {
   "cell_type": "code",
   "execution_count": 48,
   "id": "e9926e3a",
   "metadata": {},
   "outputs": [
    {
     "data": {
      "text/plain": [
       "(70000, 784)"
      ]
     },
     "execution_count": 48,
     "metadata": {},
     "output_type": "execute_result"
    }
   ],
   "source": [
    "X, y = mnist[\"data\"], mnist[\"target\"]\n",
    "X.shape"
   ]
  },
  {
   "cell_type": "code",
   "execution_count": 50,
   "id": "9a1f2fe5",
   "metadata": {},
   "outputs": [],
   "source": [
    "import matplotlib as mpl\n",
    "import matplotlib.pyplot as plt\n",
    "mpl.rc('axes', labelsize=14)\n",
    "mpl.rc('xtick', labelsize=12)\n",
    "mpl.rc('ytick', labelsize=12)"
   ]
  },
  {
   "cell_type": "code",
   "execution_count": 52,
   "id": "04198dae",
   "metadata": {},
   "outputs": [],
   "source": [
    "# Common imports\n",
    "import numpy as np\n",
    "import os\n",
    "\n",
    "# to make this notebook's output stable across runs\n",
    "np.random.seed(42)\n",
    "\n",
    "# To plot pretty figures\n",
    "%matplotlib inline\n",
    "import matplotlib as mpl\n",
    "import matplotlib.pyplot as plt\n",
    "mpl.rc('axes', labelsize=14)\n",
    "mpl.rc('xtick', labelsize=12)\n",
    "mpl.rc('ytick', labelsize=12)\n",
    "\n",
    "# Where to save the figures\n",
    "PROJECT_ROOT_DIR = \".\"\n",
    "CHAPTER_ID = \"classification\"\n",
    "IMAGES_PATH = os.path.join(PROJECT_ROOT_DIR, \"images\", CHAPTER_ID)\n",
    "os.makedirs(IMAGES_PATH, exist_ok=True)\n",
    "\n",
    "def save_fig(fig_id, tight_layout=True, fig_extension=\"png\", resolution=300):\n",
    "    path = os.path.join(IMAGES_PATH, fig_id + \".\" + fig_extension)\n",
    "    print(\"Saving figure\", fig_id)\n",
    "    if tight_layout:\n",
    "        plt.tight_layout()\n",
    "    plt.savefig(path, format=fig_extension, dpi=resolution)"
   ]
  },
  {
   "cell_type": "code",
   "execution_count": 55,
   "id": "7b7b27a6",
   "metadata": {},
   "outputs": [
    {
     "name": "stdout",
     "output_type": "stream",
     "text": [
      "784\n",
      "Saving figure some_digit_plot\n"
     ]
    },
    {
     "data": {
      "image/png": "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\n",
      "text/plain": [
       "<Figure size 432x288 with 1 Axes>"
      ]
     },
     "metadata": {
      "needs_background": "light"
     },
     "output_type": "display_data"
    }
   ],
   "source": [
    "some_digit = X[36000]\n",
    "some_digit_image = some_digit.reshape(28, 28)\n",
    "plt.imshow(some_digit_image, cmap = mpl.cm.binary,\n",
    "           interpolation=\"nearest\")\n",
    "plt.axis(\"off\")\n",
    "\n",
    "save_fig(\"some_digit_plot\")\n",
    "plt.show()"
   ]
  },
  {
   "cell_type": "code",
   "execution_count": 56,
   "id": "4b39e225",
   "metadata": {},
   "outputs": [
    {
     "name": "stdout",
     "output_type": "stream",
     "text": [
      "0\n"
     ]
    }
   ],
   "source": [
    "print(1//2)"
   ]
>>>>>>> b5350fabf639a6d6409adb331ad716e86bf1803a
  }
 ],
 "metadata": {
  "kernelspec": {
   "display_name": "Python 3",
   "language": "python",
   "name": "python3"
  },
  "language_info": {
   "codemirror_mode": {
    "name": "ipython",
    "version": 3
   },
   "file_extension": ".py",
   "mimetype": "text/x-python",
   "name": "python",
   "nbconvert_exporter": "python",
   "pygments_lexer": "ipython3",
   "version": "3.8.5"
  }
 },
 "nbformat": 4,
 "nbformat_minor": 5
}
