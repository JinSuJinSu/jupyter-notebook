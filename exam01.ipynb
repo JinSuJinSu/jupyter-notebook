{
 "cells": [
  {
   "cell_type": "code",
   "execution_count": 20,
   "id": "801aa2cd",
   "metadata": {},
   "outputs": [],
   "source": [
    "import numpy as np\n",
    "\n",
    "u = [2,2]\n",
    "v = [1,2]\n",
    "z=[-3,5]\n",
    "\n",
    "\n",
    "\n",
    "\n",
    "\n"
   ]
  },
  {
   "cell_type": "code",
   "execution_count": 3,
   "id": "89f2fb9a",
   "metadata": {},
   "outputs": [],
   "source": [
    "result = []"
   ]
  },
  {
   "cell_type": "code",
   "execution_count": 10,
   "id": "cfd98d74",
   "metadata": {},
   "outputs": [
    {
     "name": "stdout",
     "output_type": "stream",
     "text": [
      "[0, 9, 0, 9, 0, 9]\n"
     ]
    }
   ],
   "source": [
    "result.append(u[0]+v[0]+z[0])\n",
    "result.append(u[1]+v[1]+z[1])\n",
    "\n",
    "print(result)"
   ]
  },
  {
   "cell_type": "code",
   "execution_count": 12,
   "id": "1deab688",
   "metadata": {
    "scrolled": true
   },
   "outputs": [
    {
     "name": "stdout",
     "output_type": "stream",
     "text": [
      "[0, 9]\n"
     ]
    }
   ],
   "source": [
    "result = [sum(i) for i in zip(u,v,z)]\n",
    "print(result)"
   ]
  },
  {
   "cell_type": "code",
   "execution_count": 19,
   "id": "6c184daa",
   "metadata": {},
   "outputs": [
    {
     "name": "stdout",
     "output_type": "stream",
     "text": [
      "[0, 9]\n"
     ]
    }
   ],
   "source": [
    "def vector_addition(*args):\n",
    "    return [sum(i) for i in zip(u,v,z)]\n",
    "\n",
    "print(vector_addition(u,v,z))"
   ]
  },
  {
   "cell_type": "code",
   "execution_count": 22,
   "id": "d3bb7c50",
   "metadata": {},
   "outputs": [
    {
     "name": "stdout",
     "output_type": "stream",
     "text": [
      "[0, 9]\n"
     ]
    }
   ],
   "source": [
    "new_result = np.array(u)+np.array(v)+np.array(z)\n",
    "print(new_result.tolist())"
   ]
  },
  {
   "cell_type": "code",
   "execution_count": 23,
   "id": "4b913792",
   "metadata": {},
   "outputs": [
    {
     "name": "stdout",
     "output_type": "stream",
     "text": [
      "[10, 10, 12]\n"
     ]
    }
   ],
   "source": [
    "u = [1,2,3]\n",
    "v = [4,3,3]\n",
    "alpha = 2\n",
    "new_result = [alpha*sum(i) for i in zip(u,v)]\n",
    "print(new_result)"
   ]
  },
  {
   "cell_type": "code",
   "execution_count": 25,
   "id": "2e35bc3a",
   "metadata": {},
   "outputs": [
    {
     "name": "stdout",
     "output_type": "stream",
     "text": [
      "[10, 10, 12]\n"
     ]
    }
   ],
   "source": [
    "new_result = 2*(np.array(u)+np.array(v))\n",
    "print(new_result.tolist())"
   ]
  },
  {
   "cell_type": "code",
   "execution_count": 33,
   "id": "762f24c6",
   "metadata": {},
   "outputs": [
    {
     "name": "stdout",
     "output_type": "stream",
     "text": [
      "[[8, 14], [10, 12]]\n",
      "[[8, 14], [10, 12]]\n",
      "[[ 8 14]\n",
      " [10 12]]\n"
     ]
    }
   ],
   "source": [
    "martix_a = [[3,6],[4,5]]\n",
    "martix_b = [[5,8],[6,7]]\n",
    "\n",
    "result= []\n",
    "\n",
    "for i in range(len(martix_a)):\n",
    "    array = []\n",
    "    for j in range(len(martix_a[i])):\n",
    "        array.append(martix_a[i][j]+martix_b[i][j])\n",
    "        \n",
    "    result.append(array)\n",
    "        \n",
    "print(result)\n",
    "\n",
    "another_result = [[sum(row) for row in zip(*t)] for t in zip(martix_a,martix_b)]\n",
    "print(another_result)\n",
    "\n",
    "print(np.array(martix_a)+np.array(martix_b))"
   ]
  },
  {
   "cell_type": "code",
   "execution_count": 85,
   "id": "7f47520c",
   "metadata": {},
   "outputs": [
    {
     "name": "stdout",
     "output_type": "stream",
     "text": [
      "[[1, 4], [2, 5], [3, 6]]\n",
      "[[1, 4], [2, 5], [3, 6]]\n",
      "[[1, 4], [2, 5], [3, 6]]\n",
      "[[1, 4], [2, 5], [3, 6]]\n",
      "[[1, 4], [2, 5], [3, 6]]\n",
      "['a', 'd', 'e']\n"
     ]
    }
   ],
   "source": [
    "new_array = [[1,2,3],[4,5,6]]\n",
    "result_array=[]\n",
    "\n",
    "num1 = len(array1)\n",
    "num2 = len(array1[0])\n",
    "\n",
    "\n",
    "for i in range(num2):\n",
    "    array = []\n",
    "    for j in range(num1):\n",
    "        array.append(new_array[j][i])\n",
    "        \n",
    "    result_array.append(array)\n",
    "print(result_array)\n",
    "\n",
    "\n",
    "result = [[row[i] for row in new_array] for i in range(len(new_array[0]))]\n",
    "print(result)\n",
    "\n",
    "\n",
    "result1 = list(map(list,[x for x in zip(*new_array)]))\n",
    "print(result1)\n",
    "\n",
    "result2 = [list(x) for x in zip(*new_array)]\n",
    "print(result2)\n",
    "\n",
    "result3 = [[element for element in t] for t in zip(*new_array)]\n",
    "print(result3)\n",
    "\n",
    "\n",
    "\n",
    "\n",
    "\n",
    "        "
   ]
  }
 ],
 "metadata": {
  "kernelspec": {
   "display_name": "Python 3",
   "language": "python",
   "name": "python3"
  },
  "language_info": {
   "codemirror_mode": {
    "name": "ipython",
    "version": 3
   },
   "file_extension": ".py",
   "mimetype": "text/x-python",
   "name": "python",
   "nbconvert_exporter": "python",
   "pygments_lexer": "ipython3",
   "version": "3.7.10"
  }
 },
 "nbformat": 4,
 "nbformat_minor": 5
}
