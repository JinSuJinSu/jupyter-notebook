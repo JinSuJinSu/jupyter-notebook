{
 "cells": [
  {
   "cell_type": "code",
   "execution_count": 23,
   "metadata": {},
   "outputs": [],
   "source": [
    "from selenium import webdriver"
   ]
  },
  {
   "cell_type": "code",
   "execution_count": 24,
   "metadata": {},
   "outputs": [],
   "source": [
    "driver = webdriver.Chrome('chrome_driver/chromedriver.exe')\n",
    "driver.get('https://www.opinet.co.kr')\n",
    "\n"
   ]
  },
  {
   "cell_type": "code",
   "execution_count": 25,
   "metadata": {},
   "outputs": [
    {
     "name": "stdout",
     "output_type": "stream",
     "text": [
      "https://www.opinet.co.kr/\n"
     ]
    }
   ],
   "source": [
    "print(driver.current_url)"
   ]
  },
  {
   "cell_type": "code",
   "execution_count": 26,
   "metadata": {},
   "outputs": [],
   "source": [
    "driver.implicitly_wait(time_to_wait=5)"
   ]
  },
  {
   "cell_type": "code",
   "execution_count": 27,
   "metadata": {},
   "outputs": [],
   "source": [
    "search_box  = driver.find_element_by_class_name('gnb')"
   ]
  },
  {
   "cell_type": "code",
   "execution_count": 28,
   "metadata": {},
   "outputs": [],
   "source": [
    "driver.execute_script('goSubPage(0,0,99)')\n"
   ]
  },
  {
   "cell_type": "code",
   "execution_count": 29,
   "metadata": {},
   "outputs": [
    {
     "data": {
      "text/plain": [
       "<selenium.webdriver.remote.webelement.WebElement (session=\"f88e97df6687bbe3c74389f06e588d9c\", element=\"5c94beb7-a21c-4ad5-8ad8-14b1625beec5\")>"
      ]
     },
     "execution_count": 29,
     "metadata": {},
     "output_type": "execute_result"
    }
   ],
   "source": [
    "gu_list_raw = driver.find_element_by_xpath('''//*[@id=\"SIGUNGU_NM0\"]''')\n",
    "gu_list_raw"
   ]
  },
  {
   "cell_type": "code",
   "execution_count": 30,
   "metadata": {},
   "outputs": [],
   "source": [
    "gu_list = gu_list_raw.find_elements_by_tag_name('option')"
   ]
  },
  {
   "cell_type": "code",
   "execution_count": 31,
   "metadata": {},
   "outputs": [
    {
     "data": {
      "text/plain": [
       "['가평군',\n",
       " '고양시',\n",
       " '고양시덕양구',\n",
       " '고양시일산동구',\n",
       " '고양시일산서구',\n",
       " '과천시',\n",
       " '광명시',\n",
       " '광주시',\n",
       " '구리시',\n",
       " '군포시',\n",
       " '김포시',\n",
       " '남양주시',\n",
       " '동두천시',\n",
       " '부천시',\n",
       " '성남시',\n",
       " '성남시분당구',\n",
       " '성남시수정구',\n",
       " '성남시중원구',\n",
       " '수원시',\n",
       " '수원시권선구',\n",
       " '수원시영통구',\n",
       " '수원시장안구',\n",
       " '수원시팔달구',\n",
       " '시흥시',\n",
       " '안산시',\n",
       " '안산시단원구',\n",
       " '안산시상록구',\n",
       " '안성시',\n",
       " '안양시',\n",
       " '안양시동안구',\n",
       " '안양시만안구',\n",
       " '양주시',\n",
       " '양평군',\n",
       " '여주시',\n",
       " '연천군',\n",
       " '오산시',\n",
       " '용인시',\n",
       " '용인시기흥구',\n",
       " '용인시수지구',\n",
       " '용인시처인구',\n",
       " '의왕시',\n",
       " '의정부시',\n",
       " '이천시',\n",
       " '파주시',\n",
       " '평택시',\n",
       " '포천시',\n",
       " '하남시',\n",
       " '화성시']"
      ]
     },
     "execution_count": 31,
     "metadata": {},
     "output_type": "execute_result"
    }
   ],
   "source": [
    "gu_names = [option.get_attribute('value') for option in gu_list]\n",
    "gu_names.remove('')\n",
    "gu_names"
   ]
  },
  {
   "cell_type": "code",
   "execution_count": 32,
   "metadata": {},
   "outputs": [],
   "source": [
    "element = driver.find_element_by_id('SIGUNGU_NM0')\n",
    "element.send_keys(gu_names[0])"
   ]
  },
  {
   "cell_type": "code",
   "execution_count": 33,
   "metadata": {},
   "outputs": [],
   "source": [
    "xpath ='''//*[@id=\"searRgSelect\"]/span'''\n",
    "element_sel_gu = driver.find_element_by_xpath(xpath).click()"
   ]
  },
  {
   "cell_type": "code",
   "execution_count": 34,
   "metadata": {},
   "outputs": [],
   "source": [
    "#엑셀 저장 버튼을 눌러서 엑셀 내용으로 저장하자.\n",
    "xpath = '''//*[@id=\"glopopd_excel\"]/span'''\n",
    "element_get_excel = driver.find_element_by_xpath(xpath).click()"
   ]
  },
  {
   "cell_type": "code",
   "execution_count": 35,
   "metadata": {},
   "outputs": [],
   "source": [
    "driver.close()"
   ]
  },
  {
   "cell_type": "code",
   "execution_count": 36,
   "metadata": {},
   "outputs": [],
   "source": [
    "import pandas as pd\n",
    "from glob import glob"
   ]
  },
  {
   "cell_type": "code",
   "execution_count": 38,
   "metadata": {},
   "outputs": [
    {
     "data": {
      "text/plain": [
       "[]"
      ]
     },
     "execution_count": 38,
     "metadata": {},
     "output_type": "execute_result"
    }
   ],
   "source": [
    "glob('pydata/selenium/*.xls')"
   ]
  }
 ],
 "metadata": {
  "kernelspec": {
   "display_name": "Python 3",
   "language": "python",
   "name": "python3"
  },
  "language_info": {
   "codemirror_mode": {
    "name": "ipython",
    "version": 3
   },
   "file_extension": ".py",
   "mimetype": "text/x-python",
   "name": "python",
   "nbconvert_exporter": "python",
   "pygments_lexer": "ipython3",
   "version": "3.8.5"
  }
 },
 "nbformat": 4,
 "nbformat_minor": 5
}
