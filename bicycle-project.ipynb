{
 "cells": [
  {
   "cell_type": "code",
   "execution_count": 1,
   "metadata": {},
   "outputs": [],
   "source": [
    "import pandas as pd"
   ]
  },
  {
   "cell_type": "code",
   "execution_count": 2,
   "metadata": {},
   "outputs": [],
   "source": [
    "import numpy as np"
   ]
  },
  {
   "cell_type": "code",
   "execution_count": 3,
   "metadata": {},
   "outputs": [],
   "source": [
    "pd.set_option('display.max_rows', 1000)"
   ]
  },
  {
   "cell_type": "code",
   "execution_count": 4,
   "metadata": {},
   "outputs": [],
   "source": [
    "# path = './data/최종작업파일'\n",
    "# all_files = glob.glob(path + \"/*.csv\")\n",
    "# ls = []\n",
    "# for filename in all_files:\n",
    "#     df = pd.read_csv(filename, index_col=None, header=0)\n",
    "#     ls.append(df)\n",
    "# total_menu = pd.concat(ls, axis=0, ignore_index=True)\n",
    "# total_menu"
   ]
  },
  {
   "cell_type": "code",
   "execution_count": 5,
   "metadata": {},
   "outputs": [
    {
     "data": {
      "text/html": [
       "<div>\n",
       "<style scoped>\n",
       "    .dataframe tbody tr th:only-of-type {\n",
       "        vertical-align: middle;\n",
       "    }\n",
       "\n",
       "    .dataframe tbody tr th {\n",
       "        vertical-align: top;\n",
       "    }\n",
       "\n",
       "    .dataframe thead th {\n",
       "        text-align: right;\n",
       "    }\n",
       "</style>\n",
       "<table border=\"1\" class=\"dataframe\">\n",
       "  <thead>\n",
       "    <tr style=\"text-align: right;\">\n",
       "      <th></th>\n",
       "      <th>대여일자</th>\n",
       "      <th>대여시간</th>\n",
       "      <th>대여소번호</th>\n",
       "      <th>대여소명</th>\n",
       "      <th>대여구분코드</th>\n",
       "      <th>성별</th>\n",
       "      <th>연령대코드</th>\n",
       "      <th>이용건수</th>\n",
       "      <th>운동량(Kcal)</th>\n",
       "      <th>탄소량(%)</th>\n",
       "      <th>이동거리(KM)</th>\n",
       "      <th>사용시간(분)</th>\n",
       "      <th>년도</th>\n",
       "      <th>월</th>\n",
       "    </tr>\n",
       "  </thead>\n",
       "  <tbody>\n",
       "    <tr>\n",
       "      <th>0</th>\n",
       "      <td>2017-01-01</td>\n",
       "      <td>0</td>\n",
       "      <td>230</td>\n",
       "      <td>영등포구청역 1번출구</td>\n",
       "      <td>정기</td>\n",
       "      <td>F</td>\n",
       "      <td>~10대</td>\n",
       "      <td>1</td>\n",
       "      <td>31.27</td>\n",
       "      <td>0.39</td>\n",
       "      <td>1.68</td>\n",
       "      <td>155</td>\n",
       "      <td>2017</td>\n",
       "      <td>1</td>\n",
       "    </tr>\n",
       "    <tr>\n",
       "      <th>1</th>\n",
       "      <td>2017-01-01</td>\n",
       "      <td>0</td>\n",
       "      <td>315</td>\n",
       "      <td>신한은행 안국역지점 옆</td>\n",
       "      <td>정기</td>\n",
       "      <td>F</td>\n",
       "      <td>20대</td>\n",
       "      <td>1</td>\n",
       "      <td>47.32</td>\n",
       "      <td>0.55</td>\n",
       "      <td>2.39</td>\n",
       "      <td>15</td>\n",
       "      <td>2017</td>\n",
       "      <td>1</td>\n",
       "    </tr>\n",
       "    <tr>\n",
       "      <th>2</th>\n",
       "      <td>2017-01-01</td>\n",
       "      <td>0</td>\n",
       "      <td>328</td>\n",
       "      <td>탑골공원 앞</td>\n",
       "      <td>정기</td>\n",
       "      <td>F</td>\n",
       "      <td>20대</td>\n",
       "      <td>1</td>\n",
       "      <td>57.92</td>\n",
       "      <td>0.52</td>\n",
       "      <td>2.25</td>\n",
       "      <td>13</td>\n",
       "      <td>2017</td>\n",
       "      <td>1</td>\n",
       "    </tr>\n",
       "    <tr>\n",
       "      <th>3</th>\n",
       "      <td>2017-01-01</td>\n",
       "      <td>0</td>\n",
       "      <td>175</td>\n",
       "      <td>홍연2교옆</td>\n",
       "      <td>정기</td>\n",
       "      <td>F</td>\n",
       "      <td>20대</td>\n",
       "      <td>1</td>\n",
       "      <td>133.29</td>\n",
       "      <td>1.53</td>\n",
       "      <td>6.60</td>\n",
       "      <td>43</td>\n",
       "      <td>2017</td>\n",
       "      <td>1</td>\n",
       "    </tr>\n",
       "    <tr>\n",
       "      <th>4</th>\n",
       "      <td>2017-01-01</td>\n",
       "      <td>0</td>\n",
       "      <td>817</td>\n",
       "      <td>삼각지역 4번출구 앞</td>\n",
       "      <td>정기</td>\n",
       "      <td>F</td>\n",
       "      <td>20대</td>\n",
       "      <td>1</td>\n",
       "      <td>33.88</td>\n",
       "      <td>0.32</td>\n",
       "      <td>1.38</td>\n",
       "      <td>8</td>\n",
       "      <td>2017</td>\n",
       "      <td>1</td>\n",
       "    </tr>\n",
       "    <tr>\n",
       "      <th>...</th>\n",
       "      <td>...</td>\n",
       "      <td>...</td>\n",
       "      <td>...</td>\n",
       "      <td>...</td>\n",
       "      <td>...</td>\n",
       "      <td>...</td>\n",
       "      <td>...</td>\n",
       "      <td>...</td>\n",
       "      <td>...</td>\n",
       "      <td>...</td>\n",
       "      <td>...</td>\n",
       "      <td>...</td>\n",
       "      <td>...</td>\n",
       "      <td>...</td>\n",
       "    </tr>\n",
       "    <tr>\n",
       "      <th>42049933</th>\n",
       "      <td>2020-12-31</td>\n",
       "      <td>23</td>\n",
       "      <td>3121</td>\n",
       "      <td>3121.가좌삼거리</td>\n",
       "      <td>일일권</td>\n",
       "      <td>M</td>\n",
       "      <td>30대</td>\n",
       "      <td>1</td>\n",
       "      <td>0.00</td>\n",
       "      <td>0.00</td>\n",
       "      <td>0.00</td>\n",
       "      <td>13</td>\n",
       "      <td>2020</td>\n",
       "      <td>12</td>\n",
       "    </tr>\n",
       "    <tr>\n",
       "      <th>42049934</th>\n",
       "      <td>2020-12-31</td>\n",
       "      <td>23</td>\n",
       "      <td>560</td>\n",
       "      <td>560. 비전교회 앞</td>\n",
       "      <td>일일권</td>\n",
       "      <td>M</td>\n",
       "      <td>30대</td>\n",
       "      <td>1</td>\n",
       "      <td>0.00</td>\n",
       "      <td>0.00</td>\n",
       "      <td>0.00</td>\n",
       "      <td>52</td>\n",
       "      <td>2020</td>\n",
       "      <td>12</td>\n",
       "    </tr>\n",
       "    <tr>\n",
       "      <th>42049935</th>\n",
       "      <td>2020-12-31</td>\n",
       "      <td>23</td>\n",
       "      <td>1416</td>\n",
       "      <td>1416. 상봉역 3번출구</td>\n",
       "      <td>일일권</td>\n",
       "      <td>M</td>\n",
       "      <td>30대</td>\n",
       "      <td>1</td>\n",
       "      <td>18.33</td>\n",
       "      <td>0.17</td>\n",
       "      <td>0.71</td>\n",
       "      <td>4</td>\n",
       "      <td>2020</td>\n",
       "      <td>12</td>\n",
       "    </tr>\n",
       "    <tr>\n",
       "      <th>42049936</th>\n",
       "      <td>2020-12-31</td>\n",
       "      <td>23</td>\n",
       "      <td>1625</td>\n",
       "      <td>1625. 상계역(4번출구)</td>\n",
       "      <td>일일권</td>\n",
       "      <td>M</td>\n",
       "      <td>50대</td>\n",
       "      <td>1</td>\n",
       "      <td>20.52</td>\n",
       "      <td>0.15</td>\n",
       "      <td>0.65</td>\n",
       "      <td>7</td>\n",
       "      <td>2020</td>\n",
       "      <td>12</td>\n",
       "    </tr>\n",
       "    <tr>\n",
       "      <th>42049937</th>\n",
       "      <td>2020-12-31</td>\n",
       "      <td>23</td>\n",
       "      <td>419</td>\n",
       "      <td>419. 홈플러스 앞</td>\n",
       "      <td>단체권</td>\n",
       "      <td>NaN</td>\n",
       "      <td>20대</td>\n",
       "      <td>4</td>\n",
       "      <td>18.19</td>\n",
       "      <td>2.13</td>\n",
       "      <td>9.19</td>\n",
       "      <td>128</td>\n",
       "      <td>2020</td>\n",
       "      <td>12</td>\n",
       "    </tr>\n",
       "  </tbody>\n",
       "</table>\n",
       "<p>42049938 rows × 14 columns</p>\n",
       "</div>"
      ],
      "text/plain": [
       "                대여일자  대여시간  대여소번호             대여소명 대여구분코드   성별 연령대코드  이용건수  \\\n",
       "0         2017-01-01     0    230      영등포구청역 1번출구     정기    F  ~10대     1   \n",
       "1         2017-01-01     0    315     신한은행 안국역지점 옆     정기    F   20대     1   \n",
       "2         2017-01-01     0    328           탑골공원 앞     정기    F   20대     1   \n",
       "3         2017-01-01     0    175            홍연2교옆     정기    F   20대     1   \n",
       "4         2017-01-01     0    817      삼각지역 4번출구 앞     정기    F   20대     1   \n",
       "...              ...   ...    ...              ...    ...  ...   ...   ...   \n",
       "42049933  2020-12-31    23   3121       3121.가좌삼거리    일일권    M   30대     1   \n",
       "42049934  2020-12-31    23    560      560. 비전교회 앞    일일권    M   30대     1   \n",
       "42049935  2020-12-31    23   1416   1416. 상봉역 3번출구    일일권    M   30대     1   \n",
       "42049936  2020-12-31    23   1625  1625. 상계역(4번출구)    일일권    M   50대     1   \n",
       "42049937  2020-12-31    23    419      419. 홈플러스 앞    단체권  NaN   20대     4   \n",
       "\n",
       "          운동량(Kcal)  탄소량(%)  이동거리(KM)  사용시간(분)    년도   월  \n",
       "0             31.27    0.39      1.68      155  2017   1  \n",
       "1             47.32    0.55      2.39       15  2017   1  \n",
       "2             57.92    0.52      2.25       13  2017   1  \n",
       "3            133.29    1.53      6.60       43  2017   1  \n",
       "4             33.88    0.32      1.38        8  2017   1  \n",
       "...             ...     ...       ...      ...   ...  ..  \n",
       "42049933       0.00    0.00      0.00       13  2020  12  \n",
       "42049934       0.00    0.00      0.00       52  2020  12  \n",
       "42049935      18.33    0.17      0.71        4  2020  12  \n",
       "42049936      20.52    0.15      0.65        7  2020  12  \n",
       "42049937      18.19    2.13      9.19      128  2020  12  \n",
       "\n",
       "[42049938 rows x 14 columns]"
      ]
     },
     "execution_count": 5,
     "metadata": {},
     "output_type": "execute_result"
    }
   ],
   "source": [
    "total_bicycle = pd.read_csv('data/최종작업파일/total_bicycle.csv', encoding = 'utf-8')\n",
    "total_bicycle\n"
   ]
  },
  {
   "cell_type": "code",
   "execution_count": 6,
   "metadata": {},
   "outputs": [
    {
     "data": {
      "text/plain": [
       "array(['정기', '일일(회원)', '일일(비회원)', '단체', '일일(2시간권)', '정기(2시간권)', '정기권',\n",
       "       '일일권', '일일권(비회원)', '단체권'], dtype=object)"
      ]
     },
     "execution_count": 6,
     "metadata": {},
     "output_type": "execute_result"
    }
   ],
   "source": [
    "bicycle1 = total_bicycle[total_bicycle['대여일자']<'2018-12-01']\n",
    "bicycle1['대여구분코드'].unique()\n"
   ]
  },
  {
   "cell_type": "code",
   "execution_count": 8,
   "metadata": {},
   "outputs": [
    {
     "data": {
      "text/plain": [
       "array(['정기', '일일(회원)', '일일(비회원)', '단체', '일일(2시간권)', '정기(2시간권)', '정기권',\n",
       "       '일일권', '일일권(비회원)', '단체권', '단기권(전기)'], dtype=object)"
      ]
     },
     "execution_count": 8,
     "metadata": {},
     "output_type": "execute_result"
    }
   ],
   "source": [
    "total_bicycle['대여구분코드'].unique()"
   ]
  },
  {
   "cell_type": "code",
   "execution_count": 9,
   "metadata": {},
   "outputs": [
    {
     "data": {
      "text/html": [
       "<div>\n",
       "<style scoped>\n",
       "    .dataframe tbody tr th:only-of-type {\n",
       "        vertical-align: middle;\n",
       "    }\n",
       "\n",
       "    .dataframe tbody tr th {\n",
       "        vertical-align: top;\n",
       "    }\n",
       "\n",
       "    .dataframe thead th {\n",
       "        text-align: right;\n",
       "    }\n",
       "</style>\n",
       "<table border=\"1\" class=\"dataframe\">\n",
       "  <thead>\n",
       "    <tr style=\"text-align: right;\">\n",
       "      <th></th>\n",
       "      <th>대여일자</th>\n",
       "      <th>대여시간</th>\n",
       "      <th>대여소번호</th>\n",
       "      <th>대여소명</th>\n",
       "      <th>대여구분코드</th>\n",
       "      <th>성별</th>\n",
       "      <th>연령대코드</th>\n",
       "      <th>이용건수</th>\n",
       "      <th>운동량(Kcal)</th>\n",
       "      <th>탄소량(%)</th>\n",
       "      <th>이동거리(KM)</th>\n",
       "      <th>사용시간(분)</th>\n",
       "      <th>년도</th>\n",
       "      <th>월</th>\n",
       "    </tr>\n",
       "  </thead>\n",
       "  <tbody>\n",
       "    <tr>\n",
       "      <th>0</th>\n",
       "      <td>2017-01-01</td>\n",
       "      <td>0</td>\n",
       "      <td>230</td>\n",
       "      <td>영등포구청역 1번출구</td>\n",
       "      <td>정기권</td>\n",
       "      <td>F</td>\n",
       "      <td>~10대</td>\n",
       "      <td>1</td>\n",
       "      <td>31.27</td>\n",
       "      <td>0.39</td>\n",
       "      <td>1.68</td>\n",
       "      <td>155</td>\n",
       "      <td>2017</td>\n",
       "      <td>1</td>\n",
       "    </tr>\n",
       "    <tr>\n",
       "      <th>1</th>\n",
       "      <td>2017-01-01</td>\n",
       "      <td>0</td>\n",
       "      <td>315</td>\n",
       "      <td>신한은행 안국역지점 옆</td>\n",
       "      <td>정기권</td>\n",
       "      <td>F</td>\n",
       "      <td>20대</td>\n",
       "      <td>1</td>\n",
       "      <td>47.32</td>\n",
       "      <td>0.55</td>\n",
       "      <td>2.39</td>\n",
       "      <td>15</td>\n",
       "      <td>2017</td>\n",
       "      <td>1</td>\n",
       "    </tr>\n",
       "    <tr>\n",
       "      <th>2</th>\n",
       "      <td>2017-01-01</td>\n",
       "      <td>0</td>\n",
       "      <td>328</td>\n",
       "      <td>탑골공원 앞</td>\n",
       "      <td>정기권</td>\n",
       "      <td>F</td>\n",
       "      <td>20대</td>\n",
       "      <td>1</td>\n",
       "      <td>57.92</td>\n",
       "      <td>0.52</td>\n",
       "      <td>2.25</td>\n",
       "      <td>13</td>\n",
       "      <td>2017</td>\n",
       "      <td>1</td>\n",
       "    </tr>\n",
       "    <tr>\n",
       "      <th>3</th>\n",
       "      <td>2017-01-01</td>\n",
       "      <td>0</td>\n",
       "      <td>175</td>\n",
       "      <td>홍연2교옆</td>\n",
       "      <td>정기권</td>\n",
       "      <td>F</td>\n",
       "      <td>20대</td>\n",
       "      <td>1</td>\n",
       "      <td>133.29</td>\n",
       "      <td>1.53</td>\n",
       "      <td>6.60</td>\n",
       "      <td>43</td>\n",
       "      <td>2017</td>\n",
       "      <td>1</td>\n",
       "    </tr>\n",
       "    <tr>\n",
       "      <th>4</th>\n",
       "      <td>2017-01-01</td>\n",
       "      <td>0</td>\n",
       "      <td>817</td>\n",
       "      <td>삼각지역 4번출구 앞</td>\n",
       "      <td>정기권</td>\n",
       "      <td>F</td>\n",
       "      <td>20대</td>\n",
       "      <td>1</td>\n",
       "      <td>33.88</td>\n",
       "      <td>0.32</td>\n",
       "      <td>1.38</td>\n",
       "      <td>8</td>\n",
       "      <td>2017</td>\n",
       "      <td>1</td>\n",
       "    </tr>\n",
       "    <tr>\n",
       "      <th>...</th>\n",
       "      <td>...</td>\n",
       "      <td>...</td>\n",
       "      <td>...</td>\n",
       "      <td>...</td>\n",
       "      <td>...</td>\n",
       "      <td>...</td>\n",
       "      <td>...</td>\n",
       "      <td>...</td>\n",
       "      <td>...</td>\n",
       "      <td>...</td>\n",
       "      <td>...</td>\n",
       "      <td>...</td>\n",
       "      <td>...</td>\n",
       "      <td>...</td>\n",
       "    </tr>\n",
       "    <tr>\n",
       "      <th>42049933</th>\n",
       "      <td>2020-12-31</td>\n",
       "      <td>23</td>\n",
       "      <td>3121</td>\n",
       "      <td>3121.가좌삼거리</td>\n",
       "      <td>일일권</td>\n",
       "      <td>M</td>\n",
       "      <td>30대</td>\n",
       "      <td>1</td>\n",
       "      <td>0.00</td>\n",
       "      <td>0.00</td>\n",
       "      <td>0.00</td>\n",
       "      <td>13</td>\n",
       "      <td>2020</td>\n",
       "      <td>12</td>\n",
       "    </tr>\n",
       "    <tr>\n",
       "      <th>42049934</th>\n",
       "      <td>2020-12-31</td>\n",
       "      <td>23</td>\n",
       "      <td>560</td>\n",
       "      <td>560. 비전교회 앞</td>\n",
       "      <td>일일권</td>\n",
       "      <td>M</td>\n",
       "      <td>30대</td>\n",
       "      <td>1</td>\n",
       "      <td>0.00</td>\n",
       "      <td>0.00</td>\n",
       "      <td>0.00</td>\n",
       "      <td>52</td>\n",
       "      <td>2020</td>\n",
       "      <td>12</td>\n",
       "    </tr>\n",
       "    <tr>\n",
       "      <th>42049935</th>\n",
       "      <td>2020-12-31</td>\n",
       "      <td>23</td>\n",
       "      <td>1416</td>\n",
       "      <td>1416. 상봉역 3번출구</td>\n",
       "      <td>일일권</td>\n",
       "      <td>M</td>\n",
       "      <td>30대</td>\n",
       "      <td>1</td>\n",
       "      <td>18.33</td>\n",
       "      <td>0.17</td>\n",
       "      <td>0.71</td>\n",
       "      <td>4</td>\n",
       "      <td>2020</td>\n",
       "      <td>12</td>\n",
       "    </tr>\n",
       "    <tr>\n",
       "      <th>42049936</th>\n",
       "      <td>2020-12-31</td>\n",
       "      <td>23</td>\n",
       "      <td>1625</td>\n",
       "      <td>1625. 상계역(4번출구)</td>\n",
       "      <td>일일권</td>\n",
       "      <td>M</td>\n",
       "      <td>50대</td>\n",
       "      <td>1</td>\n",
       "      <td>20.52</td>\n",
       "      <td>0.15</td>\n",
       "      <td>0.65</td>\n",
       "      <td>7</td>\n",
       "      <td>2020</td>\n",
       "      <td>12</td>\n",
       "    </tr>\n",
       "    <tr>\n",
       "      <th>42049937</th>\n",
       "      <td>2020-12-31</td>\n",
       "      <td>23</td>\n",
       "      <td>419</td>\n",
       "      <td>419. 홈플러스 앞</td>\n",
       "      <td>단체권</td>\n",
       "      <td>NaN</td>\n",
       "      <td>20대</td>\n",
       "      <td>4</td>\n",
       "      <td>18.19</td>\n",
       "      <td>2.13</td>\n",
       "      <td>9.19</td>\n",
       "      <td>128</td>\n",
       "      <td>2020</td>\n",
       "      <td>12</td>\n",
       "    </tr>\n",
       "  </tbody>\n",
       "</table>\n",
       "<p>42049938 rows × 14 columns</p>\n",
       "</div>"
      ],
      "text/plain": [
       "                대여일자  대여시간  대여소번호             대여소명 대여구분코드   성별 연령대코드  이용건수  \\\n",
       "0         2017-01-01     0    230      영등포구청역 1번출구    정기권    F  ~10대     1   \n",
       "1         2017-01-01     0    315     신한은행 안국역지점 옆    정기권    F   20대     1   \n",
       "2         2017-01-01     0    328           탑골공원 앞    정기권    F   20대     1   \n",
       "3         2017-01-01     0    175            홍연2교옆    정기권    F   20대     1   \n",
       "4         2017-01-01     0    817      삼각지역 4번출구 앞    정기권    F   20대     1   \n",
       "...              ...   ...    ...              ...    ...  ...   ...   ...   \n",
       "42049933  2020-12-31    23   3121       3121.가좌삼거리    일일권    M   30대     1   \n",
       "42049934  2020-12-31    23    560      560. 비전교회 앞    일일권    M   30대     1   \n",
       "42049935  2020-12-31    23   1416   1416. 상봉역 3번출구    일일권    M   30대     1   \n",
       "42049936  2020-12-31    23   1625  1625. 상계역(4번출구)    일일권    M   50대     1   \n",
       "42049937  2020-12-31    23    419      419. 홈플러스 앞    단체권  NaN   20대     4   \n",
       "\n",
       "          운동량(Kcal)  탄소량(%)  이동거리(KM)  사용시간(분)    년도   월  \n",
       "0             31.27    0.39      1.68      155  2017   1  \n",
       "1             47.32    0.55      2.39       15  2017   1  \n",
       "2             57.92    0.52      2.25       13  2017   1  \n",
       "3            133.29    1.53      6.60       43  2017   1  \n",
       "4             33.88    0.32      1.38        8  2017   1  \n",
       "...             ...     ...       ...      ...   ...  ..  \n",
       "42049933       0.00    0.00      0.00       13  2020  12  \n",
       "42049934       0.00    0.00      0.00       52  2020  12  \n",
       "42049935      18.33    0.17      0.71        4  2020  12  \n",
       "42049936      20.52    0.15      0.65        7  2020  12  \n",
       "42049937      18.19    2.13      9.19      128  2020  12  \n",
       "\n",
       "[42049938 rows x 14 columns]"
      ]
     },
     "execution_count": 9,
     "metadata": {},
     "output_type": "execute_result"
    }
   ],
   "source": [
    "total_bicycle['대여구분코드'] = np.where(total_bicycle['대여구분코드']==\"정기\",\"정기권\",total_bicycle['대여구분코드'])\n",
    "total_bicycle['대여구분코드'] = np.where(total_bicycle['대여구분코드']==\"단체\",\"단체권\",total_bicycle['대여구분코드'])\n",
    "total_bicycle['대여구분코드'] = np.where(total_bicycle['대여구분코드']==\"일일(비회원)\",\"일일권(비회원)\",total_bicycle['대여구분코드'])\n",
    "total_bicycle['대여구분코드'] = np.where(total_bicycle['대여구분코드']==\"일일(회원)\",\"일일권(회원)\",total_bicycle['대여구분코드'])\n",
    "total_bicycle"
   ]
  },
  {
   "cell_type": "code",
   "execution_count": 10,
   "metadata": {},
   "outputs": [
    {
     "data": {
      "text/plain": [
       "array(['정기권', '일일권(회원)', '일일권(비회원)', '단체권', '일일(2시간권)', '정기(2시간권)', '일일권',\n",
       "       '단기권(전기)'], dtype=object)"
      ]
     },
     "execution_count": 10,
     "metadata": {},
     "output_type": "execute_result"
    }
   ],
   "source": [
    "total_bicycle['대여구분코드'].unique()"
   ]
  },
  {
   "cell_type": "code",
   "execution_count": 12,
   "metadata": {},
   "outputs": [],
   "source": [
    "name_list = [str(x)+'. ' +str(y) for x,y in zip(bicycle1['대여소번호'],bicycle1['대여소명'])]"
   ]
  },
  {
   "cell_type": "code",
   "execution_count": 13,
   "metadata": {},
   "outputs": [
    {
     "name": "stderr",
     "output_type": "stream",
     "text": [
      "<ipython-input-13-2d2053f1fc1d>:1: SettingWithCopyWarning: \n",
      "A value is trying to be set on a copy of a slice from a DataFrame.\n",
      "Try using .loc[row_indexer,col_indexer] = value instead\n",
      "\n",
      "See the caveats in the documentation: https://pandas.pydata.org/pandas-docs/stable/user_guide/indexing.html#returning-a-view-versus-a-copy\n",
      "  bicycle1['대여소명']=name_list\n"
     ]
    },
    {
     "data": {
      "text/html": [
       "<div>\n",
       "<style scoped>\n",
       "    .dataframe tbody tr th:only-of-type {\n",
       "        vertical-align: middle;\n",
       "    }\n",
       "\n",
       "    .dataframe tbody tr th {\n",
       "        vertical-align: top;\n",
       "    }\n",
       "\n",
       "    .dataframe thead th {\n",
       "        text-align: right;\n",
       "    }\n",
       "</style>\n",
       "<table border=\"1\" class=\"dataframe\">\n",
       "  <thead>\n",
       "    <tr style=\"text-align: right;\">\n",
       "      <th></th>\n",
       "      <th>대여일자</th>\n",
       "      <th>대여시간</th>\n",
       "      <th>대여소번호</th>\n",
       "      <th>대여소명</th>\n",
       "      <th>대여구분코드</th>\n",
       "      <th>성별</th>\n",
       "      <th>연령대코드</th>\n",
       "      <th>이용건수</th>\n",
       "      <th>운동량(Kcal)</th>\n",
       "      <th>탄소량(%)</th>\n",
       "      <th>이동거리(KM)</th>\n",
       "      <th>사용시간(분)</th>\n",
       "      <th>년도</th>\n",
       "      <th>월</th>\n",
       "    </tr>\n",
       "  </thead>\n",
       "  <tbody>\n",
       "    <tr>\n",
       "      <th>0</th>\n",
       "      <td>2017-01-01</td>\n",
       "      <td>0</td>\n",
       "      <td>230</td>\n",
       "      <td>230.  영등포구청역 1번출구</td>\n",
       "      <td>정기</td>\n",
       "      <td>F</td>\n",
       "      <td>~10대</td>\n",
       "      <td>1</td>\n",
       "      <td>31.27</td>\n",
       "      <td>0.39</td>\n",
       "      <td>1.68</td>\n",
       "      <td>155</td>\n",
       "      <td>2017</td>\n",
       "      <td>1</td>\n",
       "    </tr>\n",
       "    <tr>\n",
       "      <th>1</th>\n",
       "      <td>2017-01-01</td>\n",
       "      <td>0</td>\n",
       "      <td>315</td>\n",
       "      <td>315.  신한은행 안국역지점 옆</td>\n",
       "      <td>정기</td>\n",
       "      <td>F</td>\n",
       "      <td>20대</td>\n",
       "      <td>1</td>\n",
       "      <td>47.32</td>\n",
       "      <td>0.55</td>\n",
       "      <td>2.39</td>\n",
       "      <td>15</td>\n",
       "      <td>2017</td>\n",
       "      <td>1</td>\n",
       "    </tr>\n",
       "    <tr>\n",
       "      <th>2</th>\n",
       "      <td>2017-01-01</td>\n",
       "      <td>0</td>\n",
       "      <td>328</td>\n",
       "      <td>328.  탑골공원 앞</td>\n",
       "      <td>정기</td>\n",
       "      <td>F</td>\n",
       "      <td>20대</td>\n",
       "      <td>1</td>\n",
       "      <td>57.92</td>\n",
       "      <td>0.52</td>\n",
       "      <td>2.25</td>\n",
       "      <td>13</td>\n",
       "      <td>2017</td>\n",
       "      <td>1</td>\n",
       "    </tr>\n",
       "    <tr>\n",
       "      <th>3</th>\n",
       "      <td>2017-01-01</td>\n",
       "      <td>0</td>\n",
       "      <td>175</td>\n",
       "      <td>175.  홍연2교옆</td>\n",
       "      <td>정기</td>\n",
       "      <td>F</td>\n",
       "      <td>20대</td>\n",
       "      <td>1</td>\n",
       "      <td>133.29</td>\n",
       "      <td>1.53</td>\n",
       "      <td>6.60</td>\n",
       "      <td>43</td>\n",
       "      <td>2017</td>\n",
       "      <td>1</td>\n",
       "    </tr>\n",
       "    <tr>\n",
       "      <th>4</th>\n",
       "      <td>2017-01-01</td>\n",
       "      <td>0</td>\n",
       "      <td>817</td>\n",
       "      <td>817.  삼각지역 4번출구 앞</td>\n",
       "      <td>정기</td>\n",
       "      <td>F</td>\n",
       "      <td>20대</td>\n",
       "      <td>1</td>\n",
       "      <td>33.88</td>\n",
       "      <td>0.32</td>\n",
       "      <td>1.38</td>\n",
       "      <td>8</td>\n",
       "      <td>2017</td>\n",
       "      <td>1</td>\n",
       "    </tr>\n",
       "    <tr>\n",
       "      <th>...</th>\n",
       "      <td>...</td>\n",
       "      <td>...</td>\n",
       "      <td>...</td>\n",
       "      <td>...</td>\n",
       "      <td>...</td>\n",
       "      <td>...</td>\n",
       "      <td>...</td>\n",
       "      <td>...</td>\n",
       "      <td>...</td>\n",
       "      <td>...</td>\n",
       "      <td>...</td>\n",
       "      <td>...</td>\n",
       "      <td>...</td>\n",
       "      <td>...</td>\n",
       "    </tr>\n",
       "    <tr>\n",
       "      <th>10083976</th>\n",
       "      <td>2018-11-30</td>\n",
       "      <td>23</td>\n",
       "      <td>2239</td>\n",
       "      <td>2239. 교대역 6번출구</td>\n",
       "      <td>일일권</td>\n",
       "      <td>M</td>\n",
       "      <td>30대</td>\n",
       "      <td>1</td>\n",
       "      <td>425.78</td>\n",
       "      <td>2.08</td>\n",
       "      <td>8.96</td>\n",
       "      <td>61</td>\n",
       "      <td>2018</td>\n",
       "      <td>11</td>\n",
       "    </tr>\n",
       "    <tr>\n",
       "      <th>10083977</th>\n",
       "      <td>2018-11-30</td>\n",
       "      <td>23</td>\n",
       "      <td>1210</td>\n",
       "      <td>1210.  롯데월드타워(잠실역2번출구 쪽)</td>\n",
       "      <td>일일권</td>\n",
       "      <td>M</td>\n",
       "      <td>30대</td>\n",
       "      <td>1</td>\n",
       "      <td>32.15</td>\n",
       "      <td>0.23</td>\n",
       "      <td>0.99</td>\n",
       "      <td>5</td>\n",
       "      <td>2018</td>\n",
       "      <td>11</td>\n",
       "    </tr>\n",
       "    <tr>\n",
       "      <th>10083978</th>\n",
       "      <td>2018-11-30</td>\n",
       "      <td>23</td>\n",
       "      <td>1162</td>\n",
       "      <td>1162.  공항초등학교건너편</td>\n",
       "      <td>일일권</td>\n",
       "      <td>M</td>\n",
       "      <td>40대</td>\n",
       "      <td>1</td>\n",
       "      <td>40.73</td>\n",
       "      <td>0.28</td>\n",
       "      <td>1.21</td>\n",
       "      <td>7</td>\n",
       "      <td>2018</td>\n",
       "      <td>11</td>\n",
       "    </tr>\n",
       "    <tr>\n",
       "      <th>10083979</th>\n",
       "      <td>2018-11-30</td>\n",
       "      <td>23</td>\n",
       "      <td>1288</td>\n",
       "      <td>1288.  문정중교 사거리</td>\n",
       "      <td>일일권</td>\n",
       "      <td>M</td>\n",
       "      <td>60대</td>\n",
       "      <td>1</td>\n",
       "      <td>18.30</td>\n",
       "      <td>0.18</td>\n",
       "      <td>0.77</td>\n",
       "      <td>3</td>\n",
       "      <td>2018</td>\n",
       "      <td>11</td>\n",
       "    </tr>\n",
       "    <tr>\n",
       "      <th>10083980</th>\n",
       "      <td>2018-11-30</td>\n",
       "      <td>23</td>\n",
       "      <td>2184</td>\n",
       "      <td>2184.  구암초등학교 버스정류장</td>\n",
       "      <td>일일권(비회원)</td>\n",
       "      <td>M</td>\n",
       "      <td>30대</td>\n",
       "      <td>1</td>\n",
       "      <td>40.93</td>\n",
       "      <td>0.37</td>\n",
       "      <td>1.59</td>\n",
       "      <td>12</td>\n",
       "      <td>2018</td>\n",
       "      <td>11</td>\n",
       "    </tr>\n",
       "  </tbody>\n",
       "</table>\n",
       "<p>10083981 rows × 14 columns</p>\n",
       "</div>"
      ],
      "text/plain": [
       "                대여일자  대여시간  대여소번호                      대여소명    대여구분코드 성별  \\\n",
       "0         2017-01-01     0    230         230.  영등포구청역 1번출구        정기  F   \n",
       "1         2017-01-01     0    315        315.  신한은행 안국역지점 옆        정기  F   \n",
       "2         2017-01-01     0    328              328.  탑골공원 앞        정기  F   \n",
       "3         2017-01-01     0    175               175.  홍연2교옆        정기  F   \n",
       "4         2017-01-01     0    817         817.  삼각지역 4번출구 앞        정기  F   \n",
       "...              ...   ...    ...                       ...       ... ..   \n",
       "10083976  2018-11-30    23   2239            2239. 교대역 6번출구       일일권  M   \n",
       "10083977  2018-11-30    23   1210  1210.  롯데월드타워(잠실역2번출구 쪽)       일일권  M   \n",
       "10083978  2018-11-30    23   1162          1162.  공항초등학교건너편       일일권  M   \n",
       "10083979  2018-11-30    23   1288           1288.  문정중교 사거리       일일권  M   \n",
       "10083980  2018-11-30    23   2184       2184.  구암초등학교 버스정류장  일일권(비회원)  M   \n",
       "\n",
       "         연령대코드  이용건수  운동량(Kcal)  탄소량(%)  이동거리(KM)  사용시간(분)    년도   월  \n",
       "0         ~10대     1      31.27    0.39      1.68      155  2017   1  \n",
       "1          20대     1      47.32    0.55      2.39       15  2017   1  \n",
       "2          20대     1      57.92    0.52      2.25       13  2017   1  \n",
       "3          20대     1     133.29    1.53      6.60       43  2017   1  \n",
       "4          20대     1      33.88    0.32      1.38        8  2017   1  \n",
       "...        ...   ...        ...     ...       ...      ...   ...  ..  \n",
       "10083976   30대     1     425.78    2.08      8.96       61  2018  11  \n",
       "10083977   30대     1      32.15    0.23      0.99        5  2018  11  \n",
       "10083978   40대     1      40.73    0.28      1.21        7  2018  11  \n",
       "10083979   60대     1      18.30    0.18      0.77        3  2018  11  \n",
       "10083980   30대     1      40.93    0.37      1.59       12  2018  11  \n",
       "\n",
       "[10083981 rows x 14 columns]"
      ]
     },
     "execution_count": 13,
     "metadata": {},
     "output_type": "execute_result"
    }
   ],
   "source": [
    "bicycle1['대여소명']=name_list\n",
    "bicycle1"
   ]
  },
  {
   "cell_type": "code",
   "execution_count": 14,
   "metadata": {},
   "outputs": [
    {
     "data": {
      "text/html": [
       "<div>\n",
       "<style scoped>\n",
       "    .dataframe tbody tr th:only-of-type {\n",
       "        vertical-align: middle;\n",
       "    }\n",
       "\n",
       "    .dataframe tbody tr th {\n",
       "        vertical-align: top;\n",
       "    }\n",
       "\n",
       "    .dataframe thead th {\n",
       "        text-align: right;\n",
       "    }\n",
       "</style>\n",
       "<table border=\"1\" class=\"dataframe\">\n",
       "  <thead>\n",
       "    <tr style=\"text-align: right;\">\n",
       "      <th></th>\n",
       "      <th>대여일자</th>\n",
       "      <th>대여시간</th>\n",
       "      <th>대여소번호</th>\n",
       "      <th>대여소명</th>\n",
       "      <th>대여구분코드</th>\n",
       "      <th>성별</th>\n",
       "      <th>연령대코드</th>\n",
       "      <th>이용건수</th>\n",
       "      <th>운동량(Kcal)</th>\n",
       "      <th>탄소량(%)</th>\n",
       "      <th>이동거리(KM)</th>\n",
       "      <th>사용시간(분)</th>\n",
       "      <th>년도</th>\n",
       "      <th>월</th>\n",
       "    </tr>\n",
       "  </thead>\n",
       "  <tbody>\n",
       "    <tr>\n",
       "      <th>10083981</th>\n",
       "      <td>2018-12-01</td>\n",
       "      <td>0</td>\n",
       "      <td>1721</td>\n",
       "      <td>1721. 창동역 2번출구</td>\n",
       "      <td>정기권</td>\n",
       "      <td>\\N</td>\n",
       "      <td>~10대</td>\n",
       "      <td>1</td>\n",
       "      <td>25.95</td>\n",
       "      <td>0.26</td>\n",
       "      <td>1.13</td>\n",
       "      <td>4</td>\n",
       "      <td>2018</td>\n",
       "      <td>12</td>\n",
       "    </tr>\n",
       "    <tr>\n",
       "      <th>10083982</th>\n",
       "      <td>2018-12-01</td>\n",
       "      <td>0</td>\n",
       "      <td>3511</td>\n",
       "      <td>3511. 응봉역 1번출구</td>\n",
       "      <td>정기권</td>\n",
       "      <td>\\N</td>\n",
       "      <td>~10대</td>\n",
       "      <td>1</td>\n",
       "      <td>52.59</td>\n",
       "      <td>0.39</td>\n",
       "      <td>1.66</td>\n",
       "      <td>72</td>\n",
       "      <td>2018</td>\n",
       "      <td>12</td>\n",
       "    </tr>\n",
       "    <tr>\n",
       "      <th>10083983</th>\n",
       "      <td>2018-12-01</td>\n",
       "      <td>0</td>\n",
       "      <td>1975</td>\n",
       "      <td>1975. 대림역 1번 출입구 밑</td>\n",
       "      <td>정기권</td>\n",
       "      <td>\\N</td>\n",
       "      <td>~10대</td>\n",
       "      <td>1</td>\n",
       "      <td>136.26</td>\n",
       "      <td>1.17</td>\n",
       "      <td>5.06</td>\n",
       "      <td>21</td>\n",
       "      <td>2018</td>\n",
       "      <td>12</td>\n",
       "    </tr>\n",
       "    <tr>\n",
       "      <th>10083984</th>\n",
       "      <td>2018-12-01</td>\n",
       "      <td>0</td>\n",
       "      <td>110</td>\n",
       "      <td>110. 사천교</td>\n",
       "      <td>정기권</td>\n",
       "      <td>\\N</td>\n",
       "      <td>~10대</td>\n",
       "      <td>1</td>\n",
       "      <td>17.76</td>\n",
       "      <td>0.16</td>\n",
       "      <td>0.69</td>\n",
       "      <td>2</td>\n",
       "      <td>2018</td>\n",
       "      <td>12</td>\n",
       "    </tr>\n",
       "    <tr>\n",
       "      <th>10083985</th>\n",
       "      <td>2018-12-01</td>\n",
       "      <td>0</td>\n",
       "      <td>749</td>\n",
       "      <td>749. 이대 목동병원 앞</td>\n",
       "      <td>정기권</td>\n",
       "      <td>\\N</td>\n",
       "      <td>~10대</td>\n",
       "      <td>1</td>\n",
       "      <td>95.67</td>\n",
       "      <td>0.70</td>\n",
       "      <td>3.02</td>\n",
       "      <td>15</td>\n",
       "      <td>2018</td>\n",
       "      <td>12</td>\n",
       "    </tr>\n",
       "    <tr>\n",
       "      <th>...</th>\n",
       "      <td>...</td>\n",
       "      <td>...</td>\n",
       "      <td>...</td>\n",
       "      <td>...</td>\n",
       "      <td>...</td>\n",
       "      <td>...</td>\n",
       "      <td>...</td>\n",
       "      <td>...</td>\n",
       "      <td>...</td>\n",
       "      <td>...</td>\n",
       "      <td>...</td>\n",
       "      <td>...</td>\n",
       "      <td>...</td>\n",
       "      <td>...</td>\n",
       "    </tr>\n",
       "    <tr>\n",
       "      <th>42049933</th>\n",
       "      <td>2020-12-31</td>\n",
       "      <td>23</td>\n",
       "      <td>3121</td>\n",
       "      <td>3121.가좌삼거리</td>\n",
       "      <td>일일권</td>\n",
       "      <td>M</td>\n",
       "      <td>30대</td>\n",
       "      <td>1</td>\n",
       "      <td>0.00</td>\n",
       "      <td>0.00</td>\n",
       "      <td>0.00</td>\n",
       "      <td>13</td>\n",
       "      <td>2020</td>\n",
       "      <td>12</td>\n",
       "    </tr>\n",
       "    <tr>\n",
       "      <th>42049934</th>\n",
       "      <td>2020-12-31</td>\n",
       "      <td>23</td>\n",
       "      <td>560</td>\n",
       "      <td>560. 비전교회 앞</td>\n",
       "      <td>일일권</td>\n",
       "      <td>M</td>\n",
       "      <td>30대</td>\n",
       "      <td>1</td>\n",
       "      <td>0.00</td>\n",
       "      <td>0.00</td>\n",
       "      <td>0.00</td>\n",
       "      <td>52</td>\n",
       "      <td>2020</td>\n",
       "      <td>12</td>\n",
       "    </tr>\n",
       "    <tr>\n",
       "      <th>42049935</th>\n",
       "      <td>2020-12-31</td>\n",
       "      <td>23</td>\n",
       "      <td>1416</td>\n",
       "      <td>1416. 상봉역 3번출구</td>\n",
       "      <td>일일권</td>\n",
       "      <td>M</td>\n",
       "      <td>30대</td>\n",
       "      <td>1</td>\n",
       "      <td>18.33</td>\n",
       "      <td>0.17</td>\n",
       "      <td>0.71</td>\n",
       "      <td>4</td>\n",
       "      <td>2020</td>\n",
       "      <td>12</td>\n",
       "    </tr>\n",
       "    <tr>\n",
       "      <th>42049936</th>\n",
       "      <td>2020-12-31</td>\n",
       "      <td>23</td>\n",
       "      <td>1625</td>\n",
       "      <td>1625. 상계역(4번출구)</td>\n",
       "      <td>일일권</td>\n",
       "      <td>M</td>\n",
       "      <td>50대</td>\n",
       "      <td>1</td>\n",
       "      <td>20.52</td>\n",
       "      <td>0.15</td>\n",
       "      <td>0.65</td>\n",
       "      <td>7</td>\n",
       "      <td>2020</td>\n",
       "      <td>12</td>\n",
       "    </tr>\n",
       "    <tr>\n",
       "      <th>42049937</th>\n",
       "      <td>2020-12-31</td>\n",
       "      <td>23</td>\n",
       "      <td>419</td>\n",
       "      <td>419. 홈플러스 앞</td>\n",
       "      <td>단체권</td>\n",
       "      <td>NaN</td>\n",
       "      <td>20대</td>\n",
       "      <td>4</td>\n",
       "      <td>18.19</td>\n",
       "      <td>2.13</td>\n",
       "      <td>9.19</td>\n",
       "      <td>128</td>\n",
       "      <td>2020</td>\n",
       "      <td>12</td>\n",
       "    </tr>\n",
       "  </tbody>\n",
       "</table>\n",
       "<p>31965957 rows × 14 columns</p>\n",
       "</div>"
      ],
      "text/plain": [
       "                대여일자  대여시간  대여소번호                대여소명 대여구분코드   성별 연령대코드  이용건수  \\\n",
       "10083981  2018-12-01     0   1721     1721. 창동역 2번출구     정기권   \\N  ~10대     1   \n",
       "10083982  2018-12-01     0   3511      3511. 응봉역 1번출구    정기권   \\N  ~10대     1   \n",
       "10083983  2018-12-01     0   1975  1975. 대림역 1번 출입구 밑    정기권   \\N  ~10대     1   \n",
       "10083984  2018-12-01     0    110            110. 사천교    정기권   \\N  ~10대     1   \n",
       "10083985  2018-12-01     0    749      749. 이대 목동병원 앞    정기권   \\N  ~10대     1   \n",
       "...              ...   ...    ...                 ...    ...  ...   ...   ...   \n",
       "42049933  2020-12-31    23   3121          3121.가좌삼거리    일일권    M   30대     1   \n",
       "42049934  2020-12-31    23    560         560. 비전교회 앞    일일권    M   30대     1   \n",
       "42049935  2020-12-31    23   1416      1416. 상봉역 3번출구    일일권    M   30대     1   \n",
       "42049936  2020-12-31    23   1625     1625. 상계역(4번출구)    일일권    M   50대     1   \n",
       "42049937  2020-12-31    23    419         419. 홈플러스 앞    단체권  NaN   20대     4   \n",
       "\n",
       "          운동량(Kcal)  탄소량(%)  이동거리(KM)  사용시간(분)    년도   월  \n",
       "10083981      25.95    0.26      1.13        4  2018  12  \n",
       "10083982      52.59    0.39      1.66       72  2018  12  \n",
       "10083983     136.26    1.17      5.06       21  2018  12  \n",
       "10083984      17.76    0.16      0.69        2  2018  12  \n",
       "10083985      95.67    0.70      3.02       15  2018  12  \n",
       "...             ...     ...       ...      ...   ...  ..  \n",
       "42049933       0.00    0.00      0.00       13  2020  12  \n",
       "42049934       0.00    0.00      0.00       52  2020  12  \n",
       "42049935      18.33    0.17      0.71        4  2020  12  \n",
       "42049936      20.52    0.15      0.65        7  2020  12  \n",
       "42049937      18.19    2.13      9.19      128  2020  12  \n",
       "\n",
       "[31965957 rows x 14 columns]"
      ]
     },
     "execution_count": 14,
     "metadata": {},
     "output_type": "execute_result"
    }
   ],
   "source": [
    "bicycle2 = total_bicycle[total_bicycle['대여일자']>='2018-12-01']\n",
    "bicycle2"
   ]
  },
  {
   "cell_type": "code",
   "execution_count": 15,
   "metadata": {},
   "outputs": [
    {
     "data": {
      "text/html": [
       "<div>\n",
       "<style scoped>\n",
       "    .dataframe tbody tr th:only-of-type {\n",
       "        vertical-align: middle;\n",
       "    }\n",
       "\n",
       "    .dataframe tbody tr th {\n",
       "        vertical-align: top;\n",
       "    }\n",
       "\n",
       "    .dataframe thead th {\n",
       "        text-align: right;\n",
       "    }\n",
       "</style>\n",
       "<table border=\"1\" class=\"dataframe\">\n",
       "  <thead>\n",
       "    <tr style=\"text-align: right;\">\n",
       "      <th></th>\n",
       "      <th>대여일자</th>\n",
       "      <th>대여시간</th>\n",
       "      <th>대여소번호</th>\n",
       "      <th>대여소명</th>\n",
       "      <th>대여구분코드</th>\n",
       "      <th>성별</th>\n",
       "      <th>연령대코드</th>\n",
       "      <th>이용건수</th>\n",
       "      <th>운동량(Kcal)</th>\n",
       "      <th>탄소량(%)</th>\n",
       "      <th>이동거리(KM)</th>\n",
       "      <th>사용시간(분)</th>\n",
       "      <th>년도</th>\n",
       "      <th>월</th>\n",
       "    </tr>\n",
       "  </thead>\n",
       "  <tbody>\n",
       "    <tr>\n",
       "      <th>0</th>\n",
       "      <td>2017-01-01</td>\n",
       "      <td>0</td>\n",
       "      <td>230</td>\n",
       "      <td>230.  영등포구청역 1번출구</td>\n",
       "      <td>정기</td>\n",
       "      <td>F</td>\n",
       "      <td>~10대</td>\n",
       "      <td>1</td>\n",
       "      <td>31.27</td>\n",
       "      <td>0.39</td>\n",
       "      <td>1.68</td>\n",
       "      <td>155</td>\n",
       "      <td>2017</td>\n",
       "      <td>1</td>\n",
       "    </tr>\n",
       "    <tr>\n",
       "      <th>1</th>\n",
       "      <td>2017-01-01</td>\n",
       "      <td>0</td>\n",
       "      <td>315</td>\n",
       "      <td>315.  신한은행 안국역지점 옆</td>\n",
       "      <td>정기</td>\n",
       "      <td>F</td>\n",
       "      <td>20대</td>\n",
       "      <td>1</td>\n",
       "      <td>47.32</td>\n",
       "      <td>0.55</td>\n",
       "      <td>2.39</td>\n",
       "      <td>15</td>\n",
       "      <td>2017</td>\n",
       "      <td>1</td>\n",
       "    </tr>\n",
       "    <tr>\n",
       "      <th>2</th>\n",
       "      <td>2017-01-01</td>\n",
       "      <td>0</td>\n",
       "      <td>328</td>\n",
       "      <td>328.  탑골공원 앞</td>\n",
       "      <td>정기</td>\n",
       "      <td>F</td>\n",
       "      <td>20대</td>\n",
       "      <td>1</td>\n",
       "      <td>57.92</td>\n",
       "      <td>0.52</td>\n",
       "      <td>2.25</td>\n",
       "      <td>13</td>\n",
       "      <td>2017</td>\n",
       "      <td>1</td>\n",
       "    </tr>\n",
       "    <tr>\n",
       "      <th>3</th>\n",
       "      <td>2017-01-01</td>\n",
       "      <td>0</td>\n",
       "      <td>175</td>\n",
       "      <td>175.  홍연2교옆</td>\n",
       "      <td>정기</td>\n",
       "      <td>F</td>\n",
       "      <td>20대</td>\n",
       "      <td>1</td>\n",
       "      <td>133.29</td>\n",
       "      <td>1.53</td>\n",
       "      <td>6.60</td>\n",
       "      <td>43</td>\n",
       "      <td>2017</td>\n",
       "      <td>1</td>\n",
       "    </tr>\n",
       "    <tr>\n",
       "      <th>4</th>\n",
       "      <td>2017-01-01</td>\n",
       "      <td>0</td>\n",
       "      <td>817</td>\n",
       "      <td>817.  삼각지역 4번출구 앞</td>\n",
       "      <td>정기</td>\n",
       "      <td>F</td>\n",
       "      <td>20대</td>\n",
       "      <td>1</td>\n",
       "      <td>33.88</td>\n",
       "      <td>0.32</td>\n",
       "      <td>1.38</td>\n",
       "      <td>8</td>\n",
       "      <td>2017</td>\n",
       "      <td>1</td>\n",
       "    </tr>\n",
       "    <tr>\n",
       "      <th>...</th>\n",
       "      <td>...</td>\n",
       "      <td>...</td>\n",
       "      <td>...</td>\n",
       "      <td>...</td>\n",
       "      <td>...</td>\n",
       "      <td>...</td>\n",
       "      <td>...</td>\n",
       "      <td>...</td>\n",
       "      <td>...</td>\n",
       "      <td>...</td>\n",
       "      <td>...</td>\n",
       "      <td>...</td>\n",
       "      <td>...</td>\n",
       "      <td>...</td>\n",
       "    </tr>\n",
       "    <tr>\n",
       "      <th>42049933</th>\n",
       "      <td>2020-12-31</td>\n",
       "      <td>23</td>\n",
       "      <td>3121</td>\n",
       "      <td>3121.가좌삼거리</td>\n",
       "      <td>일일권</td>\n",
       "      <td>M</td>\n",
       "      <td>30대</td>\n",
       "      <td>1</td>\n",
       "      <td>0.00</td>\n",
       "      <td>0.00</td>\n",
       "      <td>0.00</td>\n",
       "      <td>13</td>\n",
       "      <td>2020</td>\n",
       "      <td>12</td>\n",
       "    </tr>\n",
       "    <tr>\n",
       "      <th>42049934</th>\n",
       "      <td>2020-12-31</td>\n",
       "      <td>23</td>\n",
       "      <td>560</td>\n",
       "      <td>560. 비전교회 앞</td>\n",
       "      <td>일일권</td>\n",
       "      <td>M</td>\n",
       "      <td>30대</td>\n",
       "      <td>1</td>\n",
       "      <td>0.00</td>\n",
       "      <td>0.00</td>\n",
       "      <td>0.00</td>\n",
       "      <td>52</td>\n",
       "      <td>2020</td>\n",
       "      <td>12</td>\n",
       "    </tr>\n",
       "    <tr>\n",
       "      <th>42049935</th>\n",
       "      <td>2020-12-31</td>\n",
       "      <td>23</td>\n",
       "      <td>1416</td>\n",
       "      <td>1416. 상봉역 3번출구</td>\n",
       "      <td>일일권</td>\n",
       "      <td>M</td>\n",
       "      <td>30대</td>\n",
       "      <td>1</td>\n",
       "      <td>18.33</td>\n",
       "      <td>0.17</td>\n",
       "      <td>0.71</td>\n",
       "      <td>4</td>\n",
       "      <td>2020</td>\n",
       "      <td>12</td>\n",
       "    </tr>\n",
       "    <tr>\n",
       "      <th>42049936</th>\n",
       "      <td>2020-12-31</td>\n",
       "      <td>23</td>\n",
       "      <td>1625</td>\n",
       "      <td>1625. 상계역(4번출구)</td>\n",
       "      <td>일일권</td>\n",
       "      <td>M</td>\n",
       "      <td>50대</td>\n",
       "      <td>1</td>\n",
       "      <td>20.52</td>\n",
       "      <td>0.15</td>\n",
       "      <td>0.65</td>\n",
       "      <td>7</td>\n",
       "      <td>2020</td>\n",
       "      <td>12</td>\n",
       "    </tr>\n",
       "    <tr>\n",
       "      <th>42049937</th>\n",
       "      <td>2020-12-31</td>\n",
       "      <td>23</td>\n",
       "      <td>419</td>\n",
       "      <td>419. 홈플러스 앞</td>\n",
       "      <td>단체권</td>\n",
       "      <td>NaN</td>\n",
       "      <td>20대</td>\n",
       "      <td>4</td>\n",
       "      <td>18.19</td>\n",
       "      <td>2.13</td>\n",
       "      <td>9.19</td>\n",
       "      <td>128</td>\n",
       "      <td>2020</td>\n",
       "      <td>12</td>\n",
       "    </tr>\n",
       "  </tbody>\n",
       "</table>\n",
       "<p>42049938 rows × 14 columns</p>\n",
       "</div>"
      ],
      "text/plain": [
       "                대여일자  대여시간  대여소번호                대여소명 대여구분코드   성별 연령대코드  이용건수  \\\n",
       "0         2017-01-01     0    230   230.  영등포구청역 1번출구     정기    F  ~10대     1   \n",
       "1         2017-01-01     0    315  315.  신한은행 안국역지점 옆     정기    F   20대     1   \n",
       "2         2017-01-01     0    328        328.  탑골공원 앞     정기    F   20대     1   \n",
       "3         2017-01-01     0    175         175.  홍연2교옆     정기    F   20대     1   \n",
       "4         2017-01-01     0    817   817.  삼각지역 4번출구 앞     정기    F   20대     1   \n",
       "...              ...   ...    ...                 ...    ...  ...   ...   ...   \n",
       "42049933  2020-12-31    23   3121          3121.가좌삼거리    일일권    M   30대     1   \n",
       "42049934  2020-12-31    23    560         560. 비전교회 앞    일일권    M   30대     1   \n",
       "42049935  2020-12-31    23   1416      1416. 상봉역 3번출구    일일권    M   30대     1   \n",
       "42049936  2020-12-31    23   1625     1625. 상계역(4번출구)    일일권    M   50대     1   \n",
       "42049937  2020-12-31    23    419         419. 홈플러스 앞    단체권  NaN   20대     4   \n",
       "\n",
       "          운동량(Kcal)  탄소량(%)  이동거리(KM)  사용시간(분)    년도   월  \n",
       "0             31.27    0.39      1.68      155  2017   1  \n",
       "1             47.32    0.55      2.39       15  2017   1  \n",
       "2             57.92    0.52      2.25       13  2017   1  \n",
       "3            133.29    1.53      6.60       43  2017   1  \n",
       "4             33.88    0.32      1.38        8  2017   1  \n",
       "...             ...     ...       ...      ...   ...  ..  \n",
       "42049933       0.00    0.00      0.00       13  2020  12  \n",
       "42049934       0.00    0.00      0.00       52  2020  12  \n",
       "42049935      18.33    0.17      0.71        4  2020  12  \n",
       "42049936      20.52    0.15      0.65        7  2020  12  \n",
       "42049937      18.19    2.13      9.19      128  2020  12  \n",
       "\n",
       "[42049938 rows x 14 columns]"
      ]
     },
     "execution_count": 15,
     "metadata": {},
     "output_type": "execute_result"
    }
   ],
   "source": [
    "real_bicycle = pd.concat([bicycle1,bicycle2],ignore_index=True)\n",
    "real_bicycle"
   ]
  },
  {
   "cell_type": "code",
   "execution_count": 18,
   "metadata": {},
   "outputs": [
    {
     "data": {
      "text/plain": [
       "0"
      ]
     },
     "execution_count": 18,
     "metadata": {},
     "output_type": "execute_result"
    }
   ],
   "source": [
    "real_bicycle['탄소량(%)'].isnull().sum()"
   ]
  },
  {
   "cell_type": "code",
   "execution_count": 19,
   "metadata": {},
   "outputs": [],
   "source": [
    "real_bicycle.to_csv('total_bicycle.csv', index = False)"
   ]
  },
  {
   "cell_type": "code",
   "execution_count": 7,
   "metadata": {},
   "outputs": [
    {
     "ename": "SyntaxError",
     "evalue": "invalid syntax (<ipython-input-7-0728555cd2d1>, line 1)",
     "output_type": "error",
     "traceback": [
      "\u001b[1;36m  File \u001b[1;32m\"<ipython-input-7-0728555cd2d1>\"\u001b[1;36m, line \u001b[1;32m1\u001b[0m\n\u001b[1;33m    충돌 방지 문구\u001b[0m\n\u001b[1;37m       ^\u001b[0m\n\u001b[1;31mSyntaxError\u001b[0m\u001b[1;31m:\u001b[0m invalid syntax\n"
     ]
    }
   ],
   "source": [
    "충돌 방지 문구"
   ]
  },
  {
   "cell_type": "code",
   "execution_count": null,
   "metadata": {},
   "outputs": [],
   "source": [
    "total_bicycle['연령대코드'] = np.where(total_bicycle['연령대코드']=='a',np.nan,total_bicycle['연령대코드'])"
   ]
  },
  {
   "cell_type": "code",
   "execution_count": null,
   "metadata": {},
   "outputs": [],
   "source": [
    "total_bicycle['연령대코드'].unique()"
   ]
  },
  {
   "cell_type": "code",
   "execution_count": null,
   "metadata": {},
   "outputs": [],
   "source": [
    "# total_bicycle['년도'].unique()"
   ]
  },
  {
   "cell_type": "code",
   "execution_count": null,
   "metadata": {},
   "outputs": [],
   "source": [
    "month_list = [int(x[5:7]) for x in total_bicycle['대여일자']]"
   ]
  },
  {
   "cell_type": "code",
   "execution_count": null,
   "metadata": {},
   "outputs": [],
   "source": [
    "total_bicycle['월']=month_list"
   ]
  },
  {
   "cell_type": "code",
   "execution_count": null,
   "metadata": {},
   "outputs": [],
   "source": [
    "total_bicycle['월'].unique()"
   ]
  },
  {
   "cell_type": "code",
   "execution_count": null,
   "metadata": {},
   "outputs": [],
   "source": [
    "total_bicycle"
   ]
  },
  {
   "cell_type": "code",
   "execution_count": null,
   "metadata": {},
   "outputs": [],
   "source": [
    "bicycle1 = total_bicycle[total_bicycle['대여일자']<'2018-12-01']\n",
    "bicycle2 = total_bicycle[total_bicycle['대여일자']>='2018-12-01']\n",
    "\n",
    "bicycle1['대여구분코드'].unique()"
   ]
  },
  {
   "cell_type": "code",
   "execution_count": null,
   "metadata": {},
   "outputs": [],
   "source": [
    "# del bicycle1\n",
    "# del bicycle2\n"
   ]
  },
  {
   "cell_type": "code",
   "execution_count": null,
   "metadata": {},
   "outputs": [],
   "source": [
    "# bicycle3 = total_bicycle[total_bicycle['대여일자']<'2018-12-01']\n",
    "# bicycle4 = total_bicycle[total_bicycle['대여일자']>='2018-12-01']\n",
    "\n",
    "아래부터는 작업내용을 참고하기 위한것\n",
    "만일을 위해 주석을 처리 안함"
   ]
  },
  {
   "cell_type": "code",
   "execution_count": null,
   "metadata": {},
   "outputs": [],
   "source": [
    "bicycle1"
   ]
  },
  {
   "cell_type": "code",
   "execution_count": null,
   "metadata": {},
   "outputs": [],
   "source": [
    "bicycle2"
   ]
  },
  {
   "cell_type": "code",
   "execution_count": null,
   "metadata": {},
   "outputs": [],
   "source": [
    "# total_bicycle.to_csv('total_bicycle.csv', index = False)"
   ]
  },
  {
   "cell_type": "code",
   "execution_count": null,
   "metadata": {},
   "outputs": [],
   "source": [
    "# total_bicycle['대여소명'] = np.where(total_bicycle['대여소명'][0] in ['1','2','3','4','5','6','7','8','9'],\\\n",
    "#                                  str(total_bicycle['대여소번호'])+\".\" + total_bicycle['대여소명'],total_bicycle['대여소명'])"
   ]
  },
  {
   "cell_type": "code",
   "execution_count": null,
   "metadata": {},
   "outputs": [],
   "source": [
    "data4[data4['운동량']=='\\\\N']"
   ]
  },
  {
   "cell_type": "code",
   "execution_count": null,
   "metadata": {},
   "outputs": [],
   "source": [
    "data3 = pd.read_csv('data/최종작업파일/data3.csv', encoding = 'utf-8')\n",
    "data3[data3['운동량']=='\\\\N']\n"
   ]
  },
  {
   "cell_type": "code",
   "execution_count": null,
   "metadata": {},
   "outputs": [],
   "source": [
    "data3.dtypes"
   ]
  },
  {
   "cell_type": "code",
   "execution_count": null,
   "metadata": {},
   "outputs": [],
   "source": [
    "data2 = pd.read_csv('data/최종작업파일/data2.csv', encoding = 'utf-8')\n",
    "data1 = pd.read_csv('data/최종작업파일/data1.csv', encoding = 'utf-8')\n"
   ]
  },
  {
   "cell_type": "code",
   "execution_count": null,
   "metadata": {},
   "outputs": [],
   "source": [
    "data2[data2['운동량']=='\\\\N']"
   ]
  },
  {
   "cell_type": "code",
   "execution_count": null,
   "metadata": {},
   "outputs": [],
   "source": [
    "data1[data1['운동량']=='\\\\N']"
   ]
  },
  {
   "cell_type": "code",
   "execution_count": null,
   "metadata": {},
   "outputs": [],
   "source": [
    "data3[data3['운동량']=='\\\\N']"
   ]
  },
  {
   "cell_type": "code",
   "execution_count": null,
   "metadata": {},
   "outputs": [],
   "source": [
    "data3=data3[data3['운동량']!='\\\\N']\n",
    "data3"
   ]
  },
  {
   "cell_type": "code",
   "execution_count": null,
   "metadata": {},
   "outputs": [],
   "source": [
    "data3.to_csv('data3.csv', index = False)"
   ]
  },
  {
   "cell_type": "code",
   "execution_count": null,
   "metadata": {},
   "outputs": [],
   "source": [
    "total_bicycle = pd.concat([data1,data2,data3,data4],ignore_index=True)\n",
    "total_bicycle"
   ]
  },
  {
   "cell_type": "code",
   "execution_count": null,
   "metadata": {},
   "outputs": [],
   "source": [
    "total_bicycle.rename(columns={'운동량':'운동량(Kcal)','탄소량':'탄소량(%)'}, inplace=True)"
   ]
  },
  {
   "cell_type": "code",
   "execution_count": null,
   "metadata": {},
   "outputs": [],
   "source": [
    "year_list = [int(x[:4]) for x in total_bicycle['대여일자']]"
   ]
  },
  {
   "cell_type": "code",
   "execution_count": null,
   "metadata": {},
   "outputs": [],
   "source": [
    "total_bicycle['년도']=year_list"
   ]
  },
  {
   "cell_type": "code",
   "execution_count": null,
   "metadata": {},
   "outputs": [],
   "source": [
    "month_list = [int(x[5:7]) for x in total_bicycle['대여일자']]"
   ]
  },
  {
   "cell_type": "code",
   "execution_count": null,
   "metadata": {},
   "outputs": [],
   "source": [
    "total_bicycle.to_csv('total_bicycle.csv', index = False)"
   ]
  },
  {
   "cell_type": "code",
   "execution_count": null,
   "metadata": {},
   "outputs": [],
   "source": [
    "# total_bicycle['월']=month_list"
   ]
  },
  {
   "cell_type": "code",
   "execution_count": null,
   "metadata": {},
   "outputs": [],
   "source": []
  },
  {
   "cell_type": "code",
   "execution_count": null,
   "metadata": {},
   "outputs": [],
   "source": [
    "final_df['운동량']=list(map(float,final_df['운동량']))\n",
    "final_df['탄소량']=list(map(float,final_df['탄소량']))\n",
    "final_df"
   ]
  },
  {
   "cell_type": "code",
   "execution_count": null,
   "metadata": {},
   "outputs": [],
   "source": [
    "data1 = pd.read_csv('data/최종작업파일/2017_bicycle.csv', encoding = 'utf-8')\n",
    "data1"
   ]
  },
  {
   "cell_type": "code",
   "execution_count": null,
   "metadata": {},
   "outputs": [],
   "source": [
    "del data1['Unnamed: 0']"
   ]
  },
  {
   "cell_type": "code",
   "execution_count": null,
   "metadata": {},
   "outputs": [],
   "source": [
    "data1['탄소량'].isnull().sum()"
   ]
  },
  {
   "cell_type": "code",
   "execution_count": null,
   "metadata": {},
   "outputs": [],
   "source": [
    "data1.dtypes"
   ]
  },
  {
   "cell_type": "code",
   "execution_count": null,
   "metadata": {},
   "outputs": [],
   "source": [
    "data_list = list(set(data1['대여소번호'].tolist()))\n",
    "print(data_list)"
   ]
  },
  {
   "cell_type": "code",
   "execution_count": null,
   "metadata": {},
   "outputs": [],
   "source": [
    "[x for x in data_list]"
   ]
  },
  {
   "cell_type": "code",
   "execution_count": null,
   "metadata": {},
   "outputs": [],
   "source": [
    "data1[(data1['대여소번호']!='중량센터')&(data1['대여소번호']!='중랑정비팀test 1005')\\\n",
    "     &(data1['대여소번호']!='위트콤')&(data1['대여소번호']!='위트콤공장') &(data1['대여소번호']!='상암센터 정비실')]"
   ]
  },
  {
   "cell_type": "code",
   "execution_count": null,
   "metadata": {},
   "outputs": [],
   "source": [
    "data1=data1[(data1['대여소번호']!='중량센터')&(data1['대여소번호']!='중랑정비팀test 1005')\\\n",
    "     &(data1['대여소번호']!='위트콤')&(data1['대여소번호']!='위트콤공장') &(data1['대여소번호']!='상암센터 정비실')]"
   ]
  },
  {
   "cell_type": "code",
   "execution_count": null,
   "metadata": {},
   "outputs": [],
   "source": [
    "data1=data1[(data1['대여소번호']!='중랑센터')]"
   ]
  },
  {
   "cell_type": "code",
   "execution_count": null,
   "metadata": {},
   "outputs": [],
   "source": [
    "data1=data1[(data1['대여소번호']!='a')]"
   ]
  },
  {
   "cell_type": "code",
   "execution_count": null,
   "metadata": {},
   "outputs": [],
   "source": [
    "data1['대여소번호'] = list(map(int,data1['대여소번호']))"
   ]
  },
  {
   "cell_type": "code",
   "execution_count": null,
   "metadata": {},
   "outputs": [],
   "source": [
    "data1.dtypes"
   ]
  },
  {
   "cell_type": "code",
   "execution_count": null,
   "metadata": {},
   "outputs": [],
   "source": [
    "data1['이동거리(M)']=data1['이동거리(M)']/1000"
   ]
  },
  {
   "cell_type": "code",
   "execution_count": null,
   "metadata": {},
   "outputs": [],
   "source": [
    "data1['이동거리(M)']=round(data1['이동거리(M)'],2)\n",
    "data1"
   ]
  },
  {
   "cell_type": "code",
   "execution_count": null,
   "metadata": {},
   "outputs": [],
   "source": [
    "data1[data1['이동거리(M)'] > data1['사용시간(분)'] * 0.9]"
   ]
  },
  {
   "cell_type": "code",
   "execution_count": null,
   "metadata": {},
   "outputs": [],
   "source": [
    "data1=data1[data1['이동거리(M)'] < data1['사용시간(분)'] * 0.9]"
   ]
  },
  {
   "cell_type": "code",
   "execution_count": null,
   "metadata": {},
   "outputs": [],
   "source": [
    "data1.columns=['대여일자','대여시간','대여소번호','대여소명','대여구분코드','성별','연령대코드','이용건수','운동량','탄소량',\\\n",
    "               '이동거리(KM)','사용시간(분)']"
   ]
  },
  {
   "cell_type": "code",
   "execution_count": null,
   "metadata": {},
   "outputs": [],
   "source": [
    "data1"
   ]
  },
  {
   "cell_type": "code",
   "execution_count": null,
   "metadata": {},
   "outputs": [],
   "source": [
    "data2 = pd.read_csv('data/최종작업파일/2018_bicycle.csv', encoding = 'utf-8')\n",
    "data2"
   ]
  },
  {
   "cell_type": "code",
   "execution_count": null,
   "metadata": {},
   "outputs": [],
   "source": [
    "data2['탄소량'].isnull()"
   ]
  },
  {
   "cell_type": "code",
   "execution_count": null,
   "metadata": {},
   "outputs": [],
   "source": [
    "data2['탄소량'].isnull().sum()"
   ]
  },
  {
   "cell_type": "code",
   "execution_count": null,
   "metadata": {},
   "outputs": [],
   "source": [
    "data2=data2[data2['탄소량'].notnull()]"
   ]
  },
  {
   "cell_type": "code",
   "execution_count": null,
   "metadata": {},
   "outputs": [],
   "source": [
    "data2"
   ]
  },
  {
   "cell_type": "code",
   "execution_count": null,
   "metadata": {},
   "outputs": [],
   "source": [
    "data2.columns=['대여일자','대여시간','대여소번호','대여소명','대여구분코드','성별','연령대코드','이용건수','운동량','탄소량',\\\n",
    "               '이동거리(KM)','사용시간(분)']"
   ]
  },
  {
   "cell_type": "code",
   "execution_count": null,
   "metadata": {},
   "outputs": [],
   "source": [
    "data2['이동거리(KM)']=round(data2['이동거리(KM)']/1000,2)\n",
    "data2"
   ]
  },
  {
   "cell_type": "code",
   "execution_count": null,
   "metadata": {},
   "outputs": [],
   "source": [
    "data2.dtypes"
   ]
  },
  {
   "cell_type": "code",
   "execution_count": null,
   "metadata": {},
   "outputs": [],
   "source": [
    "data2['대여시간']=list(map(int,data2['대여시간']))\n",
    "data2['대여소번호']=list(map(int,data2['대여소번호']))\n",
    "data2['이용건수']=list(map(int,data2['이용건수']))"
   ]
  },
  {
   "cell_type": "code",
   "execution_count": null,
   "metadata": {},
   "outputs": [],
   "source": [
    "data2['사용시간(분)']=list(map(int,data2['사용시간(분)']))\n",
    "data2.dtypes"
   ]
  },
  {
   "cell_type": "code",
   "execution_count": null,
   "metadata": {
    "scrolled": true
   },
   "outputs": [],
   "source": [
    "data1.dtypes"
   ]
  },
  {
   "cell_type": "code",
   "execution_count": null,
   "metadata": {},
   "outputs": [],
   "source": [
    "subdata1 = data2[data2['대여일자']>='2018-12-01']\n",
    "subdata2 = data2[data2['대여일자']<'2018-12-01']\n",
    "subdata2"
   ]
  },
  {
   "cell_type": "code",
   "execution_count": null,
   "metadata": {},
   "outputs": [],
   "source": [
    "data2[data2['대여일자']=='30/11/2018']"
   ]
  },
  {
   "cell_type": "code",
   "execution_count": null,
   "metadata": {},
   "outputs": [],
   "source": [
    "date_list = data2['대여일자'].tolist()"
   ]
  },
  {
   "cell_type": "code",
   "execution_count": null,
   "metadata": {},
   "outputs": [],
   "source": [
    "for i in range(len(date_list)):\n",
    "    if '/' in date_list[i]:\n",
    "        date_list[i] =date_list[i][6:]+'-'+date_list[i][3:5]+'-'+date_list[i][:2]\n",
    "    else:\n",
    "        pass"
   ]
  },
  {
   "cell_type": "code",
   "execution_count": null,
   "metadata": {},
   "outputs": [],
   "source": [
    "data2['대여일자']=date_list\n",
    "data2"
   ]
  },
  {
   "cell_type": "code",
   "execution_count": null,
   "metadata": {},
   "outputs": [],
   "source": [
    "data2[data2['대여일자']=='2018-11-01']"
   ]
  },
  {
   "cell_type": "code",
   "execution_count": null,
   "metadata": {},
   "outputs": [],
   "source": [
    "data2.dtypes"
   ]
  },
  {
   "cell_type": "code",
   "execution_count": null,
   "metadata": {},
   "outputs": [],
   "source": [
    "display(data1.duplicated().value_counts())"
   ]
  },
  {
   "cell_type": "code",
   "execution_count": null,
   "metadata": {},
   "outputs": [],
   "source": [
    "display(data2.duplicated().value_counts())"
   ]
  },
  {
   "cell_type": "code",
   "execution_count": null,
   "metadata": {},
   "outputs": [],
   "source": [
    "data3 = pd.read_csv('data/최종작업파일/2019_bicycle.csv', encoding = 'utf-8')\n",
    "data3"
   ]
  },
  {
   "cell_type": "code",
   "execution_count": null,
   "metadata": {},
   "outputs": [],
   "source": [
    "data3.dtypes"
   ]
  },
  {
   "cell_type": "code",
   "execution_count": null,
   "metadata": {},
   "outputs": [],
   "source": [
    "data3.columns=['대여일자','대여시간','대여소번호','대여소명','대여구분코드','성별','연령대코드','이용건수','운동량','탄소량',\\\n",
    "               '이동거리(KM)','사용시간(분)']"
   ]
  },
  {
   "cell_type": "code",
   "execution_count": null,
   "metadata": {},
   "outputs": [],
   "source": [
    "data2[data2['이동거리(KM)'] > data2['사용시간(분)'] * 0.9]"
   ]
  },
  {
   "cell_type": "code",
   "execution_count": null,
   "metadata": {},
   "outputs": [],
   "source": [
    "data2=data2[data2['이동거리(KM)'] < data2['사용시간(분)'] * 0.9]\n",
    "data2"
   ]
  },
  {
   "cell_type": "code",
   "execution_count": null,
   "metadata": {},
   "outputs": [],
   "source": [
    "data3['이동거리(KM)']=data3['이동거리(KM)']/1000\n",
    "data3['이동거리(KM)']=round(data3['이동거리(KM)'],2)\n",
    "data3"
   ]
  },
  {
   "cell_type": "code",
   "execution_count": null,
   "metadata": {},
   "outputs": [],
   "source": [
    "display(data3.duplicated().value_counts())"
   ]
  },
  {
   "cell_type": "code",
   "execution_count": null,
   "metadata": {},
   "outputs": [],
   "source": [
    "data3[data3['이동거리(KM)'] > data3['사용시간(분)'] * 0.9]"
   ]
  },
  {
   "cell_type": "code",
   "execution_count": null,
   "metadata": {},
   "outputs": [],
   "source": [
    "data3=data3[data3['이동거리(KM)'] < data3['사용시간(분)'] * 0.9]\n",
    "data3"
   ]
  },
  {
   "cell_type": "code",
   "execution_count": null,
   "metadata": {},
   "outputs": [],
   "source": [
    "data4 = pd.read_csv('data/최종작업파일/2020_bicycle.csv', encoding = 'utf-8')\n",
    "data4"
   ]
  },
  {
   "cell_type": "code",
   "execution_count": null,
   "metadata": {},
   "outputs": [],
   "source": [
    "del data4['Unnamed: 0']"
   ]
  },
  {
   "cell_type": "code",
   "execution_count": null,
   "metadata": {},
   "outputs": [],
   "source": [
    "data4.columns=['대여일자','대여시간','대여소번호','대여소명','대여구분코드','성별','연령대코드','이용건수','운동량','탄소량',\\\n",
    "               '이동거리(KM)','사용시간(분)']"
   ]
  },
  {
   "cell_type": "code",
   "execution_count": null,
   "metadata": {},
   "outputs": [],
   "source": [
    "# display(data4.duplicated().value_counts())"
   ]
  },
  {
   "cell_type": "code",
   "execution_count": null,
   "metadata": {},
   "outputs": [],
   "source": [
    "data4.dtypes"
   ]
  },
  {
   "cell_type": "code",
   "execution_count": null,
   "metadata": {},
   "outputs": [],
   "source": [
    "# data4['운동량']=list(map(float,data4['운동량']))\n",
    "# data4['탄소량']=list(map(float,data4['탄소량']))\n",
    "# data4"
   ]
  },
  {
   "cell_type": "code",
   "execution_count": null,
   "metadata": {},
   "outputs": [],
   "source": [
    "# data4[((data4['운동량']=='\\\\N')|(data4['탄소량']=='\\\\N'))&(data4['이동거리(KM)']==0)]"
   ]
  },
  {
   "cell_type": "code",
   "execution_count": null,
   "metadata": {},
   "outputs": [],
   "source": [
    "data4=data4[data4['운동량']!='\\\\N']\n",
    "# data4"
   ]
  },
  {
   "cell_type": "code",
   "execution_count": null,
   "metadata": {},
   "outputs": [],
   "source": [
    "data4['운동량']=list(map(float,data4['운동량']))\n",
    "data4['탄소량']=list(map(float,data4['탄소량']))\n",
    "# data4"
   ]
  },
  {
   "cell_type": "code",
   "execution_count": null,
   "metadata": {},
   "outputs": [],
   "source": [
    "data4.dtypes"
   ]
  },
  {
   "cell_type": "code",
   "execution_count": null,
   "metadata": {},
   "outputs": [],
   "source": [
    "data4['이동거리(KM)']=data4['이동거리(KM)']/1000\n",
    "data4['이동거리(KM)']=round(data4['이동거리(KM)'],2)\n",
    "# data4"
   ]
  },
  {
   "cell_type": "code",
   "execution_count": null,
   "metadata": {},
   "outputs": [],
   "source": [
    "data4[data4['이동거리(KM)'] > data4['사용시간(분)'] * 0.9]"
   ]
  },
  {
   "cell_type": "code",
   "execution_count": null,
   "metadata": {},
   "outputs": [],
   "source": [
    "data4=data4[data4['이동거리(KM)'] < data4['사용시간(분)'] * 0.9]\n",
    "# data4"
   ]
  },
  {
   "cell_type": "code",
   "execution_count": null,
   "metadata": {},
   "outputs": [],
   "source": [
    "data1.to_csv('data1.csv', index = False)"
   ]
  },
  {
   "cell_type": "code",
   "execution_count": null,
   "metadata": {},
   "outputs": [],
   "source": [
    "data2.to_csv('data2.csv', index = False)"
   ]
  },
  {
   "cell_type": "code",
   "execution_count": null,
   "metadata": {},
   "outputs": [],
   "source": [
    "data3.to_csv('data3.csv', index = False)\n",
    "data4.to_csv('data4.csv', index = False)"
   ]
  },
  {
   "cell_type": "code",
   "execution_count": null,
   "metadata": {},
   "outputs": [],
   "source": [
    "# final_data.to_csv('final_data.csv')"
   ]
  },
  {
   "cell_type": "code",
   "execution_count": null,
   "metadata": {},
   "outputs": [],
   "source": [
    "# final_data = pd.concat([data1,data2,data3,data4],ignore_index=True)\n",
    "# final_data"
   ]
  },
  {
   "cell_type": "code",
   "execution_count": null,
   "metadata": {},
   "outputs": [],
   "source": [
    "man!!!!!\n",
    "# final_data.to_csv('final_data.csv')"
   ]
  },
  {
   "cell_type": "code",
   "execution_count": null,
   "metadata": {},
   "outputs": [],
   "source": [
    "final_data.rename(columns={'운동량':'운동량(Kcal)','탄소량':'탄소량(%)','이동거리':'이동거리(KM)','사용시간':'사용시간(분)'}, inplace=True)\n",
    "final_data"
   ]
  },
  {
   "cell_type": "code",
   "execution_count": null,
   "metadata": {},
   "outputs": [],
   "source": [
    "final_data.rename(columns={'탄소량(%)':'탄소절감량(%)'}, inplace=True)\n",
    "final_data"
   ]
  },
  {
   "cell_type": "code",
   "execution_count": null,
   "metadata": {},
   "outputs": [],
   "source": [
    "final_data['이동거리(KM)']=[x/1000 for x in final_data['이동거리(KM)']]\n",
    "final_data"
   ]
  },
  {
   "cell_type": "code",
   "execution_count": null,
   "metadata": {},
   "outputs": [],
   "source": [
    "final_data['이동거리(KM)']=round(final_data['이동거리(KM)'],2)\n",
    "final_data"
   ]
  },
  {
   "cell_type": "code",
   "execution_count": null,
   "metadata": {},
   "outputs": [],
   "source": [
    "# final_data=final_data.astype({'대여소번호':'int'})"
   ]
  },
  {
   "cell_type": "code",
   "execution_count": null,
   "metadata": {},
   "outputs": [],
   "source": [
    "# final_data[str(final_data['대여소번호']).isalpha()] "
   ]
  },
  {
   "cell_type": "code",
   "execution_count": null,
   "metadata": {},
   "outputs": [],
   "source": [
    "# final_data['대여시간']=[int(x) for x in final_data['대여시간']]"
   ]
  },
  {
   "cell_type": "code",
   "execution_count": null,
   "metadata": {},
   "outputs": [],
   "source": [
    "# final_data['대여시간'].dropna()\n",
    "# final_data"
   ]
  },
  {
   "cell_type": "code",
   "execution_count": null,
   "metadata": {},
   "outputs": [],
   "source": [
    "# final_data['대여시간']=[int(x) for x in final_data['대여시간']]\n",
    "# final_data"
   ]
  },
  {
   "cell_type": "code",
   "execution_count": null,
   "metadata": {},
   "outputs": [],
   "source": [
    "# final_data['대여시간'].isnull().sum()"
   ]
  },
  {
   "cell_type": "code",
   "execution_count": null,
   "metadata": {},
   "outputs": [],
   "source": [
    "final_data = final_data[final_data['대여시간'].notnull()]"
   ]
  },
  {
   "cell_type": "code",
   "execution_count": null,
   "metadata": {},
   "outputs": [],
   "source": [
    "final_data['대여시간'].unique()"
   ]
  },
  {
   "cell_type": "code",
   "execution_count": null,
   "metadata": {},
   "outputs": [],
   "source": [
    "# final_data=final_data.str.astype({'대여시간':'int'})\n"
   ]
  },
  {
   "cell_type": "code",
   "execution_count": null,
   "metadata": {},
   "outputs": [],
   "source": [
    "final_data['대여시간']=[int(x) for x in final_data['대여시간']]\n"
   ]
  },
  {
   "cell_type": "code",
   "execution_count": null,
   "metadata": {},
   "outputs": [],
   "source": [
    "final_data.dtypes"
   ]
  },
  {
   "cell_type": "code",
   "execution_count": null,
   "metadata": {},
   "outputs": [],
   "source": [
    "final_data['연월']=[x[:7] for x in final_data['대여일자']]\n",
    "final_data.head()"
   ]
  },
  {
   "cell_type": "code",
   "execution_count": null,
   "metadata": {},
   "outputs": [],
   "source": [
    "final_data['연도']=[x[:4] for x in final_data['대여일자']]\n",
    "final_data.head()"
   ]
  },
  {
   "cell_type": "code",
   "execution_count": null,
   "metadata": {},
   "outputs": [],
   "source": [
    "grouped_data = final_data.groupby(['연월', '연령대코드'])['사용시간(분)']\n",
    "grouped_data.agg(['mean','sum']).head(1000)"
   ]
  },
  {
   "cell_type": "code",
   "execution_count": null,
   "metadata": {},
   "outputs": [],
   "source": [
    "grouped_data.agg(['mean','sum']).head(1000)"
   ]
  },
  {
   "cell_type": "code",
   "execution_count": null,
   "metadata": {},
   "outputs": [],
   "source": [
    "grouped_data2 = final_data.groupby(['연도', '연령대코드'])['사용시간(분)']\n",
    "grouped_data2.agg(['mean','sum'])\n"
   ]
  },
  {
   "cell_type": "code",
   "execution_count": null,
   "metadata": {},
   "outputs": [],
   "source": [
    "final_data['연도'].unique()"
   ]
  },
  {
   "cell_type": "code",
   "execution_count": null,
   "metadata": {},
   "outputs": [],
   "source": [
    "final_data[(final_data['연도']=='2017')|(final_data['연도']=='2018')|(final_data['연도']=='2019')|(final_data['연도']=='2020')]"
   ]
  },
  {
   "cell_type": "code",
   "execution_count": null,
   "metadata": {},
   "outputs": [],
   "source": []
  }
 ],
 "metadata": {
  "kernelspec": {
   "display_name": "Python 3",
   "language": "python",
   "name": "python3"
  },
  "language_info": {
   "codemirror_mode": {
    "name": "ipython",
    "version": 3
   },
   "file_extension": ".py",
   "mimetype": "text/x-python",
   "name": "python",
   "nbconvert_exporter": "python",
   "pygments_lexer": "ipython3",
   "version": "3.8.5"
  }
 },
 "nbformat": 4,
 "nbformat_minor": 5
}
