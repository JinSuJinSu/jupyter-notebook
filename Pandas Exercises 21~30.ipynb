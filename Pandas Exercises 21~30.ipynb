{
 "cells": [
  {
   "cell_type": "code",
   "execution_count": 2,
   "metadata": {},
   "outputs": [
    {
     "data": {
      "text/plain": [
       "0   2010-01-01 00:00:00\n",
       "1   2011-02-02 00:00:00\n",
       "2   2012-03-03 00:00:00\n",
       "3   2013-04-04 00:00:00\n",
       "4   2014-05-05 00:00:00\n",
       "5   2015-06-06 12:20:00\n",
       "dtype: datetime64[ns]"
      ]
     },
     "execution_count": 2,
     "metadata": {},
     "output_type": "execute_result"
    }
   ],
   "source": [
    "import pandas as pd\n",
    "import numpy as np\n",
    "from dateutil.parser import parse\n",
    "\n",
    "#Exercise21\n",
    "#How to convert a series of date-strings to a timeseries.\n",
    "\n",
    "ser = pd.Series(['01 Jan 2010', '02-02-2011', '20120303', '2013/04/04', '2014-05-05', '2015-06-06T12:20'])\n",
    "result = pd.to_datetime(ser)\n",
    "result\n"
   ]
  },
  {
   "cell_type": "code",
   "execution_count": 27,
   "metadata": {},
   "outputs": [
    {
     "name": "stdout",
     "output_type": "stream",
     "text": [
      "[1, 2, 3, 4, 5, 6]\n",
      "53 5 9 14 19 23 2009 2011 2012 2013 2014 2015 "
     ]
    }
   ],
   "source": [
    "#Exercise22,23 생략\n",
    "#How to get the day of month, week number, day of year and day of week from a series of date strings?\n",
    "\n",
    "ser = pd.Series(['01 Jan 2010', '02-02-2011', '20120303', '2013/04/04', '2014-05-05', '2015-06-06T12:20'])\n",
    "time_list = pd.to_datetime(ser)\n",
    "\n",
    "print(time_list.dt.day.tolist())\n",
    "\n",
    "for value in time_list:\n",
    "    print(value.isocalendar()[1], end=' ')\n",
    "    \n",
    "for value in time_list:\n",
    "    print(value.isocalendar()[0], end=' ')\n",
    "\n"
   ]
  },
  {
   "cell_type": "code",
   "execution_count": 32,
   "metadata": {},
   "outputs": [
    {
     "name": "stdout",
     "output_type": "stream",
     "text": [
      "0 Apple\n",
      "1 Orange\n",
      "4 Money\n"
     ]
    }
   ],
   "source": [
    "#Exercise24\n",
    "#From ser, extract words that contain atleast 2 vowels.\n",
    "ser = pd.Series(['Apple', 'Orange', 'Plan', 'Python', 'Money'])\n",
    "vowel_list = ['a','e','i','o','u']\n",
    "\n",
    "\n",
    "for i in range(ser.size):\n",
    "    count=0\n",
    "    for j in range(len(ser[i])):\n",
    "        if ser[i][j].lower() in vowel_list:\n",
    "            count+=1\n",
    "        else:\n",
    "            pass\n",
    "    if count>=2:\n",
    "        print(i, ser[i])\n",
    "    else:\n",
    "        pass"
   ]
  },
  {
   "cell_type": "code",
   "execution_count": 34,
   "metadata": {},
   "outputs": [
    {
     "name": "stdout",
     "output_type": "stream",
     "text": [
      "rameses@egypt.com\n",
      "matt@t.co\n",
      "narendra@modi.com\n"
     ]
    }
   ],
   "source": [
    "#Exercise25\n",
    "#Extract the valid emails from the series emails. The regex pattern for valid emails is provided as reference\n",
    "import re\n",
    "\n",
    "emails = pd.Series(['buying books at amazom.com', 'rameses@egypt.com', 'matt@t.co', 'narendra@modi.com'])\n",
    "pattern ='[A-Za-z0-9._%+-]+@[A-Za-z0-9.-]+\\\\.[A-Za-z]{2,4}'\n",
    "\n",
    "pat = re.compile(pattern)\n",
    "\n",
    "for value in emails.values:\n",
    "    mat = pat.match(value)\n",
    "    if mat:\n",
    "        print(mat.group())\n",
    "    else:\n",
    "        pass\n",
    "\n",
    "\n"
   ]
  },
  {
   "cell_type": "code",
   "execution_count": 51,
   "metadata": {},
   "outputs": [
    {
     "name": "stdout",
     "output_type": "stream",
     "text": [
      "[1.0, 2.0, 3.0, 4.0, 5.0, 6.0, 7.0, 8.0, 9.0, 10.0]\n",
      "['banana', 'banana', 'banana', 'carrot', 'carrot', 'carrot', 'carrot', 'banana', 'apple', 'apple']\n",
      "    fruit  weight\n",
      "0  banana     1.0\n",
      "1  banana     2.0\n",
      "2  banana     3.0\n",
      "3  carrot     4.0\n",
      "4  carrot     5.0\n",
      "5  carrot     6.0\n",
      "6  carrot     7.0\n",
      "7  banana     8.0\n",
      "8   apple     9.0\n",
      "9   apple    10.0\n"
     ]
    },
    {
     "data": {
      "text/html": [
       "<div>\n",
       "<style scoped>\n",
       "    .dataframe tbody tr th:only-of-type {\n",
       "        vertical-align: middle;\n",
       "    }\n",
       "\n",
       "    .dataframe tbody tr th {\n",
       "        vertical-align: top;\n",
       "    }\n",
       "\n",
       "    .dataframe thead th {\n",
       "        text-align: right;\n",
       "    }\n",
       "</style>\n",
       "<table border=\"1\" class=\"dataframe\">\n",
       "  <thead>\n",
       "    <tr style=\"text-align: right;\">\n",
       "      <th></th>\n",
       "      <th>weight</th>\n",
       "    </tr>\n",
       "    <tr>\n",
       "      <th>fruit</th>\n",
       "      <th></th>\n",
       "    </tr>\n",
       "  </thead>\n",
       "  <tbody>\n",
       "    <tr>\n",
       "      <th>apple</th>\n",
       "      <td>9.5</td>\n",
       "    </tr>\n",
       "    <tr>\n",
       "      <th>banana</th>\n",
       "      <td>3.5</td>\n",
       "    </tr>\n",
       "    <tr>\n",
       "      <th>carrot</th>\n",
       "      <td>5.5</td>\n",
       "    </tr>\n",
       "  </tbody>\n",
       "</table>\n",
       "</div>"
      ],
      "text/plain": [
       "        weight\n",
       "fruit         \n",
       "apple      9.5\n",
       "banana     3.5\n",
       "carrot     5.5"
      ]
     },
     "execution_count": 51,
     "metadata": {},
     "output_type": "execute_result"
    }
   ],
   "source": [
    "#Exercise26\n",
    "#Compute the mean of weights of each fruit.\n",
    "\n",
    "fruit = pd.Series(np.random.choice(['apple', 'banana', 'carrot'], 10),name='fruit')\n",
    "weight = pd.Series(np.linspace(1, 10, 10),name = 'weight')\n",
    "print(weight.tolist())\n",
    "print(fruit.tolist())\n",
    "#> [1.0, 2.0, 3.0, 4.0, 5.0, 6.0, 7.0, 8.0, 9.0, 10.0]\n",
    "#> ['banana', 'carrot', 'apple', 'carrot', 'carrot', 'apple', 'banana', 'carrot', 'apple', 'carrot']\n",
    "\n",
    "df = pd.concat([fruit, weight], axis=1)\n",
    "fruit_df = pd.DataFrame(df)\n",
    "\n",
    "print(fruit_df)\n",
    "fruit_df.groupby('fruit').mean()\n",
    "\n",
    "\n",
    "# grouped_fruit_df = fruit_df.groupby('friut_list')\n"
   ]
  },
  {
   "cell_type": "code",
   "execution_count": 29,
   "metadata": {},
   "outputs": [
    {
     "name": "stdout",
     "output_type": "stream",
     "text": [
      "18.16590212458495\n"
     ]
    }
   ],
   "source": [
    "#Exercise27\n",
    "#Compute the euclidean distance between series (points) p and q, without using a packaged formula\n",
    "\n",
    "import math\n",
    "\n",
    "p = pd.Series([1, 2, 3, 4, 5, 6, 7, 8, 9, 10])\n",
    "q = pd.Series([10, 9, 8, 7, 6, 5, 4, 3, 2, 1])\n",
    "\n",
    "\n",
    "result1=0\n",
    "for value in p.values:\n",
    "    result1+=value**2\n",
    "    \n",
    "result2=0\n",
    "for value in q.values:\n",
    "    result2+=value**2\n",
    "    \n",
    "    \n",
    "result3 = 0\n",
    "\n",
    "for x,y in zip(p,q):\n",
    "    result3-=(2*x*y)\n",
    "    \n",
    "\n",
    "\n",
    "final_result = math.sqrt(result1+result2+result3)\n",
    "final_result\n",
    "\n",
    "print(sum((p-q)**2)**0.5)\n",
    "\n",
    "\n"
   ]
  },
  {
   "cell_type": "code",
   "execution_count": 32,
   "metadata": {},
   "outputs": [
    {
     "data": {
      "text/plain": [
       "list"
      ]
     },
     "execution_count": 32,
     "metadata": {},
     "output_type": "execute_result"
    }
   ],
   "source": [
    "#Exercise28\n",
    "#Get the positions of peaks (values surrounded by smaller values on both sides) in ser.\n",
    "\n",
    "ser = pd.Series([2, 10, 3, 4, 9, 10, 2, 7, 3])\n",
    "\n",
    "array = []\n",
    "\n",
    "for i in range(1,ser.size-1):\n",
    "    if ser[i]>ser[i-1] and ser[i]>ser[i+1]:\n",
    "        array.append(i)\n",
    "    else:\n",
    "        pass\n",
    "    \n",
    "array\n",
    "    \n"
   ]
  },
  {
   "cell_type": "code",
   "execution_count": 53,
   "metadata": {},
   "outputs": [
    {
     "data": {
      "text/plain": [
       "'dbccdebcabedcgade'"
      ]
     },
     "execution_count": 53,
     "metadata": {},
     "output_type": "execute_result"
    }
   ],
   "source": [
    "#Exercise29\n",
    "# How to replace missing spaces in a string with the least frequent character?\n",
    "# Replace the spaces in my_str with the least frequent character.\n",
    "\n",
    "my_str = 'dbc deb abed gade'\n",
    "df = pd.DataFrame({'string':list(my_str.replace(' ',''))})\n",
    "\n",
    "dic = dict()\n",
    "\n",
    "for letter in df['string'].unique():\n",
    "    dic[letter] = my_str.count(letter)\n",
    "\n",
    "replace_letter = ''\n",
    "for key,value in dic.items():\n",
    "    if value==min(dic.values()):\n",
    "        replace_letter = key\n",
    "        break\n",
    "\n",
    "my_str.replace(' ',replace_letter)    \n",
    "\n",
    "    \n",
    "# 아래에 있는 방법이 더 효율적이다\n",
    "\n",
    "# freq = ser.value_counts()\n",
    "# print(freq)\n",
    "# least_freq = freq.dropna().index[-1]\n",
    "# \"\".join(ser.replace(' ', least_freq))\n",
    "    \n"
   ]
  },
  {
   "cell_type": "code",
   "execution_count": 68,
   "metadata": {},
   "outputs": [
    {
     "data": {
      "text/plain": [
       "2000-01-01    7\n",
       "2000-01-08    3\n",
       "2000-01-15    4\n",
       "2000-01-22    6\n",
       "2000-01-29    3\n",
       "2000-02-05    1\n",
       "2000-02-12    9\n",
       "2000-02-19    3\n",
       "2000-02-26    3\n",
       "2000-03-04    6\n",
       "Freq: W-SAT, dtype: int32"
      ]
     },
     "execution_count": 68,
     "metadata": {},
     "output_type": "execute_result"
    }
   ],
   "source": [
    "#Exercise30\n",
    "#How to create a TimeSeries starting ‘2000-01-01’ and 10 weekends (saturdays) after that having random numbers as values?\n",
    "\n",
    "\n",
    "# values can be random\n",
    "\n",
    "import datetime\n",
    "\n",
    "ser_index = pd.date_range('2000-01-01', periods=10, freq='W-SAT')\n",
    "ser_value = np.random.randint(low=1, high=10, size=10)\n",
    "\n",
    "\n",
    "pds = pd.Series(ser_value,index=ser_index)\n",
    "pds\n",
    "\n",
    "\n",
    "\n",
    "\n",
    "\n",
    "# 2000-01-01    4\n",
    "# 2000-01-08    1\n",
    "# 2000-01-15    8\n",
    "# 2000-01-22    4\n",
    "# 2000-01-29    4\n",
    "# 2000-02-05    2\n",
    "# 2000-02-12    4\n",
    "# 2000-02-19    9\n",
    "# 2000-02-26    6\n",
    "# 2000-03-04    6\n",
    "\n"
   ]
  }
 ],
 "metadata": {
  "kernelspec": {
   "display_name": "Python 3",
   "language": "python",
   "name": "python3"
  },
  "language_info": {
   "codemirror_mode": {
    "name": "ipython",
    "version": 3
   },
   "file_extension": ".py",
   "mimetype": "text/x-python",
   "name": "python",
   "nbconvert_exporter": "python",
   "pygments_lexer": "ipython3",
   "version": "3.9.5"
  }
 },
 "nbformat": 4,
 "nbformat_minor": 4
}
