{
 "cells": [
  {
   "cell_type": "code",
   "execution_count": 5,
   "id": "9f20ca1b",
   "metadata": {},
   "outputs": [],
   "source": [
    "# 힙 정렬을 위해 heapq를 import\n",
    "import heapq\n",
    "from collections import deque\n",
    "\n",
    "def solution(scoville, K):\n",
    "    answer = 0\n",
    "    # 힙정렬을 위한 함수를 만들어줌\n",
    "    def heapsort(unsorted):\n",
    "        h = []\n",
    "        result = []\n",
    "        # 모든 원소를 차례대로 힙에 삽입\n",
    "        for value in unsorted:\n",
    "            heapq.heappush(h, value)\n",
    "        # 힙에 삽입된 모든 원소를 차례대로 꺼내어 담기\n",
    "        for i in range(len(h)):\n",
    "            result.append(heapq.heappop(h))\n",
    "        return result\n",
    "    \n",
    "    array = heapsort(scoville)\n",
    "    # 효율성을 위해 array대신 deque을 사용\n",
    "    deq = deque(array)\n",
    "    cnt=0\n",
    "    while deq[0]<K:\n",
    "        value = deq.popleft()+(deq.popleft()*2)\n",
    "        cnt+=1\n",
    "        deq.appendleft(value)\n",
    "        # 스코빌 지수가 무조건 순서대로 있다는 보장은 없다.\n",
    "        # 새로 만든 스코빌 지수 정렬\n",
    "        running = True\n",
    "        start_num=0\n",
    "        while running:\n",
    "            if start_num==len(deq)-1:\n",
    "                running = False\n",
    "            else:\n",
    "                if deq[start_num]<=deq[start_num+1]:\n",
    "                    running = False\n",
    "                else:\n",
    "                # 배열에 있는 값들을 서로 바꿔준다.\n",
    "                    temp=deq[start_num+1]\n",
    "                    deq[start_num+1]=deq[start_num]\n",
    "                    deq[start_num]=temp\n",
    "                    start_num+=1\n",
    "\n",
    "\n",
    "    answer=cnt\n",
    "        \n",
    "    return answer"
   ]
  },
  {
   "cell_type": "code",
   "execution_count": 6,
   "id": "32b5ee5f",
   "metadata": {},
   "outputs": [
    {
     "name": "stdout",
     "output_type": "stream",
     "text": [
      "2\n"
     ]
    }
   ],
   "source": [
    "print(solution([1, 2, 3, 9, 10, 12],7))"
   ]
  }
 ],
 "metadata": {
  "kernelspec": {
   "display_name": "Python 3",
   "language": "python",
   "name": "python3"
  },
  "language_info": {
   "codemirror_mode": {
    "name": "ipython",
    "version": 3
   },
   "file_extension": ".py",
   "mimetype": "text/x-python",
   "name": "python",
   "nbconvert_exporter": "python",
   "pygments_lexer": "ipython3",
   "version": "3.7.10"
  }
 },
 "nbformat": 4,
 "nbformat_minor": 5
}
