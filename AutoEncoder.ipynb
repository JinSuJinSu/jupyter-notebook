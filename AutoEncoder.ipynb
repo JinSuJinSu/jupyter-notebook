{
 "cells": [
  {
   "cell_type": "code",
   "execution_count": 1,
   "id": "edeb77b4",
   "metadata": {},
   "outputs": [],
   "source": [
    "from tensorflow.keras.datasets import mnist\n",
    "from tensorflow.keras.models import Sequential, Model\n",
    "from tensorflow.keras.layers import Input, Dense, Conv2D, MaxPooling2D, UpSampling2D, Flatten, Reshape\n",
    "import matplotlib.pyplot as plt\n",
    "import numpy as np"
   ]
  },
  {
   "cell_type": "code",
   "execution_count": 2,
   "id": "34b145b8",
   "metadata": {},
   "outputs": [],
   "source": [
    "# MNIST 데이터 셋을 호출\n",
    "(X_train, _), (X_test, _) = mnist.load_data()\n",
    "X_train = X_train.reshape(X_train.shape[0], 28, 28, 1).astype('float32') / 255\n",
    "X_test = X_test.reshape(X_test.shape[0], 28, 28, 1).astype('float32') / 255"
   ]
  },
  {
   "cell_type": "code",
   "execution_count": 3,
   "id": "6a2584e5",
   "metadata": {},
   "outputs": [],
   "source": [
    "# 생성자 모델 만들기\n",
    "autoencoder = Sequential()"
   ]
  },
  {
   "cell_type": "code",
   "execution_count": 4,
   "id": "0f817d29",
   "metadata": {},
   "outputs": [],
   "source": [
    "#Encoding\n",
    "autoencoder.add(Conv2D(16, kernel_size=3, padding='same', input_shape=(28,28,1), activation='relu'))\n",
    "autoencoder.add(MaxPooling2D(pool_size=2, padding='same'))\n",
    "autoencoder.add(Conv2D(8, kernel_size=3, activation='relu', padding='same'))\n",
    "autoencoder.add(MaxPooling2D(pool_size=2, padding='same'))\n",
    "autoencoder.add(Conv2D(8, kernel_size=3, strides=2, padding='same', activation='relu'))\n",
    "                       \n",
    "#Decoding\n",
    "autoencoder.add(Conv2D(8, kernel_size=3, padding='same', activation='relu'))\n",
    "autoencoder.add(UpSampling2D())\n",
    "autoencoder.add(Conv2D(8, kernel_size=3, padding='same', activation='relu'))\n",
    "autoencoder.add(UpSampling2D())\n",
    "autoencoder.add(Conv2D(16, kernel_size=3, activation='relu'))\n",
    "autoencoder.add(UpSampling2D())\n",
    "autoencoder.add(Conv2D(1, kernel_size=3, padding='same', activation='sigmoid'))"
   ]
  },
  {
   "cell_type": "code",
   "execution_count": 5,
   "id": "8b0420a4",
   "metadata": {
    "scrolled": true
   },
   "outputs": [
    {
     "name": "stdout",
     "output_type": "stream",
     "text": [
      "Model: \"sequential\"\n",
      "_________________________________________________________________\n",
      "Layer (type)                 Output Shape              Param #   \n",
      "=================================================================\n",
      "conv2d (Conv2D)              (None, 28, 28, 16)        160       \n",
      "_________________________________________________________________\n",
      "max_pooling2d (MaxPooling2D) (None, 14, 14, 16)        0         \n",
      "_________________________________________________________________\n",
      "conv2d_1 (Conv2D)            (None, 14, 14, 8)         1160      \n",
      "_________________________________________________________________\n",
      "max_pooling2d_1 (MaxPooling2 (None, 7, 7, 8)           0         \n",
      "_________________________________________________________________\n",
      "conv2d_2 (Conv2D)            (None, 4, 4, 8)           584       \n",
      "_________________________________________________________________\n",
      "conv2d_3 (Conv2D)            (None, 4, 4, 8)           584       \n",
      "_________________________________________________________________\n",
      "up_sampling2d (UpSampling2D) (None, 8, 8, 8)           0         \n",
      "_________________________________________________________________\n",
      "conv2d_4 (Conv2D)            (None, 8, 8, 8)           584       \n",
      "_________________________________________________________________\n",
      "up_sampling2d_1 (UpSampling2 (None, 16, 16, 8)         0         \n",
      "_________________________________________________________________\n",
      "conv2d_5 (Conv2D)            (None, 14, 14, 16)        1168      \n",
      "_________________________________________________________________\n",
      "up_sampling2d_2 (UpSampling2 (None, 28, 28, 16)        0         \n",
      "_________________________________________________________________\n",
      "conv2d_6 (Conv2D)            (None, 28, 28, 1)         145       \n",
      "=================================================================\n",
      "Total params: 4,385\n",
      "Trainable params: 4,385\n",
      "Non-trainable params: 0\n",
      "_________________________________________________________________\n"
     ]
    }
   ],
   "source": [
    "autoencoder.summary()"
   ]
  },
  {
   "cell_type": "code",
   "execution_count": 6,
   "id": "f58c0f2b",
   "metadata": {},
   "outputs": [
    {
     "name": "stdout",
     "output_type": "stream",
     "text": [
      "Epoch 1/50\n",
      "469/469 [==============================] - 40s 86ms/step - loss: 0.1979 - val_loss: 0.1334\n",
      "Epoch 2/50\n",
      "469/469 [==============================] - 39s 83ms/step - loss: 0.1238 - val_loss: 0.1146\n",
      "Epoch 3/50\n",
      "469/469 [==============================] - 38s 82ms/step - loss: 0.1126 - val_loss: 0.1082\n",
      "Epoch 4/50\n",
      "469/469 [==============================] - 38s 82ms/step - loss: 0.1076 - val_loss: 0.1041\n",
      "Epoch 5/50\n",
      "469/469 [==============================] - 38s 81ms/step - loss: 0.1043 - val_loss: 0.1013\n",
      "Epoch 6/50\n",
      "469/469 [==============================] - 38s 81ms/step - loss: 0.1017 - val_loss: 0.0990\n",
      "Epoch 7/50\n",
      "469/469 [==============================] - 39s 84ms/step - loss: 0.0994 - val_loss: 0.0970\n",
      "Epoch 8/50\n",
      "469/469 [==============================] - 39s 84ms/step - loss: 0.0974 - val_loss: 0.0952\n",
      "Epoch 9/50\n",
      "469/469 [==============================] - 40s 85ms/step - loss: 0.0957 - val_loss: 0.0940\n",
      "Epoch 10/50\n",
      "469/469 [==============================] - 41s 87ms/step - loss: 0.0944 - val_loss: 0.0926\n",
      "Epoch 11/50\n",
      "469/469 [==============================] - 40s 86ms/step - loss: 0.0933 - val_loss: 0.0916\n",
      "Epoch 12/50\n",
      "469/469 [==============================] - 39s 83ms/step - loss: 0.0924 - val_loss: 0.0910\n",
      "Epoch 13/50\n",
      "469/469 [==============================] - 39s 84ms/step - loss: 0.0916 - val_loss: 0.0903\n",
      "Epoch 14/50\n",
      "469/469 [==============================] - 39s 83ms/step - loss: 0.0910 - val_loss: 0.0894\n",
      "Epoch 15/50\n",
      "469/469 [==============================] - 38s 81ms/step - loss: 0.0904 - val_loss: 0.0895\n",
      "Epoch 16/50\n",
      "469/469 [==============================] - 37s 80ms/step - loss: 0.0899 - val_loss: 0.0886\n",
      "Epoch 17/50\n",
      "469/469 [==============================] - 37s 79ms/step - loss: 0.0894 - val_loss: 0.0885\n",
      "Epoch 18/50\n",
      "469/469 [==============================] - 38s 82ms/step - loss: 0.0890 - val_loss: 0.0876\n",
      "Epoch 19/50\n",
      "469/469 [==============================] - 37s 78ms/step - loss: 0.0886 - val_loss: 0.0873\n",
      "Epoch 20/50\n",
      "469/469 [==============================] - 39s 82ms/step - loss: 0.0882 - val_loss: 0.0870\n",
      "Epoch 21/50\n",
      "469/469 [==============================] - 41s 87ms/step - loss: 0.0879 - val_loss: 0.0865\n",
      "Epoch 22/50\n",
      "469/469 [==============================] - 39s 82ms/step - loss: 0.0876 - val_loss: 0.0864\n",
      "Epoch 23/50\n",
      "469/469 [==============================] - 38s 80ms/step - loss: 0.0873 - val_loss: 0.0860\n",
      "Epoch 24/50\n",
      "469/469 [==============================] - 37s 79ms/step - loss: 0.0871 - val_loss: 0.0863\n",
      "Epoch 25/50\n",
      "469/469 [==============================] - 38s 81ms/step - loss: 0.0868 - val_loss: 0.0857\n",
      "Epoch 26/50\n",
      "469/469 [==============================] - 40s 85ms/step - loss: 0.0865 - val_loss: 0.0854\n",
      "Epoch 27/50\n",
      "469/469 [==============================] - 41s 88ms/step - loss: 0.0864 - val_loss: 0.0854\n",
      "Epoch 28/50\n",
      "469/469 [==============================] - 40s 85ms/step - loss: 0.0861 - val_loss: 0.0849\n",
      "Epoch 29/50\n",
      "469/469 [==============================] - 37s 79ms/step - loss: 0.0860 - val_loss: 0.0847\n",
      "Epoch 30/50\n",
      "469/469 [==============================] - 37s 78ms/step - loss: 0.0857 - val_loss: 0.0844\n",
      "Epoch 31/50\n",
      "469/469 [==============================] - 38s 80ms/step - loss: 0.0855 - val_loss: 0.0844\n",
      "Epoch 32/50\n",
      "469/469 [==============================] - 38s 81ms/step - loss: 0.0853 - val_loss: 0.0841\n",
      "Epoch 33/50\n",
      "469/469 [==============================] - 39s 82ms/step - loss: 0.0851 - val_loss: 0.0841\n",
      "Epoch 34/50\n",
      "469/469 [==============================] - 37s 80ms/step - loss: 0.0850 - val_loss: 0.0837\n",
      "Epoch 35/50\n",
      "469/469 [==============================] - 38s 81ms/step - loss: 0.0848 - val_loss: 0.0836\n",
      "Epoch 36/50\n",
      "469/469 [==============================] - 37s 80ms/step - loss: 0.0847 - val_loss: 0.0840\n",
      "Epoch 37/50\n",
      "469/469 [==============================] - 37s 79ms/step - loss: 0.0845 - val_loss: 0.0834\n",
      "Epoch 38/50\n",
      "469/469 [==============================] - 36s 78ms/step - loss: 0.0844 - val_loss: 0.0838\n",
      "Epoch 39/50\n",
      "469/469 [==============================] - 37s 80ms/step - loss: 0.0843 - val_loss: 0.0830\n",
      "Epoch 40/50\n",
      "469/469 [==============================] - 38s 81ms/step - loss: 0.0841 - val_loss: 0.0832\n",
      "Epoch 41/50\n",
      "469/469 [==============================] - 37s 79ms/step - loss: 0.0840 - val_loss: 0.0839\n",
      "Epoch 42/50\n",
      "469/469 [==============================] - 38s 81ms/step - loss: 0.0839 - val_loss: 0.0831\n",
      "Epoch 43/50\n",
      "469/469 [==============================] - 41s 87ms/step - loss: 0.0837 - val_loss: 0.0832\n",
      "Epoch 44/50\n",
      "469/469 [==============================] - 39s 84ms/step - loss: 0.0836 - val_loss: 0.0828\n",
      "Epoch 45/50\n",
      "469/469 [==============================] - 37s 78ms/step - loss: 0.0835 - val_loss: 0.0826\n",
      "Epoch 46/50\n",
      "469/469 [==============================] - 37s 78ms/step - loss: 0.0834 - val_loss: 0.0823\n",
      "Epoch 47/50\n",
      "469/469 [==============================] - 37s 79ms/step - loss: 0.0833 - val_loss: 0.0824\n",
      "Epoch 48/50\n",
      "469/469 [==============================] - 37s 79ms/step - loss: 0.0831 - val_loss: 0.0827\n",
      "Epoch 49/50\n",
      "469/469 [==============================] - 37s 78ms/step - loss: 0.0830 - val_loss: 0.0820\n",
      "Epoch 50/50\n",
      "469/469 [==============================] - 37s 78ms/step - loss: 0.0829 - val_loss: 0.0820\n"
     ]
    },
    {
     "data": {
      "text/plain": [
       "<tensorflow.python.keras.callbacks.History at 0x1c4233a1288>"
      ]
     },
     "execution_count": 6,
     "metadata": {},
     "output_type": "execute_result"
    }
   ],
   "source": [
    "# 컴파일 및 학습을 하는 부분\n",
    "autoencoder.compile(optimizer='adam', loss='binary_crossentropy')\n",
    "autoencoder.fit(X_train, X_train, epochs=50, batch_size=128, validation_data=(X_test, X_test))"
   ]
  },
  {
   "cell_type": "code",
   "execution_count": 7,
   "id": "19cebe57",
   "metadata": {},
   "outputs": [
    {
     "data": {
      "image/png": "[encoded data removed]",
      "text/plain": [
       "<Figure size 700x200 with 10 Axes>"
      ]
     },
     "metadata": {},
     "output_type": "display_data"
    }
   ],
   "source": [
    "random_test = np.random.randint(X_test.shape[0], size=5)  #테스트할 이미지를 랜덤하게 불러옵니다.\n",
    "ae_imgs = autoencoder.predict(X_test)  #앞서 만든 오토인코더 모델에 집어 넣습니다.\n",
    "\n",
    "plt.figure(figsize=(7, 2))  #출력될 이미지의 크기를 정합니다.\n",
    "\n",
    "for i, image_idx in enumerate(random_test):    #랜덤하게 뽑은 이미지를 차례로 나열합니다.\n",
    "   ax = plt.subplot(2, 7, i + 1) \n",
    "   plt.imshow(X_test[image_idx].reshape(28, 28))  #테스트할 이미지를 먼저 그대로 보여줍니다.\n",
    "   ax.axis('off')\n",
    "   ax = plt.subplot(2, 7, 7 + i +1)\n",
    "   plt.imshow(ae_imgs[image_idx].reshape(28, 28))  #오토인코딩 결과를 다음열에 출력합니다.\n",
    "   ax.axis('off')\n",
    "plt.show()"
   ]
  }
 ],
 "metadata": {
  "kernelspec": {
   "display_name": "Python 3",
   "language": "python",
   "name": "python3"
  },
  "language_info": {
   "codemirror_mode": {
    "name": "ipython",
    "version": 3
   },
   "file_extension": ".py",
   "mimetype": "text/x-python",
   "name": "python",
   "nbconvert_exporter": "python",
   "pygments_lexer": "ipython3",
   "version": "3.7.11"
  }
 },
 "nbformat": 4,
 "nbformat_minor": 5
}
