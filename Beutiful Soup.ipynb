{
 "cells": [
  {
   "cell_type": "code",
   "execution_count": 1,
   "metadata": {},
   "outputs": [
    {
     "name": "stdout",
     "output_type": "stream",
     "text": [
      "<!DOCTYPE html>\n",
      "<html lang=\"en\">\n",
      "<head>\n",
      "    <meta charset=\"UTF-8\">\n",
      "    <meta name=\"viewport\" content=\"width=device-width, initial-scale=1.0\">\n",
      "    <title>Sample HTML Page</title>\n",
      "</head>\n",
      "<body>\n",
      "    <div id=\"header\">\n",
      "        <h1>Sample Homepage</h1>\n",
      "        <ul class=\"nav\">\n",
      "            <li>home</li>\n",
      "            <li>About</li>\n",
      "            <li>Contact</li>\n",
      "        </ul>\n",
      "    </div>\n",
      "    <div id=\"content\">\n",
      "        <h1>Content Title</h1>\n",
      "        <p>Lorem ipsum dolor sit amet, consectetur adipiscing elit. Phasellus interdum.</p>\n",
      "        <ul class=\"list\">\n",
      "            <li>Comment 1</li>\n",
      "            <li>Comment 2</li>\n",
      "            <li>Comment 3</li>\n",
      "            <li>Comment 4</li>\n",
      "        </ul>\n",
      "    </div>\n",
      "    <div id=\"footer\">\n",
      "        &copy; Bit Academy\n",
      "    </div>\n",
      "</body>\n",
      "</html>\n"
     ]
    }
   ],
   "source": [
    "#sample.html 불러와서 출력\n",
    "with open(\"./data/sample.html\") as f:\n",
    "    html_str = f.read()\n",
    "    \n",
    "print(html_str)"
   ]
  },
  {
   "cell_type": "code",
   "execution_count": 3,
   "metadata": {},
   "outputs": [
    {
     "name": "stdout",
     "output_type": "stream",
     "text": [
      "<class 'bs4.BeautifulSoup'>\n"
     ]
    }
   ],
   "source": [
    "from bs4 import BeautifulSoup\n",
    "soup = BeautifulSoup(html_str)\n",
    "print(type(soup))"
   ]
  },
  {
   "cell_type": "code",
   "execution_count": 5,
   "metadata": {},
   "outputs": [
    {
     "name": "stdout",
     "output_type": "stream",
     "text": [
      "<title>Sample HTML Page</title> <class 'bs4.element.Tag'>\n"
     ]
    }
   ],
   "source": [
    "title_tag = soup.title\n",
    "print(title_tag,type(title_tag))"
   ]
  },
  {
   "cell_type": "code",
   "execution_count": 7,
   "metadata": {},
   "outputs": [
    {
     "name": "stdout",
     "output_type": "stream",
     "text": [
      "태그 이름: title\n",
      "태그 콘텐츠: Sample HTML Page\n"
     ]
    }
   ],
   "source": [
    "# 태그 내의 콘텐츠 추출\n",
    "print(\"태그 이름:\",title_tag.name)\n",
    "print(\"태그 콘텐츠:\",title_tag.text)"
   ]
  },
  {
   "cell_type": "code",
   "execution_count": 12,
   "metadata": {},
   "outputs": [
    {
     "name": "stdout",
     "output_type": "stream",
     "text": [
      "<list_iterator object at 0x000002BC3D964580> <class 'list_iterator'>\n",
      "head <class 'bs4.element.Tag'>\n",
      "body <class 'bs4.element.Tag'>\n"
     ]
    }
   ],
   "source": [
    "# 최상위 노드 html 확인\n",
    "html_tag = soup.html\n",
    "# 자식들 확인\n",
    "children = html_tag.children\n",
    "print(children,type(children))\n",
    "\n",
    "from bs4.element import Tag\n",
    "\n",
    "#자식 순회\n",
    "# NavigableString은 Tree 구조를 구축하기 위한 특수 구분 기호\n",
    "for child in children:\n",
    "    if isinstance(child,Tag):\n",
    "        print(child.name, type(child))"
   ]
  },
  {
   "cell_type": "code",
   "execution_count": 16,
   "metadata": {},
   "outputs": [
    {
     "name": "stdout",
     "output_type": "stream",
     "text": [
      "div <class 'bs4.element.Tag'>\n",
      "h1 <class 'bs4.element.Tag'>\n",
      "ul <class 'bs4.element.Tag'>\n",
      "li <class 'bs4.element.Tag'>\n",
      "li <class 'bs4.element.Tag'>\n",
      "li <class 'bs4.element.Tag'>\n",
      "div <class 'bs4.element.Tag'>\n",
      "h1 <class 'bs4.element.Tag'>\n",
      "p <class 'bs4.element.Tag'>\n",
      "ul <class 'bs4.element.Tag'>\n",
      "li <class 'bs4.element.Tag'>\n",
      "li <class 'bs4.element.Tag'>\n",
      "li <class 'bs4.element.Tag'>\n",
      "li <class 'bs4.element.Tag'>\n",
      "div <class 'bs4.element.Tag'>\n"
     ]
    }
   ],
   "source": [
    "#print(soup.body.descendants) #body의 후손들\n",
    "\n",
    "for node in soup.body.descendants:\n",
    "        if isinstance(node,Tag):\n",
    "            print(node.name, type(node))"
   ]
  },
  {
   "cell_type": "code",
   "execution_count": 17,
   "metadata": {},
   "outputs": [
    {
     "name": "stdout",
     "output_type": "stream",
     "text": [
      "body의 부모는 html? True\n"
     ]
    }
   ],
   "source": [
    "# 부모 노드 확인\n",
    "print('body의 부모는 html?', soup.body.parent==soup.html)"
   ]
  },
  {
   "cell_type": "code",
   "execution_count": 30,
   "metadata": {},
   "outputs": [
    {
     "name": "stdout",
     "output_type": "stream",
     "text": [
      "[<div id=\"header\">\n",
      "<h1>Sample Homepage</h1>\n",
      "<ul class=\"nav\">\n",
      "<li>home</li>\n",
      "<li>About</li>\n",
      "<li>Contact</li>\n",
      "</ul>\n",
      "</div>, <div id=\"content\">\n",
      "<h1>Content Title</h1>\n",
      "<p>Lorem ipsum dolor sit amet, consectetur adipiscing elit. Phasellus interdum.</p>\n",
      "<ul class=\"list\">\n",
      "<li>Comment 1</li>\n",
      "<li>Comment 2</li>\n",
      "<li>Comment 3</li>\n",
      "<li>Comment 4</li>\n",
      "</ul>\n",
      "</div>, <div id=\"footer\">\n",
      "        © Bit Academy\n",
      "    </div>]\n",
      "divs의 총 개수:3\n",
      "\n",
      "\n",
      "<div id=\"header\">\n",
      "<h1>Sample Homepage</h1>\n",
      "<ul class=\"nav\">\n",
      "<li>home</li>\n",
      "<li>About</li>\n",
      "<li>Contact</li>\n",
      "</ul>\n",
      "</div>\n",
      "<ul class=\"list\">\n",
      "<li>Comment 1</li>\n",
      "<li>Comment 2</li>\n",
      "<li>Comment 3</li>\n",
      "<li>Comment 4</li>\n",
      "</ul>\n",
      "\n",
      "\n",
      "Comment 1\n",
      "Comment 2\n",
      "Comment 3\n",
      "Comment 4\n"
     ]
    }
   ],
   "source": [
    "# find를 이용한 노드 탐색\n",
    "# 문서 내에서 div 노드 탐색\n",
    "divs = soup.html.findAll('div')\n",
    "print(divs)\n",
    "print('divs의 총 개수:{}'.format(len(divs)))\n",
    "\n",
    "print()\n",
    "print()\n",
    "\n",
    "# 문서 내에서 id의 속성이 header인 노드 탐색\n",
    "header = soup.body.find('div',{'id':'header'})\n",
    "print(header)\n",
    "\n",
    "# 문서 내에서 class 속성이 list인 ul 태그 탐색\n",
    "ul_list = soup.body.find('ul',{'class':'list'})\n",
    "print(ul_list)\n",
    "\n",
    "print()\n",
    "print()\n",
    "\n",
    "# list_ul loop\n",
    "for li in ul_list.children:\n",
    "    if isinstance(li,Tag):\n",
    "        print(li.text)\n",
    "    \n"
   ]
  },
  {
   "cell_type": "code",
   "execution_count": null,
   "metadata": {},
   "outputs": [],
   "source": [
    "# html selector\n",
    "#id selector: #아이디\n",
    "#class selector: .클래스\n",
    "\n",
    "#자식 selector : >\n",
    "# 자손 selectof : 공백\n",
    "\n",
    "# class가 list인 ul 의 자식 li 들\n",
    "lis = soup.body.select(\"ul.list > li\")\n",
    "print(lis)\n"
   ]
  }
 ],
 "metadata": {
  "kernelspec": {
   "display_name": "Python 3",
   "language": "python",
   "name": "python3"
  },
  "language_info": {
   "codemirror_mode": {
    "name": "ipython",
    "version": 3
   },
   "file_extension": ".py",
   "mimetype": "text/x-python",
   "name": "python",
   "nbconvert_exporter": "python",
   "pygments_lexer": "ipython3",
   "version": "3.8.5"
  }
 },
 "nbformat": 4,
 "nbformat_minor": 4
}
