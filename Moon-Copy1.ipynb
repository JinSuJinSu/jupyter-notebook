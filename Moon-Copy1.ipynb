{
 "cells": [
  {
   "cell_type": "code",
   "execution_count": 15,
   "id": "6df8146d",
   "metadata": {},
   "outputs": [],
   "source": [
    "import cv2, sys\n",
    "import matplotlib.pyplot as plt\n",
    "import numpy as np\n",
    "\n",
    "image_general = cv2.imread(\"C:/opencv_practice/moon.jpg\", cv2.IMREAD_UNCHANGED)\n",
    "image_gray_general = cv2.imread(\"C:/opencv_practice/moon.jpg\", cv2.IMREAD_GRAYSCALE)\n",
    "\n",
    "\n",
    "image_general = cv2.resize(image_general, dsize=(640, 800), interpolation=cv2.INTER_AREA)\n",
    "image_gray_general = cv2.resize(image_gray_general, dsize=(640, 800), interpolation=cv2.INTER_AREA)\n",
    "\n",
    "\n",
    "\n",
    "cv2.imshow('image', image_general)\n",
    "cv2.imshow('image_gray', image_gray_general)\n",
    "cv2.waitKey(0)\n",
    "cv2.destroyAllWindows()"
   ]
  },
  {
   "cell_type": "code",
   "execution_count": 16,
   "id": "f5e3b1a4",
   "metadata": {},
   "outputs": [
    {
     "data": {
      "image/png": "[encoded data removed]",
      "text/plain": [
       "<Figure size 640x480 with 1 Axes>"
      ]
     },
     "metadata": {},
     "output_type": "display_data"
    }
   ],
   "source": [
    "plt.hist(image_gray_general.ravel(), 256, [0, 256])\n",
    "plt.show()"
   ]
  },
  {
   "cell_type": "code",
   "execution_count": 17,
   "id": "cdf8d43c",
   "metadata": {},
   "outputs": [],
   "source": [
    "blur_general = cv2.GaussianBlur(image_gray_general, ksize=(1,1), sigmaX=0)\n",
    "cv2.imshow('blur_general', blur_general)\n",
    "cv2.waitKey(0)\n",
    "cv2.destroyAllWindows()"
   ]
  },
  {
   "cell_type": "code",
   "execution_count": 18,
   "id": "71ea70a1",
   "metadata": {},
   "outputs": [],
   "source": [
    "ret, thresh1 = cv2.threshold(blur_general, 50, 255, cv2.THRESH_BINARY)\n",
    "\n",
    "cv2.imshow('thresh1', thresh1)\n",
    "cv2.waitKey(0)\n",
    "cv2.destroyAllWindows()"
   ]
  },
  {
   "cell_type": "code",
   "execution_count": 19,
   "id": "6e68b301",
   "metadata": {},
   "outputs": [],
   "source": [
    "ret, thresh1 = cv2.threshold(blur_general, 50, 255, cv2.THRESH_BINARY)\n",
    "\n",
    "cv2.imshow('thresh1', thresh1)\n",
    "cv2.waitKey(0)\n",
    "cv2.destroyAllWindows()\n"
   ]
  },
  {
   "cell_type": "code",
   "execution_count": 20,
   "id": "a3f3996e",
   "metadata": {},
   "outputs": [],
   "source": [
    "edged_general = cv2.Canny(thresh1, 50, 255)\n",
    "cv2.imshow('edged_general', edged_general)\n",
    "cv2.waitKey(0)\n",
    "cv2.destroyAllWindows()"
   ]
  },
  {
   "cell_type": "code",
   "execution_count": 21,
   "id": "c6577518",
   "metadata": {},
   "outputs": [],
   "source": [
    "contour_general = image_general.copy()"
   ]
  },
  {
   "cell_type": "code",
   "execution_count": 22,
   "id": "b999e2cb",
   "metadata": {},
   "outputs": [],
   "source": [
    "kernel = cv2.getStructuringElement(cv2.MORPH_RECT, (5,5))\n",
    "closed_general = cv2.morphologyEx(edged_general, cv2.MORPH_CLOSE , kernel)\n",
    "cv2.imshow('closed_general', closed_general)\n",
    "cv2.waitKey(0)\n",
    "cv2.destroyAllWindows()"
   ]
  },
  {
   "cell_type": "code",
   "execution_count": 23,
   "id": "8fa9143a",
   "metadata": {},
   "outputs": [],
   "source": [
    "contours, hierarchy = cv2.findContours(closed_general,cv2.RETR_EXTERNAL, cv2.CHAIN_APPROX_NONE)\n",
    "# 외곽선 그리는 용도. 이미지에 그리기 때문에 이 코드 적용하면 원래 이미지에\n",
    "# 초록색 선 생김\n",
    "\n",
    "final_result = cv2.drawContours(contour_general, contours, -1, (0,255,0), 3)    \n",
    "cv2.imshow('final_result', final_result)\n",
    "cv2.waitKey(0)\n",
    "cv2.destroyAllWindows()"
   ]
  },
  {
   "cell_type": "code",
   "execution_count": 24,
   "id": "04b0dafd",
   "metadata": {},
   "outputs": [
    {
     "data": {
      "text/plain": [
       "90"
      ]
     },
     "execution_count": 24,
     "metadata": {},
     "output_type": "execute_result"
    }
   ],
   "source": [
    "len(contours)"
   ]
  },
  {
   "cell_type": "code",
   "execution_count": 25,
   "id": "5d257482",
   "metadata": {},
   "outputs": [
    {
     "data": {
      "text/plain": [
       "(90,)"
      ]
     },
     "execution_count": 25,
     "metadata": {},
     "output_type": "execute_result"
    }
   ],
   "source": [
    "contours_xy = np.array(contours)\n",
    "contours_xy.shape"
   ]
  },
  {
   "cell_type": "code",
   "execution_count": 26,
   "id": "38facf24",
   "metadata": {},
   "outputs": [],
   "source": [
    "from tqdm import tqdm"
   ]
  },
  {
   "cell_type": "code",
   "execution_count": 27,
   "id": "01d68518",
   "metadata": {},
   "outputs": [
    {
     "name": "stdout",
     "output_type": "stream",
     "text": [
      "74 797 2 2\n",
      "619 775 3 2\n",
      "171 767 4 2\n",
      "468 759 2 2\n",
      "455 759 2 2\n",
      "186 758 35 3\n",
      "176 758 4 2\n",
      "162 758 2 2\n",
      "139 758 14 5\n",
      "487 756 13 5\n",
      "478 756 2 2\n",
      "423 756 8 4\n",
      "506 755 18 6\n",
      "99 754 26 10\n",
      "281 750 2 2\n",
      "248 747 28 14\n",
      "345 742 2 2\n",
      "353 734 64 32\n",
      "532 726 107 60\n",
      "370 720 2 2\n",
      "613 707 8 4\n",
      "0 707 99 92\n",
      "557 695 2 3\n",
      "584 652 2 2\n",
      "48 638 2 2\n",
      "22 619 2 2\n",
      "12 611 2 2\n",
      "28 603 2 2\n",
      "373 576 2 4\n",
      "283 573 56 172\n",
      "630 565 2 2\n",
      "574 537 2 2\n",
      "616 515 2 2\n",
      "585 513 2 2\n",
      "636 510 3 2\n",
      "374 475 5 7\n",
      "260 474 2 3\n",
      "551 455 2 5\n",
      "86 450 2 2\n",
      "534 445 3 4\n",
      "101 440 2 4\n",
      "566 436 2 5\n",
      "73 434 2 2\n",
      "596 427 2 6\n",
      "612 423 3 24\n",
      "374 422 45 3\n",
      "318 422 6 3\n",
      "354 420 12 5\n",
      "274 420 17 5\n",
      "218 420 47 5\n",
      "46 420 2 3\n",
      "162 419 49 6\n",
      "628 414 2 8\n",
      "15 407 2 4\n",
      "481 403 2 2\n",
      "153 402 8 6\n",
      "89 395 2 2\n",
      "153 390 2 4\n",
      "39 383 2 2\n",
      "115 374 39 51\n",
      "271 371 2 2\n",
      "16 371 2 2\n",
      "0 371 117 45\n",
      "197 369 0 2\n",
      "178 368 2 2\n",
      "377 366 3 4\n",
      "298 366 3 4\n",
      "181 362 187 33\n",
      "248 360 2 2\n",
      "154 360 22 35\n",
      "196 357 2 2\n",
      "364 354 2 2\n",
      "115 354 7 17\n",
      "208 351 2 3\n",
      "154 349 7 10\n",
      "426 343 2 2\n",
      "369 343 2 3\n",
      "269 343 2 2\n",
      "211 341 4 4\n",
      "485 340 2 3\n",
      "487 333 2 2\n",
      "145 330 2 2\n",
      "542 302 2 3\n",
      "43 152 6 16\n",
      "182 90 2 2\n",
      "174 87 2 2\n",
      "156 87 2 2\n",
      "131 65 1 3\n",
      "0 56 639 385\n",
      "24 16 3 4\n"
     ]
    }
   ],
   "source": [
    "for i in range(len(contours_xy)):\n",
    "    x_min, x_max = 0,0\n",
    "    y_min, y_max = 0,0\n",
    "    x_value = list()\n",
    "    y_value = list()\n",
    "    \n",
    "    for j in range(len(contours_xy[i])):\n",
    "        x_value.append(contours_xy[i][j][0][0]) #네번째 괄호가 0일때 x의 값\n",
    "        y_value.append(contours_xy[i][j][0][1]) #네번째 괄호가 0일때 x의 값\n",
    "        \n",
    "    x_min = min(x_value)\n",
    "    x_max = max(x_value)\n",
    "    y_min = min(y_value)\n",
    "    y_max = max(y_value)\n",
    "    \n",
    "    x = x_min\n",
    "    y = y_min\n",
    "    w = x_max-x_min\n",
    "    h = y_max-y_min\n",
    "    \n",
    "    print(x,y,w,h)\n",
    "\n",
    "    \n",
    "    if w<50 or h<50:\n",
    "        pass\n",
    "    else:\n",
    "        img_trim = image_general[y:y+h, x:x+w]\n",
    "        cv2.imwrite(\"C:/new_image/moon/\" + str(i+1) + \".jpg\", img_trim)\n",
    "        cv2.waitKey(0)\n",
    "        cv2.destroyAllWindows()\n"
   ]
  },
  {
   "cell_type": "code",
   "execution_count": 28,
   "id": "17e19bf7",
   "metadata": {},
   "outputs": [
    {
     "name": "stdout",
     "output_type": "stream",
     "text": [
      "Object `??` not found.\n"
     ]
    },
    {
     "ename": "ModuleNotFoundError",
     "evalue": "No module named 'selenium'",
     "output_type": "error",
     "traceback": [
      "\u001b[1;31m---------------------------------------------------------------------------\u001b[0m",
      "\u001b[1;31mModuleNotFoundError\u001b[0m                       Traceback (most recent call last)",
      "\u001b[1;32m<ipython-input-28-83e24e942c8a>\u001b[0m in \u001b[0;36m<module>\u001b[1;34m\u001b[0m\n\u001b[0;32m      1\u001b[0m \u001b[0mget_ipython\u001b[0m\u001b[1;33m(\u001b[0m\u001b[1;33m)\u001b[0m\u001b[1;33m.\u001b[0m\u001b[0mrun_line_magic\u001b[0m\u001b[1;33m(\u001b[0m\u001b[1;34m'pinfo2'\u001b[0m\u001b[1;33m,\u001b[0m \u001b[1;34m'??'\u001b[0m\u001b[1;33m)\u001b[0m\u001b[1;33m\u001b[0m\u001b[1;33m\u001b[0m\u001b[0m\n\u001b[1;32m----> 2\u001b[1;33m \u001b[1;32mfrom\u001b[0m \u001b[0mselenium\u001b[0m \u001b[1;32mimport\u001b[0m \u001b[0mwebdriver\u001b[0m\u001b[1;33m\u001b[0m\u001b[1;33m\u001b[0m\u001b[0m\n\u001b[0m\u001b[0;32m      3\u001b[0m \u001b[1;32mfrom\u001b[0m \u001b[0murllib\u001b[0m\u001b[1;33m.\u001b[0m\u001b[0mrequest\u001b[0m \u001b[1;32mimport\u001b[0m \u001b[0murlopen\u001b[0m\u001b[1;33m\u001b[0m\u001b[1;33m\u001b[0m\u001b[0m\n\u001b[0;32m      4\u001b[0m \u001b[1;32mfrom\u001b[0m \u001b[0mbs4\u001b[0m \u001b[1;32mimport\u001b[0m \u001b[0mBeautifulSoup\u001b[0m \u001b[1;32mas\u001b[0m \u001b[0mbs\u001b[0m\u001b[1;33m\u001b[0m\u001b[1;33m\u001b[0m\u001b[0m\n\u001b[0;32m      5\u001b[0m \u001b[1;32mfrom\u001b[0m \u001b[0murllib\u001b[0m\u001b[1;33m.\u001b[0m\u001b[0mparse\u001b[0m \u001b[1;32mimport\u001b[0m \u001b[0mquote_plus\u001b[0m\u001b[1;33m\u001b[0m\u001b[1;33m\u001b[0m\u001b[0m\n",
      "\u001b[1;31mModuleNotFoundError\u001b[0m: No module named 'selenium'"
     ]
    }
   ],
   "source": [
    "????\n",
    "from selenium import webdriver\n",
    "from urllib.request import urlopen\n",
    "from bs4 import BeautifulSoup as bs\n",
    "from urllib.parse import quote_plus\n",
    "from selenium.webdriver.common.keys import Keys\n",
    "import time\n",
    "import urllib.request"
   ]
  },
  {
   "cell_type": "code",
   "execution_count": null,
   "id": "48d42ec9",
   "metadata": {},
   "outputs": [],
   "source": [
    "driver = webdriver.Chrome('chrome_driver/chromedriver.exe') # 여기에 크롬드라이브 다운로드 받은 경로를 입력한다.\n",
    "driver.get(\"https://www.google.co.kr/imghp?hl=ko&ogbl\")\n",
    "driver.implicitly_wait(3)\n",
    "\n",
    "elem = driver.find_element_by_name(\"q\")\n",
    "elem.send_keys(\"숭례문\")\n",
    "elem.send_keys(Keys.RETURN)\n",
    "\n",
    "\n",
    "last_height = driver.execute_script(\"return document.body.scrollHeight\")#스크롤 높이 가져옴\n",
    "\n",
    "while True:\n",
    "   # 끝까지 스크롤 다운\n",
    "    driver.execute_script(\"window.scrollTo(0, document.body.scrollHeight)\");\n",
    "    # 1초 대기를 해야 막힘없이 동작한다.\n",
    "    time.sleep(1)\n",
    "\n",
    "    new_height = driver.execute_script(\"return document.body.scrollHeight\")\n",
    "    if new_height == last_height:\n",
    "        try:\n",
    "            driver.find_element_by_css_Selector(\".mye4qd\").click #첫번째 큰 이미지를 클릭한다.\n",
    "        except:\n",
    "            break\n",
    "    last_height = new_height\n",
    "images = driver.find_elements_by_css_selector(\".rg_i.Q4LuWd\") #이미지를 눌렀을때 나오는 큰 이미지의 태그를 찾는다.\n",
    "\n",
    "# 빈태그를 만들어준다.\n",
    "result=[]\n",
    "for i in range(2000):\n",
    "    result.append(images[i].get_attribute('src'))\n",
    "    \n",
    "print(result)\n",
    "    \n",
    "# for index, link in enumerate(result):\n",
    "#     urlretrieve(link, 'C:/crawling_image/moon' + str(i+1) + '.jpg')\n",
    "\n",
    "driver.close()\n",
    "\n",
    "\n",
    "                      \n",
    "                      \n"
   ]
  },
  {
   "cell_type": "code",
   "execution_count": null,
   "id": "4b901d4b",
   "metadata": {},
   "outputs": [],
   "source": [
    "elem = driver.find_element_by_name(\"q\")\n",
    "elem.send_keys(\"숭례문\")\n",
    "elem.send_keys(Keys.RETURN)\n",
    "\n"
   ]
  },
  {
   "cell_type": "code",
   "execution_count": null,
   "id": "aa21b108",
   "metadata": {},
   "outputs": [],
   "source": [
    "import os"
   ]
  },
  {
   "cell_type": "code",
   "execution_count": null,
   "id": "f1fc5bff",
   "metadata": {},
   "outputs": [],
   "source": [
    "# 여기서부터는 위에 있는 코드를 참고해 이미지를 한꺼번에 처리해보자\n",
    "folder = \"C:/opencv_practice/general\"\n",
    "for filename in os.listdir(folder):\n",
    "    print(filename)"
   ]
  },
  {
   "cell_type": "code",
   "execution_count": null,
   "id": "eaea67c7",
   "metadata": {},
   "outputs": [],
   "source": [
    "file_list = [x for x in os.listdir(folder)]"
   ]
  },
  {
   "cell_type": "code",
   "execution_count": null,
   "id": "27e2d2e8",
   "metadata": {},
   "outputs": [],
   "source": [
    "len(file_list)"
   ]
  },
  {
   "cell_type": "code",
   "execution_count": null,
   "id": "ce2e358d",
   "metadata": {},
   "outputs": [],
   "source": [
    "import datetime\n",
    "import time"
   ]
  },
  {
   "cell_type": "code",
   "execution_count": null,
   "id": "12235e82",
   "metadata": {},
   "outputs": [],
   "source": [
    "basename = \"general\"\n",
    "from tqdm import tqdm\n",
    "\n",
    "for file in tqdm(file_list):\n",
    "    image_general = cv2.imread(\"C:/opencv_practice/general/\" + str(file), cv2.IMREAD_UNCHANGED)\n",
    "    image_gray_general = cv2.imread(\"C:/opencv_practice/general/\" + str(file), cv2.IMREAD_GRAYSCALE)\n",
    "    \n",
    "    image_general = cv2.resize(image_general, dsize=(480, 640), interpolation=cv2.INTER_AREA)\n",
    "    image_gray_general = cv2.resize(image_gray_general, dsize=(480, 640), interpolation=cv2.INTER_AREA)\n",
    "    \n",
    "    blur_general = cv2.GaussianBlur(image_gray_general, ksize=(7,7), sigmaX=3)\n",
    "    ret, thresh1 = cv2.threshold(blur_general, 40, 255, cv2.THRESH_BINARY)\n",
    "    edged_general = cv2.Canny(thresh1, 10, 250)\n",
    "    contour_general = image_general.copy()\n",
    "    \n",
    "    kernel = cv2.getStructuringElement(cv2.MORPH_RECT, (5,5))\n",
    "    closed_general = cv2.morphologyEx(edged_general, cv2.MORPH_CLOSE , kernel)\n",
    "    \n",
    "    contours, hierarchy = cv2.findContours(closed_general,cv2.RETR_EXTERNAL, cv2.CHAIN_APPROX_NONE)\n",
    "    final_result = cv2.drawContours(contour_general, contours, -1, (0,255,0), 3)\n",
    "    \n",
    "    contours_xy = np.array(contours)\n",
    "    \n",
    "    for i in range(len(contours_xy)):\n",
    "        x_min, x_max = 0,0\n",
    "        y_min, y_max = 0,0\n",
    "        x_value = list()\n",
    "        y_value = list()\n",
    "\n",
    "        for j in range(len(contours_xy[i])):\n",
    "            x_value.append(contours_xy[i][j][0][0]) #네번째 괄호가 0일때 x의 값\n",
    "            y_value.append(contours_xy[i][j][0][1]) #네번째 괄호가 0일때 x의 값\n",
    "\n",
    "        x_min = min(x_value)\n",
    "        x_max = max(x_value)\n",
    "        y_min = min(y_value)\n",
    "        y_max = max(y_value)\n",
    "\n",
    "        x = x_min\n",
    "        y = y_min\n",
    "        w = x_max-x_min\n",
    "        h = y_max-y_min\n",
    "\n",
    "\n",
    "        if w<50 or h<50:\n",
    "            pass\n",
    "        else:\n",
    "            img_trim = image_general[y:y+h, x:x+w]           \n",
    "            suffix = datetime.datetime.now().strftime(\"%y%m%d_%H%M%S\")\n",
    "            filename = \"_\".join([basename, suffix])\n",
    "            time.sleep(0.5)\n",
    "            cv2.imwrite(\"C:/new_image/\" + filename + \".JPG\", img_trim)\n",
    "\n",
    "\n",
    "    "
   ]
  },
  {
   "cell_type": "code",
   "execution_count": null,
   "id": "7a33df3f",
   "metadata": {},
   "outputs": [],
   "source": [
    "image_gray = cv2.imread(\"C:/opencv_practice/general/moon.jpg\", cv2.IMREAD_UNCHANGED)\n",
    "image_gray = cv2.resize(image_gray_general, dsize=(700, 900), interpolation=cv2.INTER_AREA)"
   ]
  },
  {
   "cell_type": "code",
   "execution_count": null,
   "id": "ce3715c1",
   "metadata": {},
   "outputs": [],
   "source": [
    "cv2.imshow('image_gray', image_gray[300:350,250:400])\n",
    "cv2.waitKey(0)\n",
    "cv2.destroyAllWindows()"
   ]
  },
  {
   "cell_type": "code",
   "execution_count": null,
   "id": "6116188a",
   "metadata": {},
   "outputs": [],
   "source": [
    "new_image = image_gray[300:350,250:400]\n",
    "new_image = cv2.resize(new_image, dsize=(150, 100), interpolation=cv2.INTER_LINEAR)\n",
    "cv2.imwrite(\"C:/opencv_practice/moonlight.jpg\",new_image)"
   ]
  }
 ],
 "metadata": {
  "kernelspec": {
   "display_name": "Python 3 (ipykernel)",
   "language": "python",
   "name": "python3"
  },
  "language_info": {
   "codemirror_mode": {
    "name": "ipython",
    "version": 3
   },
   "file_extension": ".py",
   "mimetype": "text/x-python",
   "name": "python",
   "nbconvert_exporter": "python",
   "pygments_lexer": "ipython3",
   "version": "3.7.11"
  }
 },
 "nbformat": 4,
 "nbformat_minor": 5
}
