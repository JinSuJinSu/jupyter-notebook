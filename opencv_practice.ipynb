{
 "cells": [
  {
   "cell_type": "code",
   "execution_count": null,
   "id": "3f6062e9",
   "metadata": {},
   "outputs": [],
   "source": [
    "import cv2, sys\n",
    "import matplotlib.pyplot as plt\n",
    "import numpy as np\n",
    "\n",
    "image_mantis = cv2.imread(\"C:/opencv_practice/mantis.jpg\", cv2.IMREAD_UNCHANGED)\n",
    "image_gray_mantis = cv2.imread(\"C:/opencv_practice/mantis.jpg\", cv2.IMREAD_GRAYSCALE)\n",
    "cv2.imshow('image', image_mantis)\n",
    "cv2.imshow('image_gray', image_gray_mantis)\n",
    "cv2.waitKey(0)\n",
    "cv2.destroyAllWindows()\n"
   ]
  },
  {
   "cell_type": "code",
   "execution_count": null,
   "id": "b5e6cec4",
   "metadata": {},
   "outputs": [],
   "source": [
    "blur_mantis = cv2.GaussianBlur(image_gray_mantis, ksize=(5,5), sigmaX=0)\n",
    "cv2.imshow('blur_mantis', blur_mantis)\n",
    "cv2.waitKey(0)\n",
    "cv2.destroyAllWindows()\n"
   ]
  },
  {
   "cell_type": "code",
   "execution_count": null,
   "id": "0e0a7907",
   "metadata": {},
   "outputs": [],
   "source": [
    "ret, thresh1 = cv2.threshold(blur_mantis, 150, 255, cv2.THRESH_BINARY)\n",
    "\n",
    "cv2.imshow('thresh1', thresh1)\n",
    "cv2.waitKey(0)\n",
    "cv2.destroyAllWindows()\n"
   ]
  },
  {
   "cell_type": "code",
   "execution_count": null,
   "id": "e0b95214",
   "metadata": {},
   "outputs": [],
   "source": [
    "edged_mantis = cv2.Canny(blur_mantis, 10, 250)\n",
    "cv2.imshow('edged_mantis', edged_mantis)\n",
    "cv2.waitKey(0)\n",
    "cv2.destroyAllWindows()"
   ]
  },
  {
   "cell_type": "code",
   "execution_count": null,
   "id": "88f8a553",
   "metadata": {},
   "outputs": [],
   "source": [
    "contour_mantis = image_mantis.copy()"
   ]
  },
  {
   "cell_type": "code",
   "execution_count": null,
   "id": "827796f0",
   "metadata": {},
   "outputs": [],
   "source": [
    "kernel = cv2.getStructuringElement(cv2.MORPH_RECT, (3,3))\n",
    "closed_mantis = cv2.morphologyEx(edged_mantis, cv2.MORPH_CLOSE, kernel)\n",
    "cv2.imshow('closed_mantis', closed_mantis)\n",
    "cv2.waitKey(0)\n"
   ]
  },
  {
   "cell_type": "code",
   "execution_count": null,
   "id": "067c1483",
   "metadata": {},
   "outputs": [],
   "source": []
  },
  {
   "cell_type": "code",
   "execution_count": null,
   "id": "878c5e14",
   "metadata": {},
   "outputs": [],
   "source": [
    "contours, hierarchy = cv2.findContours(closed_mantis,cv2.RETR_EXTERNAL, cv2.CHAIN_APPROX_NONE)\n",
    "# 외곽선 그리는 용도. 이미지에 그리기 때문에 이 코드 적용하면 원래 이미지에\n",
    "# 초록색 선 생김\n",
    "\n",
    "final_result = cv2.drawContours(contour_mantis, contours, -1, (0,255,0), 3)    \n",
    "cv2.imshow('final_result', final_result)\n",
    "cv2.waitKey(0)\n",
    "cv2.destroyAllWindows()"
   ]
  }
 ],
 "metadata": {
  "kernelspec": {
   "display_name": "Python 3",
   "language": "python",
   "name": "python3"
  },
  "language_info": {
   "codemirror_mode": {
    "name": "ipython",
    "version": 3
   },
   "file_extension": ".py",
   "mimetype": "text/x-python",
   "name": "python",
   "nbconvert_exporter": "python",
   "pygments_lexer": "ipython3",
   "version": "3.7.11"
  }
 },
 "nbformat": 4,
 "nbformat_minor": 5
}
