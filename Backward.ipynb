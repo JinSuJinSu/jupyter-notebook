{
 "cells": [
  {
   "cell_type": "markdown",
   "id": "055630d2",
   "metadata": {},
   "source": [
    "### 역전파(back-propagation)\n",
    "- 신경망을 학습시킬 때 이용하는 알고리즘\n",
    "- 출력값과 정답의 오차를 네트워크에서 역전파시켜 네트워크의 가중치와 bias를 최적화시킴\n",
    "- 순전파(forward propagation)로 얻은 출력값과 정답과의 오차를 하나씩 층을 거슬러 올라가면서 역방향으로 전파\n",
    "- 이 때 전파시킨 오차에 근거해 각 층의 가중치와 bias의 수정량을 계산\n",
    "- 모든 층의 가중치와 bias를 조금씩 수정\n",
    "- 위 과정을 반복하면 네트워크가 최적화(학습)"
   ]
  },
  {
   "cell_type": "markdown",
   "id": "d8c4249c",
   "metadata": {},
   "source": [
    "### 역전파 이해를 위한 개념\n",
    "- 훈련 데이터, 테스트 데이터\n",
    "- 손실 함수\n",
    "- 경사 하강법\n",
    "- 최적화 알고리즘\n",
    "- 배치\n"
   ]
  },
  {
   "cell_type": "markdown",
   "id": "0012f9d7",
   "metadata": {},
   "source": [
    "### 훈련 데이터, 테스트 데이터\n",
    "- 훈련 데이터 : 신경망이 학습에 이용되는 데이터\n",
    "- 테스트 데이터 : 학습 결과의 검증에 사용되는 데이터\n",
    "- 각 데이터는 여러 개의 입력값(feature)과 정답으로 구성\n",
    "<img src=\"data/train_test.png\" align=\"left\">\n",
    "<br>\n",
    "<br>\n",
    "<br>\n",
    "<br>\n",
    "<br>\n",
    "<br>\n",
    "<br>\n",
    "<br>\n",
    "<br>\n",
    "<br>\n",
    "<br>\n",
    "<br>\n",
    "<br>\n",
    "<br>\n",
    "<br>\n",
    "\n",
    "- 입력값과 정답 한 쌍을 샘플이라 칭함\n",
    "- 일반적으로 훈련 데이터의 샘플 수가 테스트 데이터의 샘플수보다 월등히 많음\n",
    "- 훈련 데이터로 학습이 제대로 된 신경망은 테스트 데이터에서 좋은 결과가 나옴"
   ]
  },
  {
   "cell_type": "markdown",
   "id": "96f5f073",
   "metadata": {},
   "source": [
    "- 회귀문제의 경우 정답은 다음과 같이 여러개의 벡터로 나타냄<br>\n",
    " [0.23, -1.23, 5.44]\n",
    " <br>\n",
    "<img src=\"data/regression.png\" align=\"left\">\n",
    "\n",
    "\n"
   ]
  },
  {
   "cell_type": "markdown",
   "id": "3930c25c",
   "metadata": {},
   "source": [
    "- 분류 문제의 경우 다음 처럼 원핫인코딩 형태로 표현<br>\n",
    "[0,0,1]\n",
    "<br>\n",
    "<img src=\"data/classification.png\" align=\"left\">"
   ]
  },
  {
   "cell_type": "markdown",
   "id": "3ae961ce",
   "metadata": {},
   "source": [
    "### 손실 함수(loss function)\n",
    "- 출력값과 정답(target)의 오차를 정의하는 함수\n",
    "\n",
    "1. 평균제곱오차 - MSE(Mean Squared Error)<br>\n",
    "- 주로 회귀문제에 사용\n",
    "<br>\n",
    "<img src=\"data/mse.png\" align=\"left\">\n",
    "\n"
   ]
  },
  {
   "cell_type": "code",
   "execution_count": 1,
   "id": "cefc06cf",
   "metadata": {},
   "outputs": [],
   "source": [
    "import numpy as np\n",
    "\n",
    "def mean_squared_error(y,t):\n",
    "    return np.sum(np.power(y-t),2) / y.shape[0]"
   ]
  },
  {
   "cell_type": "markdown",
   "id": "dda1b123",
   "metadata": {},
   "source": [
    "### 오차제곱합 SSE(Sum of Squared for Error)\n",
    "- 회귀문제에 사용\n",
    "<br>\n",
    "<img src=\"data/sse.png\" align=\"left\">"
   ]
  },
  {
   "cell_type": "code",
   "execution_count": 3,
   "id": "c1b734b5",
   "metadata": {},
   "outputs": [],
   "source": [
    "def square_sum(y,t):\n",
    "    return (1.0/2.0) * (np.sum(np.square(y-t)))"
   ]
  },
  {
   "cell_type": "markdown",
   "id": "91e898a3",
   "metadata": {},
   "source": [
    "### 교차 엔트로피(Cross Entropy)\n",
    "- 분류 문제에 사용\n",
    "<br>\n",
    "<img src=\"data/cross_entropy_1.png\" align=\"left\">\n",
    "<br>\n",
    "<br>\n",
    "<br>\n",
    "<br>\n",
    "- 아래의 식으로 변형\n",
    "<br>\n",
    "<img src=\"data/cross_entropy_2.png\" align=\"left\">"
   ]
  },
  {
   "cell_type": "markdown",
   "id": "edaebc7b",
   "metadata": {},
   "source": [
    "- 분류 문제에서 정답은 1이 하나이고 나머지는 모두 0인 one-hot 인코딩 벡터로 표현\n",
    "- 따라서 우변의 시그마 내부에서 tk가 1인 항의 오차에만 영향을 줌"
   ]
  },
  {
   "cell_type": "markdown",
   "id": "7d5795d0",
   "metadata": {},
   "source": [
    "- y  =  -log(x)"
   ]
  },
  {
   "cell_type": "code",
   "execution_count": 5,
   "id": "3e653745",
   "metadata": {},
   "outputs": [],
   "source": [
    "import matplotlib.pyplot as plt"
   ]
  },
  {
   "cell_type": "code",
   "execution_count": 6,
   "id": "fb26c383",
   "metadata": {},
   "outputs": [
    {
     "data": {
      "image/png": "[encoded data removed]",
      "text/plain": [
       "<Figure size 432x288 with 1 Axes>"
      ]
     },
     "metadata": {
      "needs_background": "light"
     },
     "output_type": "display_data"
    }
   ],
   "source": [
    "x = np.linspace(start=0.00001, stop=1.0, num=100)\n",
    "plt.plot(x, -np.log(x), 'b-', label='Natural Logarithm(ln)')\n",
    "plt.legend()\n",
    "plt.show()"
   ]
  },
  {
   "cell_type": "markdown",
   "id": "0939178b",
   "metadata": {},
   "source": [
    "- x가 1일 때는 0이고, 0에 근접할수록 무한대로 커짐\n",
    "- 즉, 정답에 가까울수록 전체 오차 값은 작아지며, 반대로 정답에서 멀어질수록 한없이 커짐\n",
    "- 교차 엔트로피의 장점 중 하나는 출력값과 차이가 클수록 학습 속도가 빨라짐"
   ]
  },
  {
   "cell_type": "code",
   "execution_count": 7,
   "id": "d0eeb870",
   "metadata": {},
   "outputs": [],
   "source": [
    "def cross_entropy(y,t):\n",
    "    return -np.sum(t*np.log(y+1e-7))"
   ]
  },
  {
   "cell_type": "markdown",
   "id": "0f894ca6",
   "metadata": {},
   "source": [
    "- log함수의 진수 부분이 0이 되면 무한 발산하여, 계산을 수행할 수 없기에 이를 방지하기 위해 1e-7을 더했음"
   ]
  },
  {
   "cell_type": "markdown",
   "id": "f59a7cc1",
   "metadata": {},
   "source": [
    "### 경사하강법\n",
    "<br>\n",
    "<img src=\"data/gredient_descent.png\" align=\"left\">\n",
    "<br>\n",
    "<img src=\"data/backpropagation.png\" align=\"left\">\n",
    "\n"
   ]
  },
  {
   "cell_type": "markdown",
   "id": "26c9a56c",
   "metadata": {},
   "source": [
    "\n"
   ]
  }
 ],
 "metadata": {
  "kernelspec": {
   "display_name": "Python 3",
   "language": "python",
   "name": "python3"
  },
  "language_info": {
   "codemirror_mode": {
    "name": "ipython",
    "version": 3
   },
   "file_extension": ".py",
   "mimetype": "text/x-python",
   "name": "python",
   "nbconvert_exporter": "python",
   "pygments_lexer": "ipython3",
   "version": "3.7.10"
  }
 },
 "nbformat": 4,
 "nbformat_minor": 5
}
